{
  "nbformat": 4,
  "nbformat_minor": 0,
  "metadata": {
    "kernelspec": {
      "display_name": "Python 2",
      "language": "python",
      "name": "python2"
    },
    "language_info": {
      "codemirror_mode": {
        "name": "ipython",
        "version": 2
      },
      "file_extension": ".py",
      "mimetype": "text/x-python",
      "name": "python",
      "nbconvert_exporter": "python",
      "pygments_lexer": "ipython2",
      "version": "2.7.15"
    },
    "colab": {
      "name": "numpy-tutorial.ipynb",
      "provenance": []
    }
  },
  "cells": [
    {
      "cell_type": "markdown",
      "metadata": {
        "id": "_WR-7eudlesa",
        "colab_type": "text"
      },
      "source": [
        "# Numpy Tutorial"
      ]
    },
    {
      "cell_type": "markdown",
      "metadata": {
        "id": "aUqZHY-Ulesc",
        "colab_type": "text"
      },
      "source": [
        "Numpy is a computational library for Python that is optimized for operations on multi-dimensional arrays. In this notebook we will use numpy to work with 1-d arrays (often called vectors) and 2-d arrays (often called matrices).\n",
        "\n",
        "For a the full user guide and reference for numpy see: http://docs.scipy.org/doc/numpy/"
      ]
    },
    {
      "cell_type": "code",
      "metadata": {
        "id": "eUusHgdolesd",
        "colab_type": "code",
        "colab": {}
      },
      "source": [
        "import numpy as np # importing this way allows us to refer to numpy as np"
      ],
      "execution_count": 1,
      "outputs": []
    },
    {
      "cell_type": "markdown",
      "metadata": {
        "id": "5r3AM37vlesp",
        "colab_type": "text"
      },
      "source": [
        "# Creating Numpy Arrays"
      ]
    },
    {
      "cell_type": "markdown",
      "metadata": {
        "id": "JOJxLw9Hlesp",
        "colab_type": "text"
      },
      "source": [
        "New arrays can be made in several ways. We can take an existing list and convert it to a numpy array:"
      ]
    },
    {
      "cell_type": "code",
      "metadata": {
        "id": "7a6_q1j4lesr",
        "colab_type": "code",
        "colab": {
          "base_uri": "https://localhost:8080/",
          "height": 36
        },
        "outputId": "bb7ae6ec-1b6d-443a-8846-a900e3c04211"
      },
      "source": [
        "mylist = [1., 2., 3., 4.]\n",
        "mynparray = np.array(mylist)\n",
        "mynparray"
      ],
      "execution_count": 2,
      "outputs": [
        {
          "output_type": "execute_result",
          "data": {
            "text/plain": [
              "array([1., 2., 3., 4.])"
            ]
          },
          "metadata": {
            "tags": []
          },
          "execution_count": 2
        }
      ]
    },
    {
      "cell_type": "markdown",
      "metadata": {
        "id": "3eBZCCGjlesw",
        "colab_type": "text"
      },
      "source": [
        "You can initialize an array (of any dimension) of all ones or all zeroes with the ones() and zeros() functions:"
      ]
    },
    {
      "cell_type": "code",
      "metadata": {
        "id": "uNNjAe3Hlesx",
        "colab_type": "code",
        "colab": {
          "base_uri": "https://localhost:8080/",
          "height": 36
        },
        "outputId": "da559bcf-866e-4fc0-f7a7-4fa99d5ece99"
      },
      "source": [
        "one_vector = np.ones(4)\n",
        "print one_vector # using print removes the array() portion"
      ],
      "execution_count": 3,
      "outputs": [
        {
          "output_type": "stream",
          "text": [
            "[1. 1. 1. 1.]\n"
          ],
          "name": "stdout"
        }
      ]
    },
    {
      "cell_type": "code",
      "metadata": {
        "id": "63eT0T0xles3",
        "colab_type": "code",
        "colab": {
          "base_uri": "https://localhost:8080/",
          "height": 54
        },
        "outputId": "f8560384-a142-4c06-ec5f-3e46657154ce"
      },
      "source": [
        "one2Darray = np.ones((2, 4)) # an 2D array with 2 \"rows\" and 4 \"columns\"\n",
        "print one2Darray"
      ],
      "execution_count": 4,
      "outputs": [
        {
          "output_type": "stream",
          "text": [
            "[[1. 1. 1. 1.]\n",
            " [1. 1. 1. 1.]]\n"
          ],
          "name": "stdout"
        }
      ]
    },
    {
      "cell_type": "code",
      "metadata": {
        "id": "GykDNsR_les8",
        "colab_type": "code",
        "colab": {
          "base_uri": "https://localhost:8080/",
          "height": 36
        },
        "outputId": "b22b63b6-b3fc-46a0-d416-66e4da965454"
      },
      "source": [
        "zero_vector = np.zeros(4)\n",
        "print zero_vector"
      ],
      "execution_count": 5,
      "outputs": [
        {
          "output_type": "stream",
          "text": [
            "[0. 0. 0. 0.]\n"
          ],
          "name": "stdout"
        }
      ]
    },
    {
      "cell_type": "markdown",
      "metadata": {
        "id": "eKS_2knwletB",
        "colab_type": "text"
      },
      "source": [
        "You can also initialize an empty array which will be filled with values. This is the fastest way to initialize a fixed-size numpy array however you must ensure that you replace all of the values."
      ]
    },
    {
      "cell_type": "code",
      "metadata": {
        "id": "ywptATHsletC",
        "colab_type": "code",
        "colab": {
          "base_uri": "https://localhost:8080/",
          "height": 36
        },
        "outputId": "bd431dde-be0d-49f8-8c02-9ade097ac2fb"
      },
      "source": [
        "empty_vector = np.empty(5)\n",
        "print empty_vector"
      ],
      "execution_count": 6,
      "outputs": [
        {
          "output_type": "stream",
          "text": [
            "[0.   0.25 0.5  0.75 1.  ]\n"
          ],
          "name": "stdout"
        }
      ]
    },
    {
      "cell_type": "markdown",
      "metadata": {
        "id": "Ib2rnXl9letH",
        "colab_type": "text"
      },
      "source": [
        "# Accessing array elements"
      ]
    },
    {
      "cell_type": "markdown",
      "metadata": {
        "id": "OXEXTikgletI",
        "colab_type": "text"
      },
      "source": [
        "Accessing an array is straight forward. For vectors you access the index by referring to it inside square brackets. Recall that indices in Python start with 0."
      ]
    },
    {
      "cell_type": "code",
      "metadata": {
        "id": "Fxk7MFzCletJ",
        "colab_type": "code",
        "colab": {
          "base_uri": "https://localhost:8080/",
          "height": 36
        },
        "outputId": "19e19810-52b9-4a5b-aee7-ff0ef2c26aa6"
      },
      "source": [
        "mynparray[2]"
      ],
      "execution_count": 7,
      "outputs": [
        {
          "output_type": "execute_result",
          "data": {
            "text/plain": [
              "3.0"
            ]
          },
          "metadata": {
            "tags": []
          },
          "execution_count": 7
        }
      ]
    },
    {
      "cell_type": "markdown",
      "metadata": {
        "id": "T3Di4QvTletN",
        "colab_type": "text"
      },
      "source": [
        "2D arrays are accessed similarly by referring to the row and column index separated by a comma:"
      ]
    },
    {
      "cell_type": "code",
      "metadata": {
        "id": "AqeTA3YvletO",
        "colab_type": "code",
        "colab": {
          "base_uri": "https://localhost:8080/",
          "height": 54
        },
        "outputId": "618ae589-0154-4851-8c8e-a1b77c246c3e"
      },
      "source": [
        "my_matrix = np.array([[1, 2, 3], [4, 5, 6]])\n",
        "print my_matrix"
      ],
      "execution_count": 8,
      "outputs": [
        {
          "output_type": "stream",
          "text": [
            "[[1 2 3]\n",
            " [4 5 6]]\n"
          ],
          "name": "stdout"
        }
      ]
    },
    {
      "cell_type": "code",
      "metadata": {
        "id": "5ij16opiletS",
        "colab_type": "code",
        "colab": {
          "base_uri": "https://localhost:8080/",
          "height": 36
        },
        "outputId": "c4dcc59c-6d4b-49ea-94a9-830e549f40d9"
      },
      "source": [
        "print my_matrix[1, 2]"
      ],
      "execution_count": 9,
      "outputs": [
        {
          "output_type": "stream",
          "text": [
            "6\n"
          ],
          "name": "stdout"
        }
      ]
    },
    {
      "cell_type": "markdown",
      "metadata": {
        "id": "OT2ECDPxletW",
        "colab_type": "text"
      },
      "source": [
        "Sequences of indices can be accessed using ':' for example"
      ]
    },
    {
      "cell_type": "code",
      "metadata": {
        "id": "g_q9FRK-letW",
        "colab_type": "code",
        "colab": {
          "base_uri": "https://localhost:8080/",
          "height": 36
        },
        "outputId": "699b11e4-daae-4466-f6ab-2096db4327fd"
      },
      "source": [
        "print my_matrix[0:2, 2] # recall 0:2 = [0, 1]"
      ],
      "execution_count": 10,
      "outputs": [
        {
          "output_type": "stream",
          "text": [
            "[3 6]\n"
          ],
          "name": "stdout"
        }
      ]
    },
    {
      "cell_type": "code",
      "metadata": {
        "id": "i_YCbW4Kletb",
        "colab_type": "code",
        "colab": {
          "base_uri": "https://localhost:8080/",
          "height": 36
        },
        "outputId": "3cd88d1c-f414-4c4c-f065-8b7cbb352de9"
      },
      "source": [
        "print my_matrix[0, 0:3]"
      ],
      "execution_count": 11,
      "outputs": [
        {
          "output_type": "stream",
          "text": [
            "[1 2 3]\n"
          ],
          "name": "stdout"
        }
      ]
    },
    {
      "cell_type": "markdown",
      "metadata": {
        "id": "xtaCLrHXletf",
        "colab_type": "text"
      },
      "source": [
        "You can also pass a list of indices. "
      ]
    },
    {
      "cell_type": "code",
      "metadata": {
        "id": "Xytjt_6lleth",
        "colab_type": "code",
        "colab": {
          "base_uri": "https://localhost:8080/",
          "height": 54
        },
        "outputId": "7e428ebe-1400-48cc-c468-4e2b7fee7c93"
      },
      "source": [
        "fib_indices = np.array([1, 1, 2, 3])\n",
        "random_vector = np.random.random(10) # 10 random numbers between 0 and 1\n",
        "print random_vector"
      ],
      "execution_count": 12,
      "outputs": [
        {
          "output_type": "stream",
          "text": [
            "[0.76055942 0.24208984 0.75056444 0.39601908 0.37262757 0.85496414\n",
            " 0.15768043 0.10060937 0.55955048 0.16754826]\n"
          ],
          "name": "stdout"
        }
      ]
    },
    {
      "cell_type": "code",
      "metadata": {
        "id": "XSA3ar05letk",
        "colab_type": "code",
        "colab": {
          "base_uri": "https://localhost:8080/",
          "height": 36
        },
        "outputId": "1e4ca9b4-1b5e-4a85-ad50-2462182811be"
      },
      "source": [
        "print random_vector[fib_indices]"
      ],
      "execution_count": 13,
      "outputs": [
        {
          "output_type": "stream",
          "text": [
            "[0.24208984 0.24208984 0.75056444 0.39601908]\n"
          ],
          "name": "stdout"
        }
      ]
    },
    {
      "cell_type": "markdown",
      "metadata": {
        "id": "fwGFFgB2letp",
        "colab_type": "text"
      },
      "source": [
        "You can also use true/false values to select values"
      ]
    },
    {
      "cell_type": "code",
      "metadata": {
        "id": "-ZRIeJWbletq",
        "colab_type": "code",
        "colab": {
          "base_uri": "https://localhost:8080/",
          "height": 36
        },
        "outputId": "f11f62ef-c382-4ec6-f859-1823ffbd91dd"
      },
      "source": [
        "my_vector = np.array([1, 2, 3, 4])\n",
        "select_index = np.array([True, False, True, False])\n",
        "print my_vector[select_index]"
      ],
      "execution_count": 14,
      "outputs": [
        {
          "output_type": "stream",
          "text": [
            "[1 3]\n"
          ],
          "name": "stdout"
        }
      ]
    },
    {
      "cell_type": "markdown",
      "metadata": {
        "id": "aUAlZOKclett",
        "colab_type": "text"
      },
      "source": [
        "For 2D arrays you can select specific columns and specific rows. Passing ':' selects all rows/columns"
      ]
    },
    {
      "cell_type": "code",
      "metadata": {
        "id": "QjvpCXAWlett",
        "colab_type": "code",
        "colab": {}
      },
      "source": [
        "select_cols = np.array([True, False, True]) # 1st and 3rd column\n",
        "select_rows = np.array([False, True]) # 2nd row"
      ],
      "execution_count": 15,
      "outputs": []
    },
    {
      "cell_type": "code",
      "metadata": {
        "id": "f9OogYKvletx",
        "colab_type": "code",
        "colab": {
          "base_uri": "https://localhost:8080/",
          "height": 36
        },
        "outputId": "6a65fccc-4f7d-418a-f8bf-bcf758a38ef9"
      },
      "source": [
        "print my_matrix[select_rows, :] # just 2nd row but all columns"
      ],
      "execution_count": 16,
      "outputs": [
        {
          "output_type": "stream",
          "text": [
            "[[4 5 6]]\n"
          ],
          "name": "stdout"
        }
      ]
    },
    {
      "cell_type": "code",
      "metadata": {
        "id": "ZwmplJkLlet0",
        "colab_type": "code",
        "colab": {
          "base_uri": "https://localhost:8080/",
          "height": 54
        },
        "outputId": "1d5a08e0-69bd-457b-e34e-9ae19160a6e4"
      },
      "source": [
        "print my_matrix[:, select_cols] # all rows and just the 1st and 3rd column"
      ],
      "execution_count": 17,
      "outputs": [
        {
          "output_type": "stream",
          "text": [
            "[[1 3]\n",
            " [4 6]]\n"
          ],
          "name": "stdout"
        }
      ]
    },
    {
      "cell_type": "markdown",
      "metadata": {
        "id": "02C8f63qlet3",
        "colab_type": "text"
      },
      "source": [
        "# Operations on Arrays"
      ]
    },
    {
      "cell_type": "markdown",
      "metadata": {
        "id": "I6F9F6p5let4",
        "colab_type": "text"
      },
      "source": [
        "You can use the operations '\\*', '\\*\\*', '\\\\', '+' and '-' on numpy arrays and they operate elementwise."
      ]
    },
    {
      "cell_type": "code",
      "metadata": {
        "id": "y7JCyZJ0let4",
        "colab_type": "code",
        "colab": {
          "base_uri": "https://localhost:8080/",
          "height": 36
        },
        "outputId": "11104539-b44c-4503-e771-d039202cbaec"
      },
      "source": [
        "my_array = np.array([1., 2., 3., 4.])\n",
        "print my_array*my_array"
      ],
      "execution_count": 18,
      "outputs": [
        {
          "output_type": "stream",
          "text": [
            "[ 1.  4.  9. 16.]\n"
          ],
          "name": "stdout"
        }
      ]
    },
    {
      "cell_type": "code",
      "metadata": {
        "id": "E8KNwbMxlet8",
        "colab_type": "code",
        "colab": {
          "base_uri": "https://localhost:8080/",
          "height": 36
        },
        "outputId": "5974d599-1d2e-4d02-ae3e-832ace444018"
      },
      "source": [
        "print my_array**2"
      ],
      "execution_count": 19,
      "outputs": [
        {
          "output_type": "stream",
          "text": [
            "[ 1.  4.  9. 16.]\n"
          ],
          "name": "stdout"
        }
      ]
    },
    {
      "cell_type": "code",
      "metadata": {
        "id": "nnWrO5UzleuA",
        "colab_type": "code",
        "colab": {
          "base_uri": "https://localhost:8080/",
          "height": 36
        },
        "outputId": "5455a95e-b69b-44ef-88cb-3f968e1ab168"
      },
      "source": [
        "print my_array - np.ones(4)"
      ],
      "execution_count": 20,
      "outputs": [
        {
          "output_type": "stream",
          "text": [
            "[0. 1. 2. 3.]\n"
          ],
          "name": "stdout"
        }
      ]
    },
    {
      "cell_type": "code",
      "metadata": {
        "id": "5FPIdvynleuC",
        "colab_type": "code",
        "colab": {
          "base_uri": "https://localhost:8080/",
          "height": 36
        },
        "outputId": "5662e84d-3766-4111-d59d-29b192000691"
      },
      "source": [
        "print my_array + np.ones(4)"
      ],
      "execution_count": 21,
      "outputs": [
        {
          "output_type": "stream",
          "text": [
            "[2. 3. 4. 5.]\n"
          ],
          "name": "stdout"
        }
      ]
    },
    {
      "cell_type": "code",
      "metadata": {
        "id": "4-b9tZXQleuH",
        "colab_type": "code",
        "colab": {
          "base_uri": "https://localhost:8080/",
          "height": 36
        },
        "outputId": "2f9dc940-7f95-49f8-c218-657b54049a0f"
      },
      "source": [
        "print my_array / 3"
      ],
      "execution_count": 22,
      "outputs": [
        {
          "output_type": "stream",
          "text": [
            "[0.33333333 0.66666667 1.         1.33333333]\n"
          ],
          "name": "stdout"
        }
      ]
    },
    {
      "cell_type": "code",
      "metadata": {
        "id": "S6OFoqWRleuK",
        "colab_type": "code",
        "colab": {
          "base_uri": "https://localhost:8080/",
          "height": 36
        },
        "outputId": "dd7b8cac-52bf-4e7a-fc14-06a06d1c3313"
      },
      "source": [
        "print my_array / np.array([2., 3., 4., 5.]) # = [1.0/2.0, 2.0/3.0, 3.0/4.0, 4.0/5.0]"
      ],
      "execution_count": 23,
      "outputs": [
        {
          "output_type": "stream",
          "text": [
            "[0.5        0.66666667 0.75       0.8       ]\n"
          ],
          "name": "stdout"
        }
      ]
    },
    {
      "cell_type": "markdown",
      "metadata": {
        "id": "TIFmuG7FleuO",
        "colab_type": "text"
      },
      "source": [
        "You can compute the sum with np.sum() and the average with np.average()"
      ]
    },
    {
      "cell_type": "code",
      "metadata": {
        "id": "jYkLSIB9leuO",
        "colab_type": "code",
        "colab": {
          "base_uri": "https://localhost:8080/",
          "height": 36
        },
        "outputId": "921947d6-8d5b-4bca-dec4-d787a638f023"
      },
      "source": [
        "print np.sum(my_array)"
      ],
      "execution_count": 24,
      "outputs": [
        {
          "output_type": "stream",
          "text": [
            "10.0\n"
          ],
          "name": "stdout"
        }
      ]
    },
    {
      "cell_type": "code",
      "metadata": {
        "id": "qsQzXIAPleuU",
        "colab_type": "code",
        "colab": {
          "base_uri": "https://localhost:8080/",
          "height": 36
        },
        "outputId": "4f17fbd1-9eef-465f-8c3a-281f845e7be4"
      },
      "source": [
        "print np.average(my_array)"
      ],
      "execution_count": 25,
      "outputs": [
        {
          "output_type": "stream",
          "text": [
            "2.5\n"
          ],
          "name": "stdout"
        }
      ]
    },
    {
      "cell_type": "code",
      "metadata": {
        "id": "9ezMH2G3leuW",
        "colab_type": "code",
        "colab": {
          "base_uri": "https://localhost:8080/",
          "height": 36
        },
        "outputId": "c1e11c3e-4897-4953-f7c8-4a708b9ce45d"
      },
      "source": [
        "print np.sum(my_array)/len(my_array)"
      ],
      "execution_count": 26,
      "outputs": [
        {
          "output_type": "stream",
          "text": [
            "2.5\n"
          ],
          "name": "stdout"
        }
      ]
    },
    {
      "cell_type": "markdown",
      "metadata": {
        "id": "43ziCl3XleuZ",
        "colab_type": "text"
      },
      "source": [
        "# The dot product"
      ]
    },
    {
      "cell_type": "markdown",
      "metadata": {
        "id": "skvLT3oXleua",
        "colab_type": "text"
      },
      "source": [
        "An important mathematical operation in linear algebra is the dot product. \n",
        "\n",
        "When we compute the dot product between two vectors we are simply multiplying them elementwise and adding them up. In numpy you can do this with np.dot()"
      ]
    },
    {
      "cell_type": "code",
      "metadata": {
        "id": "jaJaJUo9leua",
        "colab_type": "code",
        "colab": {
          "base_uri": "https://localhost:8080/",
          "height": 36
        },
        "outputId": "440b8e63-18b7-4a19-a2da-05bcabb8e7ec"
      },
      "source": [
        "array1 = np.array([1., 2., 3., 4.])\n",
        "array2 = np.array([2., 3., 4., 5.])\n",
        "print np.dot(array1, array2)"
      ],
      "execution_count": 27,
      "outputs": [
        {
          "output_type": "stream",
          "text": [
            "40.0\n"
          ],
          "name": "stdout"
        }
      ]
    },
    {
      "cell_type": "code",
      "metadata": {
        "id": "9cgFtlrJleue",
        "colab_type": "code",
        "colab": {
          "base_uri": "https://localhost:8080/",
          "height": 36
        },
        "outputId": "3bdead5a-b69f-46c2-b264-de54550b453d"
      },
      "source": [
        "print np.sum(array1*array2)"
      ],
      "execution_count": 28,
      "outputs": [
        {
          "output_type": "stream",
          "text": [
            "40.0\n"
          ],
          "name": "stdout"
        }
      ]
    },
    {
      "cell_type": "markdown",
      "metadata": {
        "id": "79m_F3SNleug",
        "colab_type": "text"
      },
      "source": [
        "Recall that the Euclidean length (or magnitude) of a vector is the squareroot of the sum of the squares of the components. This is just the squareroot of the dot product of the vector with itself:"
      ]
    },
    {
      "cell_type": "code",
      "metadata": {
        "id": "YQqPAxTEleuh",
        "colab_type": "code",
        "colab": {
          "base_uri": "https://localhost:8080/",
          "height": 36
        },
        "outputId": "801da499-9809-4c2a-bf75-94fe81ba2a31"
      },
      "source": [
        "array1_mag = np.sqrt(np.dot(array1, array1))\n",
        "print array1_mag"
      ],
      "execution_count": 29,
      "outputs": [
        {
          "output_type": "stream",
          "text": [
            "5.477225575051661\n"
          ],
          "name": "stdout"
        }
      ]
    },
    {
      "cell_type": "code",
      "metadata": {
        "id": "QCuijJpGleuj",
        "colab_type": "code",
        "colab": {
          "base_uri": "https://localhost:8080/",
          "height": 36
        },
        "outputId": "8a00eb02-3ac8-4f76-8d0a-213d1a3ea2d6"
      },
      "source": [
        "print np.sqrt(np.sum(array1*array1))"
      ],
      "execution_count": 30,
      "outputs": [
        {
          "output_type": "stream",
          "text": [
            "5.477225575051661\n"
          ],
          "name": "stdout"
        }
      ]
    },
    {
      "cell_type": "markdown",
      "metadata": {
        "id": "yNtVjnkGleul",
        "colab_type": "text"
      },
      "source": [
        "We can also use the dot product when we have a 2D array (or matrix). When you have an vector with the same number of elements as the matrix (2D array) has columns you can right-multiply the matrix by the vector to get another vector with the same number of elements as the matrix has rows. For example this is how you compute the predicted values given a matrix of features and an array of weights."
      ]
    },
    {
      "cell_type": "code",
      "metadata": {
        "id": "Ic1AuKLkleul",
        "colab_type": "code",
        "colab": {
          "base_uri": "https://localhost:8080/",
          "height": 91
        },
        "outputId": "cce2fbaf-fb15-4031-be3a-9ed7edb636b8"
      },
      "source": [
        "my_features = np.array([[1., 2.], [3., 4.], [5., 6.], [7., 8.]])\n",
        "print my_features"
      ],
      "execution_count": 31,
      "outputs": [
        {
          "output_type": "stream",
          "text": [
            "[[1. 2.]\n",
            " [3. 4.]\n",
            " [5. 6.]\n",
            " [7. 8.]]\n"
          ],
          "name": "stdout"
        }
      ]
    },
    {
      "cell_type": "code",
      "metadata": {
        "id": "f7-6EFgDleuo",
        "colab_type": "code",
        "colab": {
          "base_uri": "https://localhost:8080/",
          "height": 36
        },
        "outputId": "9d88a7f4-4cd4-4ae9-97bb-7d3eb473a2f9"
      },
      "source": [
        "my_weights = np.array([0.4, 0.5])\n",
        "print my_weights"
      ],
      "execution_count": 32,
      "outputs": [
        {
          "output_type": "stream",
          "text": [
            "[0.4 0.5]\n"
          ],
          "name": "stdout"
        }
      ]
    },
    {
      "cell_type": "code",
      "metadata": {
        "id": "bYJBoDUeleur",
        "colab_type": "code",
        "colab": {
          "base_uri": "https://localhost:8080/",
          "height": 36
        },
        "outputId": "bd592100-a7a8-4afc-aaf2-89d98eb053ee"
      },
      "source": [
        "my_predictions = np.dot(my_features, my_weights) # note that the weights are on the right\n",
        "print my_predictions # which has 4 elements since my_features has 4 rows"
      ],
      "execution_count": 33,
      "outputs": [
        {
          "output_type": "stream",
          "text": [
            "[1.4 3.2 5.  6.8]\n"
          ],
          "name": "stdout"
        }
      ]
    },
    {
      "cell_type": "markdown",
      "metadata": {
        "id": "pFMZ6Xjwleuu",
        "colab_type": "text"
      },
      "source": [
        "Similarly if you have a vector with the same number of elements as the matrix has *rows* you can left multiply them."
      ]
    },
    {
      "cell_type": "code",
      "metadata": {
        "id": "K9CsnfHcleuw",
        "colab_type": "code",
        "colab": {}
      },
      "source": [
        "my_matrix = my_features\n",
        "my_array = np.array([0.3, 0.4, 0.5, 0.6])"
      ],
      "execution_count": 34,
      "outputs": []
    },
    {
      "cell_type": "code",
      "metadata": {
        "id": "XtKYcMjZleux",
        "colab_type": "code",
        "colab": {
          "base_uri": "https://localhost:8080/",
          "height": 36
        },
        "outputId": "fb7526bd-3a66-49f0-ed63-cf0744897a56"
      },
      "source": [
        "print np.dot(my_array, my_matrix) # which has 2 elements because my_matrix has 2 columns"
      ],
      "execution_count": 35,
      "outputs": [
        {
          "output_type": "stream",
          "text": [
            "[ 8.2 10. ]\n"
          ],
          "name": "stdout"
        }
      ]
    },
    {
      "cell_type": "markdown",
      "metadata": {
        "id": "dzKWk_YDleuz",
        "colab_type": "text"
      },
      "source": [
        "# Multiplying Matrices"
      ]
    },
    {
      "cell_type": "markdown",
      "metadata": {
        "id": "x9hHqPTKleu0",
        "colab_type": "text"
      },
      "source": [
        "If we have two 2D arrays (matrices) matrix_1 and matrix_2 where the number of columns of matrix_1 is the same as the number of rows of matrix_2 then we can use np.dot() to perform matrix multiplication."
      ]
    },
    {
      "cell_type": "code",
      "metadata": {
        "id": "bfBio0uIleu0",
        "colab_type": "code",
        "colab": {
          "base_uri": "https://localhost:8080/",
          "height": 54
        },
        "outputId": "21426edb-2430-44b3-d775-6b81fe89ad57"
      },
      "source": [
        "matrix_1 = np.array([[1., 2., 3.],[4., 5., 6.]])\n",
        "print matrix_1"
      ],
      "execution_count": 36,
      "outputs": [
        {
          "output_type": "stream",
          "text": [
            "[[1. 2. 3.]\n",
            " [4. 5. 6.]]\n"
          ],
          "name": "stdout"
        }
      ]
    },
    {
      "cell_type": "code",
      "metadata": {
        "id": "YcQYxlThleu2",
        "colab_type": "code",
        "colab": {
          "base_uri": "https://localhost:8080/",
          "height": 73
        },
        "outputId": "6955c384-d61a-4a4f-fe7d-058e4c6043cb"
      },
      "source": [
        "matrix_2 = np.array([[1., 2.], [3., 4.], [5., 6.]])\n",
        "print matrix_2"
      ],
      "execution_count": 37,
      "outputs": [
        {
          "output_type": "stream",
          "text": [
            "[[1. 2.]\n",
            " [3. 4.]\n",
            " [5. 6.]]\n"
          ],
          "name": "stdout"
        }
      ]
    },
    {
      "cell_type": "code",
      "metadata": {
        "id": "2uP5NkmKleu4",
        "colab_type": "code",
        "colab": {
          "base_uri": "https://localhost:8080/",
          "height": 54
        },
        "outputId": "a666e4e6-6781-4a43-c95b-821bcbad648a"
      },
      "source": [
        "print np.dot(matrix_1, matrix_2)"
      ],
      "execution_count": 38,
      "outputs": [
        {
          "output_type": "stream",
          "text": [
            "[[22. 28.]\n",
            " [49. 64.]]\n"
          ],
          "name": "stdout"
        }
      ]
    },
    {
      "cell_type": "code",
      "metadata": {
        "id": "-CS2ymxTmJDN",
        "colab_type": "code",
        "colab": {}
      },
      "source": [
        ""
      ],
      "execution_count": null,
      "outputs": []
    }
  ]
}