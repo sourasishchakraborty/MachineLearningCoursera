{
  "nbformat": 4,
  "nbformat_minor": 0,
  "metadata": {
    "kernelspec": {
      "display_name": "Python 2",
      "language": "python",
      "name": "python2"
    },
    "language_info": {
      "codemirror_mode": {
        "name": "ipython",
        "version": 2
      },
      "file_extension": ".py",
      "mimetype": "text/x-python",
      "name": "python",
      "nbconvert_exporter": "python",
      "pygments_lexer": "ipython2",
      "version": "2.7.15"
    },
    "colab": {
      "name": "Course2Week2Notebook1.0.ipynb",
      "provenance": []
    }
  },
  "cells": [
    {
      "cell_type": "markdown",
      "metadata": {
        "id": "xwWdTz_FYIWx",
        "colab_type": "text"
      },
      "source": [
        "# Regression Week 2: Multiple Regression (Interpretation)"
      ]
    },
    {
      "cell_type": "code",
      "metadata": {
        "id": "NRA3n0gxYMgv",
        "colab_type": "code",
        "colab": {}
      },
      "source": [
        "from google.colab import drive"
      ],
      "execution_count": 1,
      "outputs": []
    },
    {
      "cell_type": "code",
      "metadata": {
        "id": "e3Kkeb7CYTJ2",
        "colab_type": "code",
        "colab": {}
      },
      "source": [
        "drive.mount('/content/drive')"
      ],
      "execution_count": null,
      "outputs": []
    },
    {
      "cell_type": "code",
      "metadata": {
        "id": "Vps0s3J0Yape",
        "colab_type": "code",
        "colab": {}
      },
      "source": [
        "from google.colab import files"
      ],
      "execution_count": 3,
      "outputs": []
    },
    {
      "cell_type": "code",
      "metadata": {
        "id": "qHOZoMutYdq_",
        "colab_type": "code",
        "colab": {
          "resources": {
            "http://localhost:8080/nbextensions/google.colab/files.js": {
              "data": "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",
              "ok": true,
              "headers": [
                [
                  "content-type",
                  "application/javascript"
                ]
              ],
              "status": 200,
              "status_text": "OK"
            }
          },
          "base_uri": "https://localhost:8080/",
          "height": 74
        },
        "outputId": "72ac0627-4db3-4657-81ea-f4e2755c8b7d"
      },
      "source": [
        "uploaded = files.upload()"
      ],
      "execution_count": 4,
      "outputs": [
        {
          "output_type": "display_data",
          "data": {
            "text/plain": [
              "<IPython.core.display.HTML object>"
            ],
            "text/html": [
              "\n",
              "     <input type=\"file\" id=\"files-63f34d73-afda-4b33-9733-ae7a8d6e3a98\" name=\"files[]\" multiple disabled\n",
              "        style=\"border:none\" />\n",
              "     <output id=\"result-63f34d73-afda-4b33-9733-ae7a8d6e3a98\">\n",
              "      Upload widget is only available when the cell has been executed in the\n",
              "      current browser session. Please rerun this cell to enable.\n",
              "      </output>\n",
              "      <script src=\"/nbextensions/google.colab/files.js\"></script> "
            ]
          },
          "metadata": {
            "tags": []
          }
        },
        {
          "output_type": "stream",
          "text": [
            "Saving kc_house_data.csv to kc_house_data.csv\n"
          ],
          "name": "stdout"
        }
      ]
    },
    {
      "cell_type": "code",
      "metadata": {
        "id": "8avuB4syYvxe",
        "colab_type": "code",
        "colab": {}
      },
      "source": [
        "pip install turicreate"
      ],
      "execution_count": null,
      "outputs": []
    },
    {
      "cell_type": "markdown",
      "metadata": {
        "id": "vbrceg8IYIWz",
        "colab_type": "text"
      },
      "source": [
        "The goal of this first notebook is to explore multiple regression and feature engineering with existing Turi Create functions.\n",
        "\n",
        "In this notebook you will use data on house sales in King County to predict prices using multiple regression. You will:\n",
        "* Use SFrames to do some feature engineering\n",
        "* Use built-in Turi Create functions to compute the regression weights (coefficients/parameters)\n",
        "* Given the regression weights, predictors and outcome write a function to compute the Residual Sum of Squares\n",
        "* Look at coefficients and interpret their meanings\n",
        "* Evaluate multiple models via RSS"
      ]
    },
    {
      "cell_type": "markdown",
      "metadata": {
        "id": "ArCGdAi3YIW0",
        "colab_type": "text"
      },
      "source": [
        "# Fire up Turi Create"
      ]
    },
    {
      "cell_type": "code",
      "metadata": {
        "id": "o1G76vmAYIW2",
        "colab_type": "code",
        "colab": {}
      },
      "source": [
        "import turicreate"
      ],
      "execution_count": 6,
      "outputs": []
    },
    {
      "cell_type": "markdown",
      "metadata": {
        "id": "xwO1MCMRYIW_",
        "colab_type": "text"
      },
      "source": [
        "# Load in house sales data\n",
        "\n",
        "Dataset is from house sales in King County, the region where the city of Seattle, WA is located."
      ]
    },
    {
      "cell_type": "code",
      "metadata": {
        "scrolled": true,
        "id": "XocKGIVgYIXA",
        "colab_type": "code",
        "colab": {
          "base_uri": "https://localhost:8080/",
          "height": 216
        },
        "outputId": "ac248524-00d7-4e50-f944-243b18608c61"
      },
      "source": [
        "sales = turicreate.SFrame('kc_house_data.csv')"
      ],
      "execution_count": 7,
      "outputs": [
        {
          "output_type": "display_data",
          "data": {
            "text/plain": [
              "Finished parsing file /content/kc_house_data.csv"
            ],
            "text/html": [
              "<pre>Finished parsing file /content/kc_house_data.csv</pre>"
            ]
          },
          "metadata": {
            "tags": []
          }
        },
        {
          "output_type": "display_data",
          "data": {
            "text/plain": [
              "Parsing completed. Parsed 100 lines in 0.146972 secs."
            ],
            "text/html": [
              "<pre>Parsing completed. Parsed 100 lines in 0.146972 secs.</pre>"
            ]
          },
          "metadata": {
            "tags": []
          }
        },
        {
          "output_type": "stream",
          "text": [
            "------------------------------------------------------\n",
            "Inferred types from first 100 line(s) of file as \n",
            "column_type_hints=[int,str,float,int,float,int,int,float,int,int,int,int,int,int,int,int,int,float,float,int,int]\n",
            "If parsing fails due to incorrect types, you can correct\n",
            "the inferred type list above and pass it to read_csv in\n",
            "the column_type_hints argument\n",
            "------------------------------------------------------\n"
          ],
          "name": "stdout"
        },
        {
          "output_type": "display_data",
          "data": {
            "text/plain": [
              "Finished parsing file /content/kc_house_data.csv"
            ],
            "text/html": [
              "<pre>Finished parsing file /content/kc_house_data.csv</pre>"
            ]
          },
          "metadata": {
            "tags": []
          }
        },
        {
          "output_type": "display_data",
          "data": {
            "text/plain": [
              "Parsing completed. Parsed 21613 lines in 0.097481 secs."
            ],
            "text/html": [
              "<pre>Parsing completed. Parsed 21613 lines in 0.097481 secs.</pre>"
            ]
          },
          "metadata": {
            "tags": []
          }
        }
      ]
    },
    {
      "cell_type": "markdown",
      "metadata": {
        "id": "EhZ0Y5-QYIXG",
        "colab_type": "text"
      },
      "source": [
        "# Split data into training and testing.\n",
        "We use seed=0 so that everyone running this notebook gets the same results.  In practice, you may set a random seed (or let Turi Create pick a random seed for you).  "
      ]
    },
    {
      "cell_type": "code",
      "metadata": {
        "id": "AKa2RMlxYIXI",
        "colab_type": "code",
        "colab": {}
      },
      "source": [
        "train_data,test_data = sales.random_split(.8,seed=0)"
      ],
      "execution_count": 8,
      "outputs": []
    },
    {
      "cell_type": "markdown",
      "metadata": {
        "id": "fx23Ae1XYIXM",
        "colab_type": "text"
      },
      "source": [
        "# Learning a multiple regression model"
      ]
    },
    {
      "cell_type": "markdown",
      "metadata": {
        "id": "OeR3n3d9YIXO",
        "colab_type": "text"
      },
      "source": [
        "Recall we can use the following code to learn a multiple regression model predicting 'price' based on the following features:\n",
        "example_features = ['sqft_living', 'bedrooms', 'bathrooms'] on training data with the following code:\n",
        "\n",
        "(Aside: We set validation_set = None to ensure that the results are always the same)"
      ]
    },
    {
      "cell_type": "code",
      "metadata": {
        "id": "jLZPRtz7YIXO",
        "colab_type": "code",
        "colab": {
          "base_uri": "https://localhost:8080/",
          "height": 260
        },
        "outputId": "937ae541-46e2-46b8-e23a-2e6c1dbab952"
      },
      "source": [
        "example_features = ['sqft_living', 'bedrooms', 'bathrooms']\n",
        "example_model = turicreate.linear_regression.create(train_data, target = 'price', features = example_features, \n",
        "                                                    validation_set = None)"
      ],
      "execution_count": 9,
      "outputs": [
        {
          "output_type": "display_data",
          "data": {
            "text/plain": [
              "Linear regression:"
            ],
            "text/html": [
              "<pre>Linear regression:</pre>"
            ]
          },
          "metadata": {
            "tags": []
          }
        },
        {
          "output_type": "display_data",
          "data": {
            "text/plain": [
              "--------------------------------------------------------"
            ],
            "text/html": [
              "<pre>--------------------------------------------------------</pre>"
            ]
          },
          "metadata": {
            "tags": []
          }
        },
        {
          "output_type": "display_data",
          "data": {
            "text/plain": [
              "Number of examples          : 17384"
            ],
            "text/html": [
              "<pre>Number of examples          : 17384</pre>"
            ]
          },
          "metadata": {
            "tags": []
          }
        },
        {
          "output_type": "display_data",
          "data": {
            "text/plain": [
              "Number of features          : 3"
            ],
            "text/html": [
              "<pre>Number of features          : 3</pre>"
            ]
          },
          "metadata": {
            "tags": []
          }
        },
        {
          "output_type": "display_data",
          "data": {
            "text/plain": [
              "Number of unpacked features : 3"
            ],
            "text/html": [
              "<pre>Number of unpacked features : 3</pre>"
            ]
          },
          "metadata": {
            "tags": []
          }
        },
        {
          "output_type": "display_data",
          "data": {
            "text/plain": [
              "Number of coefficients    : 4"
            ],
            "text/html": [
              "<pre>Number of coefficients    : 4</pre>"
            ]
          },
          "metadata": {
            "tags": []
          }
        },
        {
          "output_type": "display_data",
          "data": {
            "text/plain": [
              "Starting Newton Method"
            ],
            "text/html": [
              "<pre>Starting Newton Method</pre>"
            ]
          },
          "metadata": {
            "tags": []
          }
        },
        {
          "output_type": "display_data",
          "data": {
            "text/plain": [
              "--------------------------------------------------------"
            ],
            "text/html": [
              "<pre>--------------------------------------------------------</pre>"
            ]
          },
          "metadata": {
            "tags": []
          }
        },
        {
          "output_type": "display_data",
          "data": {
            "text/plain": [
              "+-----------+----------+--------------+--------------------+---------------------------------+"
            ],
            "text/html": [
              "<pre>+-----------+----------+--------------+--------------------+---------------------------------+</pre>"
            ]
          },
          "metadata": {
            "tags": []
          }
        },
        {
          "output_type": "display_data",
          "data": {
            "text/plain": [
              "| Iteration | Passes   | Elapsed Time | Training Max Error | Training Root-Mean-Square Error |"
            ],
            "text/html": [
              "<pre>| Iteration | Passes   | Elapsed Time | Training Max Error | Training Root-Mean-Square Error |</pre>"
            ]
          },
          "metadata": {
            "tags": []
          }
        },
        {
          "output_type": "display_data",
          "data": {
            "text/plain": [
              "+-----------+----------+--------------+--------------------+---------------------------------+"
            ],
            "text/html": [
              "<pre>+-----------+----------+--------------+--------------------+---------------------------------+</pre>"
            ]
          },
          "metadata": {
            "tags": []
          }
        },
        {
          "output_type": "display_data",
          "data": {
            "text/plain": [
              "| 1         | 2        | 1.013183     | 4146407.590959     | 258679.804259                   |"
            ],
            "text/html": [
              "<pre>| 1         | 2        | 1.013183     | 4146407.590959     | 258679.804259                   |</pre>"
            ]
          },
          "metadata": {
            "tags": []
          }
        },
        {
          "output_type": "display_data",
          "data": {
            "text/plain": [
              "+-----------+----------+--------------+--------------------+---------------------------------+"
            ],
            "text/html": [
              "<pre>+-----------+----------+--------------+--------------------+---------------------------------+</pre>"
            ]
          },
          "metadata": {
            "tags": []
          }
        },
        {
          "output_type": "display_data",
          "data": {
            "text/plain": [
              "SUCCESS: Optimal solution found."
            ],
            "text/html": [
              "<pre>SUCCESS: Optimal solution found.</pre>"
            ]
          },
          "metadata": {
            "tags": []
          }
        },
        {
          "output_type": "display_data",
          "data": {
            "text/plain": [
              ""
            ],
            "text/html": [
              "<pre></pre>"
            ]
          },
          "metadata": {
            "tags": []
          }
        }
      ]
    },
    {
      "cell_type": "markdown",
      "metadata": {
        "id": "UaoypPaLYIXT",
        "colab_type": "text"
      },
      "source": [
        "Now that we have fitted the model we can extract the regression weights (coefficients) as an SFrame as follows:"
      ]
    },
    {
      "cell_type": "code",
      "metadata": {
        "id": "3KZtZRZLYIXU",
        "colab_type": "code",
        "colab": {
          "base_uri": "https://localhost:8080/",
          "height": 202
        },
        "outputId": "a76af1e2-5e97-49a8-aa9d-4ef983c61504"
      },
      "source": [
        "example_weight_summary = example_model.coefficients\n",
        "print example_weight_summary"
      ],
      "execution_count": 10,
      "outputs": [
        {
          "output_type": "stream",
          "text": [
            "+-------------+-------+----------------+---------------+\n",
            "|     name    | index |     value      |     stderr    |\n",
            "+-------------+-------+----------------+---------------+\n",
            "| (intercept) |  None | 87910.0692068  | 7873.33813676 |\n",
            "| sqft_living |  None | 315.403441118  | 3.45570032294 |\n",
            "|   bedrooms  |  None | -65080.2154416 | 2717.45685213 |\n",
            "|  bathrooms  |  None | 6944.02087631  | 3923.11492813 |\n",
            "+-------------+-------+----------------+---------------+\n",
            "[4 rows x 4 columns]\n",
            "\n"
          ],
          "name": "stdout"
        }
      ]
    },
    {
      "cell_type": "markdown",
      "metadata": {
        "id": "j1qy_HuSYIXa",
        "colab_type": "text"
      },
      "source": [
        "# Making Predictions\n",
        "\n",
        "In the gradient descent notebook we use numpy to do our regression. In this book we will use existing Turi Create functions to analyze multiple regressions. \n",
        "\n",
        "Recall that once a model is built we can use the .predict() function to find the predicted values for data we pass. For example using the example model above:"
      ]
    },
    {
      "cell_type": "code",
      "metadata": {
        "id": "fRgPuYuvYIXa",
        "colab_type": "code",
        "colab": {
          "base_uri": "https://localhost:8080/",
          "height": 36
        },
        "outputId": "f9cf9907-610e-47d7-e86c-cfcca4a98d3d"
      },
      "source": [
        "example_predictions = example_model.predict(train_data)\n",
        "print example_predictions[0] # should be 271789.505878"
      ],
      "execution_count": 11,
      "outputs": [
        {
          "output_type": "stream",
          "text": [
            "271789.504278\n"
          ],
          "name": "stdout"
        }
      ]
    },
    {
      "cell_type": "markdown",
      "metadata": {
        "id": "AuWsUS_mYIXe",
        "colab_type": "text"
      },
      "source": [
        "# Compute RSS"
      ]
    },
    {
      "cell_type": "markdown",
      "metadata": {
        "id": "2ueVOsRcYIXf",
        "colab_type": "text"
      },
      "source": [
        "Now that we can make predictions given the model, let's write a function to compute the RSS of the model. Complete the function below to calculate RSS given the model, data, and the outcome."
      ]
    },
    {
      "cell_type": "code",
      "metadata": {
        "id": "dXT4oUqfYIXf",
        "colab_type": "code",
        "colab": {}
      },
      "source": [
        "def get_residual_sum_of_squares(model, data, outcome):\n",
        "    # First get the predictions\n",
        "    yhats = model.predict(data)\n",
        "    # Then compute the residuals/errors\n",
        "    residuals = yhats - outcome\n",
        "    # Then square and add them up\n",
        "    RSS = (residuals*residuals).sum()\n",
        "    return(RSS)    "
      ],
      "execution_count": 12,
      "outputs": []
    },
    {
      "cell_type": "markdown",
      "metadata": {
        "id": "-YABY9CnYIXk",
        "colab_type": "text"
      },
      "source": [
        "Test your function by computing the RSS on TEST data for the example model:"
      ]
    },
    {
      "cell_type": "code",
      "metadata": {
        "id": "lJ3n3pwLYIXk",
        "colab_type": "code",
        "colab": {
          "base_uri": "https://localhost:8080/",
          "height": 36
        },
        "outputId": "e44f580f-be90-4a96-fb97-609f71e5f33b"
      },
      "source": [
        "rss_example_train = get_residual_sum_of_squares(example_model, test_data, test_data['price'])\n",
        "print rss_example_train # should be 2.7376153833e+14"
      ],
      "execution_count": 13,
      "outputs": [
        {
          "output_type": "stream",
          "text": [
            "2.73761534465e+14\n"
          ],
          "name": "stdout"
        }
      ]
    },
    {
      "cell_type": "markdown",
      "metadata": {
        "id": "vt_Wtr6MYIXp",
        "colab_type": "text"
      },
      "source": [
        "# Create some new features"
      ]
    },
    {
      "cell_type": "markdown",
      "metadata": {
        "id": "-iMm4feEYIXq",
        "colab_type": "text"
      },
      "source": [
        "Although we often think of multiple regression as including multiple different features (e.g. # of bedrooms, squarefeet, and # of bathrooms) but we can also consider transformations of existing features e.g. the log of the squarefeet or even \"interaction\" features such as the product of bedrooms and bathrooms."
      ]
    },
    {
      "cell_type": "markdown",
      "metadata": {
        "id": "xH6usJn-YIXr",
        "colab_type": "text"
      },
      "source": [
        "You will use the logarithm function to create a new feature. so first you should import it from the math library."
      ]
    },
    {
      "cell_type": "code",
      "metadata": {
        "id": "-LqaN52LYIXr",
        "colab_type": "code",
        "colab": {}
      },
      "source": [
        "from math import log"
      ],
      "execution_count": 14,
      "outputs": []
    },
    {
      "cell_type": "markdown",
      "metadata": {
        "id": "d58PdHqpYIXv",
        "colab_type": "text"
      },
      "source": [
        "Next create the following 4 new features as column in both TEST and TRAIN data:\n",
        "* bedrooms_squared = bedrooms\\*bedrooms\n",
        "* bed_bath_rooms = bedrooms\\*bathrooms\n",
        "* log_sqft_living = log(sqft_living)\n",
        "* lat_plus_long = lat + long \n",
        "As an example here's the first one:"
      ]
    },
    {
      "cell_type": "code",
      "metadata": {
        "id": "EOlanUOBYIXx",
        "colab_type": "code",
        "colab": {}
      },
      "source": [
        "train_data['bedrooms_squared'] = train_data['bedrooms'].apply(lambda x: x**2)\n",
        "test_data['bedrooms_squared'] = test_data['bedrooms'].apply(lambda x: x**2)"
      ],
      "execution_count": 15,
      "outputs": []
    },
    {
      "cell_type": "code",
      "metadata": {
        "id": "Dnao3GgFYIX0",
        "colab_type": "code",
        "colab": {}
      },
      "source": [
        "# create the remaining 3 features in both TEST and TRAIN data\n",
        "train_data['bed_bath_rooms'] = train_data['bedrooms'] * train_data['bathrooms']\n",
        "test_data['bed_bath_rooms'] = test_data['bedrooms'] * test_data['bathrooms']\n",
        "train_data['log_sqft_living'] = train_data['sqft_living'].apply(lambda x: log(x))\n",
        "test_data['log_sqft_living'] = test_data['sqft_living'].apply(lambda x: log(x))\n",
        "train_data['lat_plus_long'] = train_data['lat'] + train_data['long']\n",
        "test_data['lat_plus_long'] = test_data['lat'] + test_data['long']\n"
      ],
      "execution_count": 16,
      "outputs": []
    },
    {
      "cell_type": "markdown",
      "metadata": {
        "id": "4CEXbcnIYIX4",
        "colab_type": "text"
      },
      "source": [
        "* Squaring bedrooms will increase the separation between not many bedrooms (e.g. 1) and lots of bedrooms (e.g. 4) since 1^2 = 1 but 4^2 = 16. Consequently this feature will mostly affect houses with many bedrooms.\n",
        "* bedrooms times bathrooms gives what's called an \"interaction\" feature. It is large when *both* of them are large.\n",
        "* Taking the log of squarefeet has the effect of bringing large values closer together and spreading out small values.\n",
        "* Adding latitude to longitude is totally non-sensical but we will do it anyway (you'll see why)"
      ]
    },
    {
      "cell_type": "markdown",
      "metadata": {
        "id": "Tr5-cAs5YIX5",
        "colab_type": "text"
      },
      "source": [
        "**Quiz Question: What is the mean (arithmetic average) value of your 4 new features on TEST data? (round to 2 digits)**"
      ]
    },
    {
      "cell_type": "code",
      "metadata": {
        "id": "EZoG5DWQYIX6",
        "colab_type": "code",
        "colab": {
          "base_uri": "https://localhost:8080/",
          "height": 36
        },
        "outputId": "95eb77fb-7575-4a20-aa67-d1e557bbc615"
      },
      "source": [
        "s1=test_data['bed_bath_rooms'].mean()\n",
        "print(s1)"
      ],
      "execution_count": 42,
      "outputs": [
        {
          "output_type": "stream",
          "text": [
            "7.50390163159\n"
          ],
          "name": "stdout"
        }
      ]
    },
    {
      "cell_type": "code",
      "metadata": {
        "id": "t7wIMvkzjN_8",
        "colab_type": "code",
        "colab": {
          "base_uri": "https://localhost:8080/",
          "height": 36
        },
        "outputId": "93e7b365-b69c-400d-ade6-b73fc064b9f5"
      },
      "source": [
        "s2=test_data['log_sqft_living'].mean()\n",
        "print(s2)"
      ],
      "execution_count": 43,
      "outputs": [
        {
          "output_type": "stream",
          "text": [
            "7.55027467965\n"
          ],
          "name": "stdout"
        }
      ]
    },
    {
      "cell_type": "code",
      "metadata": {
        "id": "kI1gSPEijZFD",
        "colab_type": "code",
        "colab": {
          "base_uri": "https://localhost:8080/",
          "height": 36
        },
        "outputId": "c2270bc0-c81c-4dd0-fe22-5183fe5cebfa"
      },
      "source": [
        "s3=test_data['bedrooms_squared'].mean()\n",
        "print(s3)"
      ],
      "execution_count": 44,
      "outputs": [
        {
          "output_type": "stream",
          "text": [
            "12.4466777016\n"
          ],
          "name": "stdout"
        }
      ]
    },
    {
      "cell_type": "code",
      "metadata": {
        "id": "OVo4SjMNjmGk",
        "colab_type": "code",
        "colab": {
          "base_uri": "https://localhost:8080/",
          "height": 36
        },
        "outputId": "f7d1dad0-ac2e-4ccf-86f9-06c725d92962"
      },
      "source": [
        "s4=test_data['lat_plus_long'].mean()\n",
        "print(s4)"
      ],
      "execution_count": 45,
      "outputs": [
        {
          "output_type": "stream",
          "text": [
            "-74.653333554\n"
          ],
          "name": "stdout"
        }
      ]
    },
    {
      "cell_type": "code",
      "metadata": {
        "id": "suQZIY6ucTW9",
        "colab_type": "code",
        "colab": {
          "base_uri": "https://localhost:8080/",
          "height": 518
        },
        "outputId": "ca8cedf8-9db8-498d-e9a8-0c9221934dc7"
      },
      "source": [
        "pip install graphlab-create"
      ],
      "execution_count": 28,
      "outputs": [
        {
          "output_type": "stream",
          "text": [
            "Requirement already satisfied: graphlab-create in /usr/local/lib/python2.7/dist-packages (2.1)\n",
            "Requirement already satisfied: tornado==4.3 in /usr/local/lib/python2.7/dist-packages (from graphlab-create) (4.3)\n",
            "Requirement already satisfied: prettytable==0.7.2 in /usr/local/lib/python2.7/dist-packages (from graphlab-create) (0.7.2)\n",
            "Requirement already satisfied: multipledispatch>=0.4.7 in /usr/local/lib/python2.7/dist-packages (from graphlab-create) (0.6.0)\n",
            "Requirement already satisfied: decorator==4.0.9 in /usr/local/lib/python2.7/dist-packages (from graphlab-create) (4.0.9)\n",
            "Requirement already satisfied: awscli==1.6.2 in /usr/local/lib/python2.7/dist-packages (from graphlab-create) (1.6.2)\n",
            "Requirement already satisfied: psclient in /usr/local/lib/python2.7/dist-packages (from graphlab-create) (2.0)\n",
            "Requirement already satisfied: sseclient==0.0.8 in /usr/local/lib/python2.7/dist-packages (from graphlab-create) (0.0.8)\n",
            "Requirement already satisfied: requests==2.9.1 in /usr/local/lib/python2.7/dist-packages (from graphlab-create) (2.9.1)\n",
            "Requirement already satisfied: genson==0.1.0 in /usr/local/lib/python2.7/dist-packages (from graphlab-create) (0.1.0)\n",
            "Requirement already satisfied: boto==2.33.0 in /usr/local/lib/python2.7/dist-packages (from graphlab-create) (2.33.0)\n",
            "Requirement already satisfied: jsonschema==2.5.1 in /usr/local/lib/python2.7/dist-packages (from graphlab-create) (2.5.1)\n",
            "Requirement already satisfied: certifi==2015.04.28 in /usr/local/lib/python2.7/dist-packages (from graphlab-create) (2015.4.28)\n",
            "Requirement already satisfied: singledispatch in /usr/local/lib/python2.7/dist-packages (from tornado==4.3->graphlab-create) (3.4.0.3)\n",
            "Requirement already satisfied: backports.ssl-match-hostname in /usr/local/lib/python2.7/dist-packages (from tornado==4.3->graphlab-create) (3.7.0.1)\n",
            "Requirement already satisfied: backports-abc>=0.4 in /usr/local/lib/python2.7/dist-packages (from tornado==4.3->graphlab-create) (0.5)\n",
            "Requirement already satisfied: six in /usr/local/lib/python2.7/dist-packages (from multipledispatch>=0.4.7->graphlab-create) (1.12.0)\n",
            "Requirement already satisfied: rsa==3.1.2 in /usr/local/lib/python2.7/dist-packages (from awscli==1.6.2->graphlab-create) (3.1.2)\n",
            "Requirement already satisfied: docutils>=0.10 in /usr/local/lib/python2.7/dist-packages (from awscli==1.6.2->graphlab-create) (0.14)\n",
            "Requirement already satisfied: botocore<0.74.0,>=0.73.0 in /usr/local/lib/python2.7/dist-packages (from awscli==1.6.2->graphlab-create) (0.73.0)\n",
            "Requirement already satisfied: bcdoc<0.13.0,>=0.12.0 in /usr/local/lib/python2.7/dist-packages (from awscli==1.6.2->graphlab-create) (0.12.2)\n",
            "Requirement already satisfied: colorama==0.2.5 in /usr/local/lib/python2.7/dist-packages (from awscli==1.6.2->graphlab-create) (0.2.5)\n",
            "Requirement already satisfied: python-dateutil in /usr/local/lib/python2.7/dist-packages (from psclient->graphlab-create) (2.5.3)\n",
            "Requirement already satisfied: functools32; python_version == \"2.7\" in /usr/local/lib/python2.7/dist-packages (from jsonschema==2.5.1->graphlab-create) (3.2.3.post2)\n",
            "Requirement already satisfied: pyasn1>=0.1.3 in /usr/local/lib/python2.7/dist-packages (from rsa==3.1.2->awscli==1.6.2->graphlab-create) (0.4.5)\n",
            "Requirement already satisfied: jmespath==0.5.0 in /usr/local/lib/python2.7/dist-packages (from botocore<0.74.0,>=0.73.0->awscli==1.6.2->graphlab-create) (0.5.0)\n"
          ],
          "name": "stdout"
        }
      ]
    },
    {
      "cell_type": "markdown",
      "metadata": {
        "id": "_PvF8KKuYIX-",
        "colab_type": "text"
      },
      "source": [
        "# Learning Multiple Models"
      ]
    },
    {
      "cell_type": "markdown",
      "metadata": {
        "id": "047DudHmYIX_",
        "colab_type": "text"
      },
      "source": [
        "Now we will learn the weights for three (nested) models for predicting house prices. The first model will have the fewest features the second model will add one more feature and the third will add a few more:\n",
        "* Model 1: squarefeet, # bedrooms, # bathrooms, latitude & longitude\n",
        "* Model 2: add bedrooms\\*bathrooms\n",
        "* Model 3: Add log squarefeet, bedrooms squared, and the (nonsensical) latitude + longitude"
      ]
    },
    {
      "cell_type": "code",
      "metadata": {
        "id": "pyzXvGmvYIYA",
        "colab_type": "code",
        "colab": {}
      },
      "source": [
        "feat1 = ['sqft_living', 'bedrooms', 'bathrooms', 'lat', 'long']\n",
        "feat2 = feat1 + ['bed_bath_rooms']\n",
        "feat3 = feat2 + ['bedrooms_squared', 'log_sqft_living', 'lat_plus_long']"
      ],
      "execution_count": 29,
      "outputs": []
    },
    {
      "cell_type": "markdown",
      "metadata": {
        "id": "B70WrTFTYIYC",
        "colab_type": "text"
      },
      "source": [
        "Now that you have the features, learn the weights for the three different models for predicting target = 'price' using turicreate.linear_regression.create() and look at the value of the weights/coefficients:"
      ]
    },
    {
      "cell_type": "code",
      "metadata": {
        "id": "RMignd0oYIYF",
        "colab_type": "code",
        "colab": {}
      },
      "source": [
        "# Learn the three models: (don't forget to set validation_set = None)\n",
        "model1 = turicreate.linear_regression.create(train_data, target = 'price', features = feat1, validation_set = None, verbose=False)\n",
        "model2 = turicreate.linear_regression.create(train_data, target = 'price', features = feat2, validation_set = None, verbose=False)\n",
        "model3 = turicreate.linear_regression.create(train_data, target = 'price', features = feat3, validation_set = None, verbose=False)"
      ],
      "execution_count": 33,
      "outputs": []
    },
    {
      "cell_type": "code",
      "metadata": {
        "id": "h0tsEgO7YIYK",
        "colab_type": "code",
        "colab": {
          "base_uri": "https://localhost:8080/",
          "height": 239
        },
        "outputId": "8b17b437-dcdb-41ad-b612-50fca7319009"
      },
      "source": [
        "# Examine/extract each model's coefficients:\n",
        "coefficients = model1.coefficients\n",
        "print(coefficients)"
      ],
      "execution_count": 38,
      "outputs": [
        {
          "output_type": "stream",
          "text": [
            "+-------------+-------+----------------+---------------+\n",
            "|     name    | index |     value      |     stderr    |\n",
            "+-------------+-------+----------------+---------------+\n",
            "| (intercept) |  None | -56141852.4644 | 1649928.35804 |\n",
            "| sqft_living |  None | 310.263506723  | 3.18882062328 |\n",
            "|   bedrooms  |  None | -59577.6052121 | 2487.27455846 |\n",
            "|  bathrooms  |  None |  13812.406876  | 3593.53440572 |\n",
            "|     lat     |  None | 629863.119934  | 13120.6886699 |\n",
            "|     long    |  None |  -214800.9523  | 13283.8203895 |\n",
            "+-------------+-------+----------------+---------------+\n",
            "[6 rows x 4 columns]\n",
            "\n"
          ],
          "name": "stdout"
        }
      ]
    },
    {
      "cell_type": "code",
      "metadata": {
        "id": "DSUYz1Yret_N",
        "colab_type": "code",
        "colab": {
          "base_uri": "https://localhost:8080/",
          "height": 258
        },
        "outputId": "e9ebac36-3bb6-49b5-a1be-5cbadb376646"
      },
      "source": [
        "coefficients = model2.coefficients\n",
        "print(coefficients)"
      ],
      "execution_count": 39,
      "outputs": [
        {
          "output_type": "stream",
          "text": [
            "+----------------+-------+----------------+---------------+\n",
            "|      name      | index |     value      |     stderr    |\n",
            "+----------------+-------+----------------+---------------+\n",
            "|  (intercept)   |  None | -54412036.3966 | 1650346.09756 |\n",
            "|  sqft_living   |  None | 304.449505239  | 3.20216518282 |\n",
            "|    bedrooms    |  None | -116366.742818 |  4805.5339855 |\n",
            "|   bathrooms    |  None | -77972.1056409 | 7565.03416078 |\n",
            "|      lat       |  None | 625431.042062  | 13058.3308362 |\n",
            "|      long      |  None | -203970.824936 | 13267.6490421 |\n",
            "| bed_bath_rooms |  None | 26961.7302978  | 1956.35899367 |\n",
            "+----------------+-------+----------------+---------------+\n",
            "[7 rows x 4 columns]\n",
            "\n"
          ],
          "name": "stdout"
        }
      ]
    },
    {
      "cell_type": "code",
      "metadata": {
        "id": "1StIjdQOeyOt",
        "colab_type": "code",
        "colab": {
          "base_uri": "https://localhost:8080/",
          "height": 313
        },
        "outputId": "17e6a9a4-5058-4dc7-f0b1-cf3055ec702d"
      },
      "source": [
        "coefficients = model3.coefficients\n",
        "print(coefficients)"
      ],
      "execution_count": 40,
      "outputs": [
        {
          "output_type": "stream",
          "text": [
            "+------------------+-------+----------------+---------------+\n",
            "|       name       | index |     value      |     stderr    |\n",
            "+------------------+-------+----------------+---------------+\n",
            "|   (intercept)    |  None | -52975504.214  | 1615141.28927 |\n",
            "|   sqft_living    |  None |  529.19327225  | 7.69912257299 |\n",
            "|     bedrooms     |  None |  28944.217163  | 9395.70086441 |\n",
            "|    bathrooms     |  None | 65659.9030562  | 10795.3200464 |\n",
            "|       lat        |  None |  704763.16512  | 745455237.283 |\n",
            "|       long       |  None | -137781.471393 | 745455236.891 |\n",
            "|  bed_bath_rooms  |  None | -8477.92763903 | 2858.94965517 |\n",
            "| bedrooms_squared |  None | -6072.03763855 | 1494.96716541 |\n",
            "| log_sqft_living  |  None | -563459.758053 | 17567.8176001 |\n",
            "|  lat_plus_long   |  None | -83220.6812613 | 745455237.189 |\n",
            "+------------------+-------+----------------+---------------+\n",
            "[10 rows x 4 columns]\n",
            "\n"
          ],
          "name": "stdout"
        }
      ]
    },
    {
      "cell_type": "markdown",
      "metadata": {
        "id": "tdgwwSwQYIYM",
        "colab_type": "text"
      },
      "source": [
        "**Quiz Question: What is the sign (positive or negative) for the coefficient/weight for 'bathrooms' in model 1?**\n",
        "\n",
        "**Quiz Question: What is the sign (positive or negative) for the coefficient/weight for 'bathrooms' in model 2?**\n",
        "\n",
        "Think about what this means."
      ]
    },
    {
      "cell_type": "markdown",
      "metadata": {
        "id": "yEk1QeGKYIYN",
        "colab_type": "text"
      },
      "source": [
        "# Comparing multiple models\n",
        "\n",
        "Now that you've learned three models and extracted the model weights we want to evaluate which model is best."
      ]
    },
    {
      "cell_type": "markdown",
      "metadata": {
        "id": "1ux5nwmFYIYN",
        "colab_type": "text"
      },
      "source": [
        "First use your functions from earlier to compute the RSS on TRAINING Data for each of the three models."
      ]
    },
    {
      "cell_type": "code",
      "metadata": {
        "id": "lsxOFbhDYIYO",
        "colab_type": "code",
        "colab": {
          "base_uri": "https://localhost:8080/",
          "height": 36
        },
        "outputId": "98de5fa0-cd31-4172-910e-b3c0e915861a"
      },
      "source": [
        "# Compute the RSS on TRAINING data for each of the three models and record the values:\n",
        "# Compute the RSS on TRAINING data for each of the three models and record the values:\n",
        "rss1 = get_residual_sum_of_squares(model1, train_data, train_data['price'])\n",
        "rss2 = get_residual_sum_of_squares(model2, train_data, train_data['price'])\n",
        "rss3 = get_residual_sum_of_squares(model3, train_data, train_data['price'])\n",
        "print rss1, rss2, rss3"
      ],
      "execution_count": 31,
      "outputs": [
        {
          "output_type": "stream",
          "text": [
            "9.71323871612e+14 9.6158755258e+14 9.0527377473e+14\n"
          ],
          "name": "stdout"
        }
      ]
    },
    {
      "cell_type": "markdown",
      "metadata": {
        "id": "Assqcv56YIYR",
        "colab_type": "text"
      },
      "source": [
        "**Quiz Question: Which model (1, 2 or 3) has lowest RSS on TRAINING Data?** Is this what you expected?"
      ]
    },
    {
      "cell_type": "markdown",
      "metadata": {
        "id": "pOzFsWyXYIYS",
        "colab_type": "text"
      },
      "source": [
        "Now compute the RSS on on TEST data for each of the three models."
      ]
    },
    {
      "cell_type": "code",
      "metadata": {
        "id": "iLzaneedYIYS",
        "colab_type": "code",
        "colab": {
          "base_uri": "https://localhost:8080/",
          "height": 36
        },
        "outputId": "f10d4ae8-7c1e-4b8d-b2a6-2fc2d4c451b5"
      },
      "source": [
        "# Compute the RSS on TESTING data for each of the three models and record the values:\n",
        "# Compute the RSS on TESTING data for each of the three models and record the values:\n",
        "rss1 = get_residual_sum_of_squares(model1, test_data, test_data['price'])\n",
        "rss2 = get_residual_sum_of_squares(model2, test_data, test_data['price'])\n",
        "rss3 = get_residual_sum_of_squares(model3, test_data, test_data['price'])\n",
        "print rss1, rss2, rss3"
      ],
      "execution_count": 32,
      "outputs": [
        {
          "output_type": "stream",
          "text": [
            "2.26566318598e+14 2.24366990582e+14 2.51824565047e+14\n"
          ],
          "name": "stdout"
        }
      ]
    },
    {
      "cell_type": "markdown",
      "metadata": {
        "id": "dHPwkFMgYIYV",
        "colab_type": "text"
      },
      "source": [
        "**Quiz Question: Which model (1, 2 or 3) has lowest RSS on TESTING Data?** Is this what you expected? Think about the features that were added to each model from the previous."
      ]
    },
    {
      "cell_type": "code",
      "metadata": {
        "id": "VwialGPWYIYW",
        "colab_type": "code",
        "colab": {}
      },
      "source": [
        ""
      ],
      "execution_count": null,
      "outputs": []
    }
  ]
}