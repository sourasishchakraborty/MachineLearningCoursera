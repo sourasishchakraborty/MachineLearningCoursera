{
  "nbformat": 4,
  "nbformat_minor": 0,
  "metadata": {
    "kernelspec": {
      "display_name": "Python 2",
      "language": "python",
      "name": "python2"
    },
    "language_info": {
      "codemirror_mode": {
        "name": "ipython",
        "version": 2
      },
      "file_extension": ".py",
      "mimetype": "text/x-python",
      "name": "python",
      "nbconvert_exporter": "python",
      "pygments_lexer": "ipython2",
      "version": "2.7.10"
    },
    "colab": {
      "name": "Course1Week3Notebook1.0.ipynb",
      "provenance": [],
      "collapsed_sections": []
    }
  },
  "cells": [
    {
      "cell_type": "markdown",
      "metadata": {
        "id": "PfcTJ24y9sG0",
        "colab_type": "text"
      },
      "source": [
        "# Analyze Product Sentiment"
      ]
    },
    {
      "cell_type": "code",
      "metadata": {
        "id": "zCmOLrRB95QP",
        "colab_type": "code",
        "colab": {}
      },
      "source": [
        "from google.colab import drive"
      ],
      "execution_count": 1,
      "outputs": []
    },
    {
      "cell_type": "code",
      "metadata": {
        "id": "AvnecVFu99pe",
        "colab_type": "code",
        "colab": {
          "base_uri": "https://localhost:8080/",
          "height": 130
        },
        "outputId": "6cc88036-ebbf-46b6-cb76-3ef5d16445d2"
      },
      "source": [
        "drive.mount('/content/drive')"
      ],
      "execution_count": 2,
      "outputs": [
        {
          "output_type": "stream",
          "text": [
            "Go to this URL in a browser: https://accounts.google.com/o/oauth2/auth?client_id=947318989803-6bn6qk8qdgf4n4g3pfee6491hc0brc4i.apps.googleusercontent.com&redirect_uri=urn%3aietf%3awg%3aoauth%3a2.0%3aoob&response_type=code&scope=email%20https%3a%2f%2fwww.googleapis.com%2fauth%2fdocs.test%20https%3a%2f%2fwww.googleapis.com%2fauth%2fdrive%20https%3a%2f%2fwww.googleapis.com%2fauth%2fdrive.photos.readonly%20https%3a%2f%2fwww.googleapis.com%2fauth%2fpeopleapi.readonly\n",
            "\n",
            "Enter your authorization code:\n",
            "··········\n",
            "Mounted at /content/drive\n"
          ],
          "name": "stdout"
        }
      ]
    },
    {
      "cell_type": "code",
      "metadata": {
        "id": "ahlcaLa9-JDi",
        "colab_type": "code",
        "colab": {}
      },
      "source": [
        "from google.colab import files"
      ],
      "execution_count": 3,
      "outputs": []
    },
    {
      "cell_type": "code",
      "metadata": {
        "id": "fCeXgLbh-MUo",
        "colab_type": "code",
        "colab": {
          "resources": {
            "http://localhost:8080/nbextensions/google.colab/files.js": {
              "data": "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",
              "ok": true,
              "headers": [
                [
                  "content-type",
                  "application/javascript"
                ]
              ],
              "status": 200,
              "status_text": "OK"
            }
          },
          "base_uri": "https://localhost:8080/",
          "height": 74
        },
        "outputId": "f5191696-91ad-49b3-c78b-7b97bd49d87d"
      },
      "source": [
        "uploaded = files.upload()"
      ],
      "execution_count": 4,
      "outputs": [
        {
          "output_type": "display_data",
          "data": {
            "text/plain": [
              "<IPython.core.display.HTML object>"
            ],
            "text/html": [
              "\n",
              "     <input type=\"file\" id=\"files-6732bafd-19c1-4298-a88e-2866fd100a64\" name=\"files[]\" multiple disabled\n",
              "        style=\"border:none\" />\n",
              "     <output id=\"result-6732bafd-19c1-4298-a88e-2866fd100a64\">\n",
              "      Upload widget is only available when the cell has been executed in the\n",
              "      current browser session. Please rerun this cell to enable.\n",
              "      </output>\n",
              "      <script src=\"/nbextensions/google.colab/files.js\"></script> "
            ]
          },
          "metadata": {
            "tags": []
          }
        },
        {
          "output_type": "stream",
          "text": [
            "Saving amazon_baby.csv to amazon_baby.csv\n"
          ],
          "name": "stdout"
        }
      ]
    },
    {
      "cell_type": "code",
      "metadata": {
        "id": "a5lS9-_JHG45",
        "colab_type": "code",
        "colab": {
          "base_uri": "https://localhost:8080/",
          "height": 1000
        },
        "outputId": "0eb295fc-46ae-42e7-916b-e205847f18da"
      },
      "source": [
        "pip install turicreate"
      ],
      "execution_count": 5,
      "outputs": [
        {
          "output_type": "stream",
          "text": [
            "Collecting turicreate\n",
            "\u001b[?25l  Downloading https://files.pythonhosted.org/packages/c5/e3/5ef42a9fa8b25940d65c0c8d6893a589f78862c1bb992564d4545176f321/turicreate-6.3-cp27-cp27mu-manylinux1_x86_64.whl (91.8MB)\n",
            "\u001b[K     |████████████████████████████████| 91.8MB 48kB/s \n",
            "\u001b[?25hCollecting pillow>=5.2.0\n",
            "\u001b[?25l  Downloading https://files.pythonhosted.org/packages/12/ad/61f8dfba88c4e56196bf6d056cdbba64dc9c5dfdfbc97d02e6472feed913/Pillow-6.2.2-cp27-cp27mu-manylinux1_x86_64.whl (2.1MB)\n",
            "\u001b[K     |████████████████████████████████| 2.1MB 36.5MB/s \n",
            "\u001b[?25hRequirement already satisfied: numpy in /usr/local/lib/python2.7/dist-packages (from turicreate) (1.16.4)\n",
            "Requirement already satisfied: requests>=2.9.1 in /usr/local/lib/python2.7/dist-packages (from turicreate) (2.23.0)\n",
            "Requirement already satisfied: prettytable==0.7.2 in /usr/local/lib/python2.7/dist-packages (from turicreate) (0.7.2)\n",
            "Collecting llvmlite==0.31.0\n",
            "\u001b[?25l  Downloading https://files.pythonhosted.org/packages/91/07/90cd9cdd43b287960b16dbf7929bff2267dc0b6647e8e0117a4937b19620/llvmlite-0.31.0-cp27-cp27mu-manylinux1_x86_64.whl (20.2MB)\n",
            "\u001b[K     |████████████████████████████████| 20.2MB 1.2MB/s \n",
            "\u001b[?25hRequirement already satisfied: pandas>=0.23.2 in /usr/local/lib/python2.7/dist-packages (from turicreate) (0.24.2)\n",
            "Requirement already satisfied: decorator>=4.0.9 in /usr/local/lib/python2.7/dist-packages (from turicreate) (4.4.0)\n",
            "Requirement already satisfied: scipy>=1.1.0 in /usr/local/lib/python2.7/dist-packages (from turicreate) (1.2.2)\n",
            "Requirement already satisfied: six>=1.10.0 in /usr/local/lib/python2.7/dist-packages (from turicreate) (1.15.0)\n",
            "Requirement already satisfied: resampy==0.2.1 in /usr/local/lib/python2.7/dist-packages (from turicreate) (0.2.1)\n",
            "Collecting coremltools==3.3\n",
            "\u001b[?25l  Downloading https://files.pythonhosted.org/packages/46/9b/f6feac5d9369c68ee718d3c3140435452773a36ff08ef3bcc4fe378e8676/coremltools-3.3-cp27-none-manylinux1_x86_64.whl (3.4MB)\n",
            "\u001b[K     |████████████████████████████████| 3.4MB 46.8MB/s \n",
            "\u001b[?25hCollecting tensorflow<=2.0.1,>=2.0.0\n",
            "\u001b[?25l  Downloading https://files.pythonhosted.org/packages/17/08/1ff15637a03b1565dd6cb0916b3ca6873db3a1fc69be0ed851be936e5633/tensorflow-2.0.0-cp27-cp27mu-manylinux2010_x86_64.whl (86.3MB)\n",
            "\u001b[K     |████████████████████████████████| 86.3MB 89kB/s \n",
            "\u001b[?25hRequirement already satisfied: urllib3!=1.25.0,!=1.25.1,<1.26,>=1.21.1 in /usr/local/lib/python2.7/dist-packages (from requests>=2.9.1->turicreate) (1.24.3)\n",
            "Requirement already satisfied: chardet<4,>=3.0.2 in /usr/local/lib/python2.7/dist-packages (from requests>=2.9.1->turicreate) (3.0.4)\n",
            "Requirement already satisfied: certifi>=2017.4.17 in /usr/local/lib/python2.7/dist-packages (from requests>=2.9.1->turicreate) (2019.6.16)\n",
            "Requirement already satisfied: idna<3,>=2.5 in /usr/local/lib/python2.7/dist-packages (from requests>=2.9.1->turicreate) (2.8)\n",
            "Requirement already satisfied: enum34; python_version < \"3.4\" in /usr/local/lib/python2.7/dist-packages (from llvmlite==0.31.0->turicreate) (1.1.6)\n",
            "Requirement already satisfied: pytz>=2011k in /usr/local/lib/python2.7/dist-packages (from pandas>=0.23.2->turicreate) (2018.9)\n",
            "Requirement already satisfied: python-dateutil>=2.5.0 in /usr/local/lib/python2.7/dist-packages (from pandas>=0.23.2->turicreate) (2.5.3)\n",
            "Requirement already satisfied: numba>=0.32 in /usr/local/lib/python2.7/dist-packages (from resampy==0.2.1->turicreate) (0.40.1)\n",
            "Requirement already satisfied: protobuf>=3.1.0 in /usr/local/lib/python2.7/dist-packages (from coremltools==3.3->turicreate) (3.8.0)\n",
            "Requirement already satisfied: gast==0.2.2 in /usr/local/lib/python2.7/dist-packages (from tensorflow<=2.0.1,>=2.0.0->turicreate) (0.2.2)\n",
            "Requirement already satisfied: grpcio>=1.8.6 in /usr/local/lib/python2.7/dist-packages (from tensorflow<=2.0.1,>=2.0.0->turicreate) (1.15.0)\n",
            "Collecting tensorboard<2.1.0,>=2.0.0\n",
            "\u001b[?25l  Downloading https://files.pythonhosted.org/packages/a7/3d/993131c622ae34f9401a81526853f2310a4834bd042420a7982fb5bc5fd0/tensorboard-2.0.2-py2-none-any.whl (3.8MB)\n",
            "\u001b[K     |████████████████████████████████| 3.8MB 40.2MB/s \n",
            "\u001b[?25hRequirement already satisfied: wrapt>=1.11.1 in /usr/local/lib/python2.7/dist-packages (from tensorflow<=2.0.1,>=2.0.0->turicreate) (1.11.2)\n",
            "Requirement already satisfied: keras-preprocessing>=1.0.5 in /usr/local/lib/python2.7/dist-packages (from tensorflow<=2.0.1,>=2.0.0->turicreate) (1.1.0)\n",
            "Requirement already satisfied: backports.weakref>=1.0rc1; python_version < \"3.4\" in /usr/local/lib/python2.7/dist-packages (from tensorflow<=2.0.1,>=2.0.0->turicreate) (1.0.post1)\n",
            "Requirement already satisfied: keras-applications>=1.0.8 in /usr/local/lib/python2.7/dist-packages (from tensorflow<=2.0.1,>=2.0.0->turicreate) (1.0.8)\n",
            "Requirement already satisfied: wheel in /usr/local/lib/python2.7/dist-packages (from tensorflow<=2.0.1,>=2.0.0->turicreate) (0.34.2)\n",
            "Requirement already satisfied: functools32>=3.2.3 in /usr/local/lib/python2.7/dist-packages (from tensorflow<=2.0.1,>=2.0.0->turicreate) (3.2.3.post2)\n",
            "Requirement already satisfied: absl-py>=0.7.0 in /usr/local/lib/python2.7/dist-packages (from tensorflow<=2.0.1,>=2.0.0->turicreate) (0.7.1)\n",
            "Requirement already satisfied: opt-einsum>=2.3.2 in /usr/local/lib/python2.7/dist-packages (from tensorflow<=2.0.1,>=2.0.0->turicreate) (2.3.2)\n",
            "Requirement already satisfied: termcolor>=1.1.0 in /usr/local/lib/python2.7/dist-packages (from tensorflow<=2.0.1,>=2.0.0->turicreate) (1.1.0)\n",
            "Requirement already satisfied: google-pasta>=0.1.6 in /usr/local/lib/python2.7/dist-packages (from tensorflow<=2.0.1,>=2.0.0->turicreate) (0.1.7)\n",
            "Requirement already satisfied: mock>=2.0.0 in /usr/local/lib/python2.7/dist-packages (from tensorflow<=2.0.1,>=2.0.0->turicreate) (2.0.0)\n",
            "Collecting tensorflow-estimator<2.1.0,>=2.0.0\n",
            "\u001b[?25l  Downloading https://files.pythonhosted.org/packages/fc/08/8b927337b7019c374719145d1dceba21a8bb909b93b1ad6f8fb7d22c1ca1/tensorflow_estimator-2.0.1-py2.py3-none-any.whl (449kB)\n",
            "\u001b[K     |████████████████████████████████| 450kB 45.0MB/s \n",
            "\u001b[?25hRequirement already satisfied: astor>=0.6.0 in /usr/local/lib/python2.7/dist-packages (from tensorflow<=2.0.1,>=2.0.0->turicreate) (0.8.0)\n",
            "Requirement already satisfied: funcsigs in /usr/local/lib/python2.7/dist-packages (from numba>=0.32->resampy==0.2.1->turicreate) (1.0.2)\n",
            "Requirement already satisfied: singledispatch in /usr/local/lib/python2.7/dist-packages (from numba>=0.32->resampy==0.2.1->turicreate) (3.4.0.3)\n",
            "Requirement already satisfied: setuptools in /usr/local/lib/python2.7/dist-packages (from protobuf>=3.1.0->coremltools==3.3->turicreate) (44.1.1)\n",
            "Requirement already satisfied: futures>=2.2.0 in /usr/local/lib/python2.7/dist-packages (from grpcio>=1.8.6->tensorflow<=2.0.1,>=2.0.0->turicreate) (3.2.0)\n",
            "Collecting google-auth-oauthlib<0.5,>=0.4.1\n",
            "  Downloading https://files.pythonhosted.org/packages/7b/b8/88def36e74bee9fce511c9519571f4e485e890093ab7442284f4ffaef60b/google_auth_oauthlib-0.4.1-py2.py3-none-any.whl\n",
            "Requirement already satisfied: werkzeug>=0.11.15 in /usr/local/lib/python2.7/dist-packages (from tensorboard<2.1.0,>=2.0.0->tensorflow<=2.0.1,>=2.0.0->turicreate) (0.15.5)\n",
            "Requirement already satisfied: google-auth<2,>=1.6.3 in /usr/local/lib/python2.7/dist-packages (from tensorboard<2.1.0,>=2.0.0->tensorflow<=2.0.1,>=2.0.0->turicreate) (1.17.2)\n",
            "Requirement already satisfied: markdown>=2.6.8 in /usr/local/lib/python2.7/dist-packages (from tensorboard<2.1.0,>=2.0.0->tensorflow<=2.0.1,>=2.0.0->turicreate) (3.1.1)\n",
            "Requirement already satisfied: h5py in /usr/local/lib/python2.7/dist-packages (from keras-applications>=1.0.8->tensorflow<=2.0.1,>=2.0.0->turicreate) (2.8.0)\n",
            "Requirement already satisfied: pbr>=0.11 in /usr/local/lib/python2.7/dist-packages (from mock>=2.0.0->tensorflow<=2.0.1,>=2.0.0->turicreate) (5.4.0)\n",
            "Requirement already satisfied: requests-oauthlib>=0.7.0 in /usr/local/lib/python2.7/dist-packages (from google-auth-oauthlib<0.5,>=0.4.1->tensorboard<2.1.0,>=2.0.0->tensorflow<=2.0.1,>=2.0.0->turicreate) (1.2.0)\n",
            "Requirement already satisfied: cachetools<5.0,>=2.0.0 in /usr/local/lib/python2.7/dist-packages (from google-auth<2,>=1.6.3->tensorboard<2.1.0,>=2.0.0->tensorflow<=2.0.1,>=2.0.0->turicreate) (3.1.1)\n",
            "Requirement already satisfied: rsa<4.1; python_version < \"3\" in /usr/local/lib/python2.7/dist-packages (from google-auth<2,>=1.6.3->tensorboard<2.1.0,>=2.0.0->tensorflow<=2.0.1,>=2.0.0->turicreate) (4.0)\n",
            "Requirement already satisfied: pyasn1-modules>=0.2.1 in /usr/local/lib/python2.7/dist-packages (from google-auth<2,>=1.6.3->tensorboard<2.1.0,>=2.0.0->tensorflow<=2.0.1,>=2.0.0->turicreate) (0.2.5)\n",
            "Requirement already satisfied: oauthlib>=3.0.0 in /usr/local/lib/python2.7/dist-packages (from requests-oauthlib>=0.7.0->google-auth-oauthlib<0.5,>=0.4.1->tensorboard<2.1.0,>=2.0.0->tensorflow<=2.0.1,>=2.0.0->turicreate) (3.0.2)\n",
            "Requirement already satisfied: pyasn1>=0.1.3 in /usr/local/lib/python2.7/dist-packages (from rsa<4.1; python_version < \"3\"->google-auth<2,>=1.6.3->tensorboard<2.1.0,>=2.0.0->tensorflow<=2.0.1,>=2.0.0->turicreate) (0.4.5)\n",
            "\u001b[31mERROR: fastai 0.7.0 has requirement torch<0.4, but you'll have torch 1.4.0 which is incompatible.\u001b[0m\n",
            "\u001b[31mERROR: tensorboard 2.0.2 has requirement grpcio>=1.24.3, but you'll have grpcio 1.15.0 which is incompatible.\u001b[0m\n",
            "Installing collected packages: pillow, llvmlite, coremltools, google-auth-oauthlib, tensorboard, tensorflow-estimator, tensorflow, turicreate\n",
            "  Found existing installation: Pillow 4.3.0\n",
            "    Uninstalling Pillow-4.3.0:\n",
            "      Successfully uninstalled Pillow-4.3.0\n",
            "  Found existing installation: llvmlite 0.29.0\n",
            "    Uninstalling llvmlite-0.29.0:\n",
            "      Successfully uninstalled llvmlite-0.29.0\n",
            "  Found existing installation: google-auth-oauthlib 0.4.0\n",
            "    Uninstalling google-auth-oauthlib-0.4.0:\n",
            "      Successfully uninstalled google-auth-oauthlib-0.4.0\n",
            "  Found existing installation: tensorboard 2.1.0\n",
            "    Uninstalling tensorboard-2.1.0:\n",
            "      Successfully uninstalled tensorboard-2.1.0\n",
            "  Found existing installation: tensorflow-estimator 1.15.0\n",
            "    Uninstalling tensorflow-estimator-1.15.0:\n",
            "      Successfully uninstalled tensorflow-estimator-1.15.0\n",
            "  Found existing installation: tensorflow 2.1.0\n",
            "    Uninstalling tensorflow-2.1.0:\n",
            "      Successfully uninstalled tensorflow-2.1.0\n",
            "Successfully installed coremltools-3.3 google-auth-oauthlib-0.4.1 llvmlite-0.31.0 pillow-6.2.2 tensorboard-2.0.2 tensorflow-2.0.0 tensorflow-estimator-2.0.1 turicreate-6.3\n"
          ],
          "name": "stdout"
        },
        {
          "output_type": "display_data",
          "data": {
            "application/vnd.colab-display-data+json": {
              "pip_warning": {
                "packages": [
                  "PIL"
                ]
              }
            }
          },
          "metadata": {
            "tags": []
          }
        }
      ]
    },
    {
      "cell_type": "code",
      "metadata": {
        "id": "aA9XcpJv9sG1",
        "colab_type": "code",
        "colab": {}
      },
      "source": [
        "import turicreate"
      ],
      "execution_count": 6,
      "outputs": []
    },
    {
      "cell_type": "markdown",
      "metadata": {
        "id": "QmGsr3x79sG9",
        "colab_type": "text"
      },
      "source": [
        "# Read product review data"
      ]
    },
    {
      "cell_type": "code",
      "metadata": {
        "id": "OPt9Q_fj9sHA",
        "colab_type": "code",
        "colab": {
          "base_uri": "https://localhost:8080/",
          "height": 233
        },
        "outputId": "c824c376-2c2b-449d-e169-7595ba814031"
      },
      "source": [
        "products = turicreate.SFrame('amazon_baby.csv')"
      ],
      "execution_count": 7,
      "outputs": [
        {
          "output_type": "display_data",
          "data": {
            "text/plain": [
              "Finished parsing file /content/amazon_baby.csv"
            ],
            "text/html": [
              "<pre>Finished parsing file /content/amazon_baby.csv</pre>"
            ]
          },
          "metadata": {
            "tags": []
          }
        },
        {
          "output_type": "display_data",
          "data": {
            "text/plain": [
              "Parsing completed. Parsed 100 lines in 1.59354 secs."
            ],
            "text/html": [
              "<pre>Parsing completed. Parsed 100 lines in 1.59354 secs.</pre>"
            ]
          },
          "metadata": {
            "tags": []
          }
        },
        {
          "output_type": "stream",
          "text": [
            "------------------------------------------------------\n",
            "Inferred types from first 100 line(s) of file as \n",
            "column_type_hints=[str,str,int]\n",
            "If parsing fails due to incorrect types, you can correct\n",
            "the inferred type list above and pass it to read_csv in\n",
            "the column_type_hints argument\n",
            "------------------------------------------------------\n"
          ],
          "name": "stdout"
        },
        {
          "output_type": "display_data",
          "data": {
            "text/plain": [
              "Read 105270 lines. Lines per second: 69401"
            ],
            "text/html": [
              "<pre>Read 105270 lines. Lines per second: 69401</pre>"
            ]
          },
          "metadata": {
            "tags": []
          }
        },
        {
          "output_type": "display_data",
          "data": {
            "text/plain": [
              "Finished parsing file /content/amazon_baby.csv"
            ],
            "text/html": [
              "<pre>Finished parsing file /content/amazon_baby.csv</pre>"
            ]
          },
          "metadata": {
            "tags": []
          }
        },
        {
          "output_type": "display_data",
          "data": {
            "text/plain": [
              "Parsing completed. Parsed 183531 lines in 1.79702 secs."
            ],
            "text/html": [
              "<pre>Parsing completed. Parsed 183531 lines in 1.79702 secs.</pre>"
            ]
          },
          "metadata": {
            "tags": []
          }
        }
      ]
    },
    {
      "cell_type": "markdown",
      "metadata": {
        "id": "95TkQ2uF9sHG",
        "colab_type": "text"
      },
      "source": [
        "# Explore data"
      ]
    },
    {
      "cell_type": "code",
      "metadata": {
        "id": "o0MCz94E9sHI",
        "colab_type": "code",
        "colab": {
          "base_uri": "https://localhost:8080/",
          "height": 457
        },
        "outputId": "4b802c7f-c687-46c3-f583-85189f45639c"
      },
      "source": [
        "products"
      ],
      "execution_count": 8,
      "outputs": [
        {
          "output_type": "execute_result",
          "data": {
            "text/plain": [
              "Columns:\n",
              "\tname\tstr\n",
              "\treview\tstr\n",
              "\trating\tint\n",
              "\n",
              "Rows: 183531\n",
              "\n",
              "Data:\n",
              "+-------------------------------+-------------------------------+--------+\n",
              "|              name             |             review            | rating |\n",
              "+-------------------------------+-------------------------------+--------+\n",
              "|    Planetwise Flannel Wipes   | These flannel wipes are OK... |   3    |\n",
              "|     Planetwise Wipe Pouch     | it came early and was not ... |   5    |\n",
              "| Annas Dream Full Quilt wit... | Very soft and comfortable ... |   5    |\n",
              "| Stop Pacifier Sucking with... | This is a product well wor... |   5    |\n",
              "| Stop Pacifier Sucking with... | All of my kids have cried ... |   5    |\n",
              "| Stop Pacifier Sucking with... | When the Binky Fairy came ... |   5    |\n",
              "| A Tale of Baby's Days with... | Lovely book, it's bound ti... |   4    |\n",
              "| Baby Tracker&reg; - Daily ... | Perfect for new parents. W... |   5    |\n",
              "| Baby Tracker&reg; - Daily ... | A friend of mine pinned th... |   5    |\n",
              "| Baby Tracker&reg; - Daily ... | This has been an easy way ... |   4    |\n",
              "+-------------------------------+-------------------------------+--------+\n",
              "[183531 rows x 3 columns]\n",
              "Note: Only the head of the SFrame is printed.\n",
              "You can use print_rows(num_rows=m, num_columns=n) to print more rows and columns."
            ],
            "text/html": [
              "<div style=\"max-height:1000px;max-width:1500px;overflow:auto;\"><table frame=\"box\" rules=\"cols\">\n",
              "    <tr>\n",
              "        <th style=\"padding-left: 1em; padding-right: 1em; text-align: center\">name</th>\n",
              "        <th style=\"padding-left: 1em; padding-right: 1em; text-align: center\">review</th>\n",
              "        <th style=\"padding-left: 1em; padding-right: 1em; text-align: center\">rating</th>\n",
              "    </tr>\n",
              "    <tr>\n",
              "        <td style=\"padding-left: 1em; padding-right: 1em; text-align: center; vertical-align: top\">Planetwise Flannel Wipes</td>\n",
              "        <td style=\"padding-left: 1em; padding-right: 1em; text-align: center; vertical-align: top\">These flannel wipes are<br>OK, but in my opinion ...</td>\n",
              "        <td style=\"padding-left: 1em; padding-right: 1em; text-align: center; vertical-align: top\">3</td>\n",
              "    </tr>\n",
              "    <tr>\n",
              "        <td style=\"padding-left: 1em; padding-right: 1em; text-align: center; vertical-align: top\">Planetwise Wipe Pouch</td>\n",
              "        <td style=\"padding-left: 1em; padding-right: 1em; text-align: center; vertical-align: top\">it came early and was not<br>disappointed. i love ...</td>\n",
              "        <td style=\"padding-left: 1em; padding-right: 1em; text-align: center; vertical-align: top\">5</td>\n",
              "    </tr>\n",
              "    <tr>\n",
              "        <td style=\"padding-left: 1em; padding-right: 1em; text-align: center; vertical-align: top\">Annas Dream Full Quilt<br>with 2 Shams ...</td>\n",
              "        <td style=\"padding-left: 1em; padding-right: 1em; text-align: center; vertical-align: top\">Very soft and comfortable<br>and warmer than it ...</td>\n",
              "        <td style=\"padding-left: 1em; padding-right: 1em; text-align: center; vertical-align: top\">5</td>\n",
              "    </tr>\n",
              "    <tr>\n",
              "        <td style=\"padding-left: 1em; padding-right: 1em; text-align: center; vertical-align: top\">Stop Pacifier Sucking<br>without tears with ...</td>\n",
              "        <td style=\"padding-left: 1em; padding-right: 1em; text-align: center; vertical-align: top\">This is a product well<br>worth the purchase.  I ...</td>\n",
              "        <td style=\"padding-left: 1em; padding-right: 1em; text-align: center; vertical-align: top\">5</td>\n",
              "    </tr>\n",
              "    <tr>\n",
              "        <td style=\"padding-left: 1em; padding-right: 1em; text-align: center; vertical-align: top\">Stop Pacifier Sucking<br>without tears with ...</td>\n",
              "        <td style=\"padding-left: 1em; padding-right: 1em; text-align: center; vertical-align: top\">All of my kids have cried<br>non-stop when I tried to ...</td>\n",
              "        <td style=\"padding-left: 1em; padding-right: 1em; text-align: center; vertical-align: top\">5</td>\n",
              "    </tr>\n",
              "    <tr>\n",
              "        <td style=\"padding-left: 1em; padding-right: 1em; text-align: center; vertical-align: top\">Stop Pacifier Sucking<br>without tears with ...</td>\n",
              "        <td style=\"padding-left: 1em; padding-right: 1em; text-align: center; vertical-align: top\">When the Binky Fairy came<br>to our house, we didn't ...</td>\n",
              "        <td style=\"padding-left: 1em; padding-right: 1em; text-align: center; vertical-align: top\">5</td>\n",
              "    </tr>\n",
              "    <tr>\n",
              "        <td style=\"padding-left: 1em; padding-right: 1em; text-align: center; vertical-align: top\">A Tale of Baby's Days<br>with Peter Rabbit ...</td>\n",
              "        <td style=\"padding-left: 1em; padding-right: 1em; text-align: center; vertical-align: top\">Lovely book, it's bound<br>tightly so you may no ...</td>\n",
              "        <td style=\"padding-left: 1em; padding-right: 1em; text-align: center; vertical-align: top\">4</td>\n",
              "    </tr>\n",
              "    <tr>\n",
              "        <td style=\"padding-left: 1em; padding-right: 1em; text-align: center; vertical-align: top\">Baby Tracker&amp;reg; - Daily<br>Childcare Journal, ...</td>\n",
              "        <td style=\"padding-left: 1em; padding-right: 1em; text-align: center; vertical-align: top\">Perfect for new parents.<br>We were able to keep ...</td>\n",
              "        <td style=\"padding-left: 1em; padding-right: 1em; text-align: center; vertical-align: top\">5</td>\n",
              "    </tr>\n",
              "    <tr>\n",
              "        <td style=\"padding-left: 1em; padding-right: 1em; text-align: center; vertical-align: top\">Baby Tracker&amp;reg; - Daily<br>Childcare Journal, ...</td>\n",
              "        <td style=\"padding-left: 1em; padding-right: 1em; text-align: center; vertical-align: top\">A friend of mine pinned<br>this product on Pinte ...</td>\n",
              "        <td style=\"padding-left: 1em; padding-right: 1em; text-align: center; vertical-align: top\">5</td>\n",
              "    </tr>\n",
              "    <tr>\n",
              "        <td style=\"padding-left: 1em; padding-right: 1em; text-align: center; vertical-align: top\">Baby Tracker&amp;reg; - Daily<br>Childcare Journal, ...</td>\n",
              "        <td style=\"padding-left: 1em; padding-right: 1em; text-align: center; vertical-align: top\">This has been an easy way<br>for my nanny to record ...</td>\n",
              "        <td style=\"padding-left: 1em; padding-right: 1em; text-align: center; vertical-align: top\">4</td>\n",
              "    </tr>\n",
              "</table>\n",
              "[183531 rows x 3 columns]<br/>Note: Only the head of the SFrame is printed.<br/>You can use print_rows(num_rows=m, num_columns=n) to print more rows and columns.\n",
              "</div>"
            ]
          },
          "metadata": {
            "tags": []
          },
          "execution_count": 8
        }
      ]
    },
    {
      "cell_type": "code",
      "metadata": {
        "id": "fQUalw_K9sHO",
        "colab_type": "code",
        "colab": {
          "base_uri": "https://localhost:8080/",
          "height": 457
        },
        "outputId": "cbd6a518-a3c4-4904-b873-a10d55bc23b5"
      },
      "source": [
        "products.groupby('name',operations={'count':turicreate.aggregate.COUNT()}).sort('count',ascending=False)"
      ],
      "execution_count": 9,
      "outputs": [
        {
          "output_type": "execute_result",
          "data": {
            "text/plain": [
              "Columns:\n",
              "\tname\tstr\n",
              "\tcount\tint\n",
              "\n",
              "Rows: 32418\n",
              "\n",
              "Data:\n",
              "+--------------------------------+-------+\n",
              "|              name              | count |\n",
              "+--------------------------------+-------+\n",
              "| Vulli Sophie the Giraffe T...  |  785  |\n",
              "| Simple Wishes Hands-Free B...  |  562  |\n",
              "| Infant Optics DXR-5 2.4 GH...  |  561  |\n",
              "| Baby Einstein Take Along Tunes |  547  |\n",
              "| Cloud b Twilight Constella...  |  520  |\n",
              "| Fisher-Price Booster Seat,...  |  489  |\n",
              "| Fisher-Price Rainforest Ju...  |  450  |\n",
              "| Graco Nautilus 3-in-1 Car ...  |  419  |\n",
              "| Leachco Snoogle Total Body...  |  388  |\n",
              "| Regalo Easy Step Walk Thru...  |  374  |\n",
              "+--------------------------------+-------+\n",
              "[32418 rows x 2 columns]\n",
              "Note: Only the head of the SFrame is printed.\n",
              "You can use print_rows(num_rows=m, num_columns=n) to print more rows and columns."
            ],
            "text/html": [
              "<div style=\"max-height:1000px;max-width:1500px;overflow:auto;\"><table frame=\"box\" rules=\"cols\">\n",
              "    <tr>\n",
              "        <th style=\"padding-left: 1em; padding-right: 1em; text-align: center\">name</th>\n",
              "        <th style=\"padding-left: 1em; padding-right: 1em; text-align: center\">count</th>\n",
              "    </tr>\n",
              "    <tr>\n",
              "        <td style=\"padding-left: 1em; padding-right: 1em; text-align: center; vertical-align: top\">Vulli Sophie the Giraffe<br>Teether ...</td>\n",
              "        <td style=\"padding-left: 1em; padding-right: 1em; text-align: center; vertical-align: top\">785</td>\n",
              "    </tr>\n",
              "    <tr>\n",
              "        <td style=\"padding-left: 1em; padding-right: 1em; text-align: center; vertical-align: top\">Simple Wishes Hands-Free<br>Breastpump Bra, Pink, ...</td>\n",
              "        <td style=\"padding-left: 1em; padding-right: 1em; text-align: center; vertical-align: top\">562</td>\n",
              "    </tr>\n",
              "    <tr>\n",
              "        <td style=\"padding-left: 1em; padding-right: 1em; text-align: center; vertical-align: top\">Infant Optics DXR-5 2.4<br>GHz Digital Video Baby ...</td>\n",
              "        <td style=\"padding-left: 1em; padding-right: 1em; text-align: center; vertical-align: top\">561</td>\n",
              "    </tr>\n",
              "    <tr>\n",
              "        <td style=\"padding-left: 1em; padding-right: 1em; text-align: center; vertical-align: top\">Baby Einstein Take Along<br>Tunes ...</td>\n",
              "        <td style=\"padding-left: 1em; padding-right: 1em; text-align: center; vertical-align: top\">547</td>\n",
              "    </tr>\n",
              "    <tr>\n",
              "        <td style=\"padding-left: 1em; padding-right: 1em; text-align: center; vertical-align: top\">Cloud b Twilight<br>Constellation Night ...</td>\n",
              "        <td style=\"padding-left: 1em; padding-right: 1em; text-align: center; vertical-align: top\">520</td>\n",
              "    </tr>\n",
              "    <tr>\n",
              "        <td style=\"padding-left: 1em; padding-right: 1em; text-align: center; vertical-align: top\">Fisher-Price Booster<br>Seat, Blue/Green/Gray ...</td>\n",
              "        <td style=\"padding-left: 1em; padding-right: 1em; text-align: center; vertical-align: top\">489</td>\n",
              "    </tr>\n",
              "    <tr>\n",
              "        <td style=\"padding-left: 1em; padding-right: 1em; text-align: center; vertical-align: top\">Fisher-Price Rainforest<br>Jumperoo ...</td>\n",
              "        <td style=\"padding-left: 1em; padding-right: 1em; text-align: center; vertical-align: top\">450</td>\n",
              "    </tr>\n",
              "    <tr>\n",
              "        <td style=\"padding-left: 1em; padding-right: 1em; text-align: center; vertical-align: top\">Graco Nautilus 3-in-1 Car<br>Seat, Matrix ...</td>\n",
              "        <td style=\"padding-left: 1em; padding-right: 1em; text-align: center; vertical-align: top\">419</td>\n",
              "    </tr>\n",
              "    <tr>\n",
              "        <td style=\"padding-left: 1em; padding-right: 1em; text-align: center; vertical-align: top\">Leachco Snoogle Total<br>Body Pillow ...</td>\n",
              "        <td style=\"padding-left: 1em; padding-right: 1em; text-align: center; vertical-align: top\">388</td>\n",
              "    </tr>\n",
              "    <tr>\n",
              "        <td style=\"padding-left: 1em; padding-right: 1em; text-align: center; vertical-align: top\">Regalo Easy Step Walk<br>Thru Gate, White ...</td>\n",
              "        <td style=\"padding-left: 1em; padding-right: 1em; text-align: center; vertical-align: top\">374</td>\n",
              "    </tr>\n",
              "</table>\n",
              "[32418 rows x 2 columns]<br/>Note: Only the head of the SFrame is printed.<br/>You can use print_rows(num_rows=m, num_columns=n) to print more rows and columns.\n",
              "</div>"
            ]
          },
          "metadata": {
            "tags": []
          },
          "execution_count": 9
        }
      ]
    },
    {
      "cell_type": "markdown",
      "metadata": {
        "id": "0954VHmh9sHS",
        "colab_type": "text"
      },
      "source": [
        "# Examine the reivews for the most-reviewed product"
      ]
    },
    {
      "cell_type": "code",
      "metadata": {
        "id": "K744FngW9sHT",
        "colab_type": "code",
        "colab": {}
      },
      "source": [
        "giraffe_reviews = products[products['name']=='Vulli Sophie the Giraffe Teether']"
      ],
      "execution_count": 10,
      "outputs": []
    },
    {
      "cell_type": "code",
      "metadata": {
        "id": "3bbRvQhi9sHZ",
        "colab_type": "code",
        "colab": {
          "base_uri": "https://localhost:8080/",
          "height": 457
        },
        "outputId": "5cb552e3-dd03-40b1-9ea5-c0d112aeeede"
      },
      "source": [
        "giraffe_reviews"
      ],
      "execution_count": 11,
      "outputs": [
        {
          "output_type": "execute_result",
          "data": {
            "text/plain": [
              "Columns:\n",
              "\tname\tstr\n",
              "\treview\tstr\n",
              "\trating\tint\n",
              "\n",
              "Rows: Unknown\n",
              "\n",
              "Data:\n",
              "+-------------------------------+-------------------------------+--------+\n",
              "|              name             |             review            | rating |\n",
              "+-------------------------------+-------------------------------+--------+\n",
              "| Vulli Sophie the Giraffe T... | He likes chewing on all th... |   5    |\n",
              "| Vulli Sophie the Giraffe T... | My son loves this toy and ... |   5    |\n",
              "| Vulli Sophie the Giraffe T... | There really should be a l... |   1    |\n",
              "| Vulli Sophie the Giraffe T... | All the moms in my moms' g... |   5    |\n",
              "| Vulli Sophie the Giraffe T... | I was a little skeptical o... |   5    |\n",
              "| Vulli Sophie the Giraffe T... | I have been reading about ... |   5    |\n",
              "| Vulli Sophie the Giraffe T... | My neice loves her sophie ... |   5    |\n",
              "| Vulli Sophie the Giraffe T... | What a friendly face!  And... |   5    |\n",
              "| Vulli Sophie the Giraffe T... | We got this just for my so... |   5    |\n",
              "| Vulli Sophie the Giraffe T... | My baby seems to like this... |   3    |\n",
              "+-------------------------------+-------------------------------+--------+\n",
              "[? rows x 3 columns]\n",
              "Note: Only the head of the SFrame is printed. This SFrame is lazily evaluated.\n",
              "You can use sf.materialize() to force materialization."
            ],
            "text/html": [
              "<div style=\"max-height:1000px;max-width:1500px;overflow:auto;\"><table frame=\"box\" rules=\"cols\">\n",
              "    <tr>\n",
              "        <th style=\"padding-left: 1em; padding-right: 1em; text-align: center\">name</th>\n",
              "        <th style=\"padding-left: 1em; padding-right: 1em; text-align: center\">review</th>\n",
              "        <th style=\"padding-left: 1em; padding-right: 1em; text-align: center\">rating</th>\n",
              "    </tr>\n",
              "    <tr>\n",
              "        <td style=\"padding-left: 1em; padding-right: 1em; text-align: center; vertical-align: top\">Vulli Sophie the Giraffe<br>Teether ...</td>\n",
              "        <td style=\"padding-left: 1em; padding-right: 1em; text-align: center; vertical-align: top\">He likes chewing on all<br>the parts especially the ...</td>\n",
              "        <td style=\"padding-left: 1em; padding-right: 1em; text-align: center; vertical-align: top\">5</td>\n",
              "    </tr>\n",
              "    <tr>\n",
              "        <td style=\"padding-left: 1em; padding-right: 1em; text-align: center; vertical-align: top\">Vulli Sophie the Giraffe<br>Teether ...</td>\n",
              "        <td style=\"padding-left: 1em; padding-right: 1em; text-align: center; vertical-align: top\">My son loves this toy and<br>fits great in the diaper ...</td>\n",
              "        <td style=\"padding-left: 1em; padding-right: 1em; text-align: center; vertical-align: top\">5</td>\n",
              "    </tr>\n",
              "    <tr>\n",
              "        <td style=\"padding-left: 1em; padding-right: 1em; text-align: center; vertical-align: top\">Vulli Sophie the Giraffe<br>Teether ...</td>\n",
              "        <td style=\"padding-left: 1em; padding-right: 1em; text-align: center; vertical-align: top\">There really should be a<br>large warning on the  ...</td>\n",
              "        <td style=\"padding-left: 1em; padding-right: 1em; text-align: center; vertical-align: top\">1</td>\n",
              "    </tr>\n",
              "    <tr>\n",
              "        <td style=\"padding-left: 1em; padding-right: 1em; text-align: center; vertical-align: top\">Vulli Sophie the Giraffe<br>Teether ...</td>\n",
              "        <td style=\"padding-left: 1em; padding-right: 1em; text-align: center; vertical-align: top\">All the moms in my moms'<br>group got Sophie for ...</td>\n",
              "        <td style=\"padding-left: 1em; padding-right: 1em; text-align: center; vertical-align: top\">5</td>\n",
              "    </tr>\n",
              "    <tr>\n",
              "        <td style=\"padding-left: 1em; padding-right: 1em; text-align: center; vertical-align: top\">Vulli Sophie the Giraffe<br>Teether ...</td>\n",
              "        <td style=\"padding-left: 1em; padding-right: 1em; text-align: center; vertical-align: top\">I was a little skeptical<br>on whether Sophie was ...</td>\n",
              "        <td style=\"padding-left: 1em; padding-right: 1em; text-align: center; vertical-align: top\">5</td>\n",
              "    </tr>\n",
              "    <tr>\n",
              "        <td style=\"padding-left: 1em; padding-right: 1em; text-align: center; vertical-align: top\">Vulli Sophie the Giraffe<br>Teether ...</td>\n",
              "        <td style=\"padding-left: 1em; padding-right: 1em; text-align: center; vertical-align: top\">I have been reading about<br>Sophie and was going  ...</td>\n",
              "        <td style=\"padding-left: 1em; padding-right: 1em; text-align: center; vertical-align: top\">5</td>\n",
              "    </tr>\n",
              "    <tr>\n",
              "        <td style=\"padding-left: 1em; padding-right: 1em; text-align: center; vertical-align: top\">Vulli Sophie the Giraffe<br>Teether ...</td>\n",
              "        <td style=\"padding-left: 1em; padding-right: 1em; text-align: center; vertical-align: top\">My neice loves her sophie<br>and has spent hours ...</td>\n",
              "        <td style=\"padding-left: 1em; padding-right: 1em; text-align: center; vertical-align: top\">5</td>\n",
              "    </tr>\n",
              "    <tr>\n",
              "        <td style=\"padding-left: 1em; padding-right: 1em; text-align: center; vertical-align: top\">Vulli Sophie the Giraffe<br>Teether ...</td>\n",
              "        <td style=\"padding-left: 1em; padding-right: 1em; text-align: center; vertical-align: top\">What a friendly face!<br>And those mesmerizing ...</td>\n",
              "        <td style=\"padding-left: 1em; padding-right: 1em; text-align: center; vertical-align: top\">5</td>\n",
              "    </tr>\n",
              "    <tr>\n",
              "        <td style=\"padding-left: 1em; padding-right: 1em; text-align: center; vertical-align: top\">Vulli Sophie the Giraffe<br>Teether ...</td>\n",
              "        <td style=\"padding-left: 1em; padding-right: 1em; text-align: center; vertical-align: top\">We got this just for my<br>son to chew on instea ...</td>\n",
              "        <td style=\"padding-left: 1em; padding-right: 1em; text-align: center; vertical-align: top\">5</td>\n",
              "    </tr>\n",
              "    <tr>\n",
              "        <td style=\"padding-left: 1em; padding-right: 1em; text-align: center; vertical-align: top\">Vulli Sophie the Giraffe<br>Teether ...</td>\n",
              "        <td style=\"padding-left: 1em; padding-right: 1em; text-align: center; vertical-align: top\">My baby seems to like<br>this toy, but I could ...</td>\n",
              "        <td style=\"padding-left: 1em; padding-right: 1em; text-align: center; vertical-align: top\">3</td>\n",
              "    </tr>\n",
              "</table>\n",
              "[? rows x 3 columns]<br/>Note: Only the head of the SFrame is printed. This SFrame is lazily evaluated.<br/>You can use sf.materialize() to force materialization.\n",
              "</div>"
            ]
          },
          "metadata": {
            "tags": []
          },
          "execution_count": 11
        }
      ]
    },
    {
      "cell_type": "code",
      "metadata": {
        "id": "gCdq31mz9sHd",
        "colab_type": "code",
        "colab": {
          "base_uri": "https://localhost:8080/",
          "height": 36
        },
        "outputId": "dd63aa61-544e-43d0-87ee-6a1b322bf9ff"
      },
      "source": [
        "len(giraffe_reviews)"
      ],
      "execution_count": 12,
      "outputs": [
        {
          "output_type": "execute_result",
          "data": {
            "text/plain": [
              "785"
            ]
          },
          "metadata": {
            "tags": []
          },
          "execution_count": 12
        }
      ]
    },
    {
      "cell_type": "code",
      "metadata": {
        "id": "y9W3r-Wf9sHh",
        "colab_type": "code",
        "colab": {
          "base_uri": "https://localhost:8080/",
          "height": 808
        },
        "outputId": "2f3d863f-ae1e-4c07-fc7a-95a493de655b"
      },
      "source": [
        "giraffe_reviews['rating'].show()"
      ],
      "execution_count": 13,
      "outputs": [
        {
          "output_type": "display_data",
          "data": {
            "text/plain": [
              "Materializing SArray"
            ],
            "text/html": [
              "<pre>Materializing SArray</pre>"
            ]
          },
          "metadata": {
            "tags": []
          }
        },
        {
          "output_type": "display_data",
          "data": {
            "text/plain": [
              "<IPython.core.display.HTML object>"
            ],
            "text/html": [
              "<html>                 <body>                     <iframe style=\"border:0;margin:0\" width=\"920\" height=\"770\" srcdoc='<html lang=\"en\">                         <head>                             <script src=\"https://cdnjs.cloudflare.com/ajax/libs/vega/5.4.0/vega.js\"></script>                             <script src=\"https://cdnjs.cloudflare.com/ajax/libs/vega-embed/4.0.0/vega-embed.js\"></script>                             <script src=\"https://cdnjs.cloudflare.com/ajax/libs/vega-tooltip/0.5.1/vega-tooltip.min.js\"></script>                             <link rel=\"stylesheet\" type=\"text/css\" href=\"https://cdnjs.cloudflare.com/ajax/libs/vega-tooltip/0.5.1/vega-tooltip.min.css\">                             <style>                             .vega-actions > a{                                 color:white;                                 text-decoration: none;                                 font-family: \"Arial\";                                 cursor:pointer;                                 padding:5px;                                 background:#AAAAAA;                                 border-radius:4px;                                 padding-left:10px;                                 padding-right:10px;                                 margin-right:5px;                             }                             .vega-actions{                                 margin-top:20px;                                 text-align:center                             }                            .vega-actions > a{                                 background:#999999;                            }                             </style>                         </head>                         <body>                             <div id=\"vis\">                             </div>                             <script>                                 var vega_json = \"{\\\"signals\\\": [{\\\"name\\\": \\\"bins\\\", \\\"update\\\": \\\"data(\\\\\\\"bins_data\\\\\\\")[0]\\\"}, {\\\"name\\\": \\\"binCount\\\", \\\"update\\\": \\\"(bins.stop - bins.start) / bins.step\\\"}, {\\\"name\\\": \\\"nullGap\\\", \\\"update\\\": \\\"data(\\\\\\\"nulls\\\\\\\").length ? 10 : 0\\\"}, {\\\"name\\\": \\\"barStep\\\", \\\"update\\\": \\\"(width - nullGap) / (1 + binCount)\\\"}], \\\"autosize\\\": {\\\"contains\\\": \\\"padding\\\", \\\"type\\\": \\\"fit\\\", \\\"resize\\\": false}, \\\"axes\\\": [{\\\"grid\\\": true, \\\"scale\\\": \\\"xscale\\\", \\\"tickMinStep\\\": 1, \\\"orient\\\": \\\"bottom\\\", \\\"title\\\": \\\"Values\\\"}, {\\\"scale\\\": \\\"xscale-null\\\", \\\"orient\\\": \\\"bottom\\\"}, {\\\"scale\\\": \\\"yscale\\\", \\\"title\\\": \\\"Count\\\", \\\"tickCount\\\": 5, \\\"grid\\\": true, \\\"offset\\\": {\\\"signal\\\": \\\"nullGap ? 5 : 0\\\"}, \\\"orient\\\": \\\"left\\\"}], \\\"description\\\": \\\"A simple bar chart with embedded data.\\\", \\\"title\\\": \\\"Distribution of Values [integer]\\\", \\\"config\\\": {\\\"style\\\": {\\\"cell\\\": {\\\"stroke\\\": \\\"transparent\\\"}, \\\"rect\\\": {\\\"stroke\\\": \\\"rgba(200, 200, 200, 0.5)\\\"}, \\\"group-title\\\": {\\\"fontWeight\\\": \\\"normal\\\", \\\"font\\\": \\\"HelveticaNeue, Arial\\\", \\\"fontSize\\\": 29, \\\"fill\\\": \\\"rgba(0,0,0,0.65)\\\"}}, \\\"title\\\": {\\\"color\\\": \\\"rgba(0,0,0,0.847)\\\", \\\"fontWeight\\\": \\\"normal\\\", \\\"font\\\": \\\"\\\\\\\"San Francisco\\\\\\\", HelveticaNeue, Arial\\\", \\\"fontSize\\\": 18, \\\"offset\\\": 30}, \\\"axisY\\\": {\\\"minExtent\\\": 30}, \\\"range\\\": {\\\"heatmap\\\": {\\\"scheme\\\": \\\"greenblue\\\"}}, \\\"legend\\\": {\\\"labelFont\\\": \\\"\\\\\\\"San Francisco\\\\\\\", HelveticaNeue, Arial\\\", \\\"labelColor\\\": \\\"rgba(0,0,0,0.847)\\\", \\\"titleFont\\\": \\\"\\\\\\\"San Francisco\\\\\\\", HelveticaNeue, Arial\\\", \\\"cornerRadius\\\": 30, \\\"titleColor\\\": \\\"rgba(0,0,0,0.847)\\\", \\\"gradientLength\\\": 608}, \\\"axis\\\": {\\\"titlePadding\\\": 20, \\\"titleColor\\\": \\\"rgba(0,0,0,0.847)\\\", \\\"titleFont\\\": \\\"\\\\\\\"San Francisco\\\\\\\", HelveticaNeue, Arial\\\", \\\"labelPadding\\\": 10, \\\"labelFont\\\": \\\"\\\\\\\"San Francisco\\\\\\\", HelveticaNeue, Arial\\\", \\\"labelFontSize\\\": 12, \\\"labelColor\\\": \\\"rgba(0,0,0,0.847)\\\", \\\"gridColor\\\": \\\"rgba(204,204,204,1.0)\\\", \\\"titleFontSize\\\": 14, \\\"tickColor\\\": \\\"rgb(136,136,136)\\\", \\\"titleFontWeight\\\": \\\"normal\\\"}}, \\\"scales\\\": [{\\\"domain\\\": {\\\"fields\\\": [{\\\"field\\\": \\\"count\\\", \\\"data\\\": \\\"counts\\\"}, {\\\"field\\\": \\\"count\\\", \\\"data\\\": \\\"nulls\\\"}]}, \\\"name\\\": \\\"yscale\\\", \\\"range\\\": \\\"height\\\", \\\"type\\\": \\\"linear\\\", \\\"round\\\": true, \\\"nice\\\": true}, {\\\"domain\\\": {\\\"signal\\\": \\\"[bins.start, bins.stop]\\\"}, \\\"name\\\": \\\"xscale\\\", \\\"range\\\": [{\\\"signal\\\": \\\"nullGap ? barStep + nullGap : 0\\\"}, {\\\"signal\\\": \\\"width\\\"}], \\\"type\\\": \\\"linear\\\", \\\"round\\\": true, \\\"bins\\\": {\\\"signal\\\": \\\"bins\\\"}}, {\\\"range\\\": [{\\\"signal\\\": \\\"nullGap ? 0 : 1\\\"}, {\\\"signal\\\": \\\"nullGap ? barStep : 0\\\"}], \\\"type\\\": \\\"band\\\", \\\"name\\\": \\\"xscale-null\\\", \\\"domain\\\": [{\\\"signal\\\": \\\"nullGap ? null : &apos;&apos;\\\"}], \\\"round\\\": true}], \\\"style\\\": \\\"cell\\\", \\\"height\\\": 550, \\\"padding\\\": 8, \\\"width\\\": 720, \\\"marks\\\": [{\\\"encode\\\": {\\\"hover\\\": {\\\"fill\\\": {\\\"value\\\": \\\"#7EC2F3\\\"}}, \\\"update\\\": {\\\"x2\\\": {\\\"field\\\": \\\"right\\\", \\\"scale\\\": \\\"xscale\\\"}, \\\"x\\\": {\\\"field\\\": \\\"left\\\", \\\"scale\\\": \\\"xscale\\\", \\\"offset\\\": 1}, \\\"y2\\\": {\\\"scale\\\": \\\"yscale\\\", \\\"value\\\": 0}, \\\"y\\\": {\\\"field\\\": \\\"count\\\", \\\"scale\\\": \\\"yscale\\\"}, \\\"fill\\\": {\\\"value\\\": \\\"#108EE9\\\"}}}, \\\"from\\\": {\\\"data\\\": \\\"counts\\\"}, \\\"type\\\": \\\"rect\\\"}, {\\\"encode\\\": {\\\"hover\\\": {\\\"fill\\\": {\\\"value\\\": \\\"#7EC2F3\\\"}}, \\\"update\\\": {\\\"x2\\\": {\\\"band\\\": 1, \\\"scale\\\": \\\"xscale-null\\\"}, \\\"x\\\": {\\\"scale\\\": \\\"xscale-null\\\", \\\"value\\\": null, \\\"offset\\\": 1}, \\\"y2\\\": {\\\"scale\\\": \\\"yscale\\\", \\\"value\\\": 0}, \\\"y\\\": {\\\"field\\\": \\\"count\\\", \\\"scale\\\": \\\"yscale\\\"}, \\\"fill\\\": {\\\"value\\\": \\\"#108EE9\\\"}}}, \\\"from\\\": {\\\"data\\\": \\\"nulls\\\"}, \\\"type\\\": \\\"rect\\\"}], \\\"$schema\\\": \\\"https://vega.github.io/schema/vega/v4.json\\\", \\\"data\\\": [{\\\"values\\\": [{\\\"count\\\": 0, \\\"right\\\": -5, \\\"left\\\": -6}, {\\\"count\\\": 0, \\\"right\\\": -4, \\\"left\\\": -5}, {\\\"count\\\": 0, \\\"right\\\": -3, \\\"left\\\": -4}, {\\\"count\\\": 0, \\\"right\\\": -2, \\\"left\\\": -3}, {\\\"count\\\": 0, \\\"right\\\": -1, \\\"left\\\": -2}, {\\\"count\\\": 0, \\\"right\\\": 0, \\\"left\\\": -1}, {\\\"count\\\": 0, \\\"right\\\": 1, \\\"left\\\": 0}, {\\\"count\\\": 56, \\\"right\\\": 2, \\\"left\\\": 1}, {\\\"count\\\": 37, \\\"right\\\": 3, \\\"left\\\": 2}, {\\\"count\\\": 62, \\\"right\\\": 4, \\\"left\\\": 3}, {\\\"count\\\": 95, \\\"right\\\": 5, \\\"left\\\": 4}, {\\\"count\\\": 535, \\\"right\\\": 6, \\\"left\\\": 5}, {\\\"count\\\": 0, \\\"right\\\": 7, \\\"left\\\": 6}, {\\\"count\\\": 0, \\\"right\\\": 8, \\\"left\\\": 7}, {\\\"count\\\": 0, \\\"right\\\": 9, \\\"left\\\": 8}, {\\\"count\\\": 0, \\\"right\\\": 10, \\\"left\\\": 9}, {\\\"count\\\": 0, \\\"right\\\": 11, \\\"left\\\": 10}, {\\\"count\\\": 0, \\\"right\\\": 12, \\\"left\\\": 11}, {\\\"count\\\": 0, \\\"right\\\": 13, \\\"left\\\": 12}, {\\\"count\\\": 0, \\\"right\\\": 14, \\\"left\\\": 13}, {\\\"start\\\": -6, \\\"step\\\": 1, \\\"stop\\\": 14}], \\\"name\\\": \\\"source_2\\\"}, {\\\"source\\\": \\\"source_2\\\", \\\"name\\\": \\\"counts\\\", \\\"transform\\\": [{\\\"expr\\\": \\\"datum[\\\\\\\"missing\\\\\\\"] !== true &amp;&amp; datum[\\\\\\\"count\\\\\\\"] != null\\\", \\\"type\\\": \\\"filter\\\"}]}, {\\\"source\\\": \\\"source_2\\\", \\\"name\\\": \\\"nulls\\\", \\\"transform\\\": [{\\\"expr\\\": \\\"datum[\\\\\\\"missing\\\\\\\"] === true &amp;&amp; datum[\\\\\\\"count\\\\\\\"] != null\\\", \\\"type\\\": \\\"filter\\\"}]}, {\\\"source\\\": \\\"source_2\\\", \\\"name\\\": \\\"bins_data\\\", \\\"transform\\\": [{\\\"expr\\\": \\\"datum[\\\\\\\"start\\\\\\\"] != null &amp;&amp; datum[\\\\\\\"stop\\\\\\\"] != null &amp;&amp; datum[\\\\\\\"step\\\\\\\"] != null\\\", \\\"type\\\": \\\"filter\\\"}]}]}\";                                 var vega_json_parsed = JSON.parse(vega_json);                                 var toolTipOpts = {                                     showAllFields: true                                 };                                 if(vega_json_parsed[\"metadata\"] != null){                                     if(vega_json_parsed[\"metadata\"][\"bubbleOpts\"] != null){                                         toolTipOpts = vega_json_parsed[\"metadata\"][\"bubbleOpts\"];                                     };                                 };                                 vegaEmbed(\"#vis\", vega_json_parsed).then(function (result) {                                     vegaTooltip.vega(result.view, toolTipOpts);                                  });                             </script>                         </body>                     </html>' src=\"demo_iframe_srcdoc.htm\">                         <p>Your browser does not support iframes.</p>                     </iframe>                 </body>             </html>"
            ]
          },
          "metadata": {
            "tags": []
          }
        }
      ]
    },
    {
      "cell_type": "markdown",
      "metadata": {
        "id": "1kEpB1QZ9sHm",
        "colab_type": "text"
      },
      "source": [
        "# Building a sentiment classifier"
      ]
    },
    {
      "cell_type": "markdown",
      "metadata": {
        "id": "vRA8JuKe9sHm",
        "colab_type": "text"
      },
      "source": [
        "## Build word count vectors"
      ]
    },
    {
      "cell_type": "code",
      "metadata": {
        "id": "vEpNkiOn9sHn",
        "colab_type": "code",
        "colab": {}
      },
      "source": [
        "products['word_count'] = turicreate.text_analytics.count_words(products['review'])"
      ],
      "execution_count": 14,
      "outputs": []
    },
    {
      "cell_type": "code",
      "metadata": {
        "id": "mMW1j6DeeZnJ",
        "colab_type": "code",
        "colab": {}
      },
      "source": [
        "selected_words = ['awesome', 'great', 'fantastic', 'amazing', 'love', 'horrible', 'bad', 'terrible', 'awful', 'wow', 'hate']"
      ],
      "execution_count": 38,
      "outputs": []
    },
    {
      "cell_type": "code",
      "metadata": {
        "id": "GnpodWMr9sHr",
        "colab_type": "code",
        "colab": {
          "base_uri": "https://localhost:8080/",
          "height": 457
        },
        "outputId": "191a5b8d-e46c-4cb8-e1f7-71135034afb3"
      },
      "source": [
        "products"
      ],
      "execution_count": 15,
      "outputs": [
        {
          "output_type": "execute_result",
          "data": {
            "text/plain": [
              "Columns:\n",
              "\tname\tstr\n",
              "\treview\tstr\n",
              "\trating\tint\n",
              "\tword_count\tdict\n",
              "\n",
              "Rows: 183531\n",
              "\n",
              "Data:\n",
              "+-------------------------------+-------------------------------+--------+\n",
              "|              name             |             review            | rating |\n",
              "+-------------------------------+-------------------------------+--------+\n",
              "|    Planetwise Flannel Wipes   | These flannel wipes are OK... |   3    |\n",
              "|     Planetwise Wipe Pouch     | it came early and was not ... |   5    |\n",
              "| Annas Dream Full Quilt wit... | Very soft and comfortable ... |   5    |\n",
              "| Stop Pacifier Sucking with... | This is a product well wor... |   5    |\n",
              "| Stop Pacifier Sucking with... | All of my kids have cried ... |   5    |\n",
              "| Stop Pacifier Sucking with... | When the Binky Fairy came ... |   5    |\n",
              "| A Tale of Baby's Days with... | Lovely book, it's bound ti... |   4    |\n",
              "| Baby Tracker&reg; - Daily ... | Perfect for new parents. W... |   5    |\n",
              "| Baby Tracker&reg; - Daily ... | A friend of mine pinned th... |   5    |\n",
              "| Baby Tracker&reg; - Daily ... | This has been an easy way ... |   4    |\n",
              "+-------------------------------+-------------------------------+--------+\n",
              "+-------------------------------+\n",
              "|           word_count          |\n",
              "+-------------------------------+\n",
              "| {'and': 5.0, 'stink': 1.0,... |\n",
              "| {'and': 3.0, 'love': 1.0, ... |\n",
              "| {'and': 2.0, 'quilt': 1.0,... |\n",
              "| {'and': 3.0, 'ingenious': ... |\n",
              "| {'and': 2.0, 'this': 2.0, ... |\n",
              "| {'and': 2.0, 'cute': 1.0, ... |\n",
              "| {'shop': 1.0, 'be': 1.0, '... |\n",
              "| {'and': 2.0, 'all': 1.0, '... |\n",
              "| {'and': 1.0, 'fantastic': ... |\n",
              "| {'pre': 1.0, 'all': 1.0, '... |\n",
              "+-------------------------------+\n",
              "[183531 rows x 4 columns]\n",
              "Note: Only the head of the SFrame is printed.\n",
              "You can use print_rows(num_rows=m, num_columns=n) to print more rows and columns."
            ],
            "text/html": [
              "<div style=\"max-height:1000px;max-width:1500px;overflow:auto;\"><table frame=\"box\" rules=\"cols\">\n",
              "    <tr>\n",
              "        <th style=\"padding-left: 1em; padding-right: 1em; text-align: center\">name</th>\n",
              "        <th style=\"padding-left: 1em; padding-right: 1em; text-align: center\">review</th>\n",
              "        <th style=\"padding-left: 1em; padding-right: 1em; text-align: center\">rating</th>\n",
              "        <th style=\"padding-left: 1em; padding-right: 1em; text-align: center\">word_count</th>\n",
              "    </tr>\n",
              "    <tr>\n",
              "        <td style=\"padding-left: 1em; padding-right: 1em; text-align: center; vertical-align: top\">Planetwise Flannel Wipes</td>\n",
              "        <td style=\"padding-left: 1em; padding-right: 1em; text-align: center; vertical-align: top\">These flannel wipes are<br>OK, but in my opinion ...</td>\n",
              "        <td style=\"padding-left: 1em; padding-right: 1em; text-align: center; vertical-align: top\">3</td>\n",
              "        <td style=\"padding-left: 1em; padding-right: 1em; text-align: center; vertical-align: top\">{'and': 5.0, 'stink':<br>1.0, 'months': 1.0, ...</td>\n",
              "    </tr>\n",
              "    <tr>\n",
              "        <td style=\"padding-left: 1em; padding-right: 1em; text-align: center; vertical-align: top\">Planetwise Wipe Pouch</td>\n",
              "        <td style=\"padding-left: 1em; padding-right: 1em; text-align: center; vertical-align: top\">it came early and was not<br>disappointed. i love ...</td>\n",
              "        <td style=\"padding-left: 1em; padding-right: 1em; text-align: center; vertical-align: top\">5</td>\n",
              "        <td style=\"padding-left: 1em; padding-right: 1em; text-align: center; vertical-align: top\">{'and': 3.0, 'love': 1.0,<br>'it': 3.0, 'highly':  ...</td>\n",
              "    </tr>\n",
              "    <tr>\n",
              "        <td style=\"padding-left: 1em; padding-right: 1em; text-align: center; vertical-align: top\">Annas Dream Full Quilt<br>with 2 Shams ...</td>\n",
              "        <td style=\"padding-left: 1em; padding-right: 1em; text-align: center; vertical-align: top\">Very soft and comfortable<br>and warmer than it ...</td>\n",
              "        <td style=\"padding-left: 1em; padding-right: 1em; text-align: center; vertical-align: top\">5</td>\n",
              "        <td style=\"padding-left: 1em; padding-right: 1em; text-align: center; vertical-align: top\">{'and': 2.0, 'quilt':<br>1.0, 'it': 1.0, ...</td>\n",
              "    </tr>\n",
              "    <tr>\n",
              "        <td style=\"padding-left: 1em; padding-right: 1em; text-align: center; vertical-align: top\">Stop Pacifier Sucking<br>without tears with ...</td>\n",
              "        <td style=\"padding-left: 1em; padding-right: 1em; text-align: center; vertical-align: top\">This is a product well<br>worth the purchase.  I ...</td>\n",
              "        <td style=\"padding-left: 1em; padding-right: 1em; text-align: center; vertical-align: top\">5</td>\n",
              "        <td style=\"padding-left: 1em; padding-right: 1em; text-align: center; vertical-align: top\">{'and': 3.0, 'ingenious':<br>1.0, 'love': 2.0, 'is': ...</td>\n",
              "    </tr>\n",
              "    <tr>\n",
              "        <td style=\"padding-left: 1em; padding-right: 1em; text-align: center; vertical-align: top\">Stop Pacifier Sucking<br>without tears with ...</td>\n",
              "        <td style=\"padding-left: 1em; padding-right: 1em; text-align: center; vertical-align: top\">All of my kids have cried<br>non-stop when I tried to ...</td>\n",
              "        <td style=\"padding-left: 1em; padding-right: 1em; text-align: center; vertical-align: top\">5</td>\n",
              "        <td style=\"padding-left: 1em; padding-right: 1em; text-align: center; vertical-align: top\">{'and': 2.0, 'this': 2.0,<br>'all': 2.0, 'love': 1.0, ...</td>\n",
              "    </tr>\n",
              "    <tr>\n",
              "        <td style=\"padding-left: 1em; padding-right: 1em; text-align: center; vertical-align: top\">Stop Pacifier Sucking<br>without tears with ...</td>\n",
              "        <td style=\"padding-left: 1em; padding-right: 1em; text-align: center; vertical-align: top\">When the Binky Fairy came<br>to our house, we didn't ...</td>\n",
              "        <td style=\"padding-left: 1em; padding-right: 1em; text-align: center; vertical-align: top\">5</td>\n",
              "        <td style=\"padding-left: 1em; padding-right: 1em; text-align: center; vertical-align: top\">{'and': 2.0, 'cute': 1.0,<br>'help': 2.0, 'habit': ...</td>\n",
              "    </tr>\n",
              "    <tr>\n",
              "        <td style=\"padding-left: 1em; padding-right: 1em; text-align: center; vertical-align: top\">A Tale of Baby's Days<br>with Peter Rabbit ...</td>\n",
              "        <td style=\"padding-left: 1em; padding-right: 1em; text-align: center; vertical-align: top\">Lovely book, it's bound<br>tightly so you may no ...</td>\n",
              "        <td style=\"padding-left: 1em; padding-right: 1em; text-align: center; vertical-align: top\">4</td>\n",
              "        <td style=\"padding-left: 1em; padding-right: 1em; text-align: center; vertical-align: top\">{'shop': 1.0, 'be': 1.0,<br>'is': 1.0, 'bound': 1.0, ...</td>\n",
              "    </tr>\n",
              "    <tr>\n",
              "        <td style=\"padding-left: 1em; padding-right: 1em; text-align: center; vertical-align: top\">Baby Tracker&amp;reg; - Daily<br>Childcare Journal, ...</td>\n",
              "        <td style=\"padding-left: 1em; padding-right: 1em; text-align: center; vertical-align: top\">Perfect for new parents.<br>We were able to keep ...</td>\n",
              "        <td style=\"padding-left: 1em; padding-right: 1em; text-align: center; vertical-align: top\">5</td>\n",
              "        <td style=\"padding-left: 1em; padding-right: 1em; text-align: center; vertical-align: top\">{'and': 2.0, 'all': 1.0,<br>'right': 1.0, 'able': ...</td>\n",
              "    </tr>\n",
              "    <tr>\n",
              "        <td style=\"padding-left: 1em; padding-right: 1em; text-align: center; vertical-align: top\">Baby Tracker&amp;reg; - Daily<br>Childcare Journal, ...</td>\n",
              "        <td style=\"padding-left: 1em; padding-right: 1em; text-align: center; vertical-align: top\">A friend of mine pinned<br>this product on Pinte ...</td>\n",
              "        <td style=\"padding-left: 1em; padding-right: 1em; text-align: center; vertical-align: top\">5</td>\n",
              "        <td style=\"padding-left: 1em; padding-right: 1em; text-align: center; vertical-align: top\">{'and': 1.0, 'fantastic':<br>1.0, 'help': 1.0, 'gi ...</td>\n",
              "    </tr>\n",
              "    <tr>\n",
              "        <td style=\"padding-left: 1em; padding-right: 1em; text-align: center; vertical-align: top\">Baby Tracker&amp;reg; - Daily<br>Childcare Journal, ...</td>\n",
              "        <td style=\"padding-left: 1em; padding-right: 1em; text-align: center; vertical-align: top\">This has been an easy way<br>for my nanny to record ...</td>\n",
              "        <td style=\"padding-left: 1em; padding-right: 1em; text-align: center; vertical-align: top\">4</td>\n",
              "        <td style=\"padding-left: 1em; padding-right: 1em; text-align: center; vertical-align: top\">{'pre': 1.0, 'all': 1.0,<br>'standarad': 1.0, ...</td>\n",
              "    </tr>\n",
              "</table>\n",
              "[183531 rows x 4 columns]<br/>Note: Only the head of the SFrame is printed.<br/>You can use print_rows(num_rows=m, num_columns=n) to print more rows and columns.\n",
              "</div>"
            ]
          },
          "metadata": {
            "tags": []
          },
          "execution_count": 15
        }
      ]
    },
    {
      "cell_type": "code",
      "metadata": {
        "id": "lxQBjLeCdkUp",
        "colab_type": "code",
        "colab": {
          "base_uri": "https://localhost:8080/",
          "height": 93
        },
        "outputId": "ac5ffdc0-8f3b-4d1b-ba8b-1a65ec9aff29"
      },
      "source": [
        "products['word_count']"
      ],
      "execution_count": 37,
      "outputs": [
        {
          "output_type": "execute_result",
          "data": {
            "text/plain": [
              "dtype: dict\n",
              "Rows: 166752\n",
              "[{'and': 3.0, 'love': 1.0, 'it': 3.0, 'highly': 1.0, 'osocozy': 1.0, 'bags': 1.0, 'leak': 1.0, 'moist': 1.0, 'does': 1.0, 'recommend': 1.0, 'was': 1.0, 'wipes': 1.0, 'disappointed': 1.0, 'early': 1.0, 'not': 2.0, 'now': 1.0, 'holder': 1.0, 'wipe': 1.0, 'keps': 1.0, 'wise': 1.0, 'i': 1.0, 'planet': 1.0, 'my': 2.0, 'came': 1.0}, {'and': 2.0, 'quilt': 1.0, 'it': 1.0, 'comfortable': 1.0, 'warmer': 1.0, 'looks': 1.0, 'size': 1.0, 'looking': 1.0, 'would': 1.0, 'for': 1.0, 'anyone': 1.0, 'to': 1.0, 'recommend': 1.0, 'perfectly': 1.0, 'type': 1.0, 'full': 1.0, 'very': 1.0, 'than': 1.0, 'fit': 1.0, 'this': 1.0, 'of': 1.0, 'bed': 1.0, 'the': 1.0, 'soft': 1.0}, {'and': 3.0, 'ingenious': 1.0, 'love': 2.0, 'is': 4.0, 'back': 1.0, 'losing': 1.0, 'have': 1.0, 'in': 2.0, 'rid': 1.0, 'what': 1.0, 'her': 1.0, 'how': 1.0, 'positive': 1.0, 'to': 1.0, 'much': 1.0, 'it': 1.0, 'has': 1.0, 'approach': 2.0, 'worth': 1.0, 'product': 2.0, 'clever': 1.0, 'tool': 1.0, 'chart': 1.0, 'else': 1.0, 'most': 1.0, 'ownership': 1.0, 'artwork': 1.0, 'not': 1.0, 'binky': 2.0, 'little': 1.0, 'herself': 1.0, 'fairy': 1.0, 'a': 2.0, 'purchase': 1.0, 'about': 1.0, 'daughter': 1.0, 'like': 1.0, 'anything': 1.0, 'getting': 1.0, 'this': 4.0, 'of': 3.0, 'proud': 1.0, 'well': 1.0, 'i': 3.0, 'so': 1.0, 'she': 1.0, 'loves': 1.0, 'found': 1.0, 'the': 7.0, 'my': 1.0}, {'and': 2.0, 'this': 2.0, 'all': 2.0, 'love': 1.0, 'help': 1.0, 'cried': 1.0, 'is': 3.0, 'easy': 1.0, 'non': 1.0, 'soo': 1.0, 'an': 1.0, 'puppet': 1.0, 'thanks': 1.0, 'have': 1.0, 'pacifier': 2.0, 'your': 1.0, 'headaches': 1.0, 'from': 1.0, 'for': 2.0, 'their': 2.0, 'tried': 1.0, 'when': 1.0, 'to': 5.0, 'book': 2.0, 'parents': 1.0, 'way': 1.0, 'you': 2.0, 'save': 1.0, 'until': 1.0, 'them': 4.0, 'buy': 1.0, 'ween': 1.0, 'rock': 1.0, 'stop': 1.0, 'it': 2.0, 'part': 1.0, 'understand': 1.0, 'binky': 1.0, 'with': 1.0, 'must': 1.0, 'a': 2.0, 'going': 1.0, 'great': 1.0, 'kids': 2.0, 'off': 1.0, 'gift': 1.0, 'i': 2.0, 'many': 1.0, 'work': 1.0, 'thumbuddy': 1.0, 'will': 1.0, 'where': 1.0, 's': 1.0, 'expecting': 1.0, 'allow': 1.0, 'of': 1.0, 'found': 1.0, 'fairy': 1.0, 'my': 1.0}, {'and': 2.0, 'cute': 1.0, 'help': 2.0, 'habit': 1.0, 'house': 1.0, 'is': 2.0, 'it': 1.0, 'highly': 1.0, 'have': 1.0, 'pacifier': 2.0, 'our': 2.0, 'your': 1.0, 'special': 1.0, 'happens': 1.0, 'comes': 1.0, 'what': 1.0, 'thumb': 1.0, 'would': 1.0, 'to': 6.0, 'lots': 1.0, 'explain': 1.0, 'doll': 1.0, 'when': 2.0, 'any': 2.0, 'how': 1.0, 'book': 2.0, 'recommend': 1.0, 'adorable': 1.0, 't': 1.0, 'product': 1.0, 'sucking': 1.0, 'parent': 1.0, 'stop': 1.0, 'great': 1.0, 'movies': 1.0, 'break': 1.0, 'we': 2.0, 'important': 1.0, 'child': 1.0, 'telling': 1.0, 'using': 1.0, 'binky': 3.0, 'trying': 1.0, 'with': 1.0, 'the': 6.0, 'a': 2.0, 'loss': 1.0, 'about': 2.0, 'made': 1.0, 'daughter': 1.0, 'her': 1.0, 'gift': 1.0, 'i': 1.0, 'of': 2.0, 'didn': 1.0, 'favorite': 1.0, 'job': 1.0, 'their': 1.0, 'this': 2.0, 'prepare': 1.0, 'does': 1.0, 'item': 1.0, 'fairy': 3.0, 'or': 1.0, 'came': 1.0, 'for': 2.0}, {'shop': 1.0, 'be': 1.0, 'is': 1.0, 'bound': 1.0, 'aside': 1.0, 'as': 1.0, 'spaces': 1.0, 'at': 1.0, 'in': 1.0, 'before': 1.0, 'from': 1.0, 'for': 1.0, 'barnes': 1.0, 'currently': 1.0, 'able': 1.0, '29': 1.0, 'tightly': 1.0, 'to': 1.0, 'add': 1.0, 'book': 2.0, 'listed': 1.0, 'you': 2.0, 'lovely': 1.0, 'noble': 1.0, 'around': 1.0, 'may': 1.0, 'designated': 1.0, 'it': 2.0, 'photos': 1.0, 'not': 1.0, '95': 1.0, 'purchase': 1.0, 'of': 1.0, 's': 1.0, 'so': 1.0, 'alot': 1.0, 'cards': 1.0, 'the': 2.0}, {'and': 2.0, 'all': 1.0, 'right': 1.0, 'able': 1.0, 'it': 1.0, 'baby': 1.0, 'because': 1.0, 'sleep': 1.0, 'questions': 1.0, 'perfect': 1.0, 'feeding': 1.0, 'her': 1.0, 'doctor': 1.0, 'there': 1.0, 'when': 1.0, 'two': 1.0, 'for': 2.0, 'to': 1.0, 'parents': 1.0, 'new': 1.0, 'easier': 1.0, 'life': 2.0, 'schedule': 1.0, 'track': 1.0, 'diaper': 1.0, 'half': 1.0, 'ask': 1.0, 'change': 1.0, 'had': 1.0, 'a': 1.0, 'about': 1.0, 'made': 1.0, 'would': 1.0, 'we': 2.0, 'of': 2.0, 'months': 1.0, 'keep': 1.0, 's': 1.0, 'habits': 1.0, 'were': 1.0, 'the': 2.0, 'first': 1.0}, {'and': 1.0, 'fantastic': 1.0, 'help': 1.0, 'give': 1.0, 'is': 1.0, 'mine': 1.0, 'decided': 1.0, 'are': 1.0, 'feedings': 1.0, 'if': 1.0, 'whirl': 1.0, 'pinterest': 1.0, 'pinned': 1.0, 'to': 1.0, 'new': 1.0, 'you': 2.0, 'friend': 1.0, 'product': 1.0, 'parent': 1.0, 'track': 1.0, 'it': 2.0, 'diaper': 1.0, 'a': 3.0, 'on': 1.0, 'like': 1.0, 'i': 1.0, 'of': 2.0, 'keep': 1.0, 'will': 1.0, 'this': 2.0, 'so': 1.0, 'the': 1.0, 'changes': 1.0}, {'pre': 1.0, 'all': 1.0, 'standarad': 1.0, 'another': 1.0, 'informed': 1.0, 'is': 2.0, 'some': 1.0, 'it': 1.0, 'one': 1.0, 'not': 2.0, 'because': 1.0, 'at': 1.0, 'have': 1.0, 'in': 1.0, 'home': 2.0, 'happen': 1.0, 'your': 1.0, 'out': 1.0, 'what': 1.0, 'for': 1.0, 'record': 1.0, 'ordering': 1.0, 'there': 1.0, 'when': 2.0, 'been': 2.0, 'to': 4.0, 'only': 1.0, '5': 1.0, 'easy': 1.0, 'recommend': 1.0, 'you': 1.0, 'has': 1.0, 'events': 1.0, 't': 1.0, 'wants': 1.0, 'we': 1.0, 'someone': 1.0, 'run': 1.0, 'way': 1.0, 'that': 1.0, 'journal': 1.0, 'who': 1.0, 'stay': 1.0, 'reason': 1.0, 'nanny': 1.0, 'key': 1.0, 'baby': 2.0, 're': 1.0, 'highly': 1.0, 'with': 1.0, 'pages': 1.0, 'a': 1.0, 'on': 1.0, 'would': 1.0, 'this': 3.0, 'plan': 1.0, 'could': 1.0, 'm': 1.0, 'up': 1.0, 'think': 1.0, 'i': 3.0, 'while': 1.0, 'isn': 1.0, 'of': 2.0, 'an': 1.0, 'the': 2.0, 'more': 1.0, 'my': 2.0, 'options': 1.0, 'printed': 1.0}, {'all': 2.0, 'forget': 1.0, 'just': 1.0, 'food': 1.0, 'sleep': 2.0, 'its': 1.0, 'weekly': 1.0, 'now': 1.0, 'layout': 1.0, 'had': 1.0, 'hot': 1.0, 'rash': 1.0, 'to': 11.0, 'add': 1.0, 'easy': 1.0, 'has': 2.0, 'real': 1.0, 'activities': 1.0, 'complaint': 1.0, 'very': 1.0, 'overall': 1.0, 'lunch': 1.0, 'walk': 1.0, 'day': 1.0, 'instructions': 1.0, 'notes': 2.0, 'didn': 1.0, 'morning': 1.0, 'leave': 1.0, 'she': 3.0, 'night': 1.0, 'often': 1.0, 'back': 1.0, 'design': 1.0, 'our': 2.0, 'out': 1.0, 'what': 1.0, 'for': 2.0, 'space': 1.0, 'sun': 1.0, 'please': 1.0, 'comments': 2.0, 'milk': 1.0, 'tracker': 1.0, 'reply': 1.0, 'previous': 1.0, 'screen': 1.0, 't': 1.0, 'knowing': 1.0, 'we': 1.0, 'eating': 1.0, 'schedule': 1.0, 'journal': 1.0, 'communicate': 1.0, 'nanny': 4.0, 'ask': 1.0, 'post': 1.0, 'on': 3.0, 'about': 1.0, 'daughter': 1.0, 'column': 1.0, 'of': 4.0, 'etc': 2.0, 'amount': 1.0, 'changes': 1.0, 'or': 3.0, 'love': 2.0, 'highly': 1.0, 'specifics': 1.0, 'use': 2.0, 'her': 2.0, 'there': 1.0, 'only': 1.0, 'quickly': 1.0, 'recommend': 1.0, 'tell': 1.0, 'today': 1.0, 'naturally': 1.0, 'that': 2.0, 'park': 1.0, 'took': 1.0, 'stick': 1.0, 'baby': 6.0, 'with': 1.0, 'specify': 1.0, 'rush': 1.0, 'this': 2.0, 'tummy': 1.0, 'my': 3.0, 'and': 6.0, 'is': 2.0, 'moved': 1.0, 'it': 4.0, 'as': 2.0, 'want': 1.0, 'in': 5.0, 'everyday': 1.0, 'fill': 1.0, 'no': 1.0, 'make': 1.0, 's': 5.0, 'also': 1.0, 'nap': 1.0, 'other': 2.0, 'details': 2.0, 'gets': 1.0, 'play': 1.0, 'track': 2.0, 'uses': 1.0, 'a': 1.0, 'e': 3.0, 'older': 1.0, 'i': 10.0, 'sometimes': 1.0, 'well': 1.0, 'patterns': 1.0, 'time': 3.0, 'the': 9.0}, {'and': 1.0, 'plus': 1.0, 'is': 1.0, 'feedings': 1.0, 'back': 1.0, 'sleep': 1.0, 'in': 1.0, 'perfect': 1.0, 'would': 1.0, 'doctor': 1.0, 'to': 1.0, 'enough': 1.0, 'book': 2.0, 'easy': 1.0, 'recommend': 1.0, 'new': 2.0, 'that': 1.0, 'moms': 1.0, 'visits': 1.0, 'it': 2.0, 'track': 1.0, 'diaper': 2.0, 'mom': 1.0, 'throw': 1.0, 'a': 1.0, 'made': 1.0, 'for': 2.0, 'i': 2.0, 'of': 1.0, 'm': 1.0, 'keep': 1.0, 'this': 3.0, 's': 1.0, 'definitely': 1.0, 'so': 1.0, 'time': 1.0, 'small': 1.0, 'the': 1.0, 'changes': 1.0, 'first': 1.0}, {'all': 1.0, 'just': 1.0, 'front': 1.0, 'paper': 1.0, '6pm': 2.0, 'useful': 1.0, 'caregiver': 1.0, 'before': 1.0, 'perfect': 2.0, 'fit': 1.0, 'also': 3.0, 'pouch': 1.0, 'him': 1.0, 'better': 1.0, 'to': 9.0, 'only': 1.0, 'pretty': 2.0, 'has': 1.0, 'gave': 1.0, 'real': 1.0, 'me': 2.0, 'complaint': 1.0, '7': 2.0, 'emergency': 1.0, 'get': 1.0, 'very': 1.0, 'big': 1.0, 'they': 1.0, 'not': 1.0, 'now': 1.0, 'complain': 1.0, 'entire': 1.0, 'helpful': 1.0, 'solution': 1.0, 'try': 1.0, 't': 1.0, 'each': 1.0, 'small': 1.0, 'works': 1.0, 'page': 1.0, 'because': 1.0, 'deal': 1.0, 'wohld': 1.0, 'some': 2.0, 'home': 1.0, 'out': 1.0, 'provided': 1.0, 'for': 7.0, 'space': 2.0, 'section': 1.0, 'behind': 1.0, 'goes': 1.0, 'she': 4.0, 'ends': 1.0, 'inaccurate': 1.0, 'use': 2.0, 'reported': 1.0, 'nanny': 3.0, 'from': 2.0, 'wanted': 3.0, 'on': 1.0, 'about': 1.0, 'her': 1.0, 'getting': 2.0, 'of': 6.0, 'could': 1.0, 's': 1.0, 'isn': 1.0, 'changes': 1.0, 'control': 1.0, 'shorthand': 1.0, 'app': 1.0, 'one': 1.0, 'down': 1.0, 'feedings': 1.0, 'little': 2.0, 'naps': 1.0, 'additional': 1.0, 'would': 2.0, 'transfer': 1.0, 'there': 1.0, 'two': 1.0, 'much': 1.0, 'too': 1.0, 'way': 1.0, '6': 2.0, 'was': 2.0, 'park': 1.0, 'but': 2.0, 'phone': 2.0, 'diaper': 1.0, 'baby': 1.0, 'with': 2.0, 'info': 3.0, 'this': 5.0, 'leave': 1.0, 'originally': 1.0, 'up': 1.0, 'reviews': 1.0, 'suppose': 1.0, 'starts': 1.0, 'situation': 1.0, 'problem': 1.0, 'my': 4.0, 'example': 1.0, 'at': 2.0, 'and': 5.0, 'is': 3.0, 'it': 3.0, 'an': 2.0, 'something': 1.0, 'have': 1.0, 'in': 1.0, 'if': 1.0, 'information': 4.0, 'documents': 1.0, 'end': 1.0, 'provide': 1.0, 'format': 1.0, 'when': 2.0, 'write': 1.0, 'how': 2.0, 'other': 1.0, 'pad': 2.0, 'take': 2.0, 'you': 2.0, 'fill': 1.0, 'day': 2.0, 'difficult': 1.0, 'track': 1.0, 'notebook': 1.0, 'pages': 1.0, 'a': 8.0, '7am': 2.0, 'tracking': 1.0, 'remember': 1.0, 'daycare': 1.0, 'i': 9.0, 'm': 2.0, 'contact': 1.0, 'time': 1.0, 'the': 15.0, 'incomplete': 1.0}, {'info': 1.0, 'and': 1.0, 'what': 1.0, 'useful': 1.0, 'for': 1.0, 'space': 1.0, 'i': 1.0, 'come': 1.0, 'is': 1.0, 'exactly': 1.0, 'with': 1.0, 'it': 2.0, 'photos': 1.0, 'a': 1.0, 'lot': 1.0, 'of': 1.0, 'wanted': 1.0, 'stickers': 1.0, 'monthly': 1.0}, {'and': 3.0, 'useful': 1.0, 'calender': 2.0, 'just': 1.0, 'be': 1.0, 'well': 1.0, 'is': 3.0, 'some': 1.0, 'it': 3.0, 'whatever': 1.0, 'height': 1.0, 'date': 1.0, 'as': 4.0, 'likes': 1.0, 'have': 2.0, 'writing': 1.0, 'fine': 1.0, 'event': 1.0, 'special': 1.0, 'before': 1.0, 'one': 1.0, 'what': 1.0, 'weight': 1.0, 'would': 1.0, 'also': 1.0, 'not': 1.0, 'stickers': 1.0, 'there': 1.0, 'for': 5.0, 'write': 1.0, 'to': 3.0, 'only': 1.0, 'does': 1.0, 'asterisks': 1.0, 'photo': 1.0, 'has': 1.0, 'sticker': 1.0, 'friend': 1.0, 'happened': 1.0, 'do': 1.0, 'complaint': 1.0, 'placed': 1.0, 'colorful': 1.0, 'that': 2.0, 'very': 2.0, 'but': 1.0, 'boxes': 1.0, 'baby': 1.0, 'son': 1.0, 'day': 1.0, 'room': 3.0, 'a': 3.0, 'on': 2.0, 'myself': 1.0, 'like': 1.0, 'i': 4.0, 'many': 1.0, 'put': 1.0, 'second': 1.0, 'this': 1.0, 'she': 1.0, 'each': 2.0, 'found': 1.0, 'the': 1.0, 'bought': 2.0, 'my': 2.0, 'page': 2.0}, {'and': 1.0, 'all': 1.0, 'love': 1.0, 'like': 1.0, 'baby': 1.0, 'i': 2.0, 'of': 2.0, 'little': 1.0, 'keep': 1.0, 'this': 1.0, 's': 1.0, 'track': 1.0, 'too': 1.0, 'calender': 1.0, 'illustrations': 1.0, 'you': 1.0, 'firsts': 1.0, 'stickers': 1.0, 'the': 2.0, 'can': 1.0}, {'and': 1.0, 'this': 2.0, 'note': 1.0, 'one': 3.0, 'second': 1.0, 'are': 1.0, 'calender': 1.0, 'year': 2.0, 'still': 1.0, 'find': 1.0, 'better': 1.0, 'for': 2.0, 'things': 1.0, 'there': 1.0, 'him': 1.0, '1': 1.0, 'to': 2.0, 'only': 1.0, 'got': 1.0, 'cause': 1.0, 'was': 2.0, 'after': 1.0, 'they': 1.0, 'wanted': 1.0, 'than': 1.0, 'i': 3.0, 'many': 1.0, 'could': 1.0, 'turn': 1.0, 'continue': 1.0, 'so': 1.0, 'did': 1.0, 'the': 4.0, 'first': 2.0}, {'and': 5.0, 'all': 3.0, 'have': 1.0, 'moments': 2.0, 'in': 1.0, 'it': 2.0, 'son': 1.0, 'second': 1.0, 'something': 1.0, 'want': 1.0, 'year': 2.0, 'calendar': 2.0, 'still': 1.0, 'stickers': 1.0, 'enjoyed': 1.0, 'special': 2.0, 'really': 2.0, 'layout': 1.0, 'for': 1.0, 'to': 2.0, 'things': 1.0, 'since': 1.0, 'while': 1.0, 'least': 1.0, 'doing': 1.0, 'amazing': 1.0, 'much': 1.0, 'you': 1.0, 'might': 1.0, 'completed': 1.0, 'his': 1.0, 'that': 1.0, 'questions': 1.0, 'milestones': 1.0, 'every': 1.0, 'milestone': 1.0, 'not': 1.0, 'wanted': 1.0, 'day': 1.0, 'those': 1.0, 'he': 1.0, 'a': 1.0, 'tracking': 1.0, 'like': 1.0, 'i': 3.0, 'of': 2.0, 'simple': 1.0, 'keep': 1.0, 'recording': 1.0, 's': 3.0, 'continue': 1.0, 'so': 2.0, 'fun': 1.0, 'the': 4.0, 'first': 1.0, 'my': 1.0, 'at': 1.0}, {'and': 2.0, 'cute': 1.0, 'is': 1.0, 'something': 1.0, 'our': 1.0, 'keep': 1.0, 'out': 1.0, 'what': 1.0, 'aren': 1.0, 'there': 2.0, 'to': 2.0, 'does': 1.0, 'we': 2.0, 'option': 1.0, 'get': 1.0, 'track': 1.0, 'exactly': 1.0, 'child': 1.0, 'wanted': 2.0, 'a': 1.0, 'milestones': 1.0, 'this': 2.0, 'of': 1.0, 'choices': 1.0, 's': 1.0, 't': 1.0, 'many': 1.0, 'other': 1.0}, {'and': 4.0, 'all': 1.0, 'reference': 1.0, 'do': 2.0, 'is': 3.0, 'hard': 1.0, 'some': 1.0, 'it': 2.0, 'month': 1.0, 'down': 1.0, 'put': 1.0, 'as': 2.0, 'vs': 1.0, 'have': 1.0, 'year': 1.0, 'years': 1.0, 'calendar': 2.0, 'find': 1.0, 'out': 1.0, 'has': 1.0, 'little': 1.0, 'to': 5.0, 'memories': 1.0, 'had': 1.0, 's': 1.0, 'write': 1.0, 'everything': 1.0, 'enough': 1.0, 'book': 2.0, 'way': 1.0, 'finding': 1.0, 'you': 1.0, 'fill': 1.0, 'across': 1.0, 'picture': 1.0, 'only': 1.0, 'jot': 1.0, 'squares': 1.0, 'that': 1.0, 'track': 1.0, 'big': 1.0, 'spot': 1.0, 'much': 1.0, 'ones': 1.0, 'two': 1.0, 'they': 1.0, 'baby': 2.0, 'one': 1.0, 'change': 1.0, 'a': 6.0, 'on': 1.0, 'great': 2.0, 'milestones': 1.0, 'in': 2.0, 'like': 1.0, 'this': 3.0, 'of': 1.0, 'later': 1.0, 'well': 1.0, 'second': 1.0, 'keep': 1.0, 'large': 1.0, 'i': 5.0, 'easier': 1.0, 'so': 3.0, 'can': 2.0, 'time': 1.0, 'the': 5.0, 'came': 1.0, 'first': 1.0}, {'and': 1.0, 'cute': 1.0, 'because': 2.0, 'old': 1.0, 'purchased': 1.0, 'just': 1.0, 'certain': 1.0, 'is': 1.0, 'lack': 1.0, 'some': 1.0, 'it': 3.0, 'one': 3.0, 'second': 2.0, 'general': 1.0, 'are': 1.0, 'fashioned': 1.0, 'in': 1.0, 'calendar': 2.0, 'stickers': 1.0, 'really': 1.0, 'write': 1.0, 'purchasers': 1.0, 'pens': 1.0, 'for': 4.0, 'aren': 1.0, 'come': 1.0, 'had': 1.0, 'looking': 1.0, 'to': 1.0, 'only': 2.0, 'other': 1.0, 'pretty': 1.0, 'hopefully': 1.0, 'selection': 1.0, 'got': 1.0, 'out': 1.0, 'was': 2.0, 'an': 1.0, 'glossy': 1.0, 'available': 1.0, 'hard': 1.0, 'okay': 1.0, 'which': 1.0, 'year': 2.0, 'with': 3.0, 'calendars': 2.0, 'finish': 1.0, 'ones': 1.0, 'makes': 1.0, 'they': 1.0, 'son': 1.0, 'disappointed': 1.0, 'pages': 2.0, 'a': 1.0, 'on': 2.0, 'daughter': 1.0, 'i': 4.0, 'of': 2.0, 'will': 1.0, 'this': 1.0, 's': 1.0, 'future': 1.0, 'so': 1.0, 't': 1.0, 'very': 1.0, 'the': 6.0, 'my': 2.0}, {'and': 4.0, 'cute': 1.0, 'own': 1.0, 'love': 1.0, 'have': 1.0, 'just': 1.0, 'is': 2.0, 'year': 4.0, 'it': 1.0, 'highly': 1.0, 'helped': 1.0, 'not': 1.0, 'second': 2.0, 'are': 2.0, 'want': 1.0, '1st': 1.0, 'on': 2.0, 'calendar': 3.0, 'stickers': 1.0, 'out': 1.0, 'perfect': 1.0, 'recording': 1.0, 'now': 1.0, 'reocording': 1.0, 'for': 3.0, 'with': 1.0, 'continuing': 1.0, 'there': 2.0, 'to': 2.0, 'that': 2.0, 'wonderful': 1.0, 'lullabies': 1.0, 'recommend': 1.0, 'might': 1.0, 'events': 2.0, 't': 1.0, 'son': 1.0, 'his': 1.0, 'this': 2.0, 'nature': 1.0, 'stop': 1.0, 'calendars': 1.0, 'plenty': 1.0, 'baby': 1.0, 'one': 1.0, 'super': 1.0, 'he': 1.0, 'me': 1.0, 'loved': 1.0, 'keeping': 1.0, 'milestones': 1.0, 'brat': 1.0, 'i': 4.0, 'of': 6.0, 'didn': 1.0, 'life': 1.0, 'daily': 1.0, 'thought': 1.0, 'record': 2.0, 's': 3.0, 'plus': 1.0, 'either': 1.0, 'gender': 1.0, 'the': 1.0, 'my': 2.0, 'think': 1.0, 'first': 1.0}, {'and': 2.0, 'dont': 1.0, 'just': 1.0, 'sticker': 1.0, 'option': 1.0, 'it': 1.0, 'down': 1.0, 'as': 1.0, 'spaces': 1.0, 'calender': 1.0, 'actually': 1.0, 'firsts': 1.0, 'stickers': 1.0, 'out': 1.0, 'use': 1.0, 'for': 3.0, 'sit': 1.0, 'scrap': 1.0, 'mark': 1.0, 'to': 3.0, 'enough': 1.0, 'ton': 1.0, 'supplies': 1.0, 'scrapbook': 1.0, 'borders': 1.0, 'is': 1.0, 'booking': 1.0, 'easy': 1.0, 'very': 1.0, 'who': 1.0, 'new': 1.0, 'includes': 1.0, 'photos': 2.0, 'haul': 1.0, 'lot': 1.0, 'milestone': 1.0, 'with': 1.0, 'a': 3.0, 'moms': 1.0, 'especially': 1.0, 'wife': 1.0, 'this': 1.0, 'of': 2.0, 'well': 1.0, 'etc': 1.0, 'have': 1.0, 'loves': 1.0, 'time': 1.0, 'the': 1.0, 'options': 1.0, 'comes': 1.0}, {'and': 2.0, 'work': 1.0, 'old': 1.0, 'sweet': 1.0, 'over': 1.0, '1st': 1.0, 'it': 1.0, 'one': 1.0, 'second': 1.0, 'thanks': 1.0, 'year': 4.0, 'tender': 1.0, 'art': 1.0, 'calendar': 2.0, 'stickers': 1.0, 'fill': 2.0, 'unique': 1.0, 'i': 1.0, 'her': 3.0, 'record': 1.0, 'get': 1.0, 'had': 1.0, 'looking': 1.0, 'to': 4.0, 'wonderful': 1.0, 'able': 1.0, 'was': 3.0, 'nice': 1.0, 'a': 6.0, 'his': 2.0, 'keepsake': 1.0, 'nearing': 1.0, 'amazon': 1.0, 'birthday': 1.0, 'baby': 1.0, 'son': 1.0, 'pages': 1.0, 'helpful': 1.0, 'ago': 1.0, 'milestones': 1.0, 'daughter': 1.0, 'for': 3.0, 'gift': 1.0, 'this': 1.0, 'when': 1.0, 'up': 1.0, 'did': 1.0, 'she': 3.0, 'loves': 1.0, 'my': 1.0, 'receive': 1.0, 'first': 2.0}, {'remembering': 1.0, 'and': 1.0, 'useful': 1.0, 'tired': 1.0, 'helped': 1.0, 'baby': 1.0, 'as': 1.0, 'through': 1.0, 'two': 1.0, 'long': 1.0, 'how': 1.0, 'new': 1.0, 'a': 1.0, 'me': 1.0, 'mom': 1.0, 'not': 1.0, 'extremely': 1.0, 'ago': 1.0, 'ate': 1.0, 'inexpedient': 1.0, 'this': 1.0, 'months': 1.0, 'definitely': 1.0, 'the': 1.0, 'first': 1.0}, {'and': 2.0, 'because': 1.0, 'family': 1.0, 'people': 1.0, 'is': 1.0, 'some': 1.0, 'it': 1.0, 'one': 1.0, 'baby': 1.0, 'see': 1.0, 'books': 1.0, 'in': 1.0, 'star': 1.0, 'your': 1.0, 'perfect': 1.0, 'washable': 1.0, 'just': 1.0, 'less': 1.0, '1': 1.0, 'to': 1.0, 'white': 1.0, 'gave': 1.0, 'diversity': 1.0, 'not': 1.0, 'than': 1.0, 'd': 1.0, 'like': 1.0, 'i': 2.0, 'of': 1.0, 'favorite': 1.0, 's': 1.0, 'the': 1.0, 'first': 1.0, 'typical': 1.0}, {'family': 1.0, 'over': 1.0, 'it': 2.0, 'seat': 1.0, 'hook': 1.0, 'go': 1.0, 'your': 1.0, 'attach': 1.0, 'to': 3.0, 'book': 1.0, 'way': 1.0, 'has': 1.0, 'wont': 1.0, 'get': 1.0, 'how': 1.0, 'members': 1.0, 'a': 1.0, 'great': 1.0, 'like': 1.0, 'lost': 1.0, 'i': 1.0, 'car': 1.0, 'stroller': 1.0, 'the': 1.0, 'or': 1.0}, {'beautiful': 1.0, 'saying': 1.0, 'love': 1.0, 'it': 2.0, 'are': 1.0, 'little': 2.0, 'interacting': 1.0, 'when': 1.0, 'actually': 1.0, 'to': 1.0, 'book': 1.0, 'you': 2.0, 'then': 1.0, 'attention': 1.0, 'story': 1.0, 'and': 2.0, 'finished': 1.0, 'baby': 2.0, 'hold': 1.0, 'with': 1.0, 'pages': 1.0, 'a': 1.0, 'on': 1.0, 'great': 1.0, 'short': 1.0, 'i': 1.0, 'of': 1.0, 'turn': 1.0, 'can': 1.0, 'keeps': 1.0, 'the': 4.0}, {'and': 1.0, 'cute': 1.0, 'says': 1.0, 'money': 1.0, 'is': 1.0, 'it': 3.0, 'born': 1.0, 'are': 1.0, 'open': 1.0, 'before': 1.0, 'use': 1.0, 'for': 1.0, 'there': 1.0, 't': 1.0, 'to': 4.0, 'book': 1.0, '9': 1.0, 'worth': 1.0, 'flaps': 1.0, 'be': 1.0, 'very': 1.0, 'but': 1.0, 'every': 1.0, 'baby': 1.0, 'wait': 1.0, 'box': 1.0, 'on': 2.0, 'this': 1.0, 'months': 1.0, 'try': 1.0, 'i': 1.0, 's': 1.0, 'so': 2.0, 'can': 1.0, 'the': 2.0, 'my': 1.0, 'page': 1.0, 'interactive': 1.0}, {'and': 3.0, 'chew': 1.0, 'all': 1.0, 'love': 1.0, 'just': 1.0, 'simple': 1.0, 'house': 1.0, 'mommy': 1.0, 'it': 8.0, 'rip': 1.0, 'one': 2.0, 'carry': 1.0, 'paper': 1.0, 'learning': 1.0, 'year': 1.0, 'chunks': 1.0, 'old': 1.0, 'open': 1.0, 'out': 1.0, 'little': 1.0, 'for': 1.0, 'bite': 1.0, 't': 1.0, 'book': 2.0, 'board': 1.0, 'got': 1.0, 'puppy': 1.0, 'over': 1.0, 'can': 3.0, 'we': 2.0, 'that': 2.0, 'our': 1.0, 'words': 1.0, 'is': 1.0, 'pull': 1.0, 'a': 2.0, 'on': 2.0, 'daddy': 1.0, 'like': 3.0, 'this': 1.0, 'of': 1.0, 'flaps': 1.0, 'etc': 1.0, 's': 1.0, 'so': 1.0, 'she': 5.0, 'loves': 2.0, 'the': 2.0, 'nice': 1.0, 'or': 1.0}, {'and': 3.0, 'is': 2.0, '6months': 1.0, 'in': 1.0, 'perfect': 1.0, 'for': 1.0, 'detergent': 1.0, 'only': 1.0, 'book': 2.0, 'was': 1.0, 'then': 1.0, 'colorful': 1.0, 'material': 1.0, 'let': 1.0, 'dunked': 1.0, 'strong': 1.0, 'pages': 1.0, 'dry': 1.0, 'like': 1.0, 'older': 1.0, 'i': 2.0, 'smell': 1.0, 'didn': 1.0, 'overnight': 1.0, 'thing': 1.0, 't': 1.0, 'of': 1.0, 'dyes': 1.0, 'the': 6.0, 'or': 1.0}, {'old': 1.0, 'babies': 1.0, 'is': 1.0, 'month': 1.0, 'books': 2.0, 'another': 1.0, 'your': 1.0, 'perfect': 1.0, 'what': 1.0, 'adds': 1.0, 'for': 3.0, 'been': 1.0, 'plastic': 1.0, 'looking': 1.0, 'to': 1.0, 'book': 4.0, 'which': 1.0, 'drool': 1.0, 'options': 1.0, 'be': 1.0, 'flap': 1.0, 'on': 1.0, 'damaged': 1.0, 'cloth': 2.0, 'part': 1.0, 'moving': 1.0, 'baby': 1.0, 'by': 1.0, 'd': 1.0, 'a': 2.0, '10': 1.0, 'great': 1.0, 'couldn': 1.0, 'level': 1.0, 'i': 1.0, 'or': 2.0, 'this': 2.0, 's': 1.0, 'so': 1.0, 't': 1.0, 'were': 1.0, 'fun': 1.0, 'every': 1.0, 'interactive': 1.0, 'my': 3.0, 'page': 1.0, 'usual': 1.0}, {'all': 1.0, 'being': 1.0, 'infant': 1.0, 'course': 1.0, 'still': 1.0, 'perfect': 1.0, 'now': 2.0, 'to': 1.0, 'only': 2.0, 'board': 1.0, 'teaching': 1.0, 'them': 1.0, 'his': 2.0, 'lamaze': 2.0, 'nearly': 1.0, 'they': 1.0, 'not': 2.0, 'one': 2.0, 'd': 1.0, 'like': 1.0, 'didn': 1.0, 't': 2.0, 'enjoy': 1.0, 'chew': 1.0, 'because': 1.0, 'series': 1.0, 'books': 2.0, 'are': 2.0, 'out': 1.0, 'for': 4.0, 'does': 1.0, 'reading': 1.0, 'issue': 1.0, 'discovery': 1.0, 'peek': 1.0, 'we': 2.0, 'parent': 1.0, 'grandparents': 1.0, 'members': 1.0, 'on': 1.0, 'sister': 1.0, 'of': 3.0, 'etc': 1.0, 's': 1.0, 'boo': 1.0, 'liked': 1.0, 'love': 1.0, 'family': 1.0, 'son': 3.0, 'names': 1.0, 'additional': 1.0, 'would': 1.0, 'two': 1.0, 'much': 1.0, 'lot': 1.0, 'was': 3.0, 'flap': 1.0, 'that': 3.0, 'about': 1.0, 'but': 4.0, 'lift': 1.0, 'child': 1.0, 'with': 2.0, 'he': 4.0, 'loved': 1.0, 'look': 1.0, 'this': 4.0, 'as': 3.0, 'cat': 1.0, 'learn': 1.0, 'fun': 2.0, 'my': 3.0, 'and': 6.0, 'it': 6.0, 'doesn': 1.0, 'an': 1.0, 'say': 1.0, 'at': 1.0, 'have': 1.0, 'again': 1.0, 'book': 3.0, 'destroy': 1.0, 'used': 1.0, 'farm': 1.0, 'favorites': 1.0, 'a': 3.0, 'i': 3.0, 'well': 1.0, 'dog': 1.0, 'the': 5.0, 'playing': 1.0}, {'and': 1.0, 'own': 1.0, 'it': 3.0, 'our': 1.0, 'for': 1.0, 'when': 1.0, 'to': 1.0, 'book': 1.0, 'enjoys': 2.0, 'has': 1.0, 'his': 1.0, 'loved': 1.0, 'read': 1.0, 'baby': 1.0, 'now': 1.0, 'with': 1.0, 'him': 1.0, 'he': 1.0, 'a': 1.0, 'on': 1.0, 'i': 1.0, 'this': 1.0, 'while': 1.0, 'loves': 1.0, 'playing': 1.0}, {}, {'a': 1.0, 'brushing': 1.0, 'play': 1.0, 'kids': 1.0, 'elmo': 1.0, 'with': 1.0, 'of': 1.0, 'haha': 1.0, 'too': 1.0, 'son': 1.0, 'to': 1.0, 's': 1.0, 'book': 1.0, 'let': 1.0, 'likes': 1.0, 'teeth': 1.0, 'the': 1.0, 'my': 1.0, 'almost': 1.0, 'nice': 1.0}, {'and': 3.0, 'imaginative': 1.0, 'old': 1.0, 'it': 2.0, 'through': 1.0, 'are': 1.0, 'year': 1.0, 'go': 1.0, 'love': 1.0, 'children': 1.0, 'again': 1.0, 'would': 1.0, 'sit': 1.0, 'pictures': 1.0, 'young': 1.0, 'to': 1.0, 'book': 1.0, 'themselves': 1.0, 'appeal': 1.0, 'was': 1.0, 'buy': 1.0, 'grandchildren': 1.0, 'birthday': 1.0, 'they': 1.0, '2': 1.0, 'by': 1.0, 'present': 1.0, 'a': 1.0, 'for': 1.0, 'this': 2.0, 'will': 1.0, 'the': 1.0, 'my': 1.0, 'page': 2.0}, {'and': 3.0, 'cute': 1.0, 'rating': 1.0, 'have': 1.0, 'just': 1.0, 'give': 1.0, 'battery': 1.0, 'is': 1.0, 'it': 8.0, 'dead': 1.0, 'down': 1.0, 'batteries': 1.0, 'growled': 1.0, 'something': 1.0, 'giggled': 1.0, 'in': 1.0, 'handle': 1.0, 'saw': 1.0, 'find': 1.0, 'simple': 1.0, 'if': 2.0, 'even': 1.0, 'place': 1.0, 'would': 2.0, 'no': 1.0, 'super': 1.0, 'absolutely': 1.0, 'when': 1.0, 'actually': 1.0, 'to': 4.0, 'other': 1.0, '5': 1.0, 'take': 1.0, 'kenzie': 1.0, 'adorable': 1.0, 'excited': 1.0, 't': 1.0, 'star': 1.0, 'was': 3.0, 'got': 1.0, 'granddaughter': 1.0, 'bear': 1.0, 'back': 1.0, 'how': 1.0, 'but': 1.0, 'mail': 1.0, 'such': 1.0, 'now': 1.0, 'new': 1.0, 'day': 1.0, 'a': 4.0, 'going': 1.0, 'like': 1.0, 'gift': 1.0, 'this': 1.0, 'my': 1.0, 'could': 1.0, 'as': 2.0, 'can': 1.0, 'i': 6.0, 's': 2.0, 'suppose': 1.0, 'disappointment': 1.0, 'the': 3.0, 'where': 1.0, 'or': 1.0}, {'and': 4.0, 'all': 1.0, 'right': 1.0, 'hides': 1.0, 'elmo': 5.0, 'absolutely': 1.0, 'is': 5.0, 'each': 1.0, 'it': 2.0, 'one': 1.0, 'illustrated': 1.0, 'featured': 1.0, 'street': 2.0, 'are': 1.0, 'another': 1.0, 'beautifully': 1.0, 'seemed': 1.0, 'perfect': 1.0, 'sesame': 2.0, 'little': 1.0, 'lovers': 1.0, 'because': 1.0, 'takes': 1.0, 'her': 1.0, 'twinkle': 2.0, 'would': 1.0, 'character': 1.0, 'also': 2.0, 'book': 3.0, 'too': 1.0, 'which': 2.0, 'recommend': 1.0, 'main': 1.0, 'was': 1.0, 'nice': 1.0, 'available': 1.0, 'centric': 1.0, 'to': 1.0, 'that': 1.0, 'price': 1.0, 'time': 1.0, 'reads': 1.0, 'amazon': 1.0, 'everywhere': 1.0, 'characters': 1.0, 'baby': 1.0, 'he': 1.0, 'a': 1.0, 'on': 2.0, 'great': 2.0, 'for': 3.0, 'i': 3.0, 'soft': 1.0, 'm': 1.0, 'say': 1.0, 'other': 1.0, 'this': 2.0, 'while': 1.0, 'so': 2.0, 'loves': 1.0, 'of': 2.0, 'fun': 1.0, 'the': 3.0, 'happy': 1.0, 'my': 2.0, 'page': 1.0, 'interactive': 1.0}, {'beautiful': 1.0, 'and': 2.0, 'love': 1.0, 'elmo': 1.0, 'is': 1.0, 'doesn': 1.0, 'colors': 1.0, 'are': 1.0, 'showers': 1.0, 'lastly': 1.0, 'any': 1.0, 'for': 2.0, 'two': 1.0, 'book': 1.0, 'bought': 1.0, 'who': 1.0, 'baby': 2.0, 'recent': 1.0, 'great': 1.0, 'i': 1.0, 'bright': 1.0, 't': 1.0, 'the': 2.0, 'soft': 1.0, 'interactive': 1.0}, {'and': 2.0, 'another': 1.0, 'elmo': 1.0, 'is': 2.0, 'one': 1.0, 'books': 1.0, 'softplay': 1.0, 'birds': 1.0, 'variety': 1.0, 'two': 1.0, 'creative': 1.0, 'to': 1.0, 'only': 1.0, 'book': 3.0, 'has': 1.0, 'bird': 1.0, 'more': 2.0, 'we': 2.0, 'get': 1.0, 'big': 2.0, 'but': 1.0, 'wanted': 1.0, 'friends': 1.0, 'like': 1.0, 'this': 1.0, 'fun': 1.0, 'found': 1.0, 'the': 3.0}, {'and': 1.0, 'a': 2.0, 'little': 1.0, 'handle': 1.0, 'for': 1.0, 'cute': 1.0, 'this': 1.0, 'is': 2.0, 'safe': 1.0, 'story': 1.0, 'it': 3.0, 'to': 1.0, 's': 2.0, 'book': 1.0, 'easy': 1.0, 'boo': 1.0, 'baby': 1.0, 'peek': 1.0, 'soft': 1.0}, {'and': 7.0, 'old': 1.0, 'elmo': 2.0, 'is': 1.0, 'laughs': 1.0, 'it': 2.0, 'son': 1.0, 'say': 1.0, 'books': 1.0, 'have': 1.0, 'find': 1.0, 'different': 1.0, 'for': 1.0, 'few': 1.0, 'to': 1.0, '3': 1.0, 'book': 1.0, '5': 1.0, 'stars': 1.0, 'over': 2.0, 'smiles': 1.0, 'we': 3.0, 'sure': 1.0, 'colorful': 1.0, 'read': 2.0, 'most': 1.0, 'every': 1.0, 'baby': 1.0, 'month': 1.0, 'he': 1.0, 'a': 1.0, 'peekaboo': 1.0, 'adores': 1.0, 'this': 2.0, 'my': 1.0, '34': 2.0, 'so': 1.0, 'loves': 1.0, 'time': 1.0, 'fun': 1.0, 'the': 1.0, 'soft': 1.0}, {'cute': 1.0, 'great': 1.0, 'colorful': 1.0, 'for': 1.0, 'very': 1.0, 'make': 1.0, 'toddlers': 1.0, 'this': 2.0, 'bright': 1.0, 'book': 2.0, 'loves': 1.0, 'babies': 1.0, 'illustrations': 1.0, 'the': 1.0, 'son': 1.0, 'my': 1.0, 'interactive': 1.0}, {'and': 2.0, 'all': 1.0, 'love': 2.0, 'kiss': 1.0, 'elmo': 2.0, 'over': 1.0, 'play': 1.0, 'high': 1.0, 'as': 1.0, 'are': 3.0, 'still': 1.0, 'if': 1.0, 'use': 1.0, 'for': 1.0, 'how': 1.0, 'before': 1.0, 'when': 2.0, 'two': 1.0, 'to': 2.0, 'book': 1.0, '9': 1.0, 'got': 1.0, 'reading': 1.0, 'bought': 1.0, 'we': 1.0, 'buy': 1.0, 'blocks': 1.0, 'mos': 1.0, 'safe': 1.0, 'it': 1.0, 'were': 1.0, 'them': 4.0, 'granddauchildren': 1.0, 'they': 8.0, 'fall': 1.0, 'baby': 1.0, 'now': 1.0, 'with': 2.0, 'stack': 1.0, 'present': 1.0, 'a': 1.0, 'on': 1.0, 'i': 1.0, 'see': 1.0, 'so': 1.0, 'can': 1.0, 'time': 1.0, 'fun': 1.0, 'falls': 1.0, 'the': 4.0, 'soft': 1.0, 'having': 1.0}, {'and': 5.0, 'chew': 1.0, 'all': 1.0, 'have': 1.0, 'over': 2.0, 'rolling': 1.0, 'teething': 1.0, 'letting': 1.0, 'for': 3.0, 'to': 2.0, 'their': 1.0, 'encourage': 1.0, 'setting': 1.0, 'ruining': 1.0, 'babies': 1.0, 'christmas': 1.0, 'them': 3.0, 'great': 3.0, 'crawling': 1.0, 'about': 1.0, 'break': 1.0, 'they': 1.0, 'baby': 1.0, 'entertaining': 1.0, 'bank': 1.0, 'younger': 1.0, 'off': 1.0, 'gift': 1.0, 'i': 1.0, 'didn': 1.0, 'worrying': 1.0, 'droll': 1.0, 'these': 1.0, 'without': 1.0, 't': 1.0, 'were': 2.0, 'the': 4.0, 'side': 1.0}, {'a': 1.0, 'money': 1.0, 'would': 1.0, 'to': 1.0, 'i': 1.0, 'of': 1.0, 'is': 2.0, 'granddaughter': 1.0, 'it': 2.0, 'boring': 1.0, 'this': 1.0, 'book': 1.0, 'nothing': 1.0, 'recommend': 1.0, 'not': 1.0, 'waste': 1.0, 'my': 1.0, 'stimulate': 1.0}, {'fantastic': 1.0, 'old': 1.0, 'want': 1.0, 'show': 1.0, 'is': 3.0, 'hard': 1.0, 'it': 1.0, 'one': 1.0, 'not': 1.0, 'lion': 3.0, 'books': 1.0, 'looks': 1.0, 'have': 1.0, 'year': 1.0, 'images': 1.0, 'our': 1.0, 'find': 1.0, 'looking': 1.0, 'what': 3.0, 'for': 1.0, 'unrealistic': 1.0, 'when': 1.0, '1': 1.0, 'to': 2.0, 'real': 2.0, 'them': 1.0, 'that': 1.0, 'portrayals': 1.0, 'exactly': 1.0, 'but': 1.0, 'cloth': 1.0, 'were': 1.0, 'objects': 1.0, 'we': 3.0, 'nothing': 1.0, 'actual': 1.0, 'teach': 1.0, 'with': 1.0, 'him': 1.0, 'like': 2.0, 'a': 4.0, 'on': 1.0, 'animals': 1.0, 'look': 1.0, 'this': 1.0, 'of': 1.0, 'so': 2.0, 'many': 1.0, 'drawing': 1.0}, {'cute': 1.0, 'is': 1.0, 'something': 1.0, 'little': 1.0, 'for': 1.0, 'no': 1.0, 'destroying': 1.0, 'memories': 1.0, 'there': 1.0, 'young': 1.0, 'read': 1.0, 'reading': 1.0, 'happy': 2.0, 'them': 1.0, 'very': 1.0, 'chance': 1.0, 'they': 1.0, 'child': 1.0, 'of': 1.0, '34': 2.0, 'so': 1.0, 'can': 1.0, 'many': 1.0, 'the': 1.0, 'or': 1.0}, {'and': 1.0, 'be': 1.0, 'great': 1.0, 'love': 1.0, 'daughter': 1.0, 'this': 1.0, 'when': 1.0, 'it': 2.0, 'me': 1.0, 'will': 1.0, 'born': 1.0, 's': 1.0, 'so': 1.0, 'a': 2.0, 'our': 1.0, 'fun': 1.0, 'momento': 1.0, 'calendar': 1.0, 'was': 1.0, 'friend': 1.0, 'bought': 1.0}, {'a': 2.0, 'and': 1.0, 'little': 1.0, 'busy': 1.0, 'especially': 1.0, 'for': 1.0, 'all': 1.0, 'of': 1.0, 'easy': 1.0, 'up': 1.0, 'one': 1.0, 'to': 1.0, 'milestones': 1.0, 'mom': 1.0, 'time': 1.0, 'quick': 1.0, 'the': 1.0, 'keep': 1.0, 'with': 1.0, 'first': 2.0}, {'and': 4.0, 'this': 1.0, 'personalization': 1.0, 'am': 1.0, 'back': 1.0, 'one': 1.0, 'high': 1.0, 'year': 1.0, 'calendar': 1.0, 'throughout': 1.0, 'down': 1.0, 'perfect': 1.0, 'will': 1.0, 'firsts': 1.0, 'based': 1.0, 'for': 3.0, 'to': 1.0, 'memories': 1.0, 'spots': 1.0, 'jotting': 1.0, 'also': 1.0, 'remembering': 1.0, 'low': 1.0, 'has': 1.0, 'happy': 1.0, 'be': 1.0, 'that': 1.0, 'fun': 1.0, 'baby': 1.0, 'month': 1.0, 'a': 1.0, 'on': 3.0, 'dates': 1.0, 'look': 1.0, 'i': 3.0, 'of': 1.0, '34': 2.0, 'reviews': 1.0, 'did': 1.0, 's': 1.0, 'so': 1.0, 'searched': 1.0, 'quick': 1.0, 'pictures': 1.0, 'the': 2.0, 'settled': 1.0, 'first': 1.0}, {'enjoy': 1.0, 'would': 1.0, 'give': 1.0, 'is': 2.0, 'it': 1.0, 'one': 1.0, 'born': 1.0, 'as': 3.0, 'are': 1.0, 'want': 1.0, 'firsts': 2.0, 'children': 1.0, 'from': 1.0, 'i': 1.0, 'for': 2.0, 'their': 1.0, 'had': 1.0, 'looking': 1.0, 'to': 3.0, 'parents': 2.0, 'new': 1.0, 'themselves': 1.0, 'start': 1.0, 'good': 1.0, 'that': 1.0, 'very': 2.0, 'each': 1.0, 'calendars': 1.0, 'chart': 1.0, 'soon': 1.0, 'five': 1.0, 'they': 3.0, 'baby': 1.0, 'now': 1.0, 'beginning': 1.0, 'you': 1.0, 'a': 2.0, 'especially': 1.0, 'gift': 1.0, 'this': 1.0, 'of': 2.0, 'up': 1.0, '34': 4.0, 'these': 1.0, 'so': 1.0, 'can': 1.0, 'mother': 1.0, 'the': 3.0, 'my': 1.0}, {}, {'and': 2.0, 'all': 1.0, 'love': 1.0, 'version': 1.0, 'absolutely': 1.0, 'it': 2.0, 'born': 1.0, 'purchased': 1.0, 'in': 2.0, 'again': 1.0, 'for': 1.0, 'when': 1.0, 'same': 1.0, 'to': 1.0, 'book': 1.0, 'scripture': 1.0, 'was': 2.0, 'thrilled': 1.0, 'baby': 1.0, 'law': 1.0, 'he': 1.0, 'boy': 1.0, 'daughter': 1.0, 'grandson': 1.0, 'receive': 1.0, 'of': 1.0, 'i': 1.0, 'the': 3.0, 'my': 2.0}, {'simple': 1.0, 'it': 1.0, 'down': 1.0, 'as': 1.0, 'at': 1.0, 'verses': 1.0, 'in': 1.0, 'for': 1.0, 'bottom': 1.0, 'memories': 1.0, 'to': 1.0, 'bought': 1.0, 'but': 1.0, 'important': 1.0, 'put': 1.0, 'law': 1.0, 'pages': 1.0, 'a': 2.0, 'loved': 2.0, 'daughter': 1.0, 'gift': 1.0, 'i': 1.0, 'of': 1.0, 'place': 1.0, 'she': 1.0, 'the': 1.0, 'my': 1.0}, {'and': 4.0, 'cute': 1.0, 'prints': 1.0, 'questions': 1.0, 'had': 1.0, 'is': 3.0, 'foot': 1.0, 'liked': 1.0, 'one': 2.0, 'hair': 1.0, 'locks': 1.0, 'want': 1.0, 'your': 2.0, 'perfect': 1.0, 'little': 2.0, 'for': 4.0, 'also': 1.0, 'memories': 1.0, 'when': 2.0, 'to': 2.0, 'book': 1.0, 'asking': 1.0, 'which': 1.0, 'place': 1.0, 'you': 1.0, 'has': 1.0, 'main': 1.0, 'we': 2.0, 'omg': 1.0, 'even': 1.0, 'it': 2.0, 'reason': 1.0, 'keepsakes': 1.0, 'baby': 3.0, 'hand': 1.0, 'why': 1.0, 'bigger': 1.0, 'remember': 1.0, 'a': 2.0, 'loved': 1.0, 'great': 1.0, 'gets': 1.0, 'places': 1.0, 'gift': 1.0, 'born': 1.0, 'this': 2.0, 'of': 1.0, 'put': 1.0, 'shower': 1.0, 'etc': 1.0, 'so': 1.0, 'pockets': 1.0, 'starts': 1.0, 'the': 2.0, 'first': 1.0}, {'pink': 1.0, 'pastel': 1.0, 'life': 1.0, 'love': 1.0, 'i': 1.0, 'to': 1.0, 'color': 1.0, 'my': 1.0, 'cherished': 1.0, 'great': 1.0, 'granddaughters': 1.0, 'record': 1.0, 'beautiful': 2.0, 'book': 1.0, 'in': 1.0, 'it': 1.0, 'the': 1.0, 'times': 1.0, 'with': 1.0}, {'and': 3.0, 'mini': 1.0, 'family': 1.0, 'bracelet': 1.0, 'is': 2.0, 'an': 1.0, 'hair': 1.0, 'flammish': 1.0, 'maternity': 1.0, 'in': 1.0, 'firsts': 1.0, 'really': 2.0, 'perfect': 1.0, 'for': 1.0, 'looking': 1.0, 'to': 2.0, 'book': 1.0, 'lot': 1.0, 'fill': 1.0, 'was': 1.0, 'happy': 2.0, 'preserve': 1.0, 'french': 1.0, 'baby': 1.0, 'one': 1.0, 'with': 1.0, 'info': 1.0, 'purchase': 1.0, 'i': 2.0, 'of': 1.0, 'm': 1.0, 'this': 2.0, 'pockets': 1.0, 'english': 1.0, 'the': 2.0, 'daddy': 1.0}, {'and': 2.0, 'detailed': 1.0, 'everyone': 1.0, 'is': 1.0, 'year': 1.0, 'it': 1.0, 'one': 1.0, 'serving': 1.0, 'through': 1.0, 'are': 1.0, 'questions': 1.0, 'in': 1.0, 'its': 1.0, 'perfect': 1.0, 'for': 2.0, 'record': 2.0, 's': 2.0, 'your': 2.0, 'kindergarten': 2.0, 'to': 3.0, 'book': 2.0, 'way': 1.0, 'recommend': 1.0, 'answer': 1.0, 'receiving': 1.0, 'was': 1.0, 'surprised': 1.0, 'entitled': 1.0, 'photographs': 1.0, 'life': 1.0, 'parent': 1.0, 'very': 1.0, 'memory': 1.0, 'upon': 1.0, 'kindergartener': 1.0, 'important': 1.0, 'purpose': 1.0, 'child': 2.0, 'with': 1.0, 'pleasantly': 1.0, 'a': 1.0, 'd': 1.0, 'this': 2.0, 'of': 1.0, 'experience': 1.0, 'i': 2.0, 'while': 1.0, 'time': 1.0, 'fun': 1.0, 'the': 4.0, 'my': 1.0, 'descriptions': 1.0}, {'and': 1.0, 'already': 1.0, 'it': 1.0, 'years': 1.0, 'see': 1.0, 'questions': 2.0, 'stumbled': 1.0, 'to': 2.0, 'answering': 1.0, 'answered': 1.0, 'gem': 1.0, 'memory': 1.0, 'has': 1.0, 'be': 1.0, 'started': 1.0, 'upon': 1.0, 'back': 1.0, 'how': 1.0, 'son': 1.0, 'glad': 1.0, 'he': 1.0, 'a': 1.0, 'great': 1.0, 'look': 1.0, 'i': 3.0, 'later': 1.0, 'm': 1.0, 'will': 1.0, 'these': 1.0, 'so': 1.0, 'the': 1.0, 'my': 1.0, 'think': 1.0}, {'and': 1.0, '6': 1.0, 'old': 1.0, 'just': 2.0, 'character': 1.0, 'is': 1.0, 'it': 1.0, 'son': 1.0, 'as': 1.0, 'have': 1.0, 'toy': 1.0, 'to': 3.0, 'when': 1.0, 'long': 1.0, 'pages': 1.0, 'few': 2.0, 'enough': 1.0, 'book': 2.0, 'stuffed': 1.0, 'elephant': 1.0, 'so': 1.0, 'be': 1.0, 'we': 1.0, 'attention': 1.0, 'realization': 1.0, 'words': 1.0, 'month': 1.0, 'with': 1.0, 'between': 1.0, 'association': 1.0, 'he': 1.0, 'a': 2.0, 'short': 1.0, 'older': 1.0, 'of': 2.0, 'well': 1.0, 'see': 1.0, 'keep': 1.0, 'will': 1.0, 's': 1.0, 'neat': 1.0, 'each': 1.0, 'the': 7.0, 'my': 1.0, 'page': 1.0}, {'and': 1.0, 'is': 1.0, 'it': 3.0, 'highly': 1.0, 'for': 1.0, 'also': 1.0, 'pretty': 1.0, 'recommend': 1.0, 'gives': 1.0, 'be': 1.0, 'used': 1.0, 'very': 1.0, 'years': 1.0, 'a': 3.0, 'great': 1.0, 'made': 1.0, 'gift': 1.0, 'this': 1.0, 'light': 1.0, 'well': 1.0, 'will': 1.0, 'i': 1.0, 'nice': 1.0, 'makes': 1.0}, {'affordable': 1.0, 'try': 1.0, 'and': 2.0, 'room': 1.0, 'for': 1.0, 'wall': 1.0, 'spring': 1.0, 'easy': 1.0, 'project': 1.0, 'up': 1.0, 'decals': 1.0, 'this': 1.0, '5': 1.0, 'brightens': 1.0, 'a': 1.0, 'fun': 1.0, 'quality': 1.0, 'fine': 1.0, 'any': 1.0, 'out': 1.0}, {'all': 1.0, 'because': 1.0, 'wall': 1.0, 'money': 1.0, 'is': 1.0, 'it': 1.0, 'one': 1.0, 'second': 1.0, 'in': 2.0, 'apply': 1.0, 'flower': 1.0, 'floor': 1.0, 'when': 1.0, 'to': 1.0, 'only': 1.0, 'you': 1.0, 'waste': 1.0, 'pieceyou': 1.0, 'roll': 1.0, 'most': 1.0, 'reason': 1.0, 'fell': 1.0, 'know': 1.0, 'flowers': 1.0, 'day': 1.0, 'a': 1.0, 'on': 2.0, 'sizehard': 1.0, 'of': 1.0, 'see': 1.0, 'morning': 1.0, 'will': 1.0, 'part': 1.0, 'how': 1.0, 'small': 1.0, 'the': 4.0}, {'and': 1.0, 'wall': 1.0, 'them': 1.0, 'decals': 1.0, 'as': 1.0, 'thick': 1.0, 'again': 1.0, 'would': 2.0, 'literally': 1.0, 'stayed': 1.0, 'plastic': 1.0, 'stuck': 1.0, '5': 1.0, 'recommend': 1.0, 'was': 1.0, 'then': 1.0, 'almost': 1.0, 'started': 1.0, 'peeling': 1.0, 'stick': 1.0, 'coming': 1.0, 'not': 2.0, 'off': 2.0, 'like': 1.0, 'purchase': 1.0, 'about': 1.0, 'applying': 1.0, 'for': 1.0, 'i': 1.0, 'were': 2.0, 'the': 3.0, 'minutes': 1.0, 'or': 1.0}, {'and': 3.0, 'all': 1.0, 'themed': 1.0, 'winnie': 1.0, 'fantastic': 1.0, 'cost': 1.0, 'at': 1.0, 'in': 1.0, 'stickers': 2.0, 'impressed': 1.0, 'decor': 1.0, 'that': 1.0, 'seamless': 1.0, 'to': 1.0, 'easy': 1.0, 'new': 1.0, 'was': 1.0, 'a': 1.0, 'option': 1.0, 'get': 1.0, 'very': 4.0, 'paintwork': 1.0, 'stick': 1.0, 'they': 2.0, 'not': 1.0, 'pooh': 1.0, 'with': 1.0, 'wall': 2.0, 'like': 1.0, 'zealand': 1.0, 'on': 3.0, 'don': 1.0, 'look': 2.0, 'effective': 1.0, 'i': 2.0, 'could': 1.0, '34': 2.0, 'these': 2.0, 't': 1.0, 'were': 2.0, 'professional': 1.0, 'the': 3.0}, {'and': 1.0, 'on': 1.0, 'about': 1.0, 'said': 1.0, 'i': 2.0, 'ir': 1.0, 'grat': 1.0, 'satisfied': 1.0, 'reccomend': 1.0, 'product': 2.0, 'very': 1.0, 'as': 1.0, 'design': 1.0, 'came': 1.0, 'it': 1.0, 'follow': 1.0, 'the': 2.0, 'highly': 1.0, 'page': 1.0, 'buying': 1.0, 'more': 1.0}, {'love': 1.0, 'chain': 1.0, 'it': 1.0, 'jesus': 1.0, 'in': 1.0, 'need': 1.0, 'our': 1.0, 'divine': 3.0, 'your': 1.0, 'jesuswho': 1.0, 'for': 1.0, 'pray': 1.0, 'god': 1.0, 'to': 1.0, 'offers': 1.0, 'you': 1.0, 'nice': 1.0, 'an': 1.0, 'around': 1.0, 'mercy': 3.0, 'very': 1.0, 'lives': 1.0, 'pendant': 1.0, 'now': 1.0, 'him': 1.0, 'on': 1.0, 'neck': 1.0, 'country': 1.0, 'us': 1.0, 'ocean': 1.0, 'represents': 1.0, 'of': 2.0, 'my': 1.0}, {'and': 4.0, 'soft': 1.0, 'changes': 1.0, 'right': 1.0, 'love': 1.0, 'simple': 1.0, 'done': 1.0, 'are': 3.0, 'our': 1.0, 'find': 1.0, 'for': 2.0, 'ordering': 1.0, 'll': 1.0, 'get': 1.0, 'actually': 1.0, 'other': 1.0, 'wipes': 2.0, 'more': 1.0, 'a': 2.0, 'them': 2.0, 'million': 1.0, 'that': 1.0, 'price': 1.0, 'after': 1.0, 'uses': 1.0, 'know': 1.0, 'they': 3.0, 'baby': 1.0, 'during': 1.0, 'now': 1.0, 'reusable': 1.0, 'dry': 1.0, 'great': 1.0, 'these': 1.0, 'of': 1.0, 'm': 1.0, 'days': 1.0, 'i': 4.0, 'so': 1.0, 'clean': 1.0, 'my': 1.0, 'diaper': 2.0}, {'and': 2.0, 'smaller': 1.0, 'just': 1.0, 'wall': 1.0, 'is': 1.0, 'it': 2.0, 'looks': 1.0, 'what': 1.0, 'measurements': 1.0, 'was': 2.0, 'nice': 1.0, 'that': 1.0, 'but': 1.0, 'not': 1.0, 'bit': 1.0, 'than': 1.0, 'a': 1.0, 'on': 1.0, 'great': 1.0, 'i': 1.0, 'fault': 1.0, 'taking': 1.0, 'thought': 1.0, 'the': 1.0, 'my': 2.0}, {'and': 2.0, 'old': 1.0, 'significantly': 1.0, 'hasn': 1.0, 'one': 1.0, 'high': 1.0, 'as': 1.0, 'are': 1.0, 'broken': 1.0, 'year': 1.0, 'seem': 1.0, 'open': 4.0, 'size': 1.0, 'once': 1.0, 'given': 1.0, 'for': 1.0, 'needed': 1.0, 'that': 1.0, 'able': 1.0, 'their': 1.0, 'only': 1.0, 'of': 2.0, 'safety': 1.0, 'normal': 1.0, '6': 1.0, 'pins': 3.0, 'new': 1.0, 'learned': 1.0, 'has': 1.0, 'was': 2.0, 'bought': 1.0, 'we': 2.0, 'his': 1.0, 'to': 4.0, 'though': 1.0, 'price': 1.0, 'night': 1.0, 'use': 1.0, 'break': 1.0, 'how': 1.0, 'them': 1.0, 'bit': 1.0, 'son': 1.0, 'than': 1.0, 'he': 2.0, 'a': 1.0, 'on': 1.0, 'autistic': 1.0, 'package': 1.0, 'these': 1.0, 'recall': 1.0, 'sturdy': 1.0, 'shipping': 1.0, 'side': 1.0, 'i': 1.0, 't': 1.0, 'reasonable': 1.0, 'time': 1.0, 'the': 4.0, 'more': 2.0, 'my': 1.0, 'or': 1.0, 'clothes': 1.0}, {'and': 1.0, 'duty': 1.0, 'as': 1.0, 'used': 1.0, 'in': 1.0, 'need': 1.0, 'heavy': 1.0, 'fine': 1.0, 'any': 1.0, 'no': 1.0, 'quality': 1.0, 'able': 1.0, 'to': 1.0, 'way': 1.0, 'filled': 1.0, 'be': 1.0, 'good': 1.0, 'others': 1.0, 'worked': 1.0, 'needed': 1.0, 'these': 1.0, 'were': 1.0, 'my': 1.0}, {'and': 1.0, 'a': 3.0, 'great': 2.0, 'colors': 1.0, 'pin': 1.0, 'for': 1.0, 'that': 1.0, 'lots': 1.0, 'of': 1.0, 'bargain': 1.0, 'to': 1.0, 'bright': 1.0, 'safety': 1.0, 'easy': 1.0, 'uses': 1.0, 'has': 1.0, 'with': 1.0, 'find': 1.0, 'dozen': 1.0}, {'and': 1.0, 'not': 1.0, 'are': 2.0, 'in': 1.0, 'thick': 1.0, 'little': 1.0, 'fabric': 1.0, 'no': 2.0, 'fortunately': 1.0, 'there': 1.0, 'stuck': 1.0, 'flimsy': 1.0, 'attractive': 1.0, 'pins': 2.0, 'was': 2.0, 'them': 1.0, 'used': 1.0, 'to': 1.0, 'on': 2.0, 'diaper': 1.0, 'baby': 1.0, 'hold': 1.0, 'received': 1.0, 'i': 2.0, 'involved': 1.0, 'metal': 1.0, 'up': 1.0, 'did': 1.0, 'while': 1.0, 'so': 1.0, 'the': 4.0}, {'honduras': 2.0, 'is': 1.0, 'it': 1.0, 'kits': 1.0, 'have': 1.0, 'in': 2.0, 'our': 1.0, 'find': 1.0, 'also': 1.0, 'appreciated': 1.0, 'to': 3.0, 'pins': 2.0, 'pampers': 1.0, 'sent': 2.0, 'difficult': 1.0, 'do': 1.0, 'we': 2.0, 'missionaries': 1.0, 'disposable': 1.0, 'diapers': 1.0, 'cloth': 1.0, 'diaper': 2.0, 'they': 2.0, 'not': 1.0, 'hold': 1.0, 'with': 1.0, 'went': 1.0, 'these': 1.0, 'age': 1.0, '34': 4.0, 'the': 3.0}, {'and': 3.0, 'dressmaker': 1.0, 'since': 1.0, 'have': 1.0, 'pin': 1.0, 'up': 2.0, 'idea': 1.0, 'socks': 2.0, 'years': 1.0, 'course': 1.0, 'through': 2.0, 'a': 1.0, 'using': 1.0, '34': 2.0, 'open': 2.0, 'your': 1.0, 'little': 1.0, 'working': 1.0, 're': 1.0, 'that': 1.0, 'been': 1.0, 'yet': 1.0, 'to': 4.0, 'recommended': 1.0, 'tended': 1.0, 'thery': 1.0, 'pins': 3.0, 'perfectly': 1.0, 'was': 2.0, 'do': 1.0, 'staying': 1.0, 'friended': 1.0, 'tried': 1.0, 'get': 1.0, 'never': 1.0, 'but': 3.0, 'it': 1.0, 'we': 2.0, 'them': 1.0, 'diaper': 2.0, 'they': 2.0, 'during': 1.0, 'brass': 1.0, 'one': 1.0, 'needed': 1.0, 'cycle': 1.0, 'tricky': 1.0, 'has': 1.0, 'washing': 1.0, 'like': 1.0, 'lost': 1.0, 'wash': 2.0, 'i': 2.0, 'of': 2.0, 'wife': 1.0, 'suggested': 1.0, 'together': 2.0, 'keep': 1.0, 'matter': 1.0, 'can': 1.0, 'many': 1.0, 'the': 4.0, 'my': 2.0, 'fact': 1.0}, {'and': 4.0, 'the': 11.0, 'have': 1.0, 'pin': 2.0, 'sock': 1.0, 'into': 1.0, 'each': 1.0, 'am': 1.0, 'idea': 1.0, 'socks': 6.0, 'one': 1.0, 'feet': 1.0, 'as': 2.0, 'done': 1.0, 'are': 2.0, 'another': 1.0, 'reviewer': 1.0, 'my': 2.0, 'still': 1.0, 'saved': 1.0, 'hamper': 2.0, 'out': 1.0, 'these': 1.0, 'use': 1.0, 'just': 2.0, 'open': 1.0, 'with': 2.0, 'had': 1.0, 'matching': 1.0, 'to': 2.0, 'lot': 1.0, 'before': 1.0, 'washer': 1.0, 'has': 1.0, 'dirty': 1.0, 'dried': 1.0, 'dry': 2.0, 'them': 1.0, 'after': 1.0, 'stay': 1.0, 'read': 1.0, 'shelf': 1.0, 'of': 4.0, 'hang': 2.0, 'great': 2.0, 'here': 1.0, 'it': 2.0, 'by': 1.0, 'pins': 1.0, 'mismatched': 1.0, 'they': 2.0, 'leave': 1.0, 'put': 1.0, 'washing': 1.0, 'line': 2.0, 'now': 1.0, 'come': 1.0, 'problem': 1.0, 'glad': 1.0, 'clothespins': 1.0, 'a': 3.0, 'on': 6.0, 'about': 1.0, 'don': 1.0, 'for': 1.0, 'lost': 1.0, 'this': 2.0, 'wish': 1.0, 'side': 1.0, 'life': 1.0, 'noted': 1.0, 'reviews': 1.0, 'i': 7.0, 'without': 1.0, 't': 1.0, 'time': 1.0, 'grab': 1.0, 'whole': 1.0, 'or': 1.0, 'once': 1.0}, {'all': 1.0, 'old': 1.0, 'is': 1.0, 'hard': 1.0, 'it': 1.0, 'through': 1.0, 'at': 1.0, 'have': 1.0, 'still': 1.0, 'thicker': 1.0, 'fabric': 1.0, 'would': 1.0, 'to': 1.0, 'which': 1.0, 'recommend': 1.0, 'pins': 1.0, 'steel': 1.0, 'very': 1.0, 'part': 1.0, 'diaper': 1.0, 'not': 2.0, 'strong': 1.0, 'a': 1.0, 'unlike': 1.0, 'i': 1.0, 'work': 1.0, 'the': 2.0}, {'and': 1.0, 'overpriced': 1.0, 'picture': 1.0, 'am': 1.0, 'back': 1.0, 'sad': 1.0, 'really': 1.0, 'as': 1.0, 'are': 2.0, 'have': 1.0, 'in': 1.0, 'should': 1.0, 'dozen': 1.0, 'thought': 1.0, 'use': 1.0, 'there': 1.0, 'when': 1.0, 'mark': 1.0, 'to': 2.0, 'only': 2.0, 'going': 1.0, 'safety': 1.0, 'pins': 3.0, 'out': 1.0, 'was': 1.0, 'be': 1.0, 'them': 1.0, 'that': 1.0, 'regular': 1.0, 'they': 1.0, 'crochet': 1.0, 'a': 1.0, '10': 1.0, 'getting': 1.0, 'i': 8.0, 'turns': 1.0, 'yarn': 1.0, 'counted': 1.0, 'will': 1.0, 'so': 1.0, 'the': 2.0, 'think': 1.0}, {'because': 1.0, 'tabs': 1.0, 'is': 1.0, 'am': 1.0, 'ends': 1.0, 'doesn': 1.0, 'through': 2.0, 'bend': 1.0, 'sharp': 1.0, 'said': 1.0, 'anymore': 1.0, 'which': 1.0, 'dislike': 1.0, 'easier': 1.0, 'them': 1.0, 'pain': 1.0, 'that': 2.0, 'pushing': 1.0, 'diapers': 2.0, 'velcro': 2.0, 'sides': 1.0, 'a': 1.0, 'on': 1.0, 'pierce': 1.0, 'like': 1.0, 'older': 1.0, 'i': 1.0, 'work': 1.0, 't': 1.0, 'the': 2.0, 'my': 2.0}, {'a': 1.0, 'locally': 1.0, 'useful': 1.0, 'to': 2.0, 'no': 1.0, 'this': 1.0, 'item': 1.0, 'is': 1.0, 'hard': 1.0, 'matter': 1.0, 'purpose': 1.0, 'have': 1.0, 'pins': 1.0, 'the': 1.0, 'find': 1.0, 'are': 1.0, 'diaper': 1.0}, {'do': 1.0, 'them': 1.0, 'peel': 1.0, 'start': 1.0, 'these': 1.0, 'soon': 1.0, 'to': 3.0, 'as': 2.0, 'stick': 2.0, 'they': 1.0, 'not': 1.0, 'you': 1.0, 'the': 2.0, 'wall': 2.0}, {'all': 1.0, 'wall': 1.0, 'when': 1.0, 'is': 1.0, 'back': 1.0, 'sticky': 1.0, 'disappointing': 1.0, 'ended': 1.0, 'at': 1.0, 'bedroom': 2.0, 'glue': 1.0, 'for': 1.0, 'floor': 1.0, 'not': 1.0, 'girls': 1.0, 'to': 3.0, 'money': 1.0, 'got': 1.0, 'waste': 1.0, 'was': 2.0, 'excited': 1.0, 'wouldn': 1.0, 'product': 1.0, 'get': 1.0, 'very': 3.0, 'it': 3.0, 'every': 1.0, 'baby': 1.0, 'picking': 1.0, 'pieces': 1.0, 'super': 1.0, 'on': 1.0, 'off': 1.0, 'i': 4.0, 'of': 1.0, 'into': 1.0, 'up': 2.0, 'walked': 1.0, 'having': 1.0, 'this': 1.0, 'so': 1.0, 't': 1.0, 'time': 2.0, 'frustrating': 1.0, 'the': 5.0, 'my': 1.0, 'or': 1.0}, {'knots': 1.0, 'heart': 1.0, 'because': 1.0, 'ordered': 1.0, 'undoer': 1.0, 'pope': 2.0, 'photo': 1.0, 'is': 2.0, 'am': 1.0, 'it': 4.0, 'beautiful': 1.0, 'in': 3.0, 'our': 2.0, 'between': 1.0, 'again': 1.0, 'strong': 1.0, 'just': 1.0, 'would': 1.0, 'untier': 1.0, 'giving': 1.0, 'disappointed': 1.0, 'whom': 1.0, 'recommend': 1.0, 'has': 1.0, 'was': 1.0, 'knotted': 1.0, 'friend': 2.0, 'lady': 1.0, 'buy': 1.0, 'to': 1.0, 'beat': 1.0, 'novena': 1.0, 'blessed': 1.0, 'made': 1.0, 'not': 1.0, 'along': 1.0, 'francis': 2.0, 'with': 2.0, 'by': 1.0, 'copy': 1.0, 'a': 4.0, 'and': 3.0, 'lovely': 1.0, 'rosary': 2.0, 'for': 2.0, 'fathers': 1.0, 'i': 4.0, 'of': 3.0, 'this': 3.0, 'as': 1.0, 'looked': 1.0, 'crystal': 1.0, 'definitely': 1.0, 'the': 3.0, 'my': 1.0, 'or': 1.0, 'devotion': 1.0}, {'and': 2.0, 'all': 1.0, 'right': 1.0, 'just': 1.0, 'scapular': 1.0, 'some': 1.0, 'an': 1.0, 'quality': 1.0, 'for': 2.0, 'to': 1.0, 'more': 1.0, 'wearing': 1.0, 'brown': 1.0, 'around': 1.0, 'price': 1.0, 'blessing': 1.0, 'excellent': 1.0, 'such': 1.0, 'precious': 1.0, 'a': 1.0, 'neck': 1.0, 'value': 1.0, 'item': 1.0, 'the': 5.0, 'makes': 1.0, 'or': 1.0, 'orattaching': 1.0}, {'and': 2.0, 'slid': 1.0, 'tough': 2.0, 'product': 2.0, 'over': 1.0, 'fit': 2.0, 'am': 1.0, 'satisfied': 1.0, 'hair': 1.0, 'snug': 1.0, 'are': 2.0, 'have': 2.0, 'love': 1.0, 'pleased': 1.0, 'if': 1.0, 'for': 1.0, 'also': 1.0, 'bangle': 1.0, 'had': 1.0, 'fast': 1.0, 'to': 3.0, 'fitting': 1.0, 'whew': 1.0, 'bangles': 1.0, 'size': 1.0, 'was': 1.0, 'wouldn': 1.0, 'them': 1.0, 'stay': 1.0, 'get': 1.0, 'got': 1.0, 'overall': 1.0, 'however': 1.0, 'but': 2.0, 'hand': 2.0, 'wrist': 1.0, 'adult': 1.0, 'they': 4.0, 'hands': 1.0, 'bit': 1.0, 'lotion': 1.0, 'with': 3.0, 'bigger': 1.0, 'kid': 1.0, 'a': 3.0, 'on': 3.0, 'like': 1.0, 'i': 5.0, 'shipping': 1.0, 'large': 1.0, 'these': 1.0, 't': 1.0, 'were': 1.0, 'small': 3.0, 'the': 3.0, 'my': 1.0}, {'and': 2.0, 'set': 1.0, 'old': 1.0, 'for': 1.0, 'cooking': 1.0, '2': 1.0, 'lot': 1.0, 'has': 1.0, 'was': 1.0, 'granddaughter': 1.0, 'yr': 1.0, 'with': 1.0, 'a': 1.0, 'great': 1.0, 'this': 1.0, 'of': 1.0, 'pretend': 1.0, 'she': 1.0, 'fun': 1.0, 'the': 1.0, 'my': 1.0, 'playing': 1.0}, {'and': 1.0, 'useful': 1.0, 'awesome': 1.0, 'wash': 1.0, 'are': 1.0, 'also': 1.0, 'to': 1.0, 'much': 1.0, 'easy': 1.0, 'is': 1.0, 'them': 1.0, 'very': 2.0, 'price': 1.0, 'they': 1.0, 'bibs': 1.0, 'friends': 1.0, 'those': 1.0, 'dry': 1.0, 'like': 2.0, 'i': 1.0, 'the': 1.0, 'my': 1.0}, {'beautiful': 1.0, 'old': 1.0, 'curls': 1.0, 'is': 1.0, 'wash': 1.0, 'good': 1.0, 'in': 1.0, 'messy': 1.0, 'provided': 1.0, '20': 1.0, 'for': 1.0, 'boy': 1.0, 'when': 1.0, 'fingers': 1.0, 'to': 2.0, 'protections': 1.0, 'too': 1.0, 'easy': 1.0, 'eaters': 1.0, 'elbows': 1.0, 'his': 2.0, 'missing': 1.0, 'very': 1.0, 'who': 1.0, 'pasta': 2.0, 'pocket': 1.0, 'marinara': 1.0, 'mouth': 1.0, 'fall': 1.0, 'front': 1.0, 'bibs': 2.0, 'with': 1.0, 'eat': 1.0, 'a': 1.0, 'loved': 1.0, 'daughter': 1.0, 'grandson': 1.0, 'this': 2.0, 'months': 1.0, 'loves': 1.0, 'the': 2.0, 'my': 2.0, 'or': 1.0}, {'and': 1.0, 'this': 2.0, 'cute': 1.0, 'is': 2.0, 'it': 1.0, 'nativity': 2.0, 'ornaments': 1.0, 'perfect': 1.0, 'for': 1.0, 'ornament': 1.0, 'to': 2.0, 'add': 1.0, 'can': 1.0, 'collection': 1.0, 'such': 1.0, 'wait': 1.0, 'a': 1.0, 'i': 1.0, 'tree': 1.0, 'collect': 1.0, 't': 1.0, 'my': 2.0}, {'and': 2.0, 'help': 1.0, 'is': 2.0, 'it': 1.0, 'month': 1.0, 'used': 1.0, 'pees': 1.0, 'really': 1.0, 'feeding': 1.0, 'poops': 1.0, 'make': 1.0, 'to': 3.0, 'enough': 1.0, 'book': 1.0, 'wet': 1.0, 'you': 1.0, 'if': 1.0, 'we': 1.0, 'sure': 1.0, 'eating': 1.0, 'that': 1.0, 'track': 2.0, 'breastfeed': 1.0, 'diapers': 1.0, 'baby': 1.0, 'during': 1.0, 'great': 1.0, 'helpful': 1.0, 'this': 1.0, 'of': 2.0, 'us': 1.0, 'keep': 2.0, 'patterns': 1.0, 'first': 1.0}, {'and': 3.0, 'info': 1.0, 'love': 1.0, 'just': 1.0, 'numbers': 1.0, 'is': 2.0, 'we': 2.0, 'terrible': 1.0, 'traveling': 1.0, 'have': 1.0, 'home': 1.0, 'to': 2.0, 'fill': 1.0, 'perfect': 2.0, 'use': 1.0, 'are': 1.0, 'also': 1.0, 'travel': 1.0, 'there': 1.0, 'when': 1.0, 'needed': 1.0, 'book': 3.0, 'adoption': 1.0, 'memory': 1.0, 'saver': 1.0, 'more': 1.0, 'be': 3.0, 'life': 1.0, 'complete': 1.0, 'emergency': 1.0, 'schedule': 2.0, 'track': 2.0, 'after': 1.0, 'spot': 1.0, 'how': 1.0, 'important': 1.0, 'baby': 2.0, 'beginning': 1.0, 'adopting': 1.0, 'buying': 1.0, 'a': 4.0, 'going': 1.0, 'keeping': 1.0, 'for': 4.0, 'i': 5.0, 'of': 2.0, 'up': 1.0, 'keep': 1.0, 'will': 2.0, 'this': 3.0, 's': 2.0, 'definitely': 1.0, 'babysitter': 1.0, 'the': 3.0, 'or': 1.0, 'at': 2.0}, {'love': 3.0, 'activities': 1.0, 'soon': 1.0, 'one': 1.0, 'as': 3.0, 'sleep': 1.0, 'another': 1.0, 'need': 1.0, 'your': 2.0, 'really': 1.0, 'for': 4.0, 'also': 1.0, 'remember': 1.0, 'when': 1.0, 'to': 2.0, 'much': 1.0, 'too': 1.0, 'provider': 1.0, 'new': 1.0, 'you': 2.0, 'tracker': 1.0, 'was': 1.0, 'bought': 1.0, 'be': 1.0, 'used': 1.0, 'get': 1.0, 'moms': 1.0, 'communicate': 1.0, 'about': 1.0, 'it': 5.0, 'how': 1.0, 'no': 1.0, 'got': 2.0, 'baby': 3.0, 'with': 1.0, 'day': 1.0, 'care': 1.0, 'a': 1.0, 'great': 2.0, 'ate': 1.0, 'last': 1.0, 'gift': 1.0, 'daycare': 1.0, 'clock': 1.0, 'up': 1.0, 'or': 1.0, 's': 1.0, 'so': 1.0, 'can': 1.0, 'the': 2.0, 'my': 1.0, 'round': 1.0, 'first': 1.0}, {'and': 3.0, 'major': 1.0, 'because': 1.0, 'love': 1.0, 'all': 3.0, 'what': 1.0, 'simple': 1.0, 'had': 1.0, 'saver': 1.0, 'it': 3.0, 'down': 1.0, 'course': 1.0, 'as': 1.0, 'his': 3.0, 'have': 2.0, 'in': 1.0, 'work': 1.0, 'to': 5.0, 'out': 1.0, 'even': 1.0, 'funny': 1.0, 'little': 1.0, 'routines': 1.0, 'i': 6.0, 'would': 1.0, 'has': 1.0, 'things': 1.0, 'though': 1.0, 'able': 1.0, 'finally': 1.0, 'been': 2.0, 'day': 1.0, 'everything': 1.0, 'enough': 1.0, 'book': 2.0, 'way': 2.0, 'time': 1.0, 'probably': 1.0, 'really': 1.0, 'was': 2.0, 'over': 1.0, 'sure': 1.0, 'happened': 1.0, 'wouldn': 1.0, 'life': 1.0, 'knew': 1.0, 'jot': 1.0, 'easy': 2.0, 'get': 1.0, 'great': 1.0, 'after': 1.0, 'transfer': 1.0, 'how': 1.0, 'milestones': 1.0, 'let': 1.0, 'a': 2.0, 'they': 1.0, 'baby': 2.0, '2': 1.0, 'beginning': 1.0, 'the': 3.0, 'is': 1.0, 'me': 3.0, 'on': 1.0, 'about': 1.0, 'didn': 1.0, 'caregiver': 1.0, 'for': 3.0, 'this': 2.0, 'of': 4.0, 'months': 1.0, 'until': 1.0, 'record': 1.0, 's': 1.0, 'so': 1.0, 't': 2.0, 'forgotten': 1.0, 'went': 1.0, 'my': 1.0, 'that': 2.0, 'know': 1.0}, {'and': 2.0, 'useful': 1.0, 'being': 1.0, 'am': 2.0, 'it': 5.0, 'one': 2.0, 'newborn': 1.0, 'not': 1.0, 'as': 1.0, 'looks': 1.0, 'have': 1.0, 'saw': 1.0, 'looked': 1.0, 'needs': 1.0, 'from': 2.0, 'for': 1.0, 'everything': 1.0, 'had': 1.0, 'looking': 1.0, 'to': 1.0, 'tracker': 1.0, '4': 1.0, 'weeks': 1.0, 'was': 1.0, 'hope': 1.0, 'happy': 1.0, 'ends': 1.0, 'used': 1.0, 'that': 1.0, 'read': 1.0, 'what': 1.0, 'but': 1.0, 'delivery': 1.0, 'baby': 1.0, 'with': 1.0, 'like': 1.0, 'a': 1.0, 'down': 1.0, 'remember': 1.0, 'bought': 1.0, 'i': 6.0, 'of': 1.0, 'up': 1.0, 'reviews': 1.0, 'this': 1.0, 'write': 1.0, 'so': 1.0, 'very': 1.0, 'the': 1.0, 'first': 1.0, 'my': 1.0, 'at': 1.0}, {'and': 4.0, 'dad': 1.0, 'useful': 1.0, 've': 1.0, 'family': 1.0, 'people': 1.0, 'almost': 1.0, 'some': 1.0, 'it': 3.0, 'one': 3.0, 'see': 1.0, 'are': 1.0, 'another': 2.0, 'our': 1.0, 'bought': 1.0, 'what': 1.0, 'like': 1.0, 'i': 3.0, 'visiting': 1.0, 'things': 1.0, 'section': 1.0, 'that': 3.0, 'when': 1.0, 'write': 2.0, 'also': 1.0, 'much': 1.0, 'helps': 1.0, 'so': 2.0, 'has': 1.0, 'filled': 1.0, 'more': 1.0, 'development': 1.0, 'rummage': 1.0, 'we': 2.0, 'to': 3.0, 'loved': 1.0, 'use': 1.0, 'story': 1.0, 'soon': 1.0, 'ex': 1.0, 'feels': 1.0, 'connected': 1.0, 'too': 1.0, 'baby': 2.0, 'be': 2.0, 'with': 1.0, 'day': 2.0, 'buying': 1.0, 'room': 1.0, 'a': 1.0, 'helping': 1.0, 'about': 1.0, 'several': 1.0, 'especially': 1.0, 'this': 1.0, 'notes': 1.0, 'sale': 1.0, 'having': 1.0, 'will': 1.0, 'etc': 2.0, 's': 1.0, 'plus': 1.0, 'have': 1.0, 'found': 2.0, 'the': 3.0, 'happened': 1.0, 'book': 1.0, 'at': 1.0}, {'and': 1.0, 'all': 1.0, 've': 1.0, 'absolutely': 1.0, 'is': 2.0, 'am': 1.0, 'iparenting': 1.0, 'an': 1.0, 'parents': 1.0, 'as': 1.0, 'seen': 1.0, 'from': 1.0, 'for': 2.0, 'media': 1.0, 'winner': 1.0, 'better': 1.0, 'tracker': 1.0, '5': 1.0, 'it': 2.0, 'got': 1.0, 'worth': 1.0, 'then': 1.0, 'good': 1.0, 'organized': 1.0, 'getting': 1.0, 'friends': 1.0, 'new': 1.0, 'much': 1.0, 'reason': 1.0, 'part': 1.0, 'others': 1.0, 'baby': 1.0, 'extremely': 1.0, 'a': 1.0, 'package': 1.0, 'i': 3.0, 'starts': 1.0, 'work': 1.0, 'well': 1.0, 'this': 2.0, 'expecting': 1.0, 'of': 1.0, 'the': 2.0, 'my': 2.0}, {'and': 6.0, 'activities': 1.0, 'is': 2.0, 'feedings': 1.0, 'am': 1.0, 'it': 4.0, 'one': 1.0, 'down': 2.0, 'area': 1.0, 'something': 1.0, 'another': 1.0, 'in': 1.0, 'beyond': 1.0, 'your': 1.0, 'out': 1.0, 'perfect': 1.0, 'looking': 1.0, 'medications': 1.0, 'i': 5.0, 'for': 3.0, 'patterns': 2.0, 'ordering': 1.0, 'with': 1.0, 'extra': 1.0, 'when': 1.0, 'write': 2.0, 'to': 4.0, '3': 1.0, 'book': 1.0, 'lot': 1.0, 'new': 1.0, 'reminder': 1.0, 'has': 2.0, 'was': 1.0, 'happy': 1.0, 'be': 1.0, 'run': 1.0, 'that': 1.0, 'track': 1.0, 'appointments': 1.0, 'diaper': 1.0, 'mom': 1.0, 'baby': 2.0, 'dr': 1.0, 'sleeping': 1.0, 'extremely': 1.0, 'pages': 1.0, 'a': 3.0, 'great': 1.0, 'like': 1.0, 'anything': 1.0, 'this': 1.0, 'changes': 1.0, 'months': 1.0, 'm': 1.0, 'space': 1.0, 'daily': 1.0, 'will': 1.0, 'record': 1.0, 's': 2.0, 'of': 2.0, 'an': 1.0, 'the': 1.0, 'my': 1.0}, {'and': 1.0, 'love': 1.0, 'helpful': 1.0, 'for': 2.0, 'this': 2.0, 'easy': 1.0, 'first': 1.0, 'keep': 1.0, 'to': 1.0, 'book': 1.0, 'track': 1.0, 'pediatrician': 1.0, 'mom': 1.0, 'time': 1.0, 'sooooooooo': 1.0, 'appts': 1.0, 'super': 1.0, 'especially': 1.0}, {'and': 1.0, 'set': 1.0, 'often': 1.0, 'share': 1.0, 'it': 2.0, 'year': 1.0, 'for': 1.0, 'doctor': 1.0, 'to': 3.0, 'book': 1.0, 'was': 2.0, 'used': 1.0, 'eating': 1.0, 'track': 1.0, 'took': 1.0, 'how': 2.0, 'appointments': 1.0, 'important': 1.0, 'baby': 1.0, 'loved': 1.0, 'about': 1.0, 'i': 3.0, 'always': 1.0, 'up': 1.0, 'keep': 1.0, 'this': 1.0, 'she': 1.0, 'of': 1.0, 'everything': 2.0, 'the': 1.0, 'first': 1.0}, ... ]"
            ]
          },
          "metadata": {
            "tags": []
          },
          "execution_count": 37
        }
      ]
    },
    {
      "cell_type": "markdown",
      "metadata": {
        "id": "V_EKPpFX9sHv",
        "colab_type": "text"
      },
      "source": [
        "# Define what is positive and negative sentiment"
      ]
    },
    {
      "cell_type": "code",
      "metadata": {
        "id": "gZOCrsO59sHw",
        "colab_type": "code",
        "colab": {
          "base_uri": "https://localhost:8080/",
          "height": 808
        },
        "outputId": "8a306d81-24c3-4780-cebd-5b16d8405cfa"
      },
      "source": [
        "products['rating'].show()"
      ],
      "execution_count": 16,
      "outputs": [
        {
          "output_type": "display_data",
          "data": {
            "text/plain": [
              "Materializing SArray"
            ],
            "text/html": [
              "<pre>Materializing SArray</pre>"
            ]
          },
          "metadata": {
            "tags": []
          }
        },
        {
          "output_type": "display_data",
          "data": {
            "text/plain": [
              "<IPython.core.display.HTML object>"
            ],
            "text/html": [
              "<html>                 <body>                     <iframe style=\"border:0;margin:0\" width=\"920\" height=\"770\" srcdoc='<html lang=\"en\">                         <head>                             <script src=\"https://cdnjs.cloudflare.com/ajax/libs/vega/5.4.0/vega.js\"></script>                             <script src=\"https://cdnjs.cloudflare.com/ajax/libs/vega-embed/4.0.0/vega-embed.js\"></script>                             <script src=\"https://cdnjs.cloudflare.com/ajax/libs/vega-tooltip/0.5.1/vega-tooltip.min.js\"></script>                             <link rel=\"stylesheet\" type=\"text/css\" href=\"https://cdnjs.cloudflare.com/ajax/libs/vega-tooltip/0.5.1/vega-tooltip.min.css\">                             <style>                             .vega-actions > a{                                 color:white;                                 text-decoration: none;                                 font-family: \"Arial\";                                 cursor:pointer;                                 padding:5px;                                 background:#AAAAAA;                                 border-radius:4px;                                 padding-left:10px;                                 padding-right:10px;                                 margin-right:5px;                             }                             .vega-actions{                                 margin-top:20px;                                 text-align:center                             }                            .vega-actions > a{                                 background:#999999;                            }                             </style>                         </head>                         <body>                             <div id=\"vis\">                             </div>                             <script>                                 var vega_json = \"{\\\"signals\\\": [{\\\"name\\\": \\\"bins\\\", \\\"update\\\": \\\"data(\\\\\\\"bins_data\\\\\\\")[0]\\\"}, {\\\"name\\\": \\\"binCount\\\", \\\"update\\\": \\\"(bins.stop - bins.start) / bins.step\\\"}, {\\\"name\\\": \\\"nullGap\\\", \\\"update\\\": \\\"data(\\\\\\\"nulls\\\\\\\").length ? 10 : 0\\\"}, {\\\"name\\\": \\\"barStep\\\", \\\"update\\\": \\\"(width - nullGap) / (1 + binCount)\\\"}], \\\"autosize\\\": {\\\"contains\\\": \\\"padding\\\", \\\"type\\\": \\\"fit\\\", \\\"resize\\\": false}, \\\"axes\\\": [{\\\"grid\\\": true, \\\"scale\\\": \\\"xscale\\\", \\\"tickMinStep\\\": 1, \\\"orient\\\": \\\"bottom\\\", \\\"title\\\": \\\"Values\\\"}, {\\\"scale\\\": \\\"xscale-null\\\", \\\"orient\\\": \\\"bottom\\\"}, {\\\"scale\\\": \\\"yscale\\\", \\\"title\\\": \\\"Count\\\", \\\"tickCount\\\": 5, \\\"grid\\\": true, \\\"offset\\\": {\\\"signal\\\": \\\"nullGap ? 5 : 0\\\"}, \\\"orient\\\": \\\"left\\\"}], \\\"description\\\": \\\"A simple bar chart with embedded data.\\\", \\\"title\\\": \\\"Distribution of Values [integer]\\\", \\\"config\\\": {\\\"style\\\": {\\\"cell\\\": {\\\"stroke\\\": \\\"transparent\\\"}, \\\"rect\\\": {\\\"stroke\\\": \\\"rgba(200, 200, 200, 0.5)\\\"}, \\\"group-title\\\": {\\\"fontWeight\\\": \\\"normal\\\", \\\"font\\\": \\\"HelveticaNeue, Arial\\\", \\\"fontSize\\\": 29, \\\"fill\\\": \\\"rgba(0,0,0,0.65)\\\"}}, \\\"title\\\": {\\\"color\\\": \\\"rgba(0,0,0,0.847)\\\", \\\"fontWeight\\\": \\\"normal\\\", \\\"font\\\": \\\"\\\\\\\"San Francisco\\\\\\\", HelveticaNeue, Arial\\\", \\\"fontSize\\\": 18, \\\"offset\\\": 30}, \\\"axisY\\\": {\\\"minExtent\\\": 30}, \\\"range\\\": {\\\"heatmap\\\": {\\\"scheme\\\": \\\"greenblue\\\"}}, \\\"legend\\\": {\\\"labelFont\\\": \\\"\\\\\\\"San Francisco\\\\\\\", HelveticaNeue, Arial\\\", \\\"labelColor\\\": \\\"rgba(0,0,0,0.847)\\\", \\\"titleFont\\\": \\\"\\\\\\\"San Francisco\\\\\\\", HelveticaNeue, Arial\\\", \\\"cornerRadius\\\": 30, \\\"titleColor\\\": \\\"rgba(0,0,0,0.847)\\\", \\\"gradientLength\\\": 608}, \\\"axis\\\": {\\\"titlePadding\\\": 20, \\\"titleColor\\\": \\\"rgba(0,0,0,0.847)\\\", \\\"titleFont\\\": \\\"\\\\\\\"San Francisco\\\\\\\", HelveticaNeue, Arial\\\", \\\"labelPadding\\\": 10, \\\"labelFont\\\": \\\"\\\\\\\"San Francisco\\\\\\\", HelveticaNeue, Arial\\\", \\\"labelFontSize\\\": 12, \\\"labelColor\\\": \\\"rgba(0,0,0,0.847)\\\", \\\"gridColor\\\": \\\"rgba(204,204,204,1.0)\\\", \\\"titleFontSize\\\": 14, \\\"tickColor\\\": \\\"rgb(136,136,136)\\\", \\\"titleFontWeight\\\": \\\"normal\\\"}}, \\\"scales\\\": [{\\\"domain\\\": {\\\"fields\\\": [{\\\"field\\\": \\\"count\\\", \\\"data\\\": \\\"counts\\\"}, {\\\"field\\\": \\\"count\\\", \\\"data\\\": \\\"nulls\\\"}]}, \\\"name\\\": \\\"yscale\\\", \\\"range\\\": \\\"height\\\", \\\"type\\\": \\\"linear\\\", \\\"round\\\": true, \\\"nice\\\": true}, {\\\"domain\\\": {\\\"signal\\\": \\\"[bins.start, bins.stop]\\\"}, \\\"name\\\": \\\"xscale\\\", \\\"range\\\": [{\\\"signal\\\": \\\"nullGap ? barStep + nullGap : 0\\\"}, {\\\"signal\\\": \\\"width\\\"}], \\\"type\\\": \\\"linear\\\", \\\"round\\\": true, \\\"bins\\\": {\\\"signal\\\": \\\"bins\\\"}}, {\\\"range\\\": [{\\\"signal\\\": \\\"nullGap ? 0 : 1\\\"}, {\\\"signal\\\": \\\"nullGap ? barStep : 0\\\"}], \\\"type\\\": \\\"band\\\", \\\"name\\\": \\\"xscale-null\\\", \\\"domain\\\": [{\\\"signal\\\": \\\"nullGap ? null : &apos;&apos;\\\"}], \\\"round\\\": true}], \\\"style\\\": \\\"cell\\\", \\\"height\\\": 550, \\\"padding\\\": 8, \\\"width\\\": 720, \\\"marks\\\": [{\\\"encode\\\": {\\\"hover\\\": {\\\"fill\\\": {\\\"value\\\": \\\"#7EC2F3\\\"}}, \\\"update\\\": {\\\"x2\\\": {\\\"field\\\": \\\"right\\\", \\\"scale\\\": \\\"xscale\\\"}, \\\"x\\\": {\\\"field\\\": \\\"left\\\", \\\"scale\\\": \\\"xscale\\\", \\\"offset\\\": 1}, \\\"y2\\\": {\\\"scale\\\": \\\"yscale\\\", \\\"value\\\": 0}, \\\"y\\\": {\\\"field\\\": \\\"count\\\", \\\"scale\\\": \\\"yscale\\\"}, \\\"fill\\\": {\\\"value\\\": \\\"#108EE9\\\"}}}, \\\"from\\\": {\\\"data\\\": \\\"counts\\\"}, \\\"type\\\": \\\"rect\\\"}, {\\\"encode\\\": {\\\"hover\\\": {\\\"fill\\\": {\\\"value\\\": \\\"#7EC2F3\\\"}}, \\\"update\\\": {\\\"x2\\\": {\\\"band\\\": 1, \\\"scale\\\": \\\"xscale-null\\\"}, \\\"x\\\": {\\\"scale\\\": \\\"xscale-null\\\", \\\"value\\\": null, \\\"offset\\\": 1}, \\\"y2\\\": {\\\"scale\\\": \\\"yscale\\\", \\\"value\\\": 0}, \\\"y\\\": {\\\"field\\\": \\\"count\\\", \\\"scale\\\": \\\"yscale\\\"}, \\\"fill\\\": {\\\"value\\\": \\\"#108EE9\\\"}}}, \\\"from\\\": {\\\"data\\\": \\\"nulls\\\"}, \\\"type\\\": \\\"rect\\\"}], \\\"$schema\\\": \\\"https://vega.github.io/schema/vega/v4.json\\\", \\\"data\\\": [{\\\"values\\\": [{\\\"count\\\": 0, \\\"right\\\": -5, \\\"left\\\": -6}, {\\\"count\\\": 0, \\\"right\\\": -4, \\\"left\\\": -5}, {\\\"count\\\": 0, \\\"right\\\": -3, \\\"left\\\": -4}, {\\\"count\\\": 0, \\\"right\\\": -2, \\\"left\\\": -3}, {\\\"count\\\": 0, \\\"right\\\": -1, \\\"left\\\": -2}, {\\\"count\\\": 0, \\\"right\\\": 0, \\\"left\\\": -1}, {\\\"count\\\": 0, \\\"right\\\": 1, \\\"left\\\": 0}, {\\\"count\\\": 15183, \\\"right\\\": 2, \\\"left\\\": 1}, {\\\"count\\\": 11310, \\\"right\\\": 3, \\\"left\\\": 2}, {\\\"count\\\": 16779, \\\"right\\\": 4, \\\"left\\\": 3}, {\\\"count\\\": 33205, \\\"right\\\": 5, \\\"left\\\": 4}, {\\\"count\\\": 107054, \\\"right\\\": 6, \\\"left\\\": 5}, {\\\"count\\\": 0, \\\"right\\\": 7, \\\"left\\\": 6}, {\\\"count\\\": 0, \\\"right\\\": 8, \\\"left\\\": 7}, {\\\"count\\\": 0, \\\"right\\\": 9, \\\"left\\\": 8}, {\\\"count\\\": 0, \\\"right\\\": 10, \\\"left\\\": 9}, {\\\"count\\\": 0, \\\"right\\\": 11, \\\"left\\\": 10}, {\\\"count\\\": 0, \\\"right\\\": 12, \\\"left\\\": 11}, {\\\"count\\\": 0, \\\"right\\\": 13, \\\"left\\\": 12}, {\\\"count\\\": 0, \\\"right\\\": 14, \\\"left\\\": 13}, {\\\"start\\\": -6, \\\"step\\\": 1, \\\"stop\\\": 14}], \\\"name\\\": \\\"source_2\\\"}, {\\\"source\\\": \\\"source_2\\\", \\\"name\\\": \\\"counts\\\", \\\"transform\\\": [{\\\"expr\\\": \\\"datum[\\\\\\\"missing\\\\\\\"] !== true &amp;&amp; datum[\\\\\\\"count\\\\\\\"] != null\\\", \\\"type\\\": \\\"filter\\\"}]}, {\\\"source\\\": \\\"source_2\\\", \\\"name\\\": \\\"nulls\\\", \\\"transform\\\": [{\\\"expr\\\": \\\"datum[\\\\\\\"missing\\\\\\\"] === true &amp;&amp; datum[\\\\\\\"count\\\\\\\"] != null\\\", \\\"type\\\": \\\"filter\\\"}]}, {\\\"source\\\": \\\"source_2\\\", \\\"name\\\": \\\"bins_data\\\", \\\"transform\\\": [{\\\"expr\\\": \\\"datum[\\\\\\\"start\\\\\\\"] != null &amp;&amp; datum[\\\\\\\"stop\\\\\\\"] != null &amp;&amp; datum[\\\\\\\"step\\\\\\\"] != null\\\", \\\"type\\\": \\\"filter\\\"}]}]}\";                                 var vega_json_parsed = JSON.parse(vega_json);                                 var toolTipOpts = {                                     showAllFields: true                                 };                                 if(vega_json_parsed[\"metadata\"] != null){                                     if(vega_json_parsed[\"metadata\"][\"bubbleOpts\"] != null){                                         toolTipOpts = vega_json_parsed[\"metadata\"][\"bubbleOpts\"];                                     };                                 };                                 vegaEmbed(\"#vis\", vega_json_parsed).then(function (result) {                                     vegaTooltip.vega(result.view, toolTipOpts);                                  });                             </script>                         </body>                     </html>' src=\"demo_iframe_srcdoc.htm\">                         <p>Your browser does not support iframes.</p>                     </iframe>                 </body>             </html>"
            ]
          },
          "metadata": {
            "tags": []
          }
        }
      ]
    },
    {
      "cell_type": "code",
      "metadata": {
        "id": "2N1LmD1p9sH1",
        "colab_type": "code",
        "colab": {}
      },
      "source": [
        "#ignore all 3*  reviews\n",
        "products = products[products['rating']!= 3]"
      ],
      "execution_count": 17,
      "outputs": []
    },
    {
      "cell_type": "code",
      "metadata": {
        "id": "AlFfOxHS9sH5",
        "colab_type": "code",
        "colab": {}
      },
      "source": [
        "#positive sentiment = 4-star or 5-star reviews\n",
        "products['sentiment'] = products['rating'] >= 4"
      ],
      "execution_count": 18,
      "outputs": []
    },
    {
      "cell_type": "code",
      "metadata": {
        "id": "PqheH8bX9sH9",
        "colab_type": "code",
        "colab": {
          "base_uri": "https://localhost:8080/",
          "height": 457
        },
        "outputId": "8e1eaf25-4c59-4ef0-e72c-f44d136bf0b8"
      },
      "source": [
        "products"
      ],
      "execution_count": 19,
      "outputs": [
        {
          "output_type": "execute_result",
          "data": {
            "text/plain": [
              "Columns:\n",
              "\tname\tstr\n",
              "\treview\tstr\n",
              "\trating\tint\n",
              "\tword_count\tdict\n",
              "\tsentiment\tint\n",
              "\n",
              "Rows: 166752\n",
              "\n",
              "Data:\n",
              "+-------------------------------+-------------------------------+--------+\n",
              "|              name             |             review            | rating |\n",
              "+-------------------------------+-------------------------------+--------+\n",
              "|     Planetwise Wipe Pouch     | it came early and was not ... |   5    |\n",
              "| Annas Dream Full Quilt wit... | Very soft and comfortable ... |   5    |\n",
              "| Stop Pacifier Sucking with... | This is a product well wor... |   5    |\n",
              "| Stop Pacifier Sucking with... | All of my kids have cried ... |   5    |\n",
              "| Stop Pacifier Sucking with... | When the Binky Fairy came ... |   5    |\n",
              "| A Tale of Baby's Days with... | Lovely book, it's bound ti... |   4    |\n",
              "| Baby Tracker&reg; - Daily ... | Perfect for new parents. W... |   5    |\n",
              "| Baby Tracker&reg; - Daily ... | A friend of mine pinned th... |   5    |\n",
              "| Baby Tracker&reg; - Daily ... | This has been an easy way ... |   4    |\n",
              "| Baby Tracker&reg; - Daily ... | I love this journal and ou... |   4    |\n",
              "+-------------------------------+-------------------------------+--------+\n",
              "+-------------------------------+-----------+\n",
              "|           word_count          | sentiment |\n",
              "+-------------------------------+-----------+\n",
              "| {'and': 3.0, 'love': 1.0, ... |     1     |\n",
              "| {'and': 2.0, 'quilt': 1.0,... |     1     |\n",
              "| {'and': 3.0, 'ingenious': ... |     1     |\n",
              "| {'and': 2.0, 'this': 2.0, ... |     1     |\n",
              "| {'and': 2.0, 'cute': 1.0, ... |     1     |\n",
              "| {'shop': 1.0, 'be': 1.0, '... |     1     |\n",
              "| {'and': 2.0, 'all': 1.0, '... |     1     |\n",
              "| {'and': 1.0, 'fantastic': ... |     1     |\n",
              "| {'pre': 1.0, 'all': 1.0, '... |     1     |\n",
              "| {'all': 2.0, 'forget': 1.0... |     1     |\n",
              "+-------------------------------+-----------+\n",
              "[166752 rows x 5 columns]\n",
              "Note: Only the head of the SFrame is printed.\n",
              "You can use print_rows(num_rows=m, num_columns=n) to print more rows and columns."
            ],
            "text/html": [
              "<div style=\"max-height:1000px;max-width:1500px;overflow:auto;\"><table frame=\"box\" rules=\"cols\">\n",
              "    <tr>\n",
              "        <th style=\"padding-left: 1em; padding-right: 1em; text-align: center\">name</th>\n",
              "        <th style=\"padding-left: 1em; padding-right: 1em; text-align: center\">review</th>\n",
              "        <th style=\"padding-left: 1em; padding-right: 1em; text-align: center\">rating</th>\n",
              "        <th style=\"padding-left: 1em; padding-right: 1em; text-align: center\">word_count</th>\n",
              "        <th style=\"padding-left: 1em; padding-right: 1em; text-align: center\">sentiment</th>\n",
              "    </tr>\n",
              "    <tr>\n",
              "        <td style=\"padding-left: 1em; padding-right: 1em; text-align: center; vertical-align: top\">Planetwise Wipe Pouch</td>\n",
              "        <td style=\"padding-left: 1em; padding-right: 1em; text-align: center; vertical-align: top\">it came early and was not<br>disappointed. i love ...</td>\n",
              "        <td style=\"padding-left: 1em; padding-right: 1em; text-align: center; vertical-align: top\">5</td>\n",
              "        <td style=\"padding-left: 1em; padding-right: 1em; text-align: center; vertical-align: top\">{'and': 3.0, 'love': 1.0,<br>'it': 3.0, 'highly':  ...</td>\n",
              "        <td style=\"padding-left: 1em; padding-right: 1em; text-align: center; vertical-align: top\">1</td>\n",
              "    </tr>\n",
              "    <tr>\n",
              "        <td style=\"padding-left: 1em; padding-right: 1em; text-align: center; vertical-align: top\">Annas Dream Full Quilt<br>with 2 Shams ...</td>\n",
              "        <td style=\"padding-left: 1em; padding-right: 1em; text-align: center; vertical-align: top\">Very soft and comfortable<br>and warmer than it ...</td>\n",
              "        <td style=\"padding-left: 1em; padding-right: 1em; text-align: center; vertical-align: top\">5</td>\n",
              "        <td style=\"padding-left: 1em; padding-right: 1em; text-align: center; vertical-align: top\">{'and': 2.0, 'quilt':<br>1.0, 'it': 1.0, ...</td>\n",
              "        <td style=\"padding-left: 1em; padding-right: 1em; text-align: center; vertical-align: top\">1</td>\n",
              "    </tr>\n",
              "    <tr>\n",
              "        <td style=\"padding-left: 1em; padding-right: 1em; text-align: center; vertical-align: top\">Stop Pacifier Sucking<br>without tears with ...</td>\n",
              "        <td style=\"padding-left: 1em; padding-right: 1em; text-align: center; vertical-align: top\">This is a product well<br>worth the purchase.  I ...</td>\n",
              "        <td style=\"padding-left: 1em; padding-right: 1em; text-align: center; vertical-align: top\">5</td>\n",
              "        <td style=\"padding-left: 1em; padding-right: 1em; text-align: center; vertical-align: top\">{'and': 3.0, 'ingenious':<br>1.0, 'love': 2.0, 'is': ...</td>\n",
              "        <td style=\"padding-left: 1em; padding-right: 1em; text-align: center; vertical-align: top\">1</td>\n",
              "    </tr>\n",
              "    <tr>\n",
              "        <td style=\"padding-left: 1em; padding-right: 1em; text-align: center; vertical-align: top\">Stop Pacifier Sucking<br>without tears with ...</td>\n",
              "        <td style=\"padding-left: 1em; padding-right: 1em; text-align: center; vertical-align: top\">All of my kids have cried<br>non-stop when I tried to ...</td>\n",
              "        <td style=\"padding-left: 1em; padding-right: 1em; text-align: center; vertical-align: top\">5</td>\n",
              "        <td style=\"padding-left: 1em; padding-right: 1em; text-align: center; vertical-align: top\">{'and': 2.0, 'this': 2.0,<br>'all': 2.0, 'love': 1.0, ...</td>\n",
              "        <td style=\"padding-left: 1em; padding-right: 1em; text-align: center; vertical-align: top\">1</td>\n",
              "    </tr>\n",
              "    <tr>\n",
              "        <td style=\"padding-left: 1em; padding-right: 1em; text-align: center; vertical-align: top\">Stop Pacifier Sucking<br>without tears with ...</td>\n",
              "        <td style=\"padding-left: 1em; padding-right: 1em; text-align: center; vertical-align: top\">When the Binky Fairy came<br>to our house, we didn't ...</td>\n",
              "        <td style=\"padding-left: 1em; padding-right: 1em; text-align: center; vertical-align: top\">5</td>\n",
              "        <td style=\"padding-left: 1em; padding-right: 1em; text-align: center; vertical-align: top\">{'and': 2.0, 'cute': 1.0,<br>'help': 2.0, 'habit': ...</td>\n",
              "        <td style=\"padding-left: 1em; padding-right: 1em; text-align: center; vertical-align: top\">1</td>\n",
              "    </tr>\n",
              "    <tr>\n",
              "        <td style=\"padding-left: 1em; padding-right: 1em; text-align: center; vertical-align: top\">A Tale of Baby's Days<br>with Peter Rabbit ...</td>\n",
              "        <td style=\"padding-left: 1em; padding-right: 1em; text-align: center; vertical-align: top\">Lovely book, it's bound<br>tightly so you may no ...</td>\n",
              "        <td style=\"padding-left: 1em; padding-right: 1em; text-align: center; vertical-align: top\">4</td>\n",
              "        <td style=\"padding-left: 1em; padding-right: 1em; text-align: center; vertical-align: top\">{'shop': 1.0, 'be': 1.0,<br>'is': 1.0, 'bound': 1.0, ...</td>\n",
              "        <td style=\"padding-left: 1em; padding-right: 1em; text-align: center; vertical-align: top\">1</td>\n",
              "    </tr>\n",
              "    <tr>\n",
              "        <td style=\"padding-left: 1em; padding-right: 1em; text-align: center; vertical-align: top\">Baby Tracker&amp;reg; - Daily<br>Childcare Journal, ...</td>\n",
              "        <td style=\"padding-left: 1em; padding-right: 1em; text-align: center; vertical-align: top\">Perfect for new parents.<br>We were able to keep ...</td>\n",
              "        <td style=\"padding-left: 1em; padding-right: 1em; text-align: center; vertical-align: top\">5</td>\n",
              "        <td style=\"padding-left: 1em; padding-right: 1em; text-align: center; vertical-align: top\">{'and': 2.0, 'all': 1.0,<br>'right': 1.0, 'able': ...</td>\n",
              "        <td style=\"padding-left: 1em; padding-right: 1em; text-align: center; vertical-align: top\">1</td>\n",
              "    </tr>\n",
              "    <tr>\n",
              "        <td style=\"padding-left: 1em; padding-right: 1em; text-align: center; vertical-align: top\">Baby Tracker&amp;reg; - Daily<br>Childcare Journal, ...</td>\n",
              "        <td style=\"padding-left: 1em; padding-right: 1em; text-align: center; vertical-align: top\">A friend of mine pinned<br>this product on Pinte ...</td>\n",
              "        <td style=\"padding-left: 1em; padding-right: 1em; text-align: center; vertical-align: top\">5</td>\n",
              "        <td style=\"padding-left: 1em; padding-right: 1em; text-align: center; vertical-align: top\">{'and': 1.0, 'fantastic':<br>1.0, 'help': 1.0, 'gi ...</td>\n",
              "        <td style=\"padding-left: 1em; padding-right: 1em; text-align: center; vertical-align: top\">1</td>\n",
              "    </tr>\n",
              "    <tr>\n",
              "        <td style=\"padding-left: 1em; padding-right: 1em; text-align: center; vertical-align: top\">Baby Tracker&amp;reg; - Daily<br>Childcare Journal, ...</td>\n",
              "        <td style=\"padding-left: 1em; padding-right: 1em; text-align: center; vertical-align: top\">This has been an easy way<br>for my nanny to record ...</td>\n",
              "        <td style=\"padding-left: 1em; padding-right: 1em; text-align: center; vertical-align: top\">4</td>\n",
              "        <td style=\"padding-left: 1em; padding-right: 1em; text-align: center; vertical-align: top\">{'pre': 1.0, 'all': 1.0,<br>'standarad': 1.0, ...</td>\n",
              "        <td style=\"padding-left: 1em; padding-right: 1em; text-align: center; vertical-align: top\">1</td>\n",
              "    </tr>\n",
              "    <tr>\n",
              "        <td style=\"padding-left: 1em; padding-right: 1em; text-align: center; vertical-align: top\">Baby Tracker&amp;reg; - Daily<br>Childcare Journal, ...</td>\n",
              "        <td style=\"padding-left: 1em; padding-right: 1em; text-align: center; vertical-align: top\">I love this journal and<br>our nanny uses it ...</td>\n",
              "        <td style=\"padding-left: 1em; padding-right: 1em; text-align: center; vertical-align: top\">4</td>\n",
              "        <td style=\"padding-left: 1em; padding-right: 1em; text-align: center; vertical-align: top\">{'all': 2.0, 'forget':<br>1.0, 'just': 1.0, 'fo ...</td>\n",
              "        <td style=\"padding-left: 1em; padding-right: 1em; text-align: center; vertical-align: top\">1</td>\n",
              "    </tr>\n",
              "</table>\n",
              "[166752 rows x 5 columns]<br/>Note: Only the head of the SFrame is printed.<br/>You can use print_rows(num_rows=m, num_columns=n) to print more rows and columns.\n",
              "</div>"
            ]
          },
          "metadata": {
            "tags": []
          },
          "execution_count": 19
        }
      ]
    },
    {
      "cell_type": "code",
      "metadata": {
        "id": "E_3_kXa69sIC",
        "colab_type": "code",
        "colab": {
          "base_uri": "https://localhost:8080/",
          "height": 808
        },
        "outputId": "d00dd133-343c-4dbe-dcf3-c21f4f2265b0"
      },
      "source": [
        "products['sentiment'].show()"
      ],
      "execution_count": 20,
      "outputs": [
        {
          "output_type": "display_data",
          "data": {
            "text/plain": [
              "Materializing SArray"
            ],
            "text/html": [
              "<pre>Materializing SArray</pre>"
            ]
          },
          "metadata": {
            "tags": []
          }
        },
        {
          "output_type": "display_data",
          "data": {
            "text/plain": [
              "<IPython.core.display.HTML object>"
            ],
            "text/html": [
              "<html>                 <body>                     <iframe style=\"border:0;margin:0\" width=\"920\" height=\"770\" srcdoc='<html lang=\"en\">                         <head>                             <script src=\"https://cdnjs.cloudflare.com/ajax/libs/vega/5.4.0/vega.js\"></script>                             <script src=\"https://cdnjs.cloudflare.com/ajax/libs/vega-embed/4.0.0/vega-embed.js\"></script>                             <script src=\"https://cdnjs.cloudflare.com/ajax/libs/vega-tooltip/0.5.1/vega-tooltip.min.js\"></script>                             <link rel=\"stylesheet\" type=\"text/css\" href=\"https://cdnjs.cloudflare.com/ajax/libs/vega-tooltip/0.5.1/vega-tooltip.min.css\">                             <style>                             .vega-actions > a{                                 color:white;                                 text-decoration: none;                                 font-family: \"Arial\";                                 cursor:pointer;                                 padding:5px;                                 background:#AAAAAA;                                 border-radius:4px;                                 padding-left:10px;                                 padding-right:10px;                                 margin-right:5px;                             }                             .vega-actions{                                 margin-top:20px;                                 text-align:center                             }                            .vega-actions > a{                                 background:#999999;                            }                             </style>                         </head>                         <body>                             <div id=\"vis\">                             </div>                             <script>                                 var vega_json = \"{\\\"signals\\\": [{\\\"name\\\": \\\"bins\\\", \\\"update\\\": \\\"data(\\\\\\\"bins_data\\\\\\\")[0]\\\"}, {\\\"name\\\": \\\"binCount\\\", \\\"update\\\": \\\"(bins.stop - bins.start) / bins.step\\\"}, {\\\"name\\\": \\\"nullGap\\\", \\\"update\\\": \\\"data(\\\\\\\"nulls\\\\\\\").length ? 10 : 0\\\"}, {\\\"name\\\": \\\"barStep\\\", \\\"update\\\": \\\"(width - nullGap) / (1 + binCount)\\\"}], \\\"autosize\\\": {\\\"contains\\\": \\\"padding\\\", \\\"type\\\": \\\"fit\\\", \\\"resize\\\": false}, \\\"axes\\\": [{\\\"grid\\\": true, \\\"scale\\\": \\\"xscale\\\", \\\"tickMinStep\\\": 1, \\\"orient\\\": \\\"bottom\\\", \\\"title\\\": \\\"Values\\\"}, {\\\"scale\\\": \\\"xscale-null\\\", \\\"orient\\\": \\\"bottom\\\"}, {\\\"scale\\\": \\\"yscale\\\", \\\"title\\\": \\\"Count\\\", \\\"tickCount\\\": 5, \\\"grid\\\": true, \\\"offset\\\": {\\\"signal\\\": \\\"nullGap ? 5 : 0\\\"}, \\\"orient\\\": \\\"left\\\"}], \\\"description\\\": \\\"A simple bar chart with embedded data.\\\", \\\"title\\\": \\\"Distribution of Values [integer]\\\", \\\"config\\\": {\\\"style\\\": {\\\"cell\\\": {\\\"stroke\\\": \\\"transparent\\\"}, \\\"rect\\\": {\\\"stroke\\\": \\\"rgba(200, 200, 200, 0.5)\\\"}, \\\"group-title\\\": {\\\"fontWeight\\\": \\\"normal\\\", \\\"font\\\": \\\"HelveticaNeue, Arial\\\", \\\"fontSize\\\": 29, \\\"fill\\\": \\\"rgba(0,0,0,0.65)\\\"}}, \\\"title\\\": {\\\"color\\\": \\\"rgba(0,0,0,0.847)\\\", \\\"fontWeight\\\": \\\"normal\\\", \\\"font\\\": \\\"\\\\\\\"San Francisco\\\\\\\", HelveticaNeue, Arial\\\", \\\"fontSize\\\": 18, \\\"offset\\\": 30}, \\\"axisY\\\": {\\\"minExtent\\\": 30}, \\\"range\\\": {\\\"heatmap\\\": {\\\"scheme\\\": \\\"greenblue\\\"}}, \\\"legend\\\": {\\\"labelFont\\\": \\\"\\\\\\\"San Francisco\\\\\\\", HelveticaNeue, Arial\\\", \\\"labelColor\\\": \\\"rgba(0,0,0,0.847)\\\", \\\"titleFont\\\": \\\"\\\\\\\"San Francisco\\\\\\\", HelveticaNeue, Arial\\\", \\\"cornerRadius\\\": 30, \\\"titleColor\\\": \\\"rgba(0,0,0,0.847)\\\", \\\"gradientLength\\\": 608}, \\\"axis\\\": {\\\"titlePadding\\\": 20, \\\"titleColor\\\": \\\"rgba(0,0,0,0.847)\\\", \\\"titleFont\\\": \\\"\\\\\\\"San Francisco\\\\\\\", HelveticaNeue, Arial\\\", \\\"labelPadding\\\": 10, \\\"labelFont\\\": \\\"\\\\\\\"San Francisco\\\\\\\", HelveticaNeue, Arial\\\", \\\"labelFontSize\\\": 12, \\\"labelColor\\\": \\\"rgba(0,0,0,0.847)\\\", \\\"gridColor\\\": \\\"rgba(204,204,204,1.0)\\\", \\\"titleFontSize\\\": 14, \\\"tickColor\\\": \\\"rgb(136,136,136)\\\", \\\"titleFontWeight\\\": \\\"normal\\\"}}, \\\"scales\\\": [{\\\"domain\\\": {\\\"fields\\\": [{\\\"field\\\": \\\"count\\\", \\\"data\\\": \\\"counts\\\"}, {\\\"field\\\": \\\"count\\\", \\\"data\\\": \\\"nulls\\\"}]}, \\\"name\\\": \\\"yscale\\\", \\\"range\\\": \\\"height\\\", \\\"type\\\": \\\"linear\\\", \\\"round\\\": true, \\\"nice\\\": true}, {\\\"domain\\\": {\\\"signal\\\": \\\"[bins.start, bins.stop]\\\"}, \\\"name\\\": \\\"xscale\\\", \\\"range\\\": [{\\\"signal\\\": \\\"nullGap ? barStep + nullGap : 0\\\"}, {\\\"signal\\\": \\\"width\\\"}], \\\"type\\\": \\\"linear\\\", \\\"round\\\": true, \\\"bins\\\": {\\\"signal\\\": \\\"bins\\\"}}, {\\\"range\\\": [{\\\"signal\\\": \\\"nullGap ? 0 : 1\\\"}, {\\\"signal\\\": \\\"nullGap ? barStep : 0\\\"}], \\\"type\\\": \\\"band\\\", \\\"name\\\": \\\"xscale-null\\\", \\\"domain\\\": [{\\\"signal\\\": \\\"nullGap ? null : &apos;&apos;\\\"}], \\\"round\\\": true}], \\\"style\\\": \\\"cell\\\", \\\"height\\\": 550, \\\"padding\\\": 8, \\\"width\\\": 720, \\\"marks\\\": [{\\\"encode\\\": {\\\"hover\\\": {\\\"fill\\\": {\\\"value\\\": \\\"#7EC2F3\\\"}}, \\\"update\\\": {\\\"x2\\\": {\\\"field\\\": \\\"right\\\", \\\"scale\\\": \\\"xscale\\\"}, \\\"x\\\": {\\\"field\\\": \\\"left\\\", \\\"scale\\\": \\\"xscale\\\", \\\"offset\\\": 1}, \\\"y2\\\": {\\\"scale\\\": \\\"yscale\\\", \\\"value\\\": 0}, \\\"y\\\": {\\\"field\\\": \\\"count\\\", \\\"scale\\\": \\\"yscale\\\"}, \\\"fill\\\": {\\\"value\\\": \\\"#108EE9\\\"}}}, \\\"from\\\": {\\\"data\\\": \\\"counts\\\"}, \\\"type\\\": \\\"rect\\\"}, {\\\"encode\\\": {\\\"hover\\\": {\\\"fill\\\": {\\\"value\\\": \\\"#7EC2F3\\\"}}, \\\"update\\\": {\\\"x2\\\": {\\\"band\\\": 1, \\\"scale\\\": \\\"xscale-null\\\"}, \\\"x\\\": {\\\"scale\\\": \\\"xscale-null\\\", \\\"value\\\": null, \\\"offset\\\": 1}, \\\"y2\\\": {\\\"scale\\\": \\\"yscale\\\", \\\"value\\\": 0}, \\\"y\\\": {\\\"field\\\": \\\"count\\\", \\\"scale\\\": \\\"yscale\\\"}, \\\"fill\\\": {\\\"value\\\": \\\"#108EE9\\\"}}}, \\\"from\\\": {\\\"data\\\": \\\"nulls\\\"}, \\\"type\\\": \\\"rect\\\"}], \\\"$schema\\\": \\\"https://vega.github.io/schema/vega/v4.json\\\", \\\"data\\\": [{\\\"values\\\": [{\\\"count\\\": 0, \\\"right\\\": -8, \\\"left\\\": -9}, {\\\"count\\\": 0, \\\"right\\\": -7, \\\"left\\\": -8}, {\\\"count\\\": 0, \\\"right\\\": -6, \\\"left\\\": -7}, {\\\"count\\\": 0, \\\"right\\\": -5, \\\"left\\\": -6}, {\\\"count\\\": 0, \\\"right\\\": -4, \\\"left\\\": -5}, {\\\"count\\\": 0, \\\"right\\\": -3, \\\"left\\\": -4}, {\\\"count\\\": 0, \\\"right\\\": -2, \\\"left\\\": -3}, {\\\"count\\\": 0, \\\"right\\\": -1, \\\"left\\\": -2}, {\\\"count\\\": 0, \\\"right\\\": 0, \\\"left\\\": -1}, {\\\"count\\\": 26493, \\\"right\\\": 1, \\\"left\\\": 0}, {\\\"count\\\": 140259, \\\"right\\\": 2, \\\"left\\\": 1}, {\\\"count\\\": 0, \\\"right\\\": 3, \\\"left\\\": 2}, {\\\"count\\\": 0, \\\"right\\\": 4, \\\"left\\\": 3}, {\\\"count\\\": 0, \\\"right\\\": 5, \\\"left\\\": 4}, {\\\"count\\\": 0, \\\"right\\\": 6, \\\"left\\\": 5}, {\\\"count\\\": 0, \\\"right\\\": 7, \\\"left\\\": 6}, {\\\"count\\\": 0, \\\"right\\\": 8, \\\"left\\\": 7}, {\\\"count\\\": 0, \\\"right\\\": 9, \\\"left\\\": 8}, {\\\"count\\\": 0, \\\"right\\\": 10, \\\"left\\\": 9}, {\\\"count\\\": 0, \\\"right\\\": 11, \\\"left\\\": 10}, {\\\"start\\\": -9, \\\"step\\\": 1, \\\"stop\\\": 11}], \\\"name\\\": \\\"source_2\\\"}, {\\\"source\\\": \\\"source_2\\\", \\\"name\\\": \\\"counts\\\", \\\"transform\\\": [{\\\"expr\\\": \\\"datum[\\\\\\\"missing\\\\\\\"] !== true &amp;&amp; datum[\\\\\\\"count\\\\\\\"] != null\\\", \\\"type\\\": \\\"filter\\\"}]}, {\\\"source\\\": \\\"source_2\\\", \\\"name\\\": \\\"nulls\\\", \\\"transform\\\": [{\\\"expr\\\": \\\"datum[\\\\\\\"missing\\\\\\\"] === true &amp;&amp; datum[\\\\\\\"count\\\\\\\"] != null\\\", \\\"type\\\": \\\"filter\\\"}]}, {\\\"source\\\": \\\"source_2\\\", \\\"name\\\": \\\"bins_data\\\", \\\"transform\\\": [{\\\"expr\\\": \\\"datum[\\\\\\\"start\\\\\\\"] != null &amp;&amp; datum[\\\\\\\"stop\\\\\\\"] != null &amp;&amp; datum[\\\\\\\"step\\\\\\\"] != null\\\", \\\"type\\\": \\\"filter\\\"}]}]}\";                                 var vega_json_parsed = JSON.parse(vega_json);                                 var toolTipOpts = {                                     showAllFields: true                                 };                                 if(vega_json_parsed[\"metadata\"] != null){                                     if(vega_json_parsed[\"metadata\"][\"bubbleOpts\"] != null){                                         toolTipOpts = vega_json_parsed[\"metadata\"][\"bubbleOpts\"];                                     };                                 };                                 vegaEmbed(\"#vis\", vega_json_parsed).then(function (result) {                                     vegaTooltip.vega(result.view, toolTipOpts);                                  });                             </script>                         </body>                     </html>' src=\"demo_iframe_srcdoc.htm\">                         <p>Your browser does not support iframes.</p>                     </iframe>                 </body>             </html>"
            ]
          },
          "metadata": {
            "tags": []
          }
        }
      ]
    },
    {
      "cell_type": "markdown",
      "metadata": {
        "id": "FcVUH9BI9sIG",
        "colab_type": "text"
      },
      "source": [
        "# Train our sentiment classifier"
      ]
    },
    {
      "cell_type": "code",
      "metadata": {
        "id": "RSYwHXFY9sIH",
        "colab_type": "code",
        "colab": {}
      },
      "source": [
        "train_data,test_data = products.random_split(.8,seed=0)"
      ],
      "execution_count": 21,
      "outputs": []
    },
    {
      "cell_type": "code",
      "metadata": {
        "id": "6czKJsP59sIK",
        "colab_type": "code",
        "colab": {
          "base_uri": "https://localhost:8080/",
          "height": 347
        },
        "outputId": "9e1c0ebc-7f8a-4ea6-e531-86c466020637"
      },
      "source": [
        "sentiment_model = turicreate.logistic_classifier.create(train_data,target='sentiment', features=['word_count'], validation_set=test_data)"
      ],
      "execution_count": 22,
      "outputs": [
        {
          "output_type": "display_data",
          "data": {
            "text/plain": [
              "Logistic regression:"
            ],
            "text/html": [
              "<pre>Logistic regression:</pre>"
            ]
          },
          "metadata": {
            "tags": []
          }
        },
        {
          "output_type": "display_data",
          "data": {
            "text/plain": [
              "--------------------------------------------------------"
            ],
            "text/html": [
              "<pre>--------------------------------------------------------</pre>"
            ]
          },
          "metadata": {
            "tags": []
          }
        },
        {
          "output_type": "display_data",
          "data": {
            "text/plain": [
              "Number of examples          : 133448"
            ],
            "text/html": [
              "<pre>Number of examples          : 133448</pre>"
            ]
          },
          "metadata": {
            "tags": []
          }
        },
        {
          "output_type": "display_data",
          "data": {
            "text/plain": [
              "Number of classes           : 2"
            ],
            "text/html": [
              "<pre>Number of classes           : 2</pre>"
            ]
          },
          "metadata": {
            "tags": []
          }
        },
        {
          "output_type": "display_data",
          "data": {
            "text/plain": [
              "Number of feature columns   : 1"
            ],
            "text/html": [
              "<pre>Number of feature columns   : 1</pre>"
            ]
          },
          "metadata": {
            "tags": []
          }
        },
        {
          "output_type": "display_data",
          "data": {
            "text/plain": [
              "Number of unpacked features : 57356"
            ],
            "text/html": [
              "<pre>Number of unpacked features : 57356</pre>"
            ]
          },
          "metadata": {
            "tags": []
          }
        },
        {
          "output_type": "display_data",
          "data": {
            "text/plain": [
              "Number of coefficients      : 57357"
            ],
            "text/html": [
              "<pre>Number of coefficients      : 57357</pre>"
            ]
          },
          "metadata": {
            "tags": []
          }
        },
        {
          "output_type": "display_data",
          "data": {
            "text/plain": [
              "Starting L-BFGS"
            ],
            "text/html": [
              "<pre>Starting L-BFGS</pre>"
            ]
          },
          "metadata": {
            "tags": []
          }
        },
        {
          "output_type": "display_data",
          "data": {
            "text/plain": [
              "--------------------------------------------------------"
            ],
            "text/html": [
              "<pre>--------------------------------------------------------</pre>"
            ]
          },
          "metadata": {
            "tags": []
          }
        },
        {
          "output_type": "display_data",
          "data": {
            "text/plain": [
              "+-----------+----------+-----------+--------------+-------------------+---------------------+"
            ],
            "text/html": [
              "<pre>+-----------+----------+-----------+--------------+-------------------+---------------------+</pre>"
            ]
          },
          "metadata": {
            "tags": []
          }
        },
        {
          "output_type": "display_data",
          "data": {
            "text/plain": [
              "| Iteration | Passes   | Step size | Elapsed Time | Training Accuracy | Validation Accuracy |"
            ],
            "text/html": [
              "<pre>| Iteration | Passes   | Step size | Elapsed Time | Training Accuracy | Validation Accuracy |</pre>"
            ]
          },
          "metadata": {
            "tags": []
          }
        },
        {
          "output_type": "display_data",
          "data": {
            "text/plain": [
              "+-----------+----------+-----------+--------------+-------------------+---------------------+"
            ],
            "text/html": [
              "<pre>+-----------+----------+-----------+--------------+-------------------+---------------------+</pre>"
            ]
          },
          "metadata": {
            "tags": []
          }
        },
        {
          "output_type": "display_data",
          "data": {
            "text/plain": [
              "| 0         | 4        | 0.250000  | 2.400800     | 0.841421          | 0.840019            |"
            ],
            "text/html": [
              "<pre>| 0         | 4        | 0.250000  | 2.400800     | 0.841421          | 0.840019            |</pre>"
            ]
          },
          "metadata": {
            "tags": []
          }
        },
        {
          "output_type": "display_data",
          "data": {
            "text/plain": [
              "| 1         | 9        | 3.250000  | 4.311617     | 0.931359          | 0.911362            |"
            ],
            "text/html": [
              "<pre>| 1         | 9        | 3.250000  | 4.311617     | 0.931359          | 0.911362            |</pre>"
            ]
          },
          "metadata": {
            "tags": []
          }
        },
        {
          "output_type": "display_data",
          "data": {
            "text/plain": [
              "| 2         | 11       | 2.669978  | 5.246926     | 0.938650          | 0.916466            |"
            ],
            "text/html": [
              "<pre>| 2         | 11       | 2.669978  | 5.246926     | 0.938650          | 0.916466            |</pre>"
            ]
          },
          "metadata": {
            "tags": []
          }
        },
        {
          "output_type": "display_data",
          "data": {
            "text/plain": [
              "| 3         | 12       | 2.669978  | 5.918630     | 0.927417          | 0.901814            |"
            ],
            "text/html": [
              "<pre>| 3         | 12       | 2.669978  | 5.918630     | 0.927417          | 0.901814            |</pre>"
            ]
          },
          "metadata": {
            "tags": []
          }
        },
        {
          "output_type": "display_data",
          "data": {
            "text/plain": [
              "| 4         | 14       | 1.326072  | 6.980791     | 0.945200          | 0.918088            |"
            ],
            "text/html": [
              "<pre>| 4         | 14       | 1.326072  | 6.980791     | 0.945200          | 0.918088            |</pre>"
            ]
          },
          "metadata": {
            "tags": []
          }
        },
        {
          "output_type": "display_data",
          "data": {
            "text/plain": [
              "| 9         | 20       | 1.326072  | 10.394716    | 0.977654          | 0.917698            |"
            ],
            "text/html": [
              "<pre>| 9         | 20       | 1.326072  | 10.394716    | 0.977654          | 0.917698            |</pre>"
            ]
          },
          "metadata": {
            "tags": []
          }
        },
        {
          "output_type": "display_data",
          "data": {
            "text/plain": [
              "+-----------+----------+-----------+--------------+-------------------+---------------------+"
            ],
            "text/html": [
              "<pre>+-----------+----------+-----------+--------------+-------------------+---------------------+</pre>"
            ]
          },
          "metadata": {
            "tags": []
          }
        }
      ]
    },
    {
      "cell_type": "markdown",
      "metadata": {
        "id": "QsrJXkIf9sIN",
        "colab_type": "text"
      },
      "source": [
        "# Apply the sentiment classifier to better understand the Giraffe reviews"
      ]
    },
    {
      "cell_type": "code",
      "metadata": {
        "id": "5VkKW4hc9sIN",
        "colab_type": "code",
        "colab": {}
      },
      "source": [
        "products['predicted_sentiment'] = sentiment_model.predict(products, output_type = 'probability')"
      ],
      "execution_count": 23,
      "outputs": []
    },
    {
      "cell_type": "code",
      "metadata": {
        "id": "dt8H0H2n9sIQ",
        "colab_type": "code",
        "colab": {
          "base_uri": "https://localhost:8080/",
          "height": 672
        },
        "outputId": "d977343f-bbcc-4e97-9bf2-7cea66061f21"
      },
      "source": [
        "products"
      ],
      "execution_count": 24,
      "outputs": [
        {
          "output_type": "execute_result",
          "data": {
            "text/plain": [
              "Columns:\n",
              "\tname\tstr\n",
              "\treview\tstr\n",
              "\trating\tint\n",
              "\tword_count\tdict\n",
              "\tsentiment\tint\n",
              "\tpredicted_sentiment\tfloat\n",
              "\n",
              "Rows: 166752\n",
              "\n",
              "Data:\n",
              "+-------------------------------+-------------------------------+--------+\n",
              "|              name             |             review            | rating |\n",
              "+-------------------------------+-------------------------------+--------+\n",
              "|     Planetwise Wipe Pouch     | it came early and was not ... |   5    |\n",
              "| Annas Dream Full Quilt wit... | Very soft and comfortable ... |   5    |\n",
              "| Stop Pacifier Sucking with... | This is a product well wor... |   5    |\n",
              "| Stop Pacifier Sucking with... | All of my kids have cried ... |   5    |\n",
              "| Stop Pacifier Sucking with... | When the Binky Fairy came ... |   5    |\n",
              "| A Tale of Baby's Days with... | Lovely book, it's bound ti... |   4    |\n",
              "| Baby Tracker&reg; - Daily ... | Perfect for new parents. W... |   5    |\n",
              "| Baby Tracker&reg; - Daily ... | A friend of mine pinned th... |   5    |\n",
              "| Baby Tracker&reg; - Daily ... | This has been an easy way ... |   4    |\n",
              "| Baby Tracker&reg; - Daily ... | I love this journal and ou... |   4    |\n",
              "+-------------------------------+-------------------------------+--------+\n",
              "+-------------------------------+-----------+---------------------+\n",
              "|           word_count          | sentiment | predicted_sentiment |\n",
              "+-------------------------------+-----------+---------------------+\n",
              "| {'and': 3.0, 'love': 1.0, ... |     1     |    0.999730739005   |\n",
              "| {'and': 2.0, 'quilt': 1.0,... |     1     |    0.998508336832   |\n",
              "| {'and': 3.0, 'ingenious': ... |     1     |    0.99974890425    |\n",
              "| {'and': 2.0, 'this': 2.0, ... |     1     |    0.99999166254    |\n",
              "| {'and': 2.0, 'cute': 1.0, ... |     1     |    0.999999951446   |\n",
              "| {'shop': 1.0, 'be': 1.0, '... |     1     |    0.999914673557   |\n",
              "| {'and': 2.0, 'all': 1.0, '... |     1     |    0.99999166159    |\n",
              "| {'and': 1.0, 'fantastic': ... |     1     |    0.999993884359   |\n",
              "| {'pre': 1.0, 'all': 1.0, '... |     1     |    0.996124761701   |\n",
              "| {'all': 2.0, 'forget': 1.0... |     1     |    0.999999992046   |\n",
              "+-------------------------------+-----------+---------------------+\n",
              "[166752 rows x 6 columns]\n",
              "Note: Only the head of the SFrame is printed.\n",
              "You can use print_rows(num_rows=m, num_columns=n) to print more rows and columns."
            ],
            "text/html": [
              "<div style=\"max-height:1000px;max-width:1500px;overflow:auto;\"><table frame=\"box\" rules=\"cols\">\n",
              "    <tr>\n",
              "        <th style=\"padding-left: 1em; padding-right: 1em; text-align: center\">name</th>\n",
              "        <th style=\"padding-left: 1em; padding-right: 1em; text-align: center\">review</th>\n",
              "        <th style=\"padding-left: 1em; padding-right: 1em; text-align: center\">rating</th>\n",
              "        <th style=\"padding-left: 1em; padding-right: 1em; text-align: center\">word_count</th>\n",
              "        <th style=\"padding-left: 1em; padding-right: 1em; text-align: center\">sentiment</th>\n",
              "    </tr>\n",
              "    <tr>\n",
              "        <td style=\"padding-left: 1em; padding-right: 1em; text-align: center; vertical-align: top\">Planetwise Wipe Pouch</td>\n",
              "        <td style=\"padding-left: 1em; padding-right: 1em; text-align: center; vertical-align: top\">it came early and was not<br>disappointed. i love ...</td>\n",
              "        <td style=\"padding-left: 1em; padding-right: 1em; text-align: center; vertical-align: top\">5</td>\n",
              "        <td style=\"padding-left: 1em; padding-right: 1em; text-align: center; vertical-align: top\">{'and': 3.0, 'love': 1.0,<br>'it': 3.0, 'highly':  ...</td>\n",
              "        <td style=\"padding-left: 1em; padding-right: 1em; text-align: center; vertical-align: top\">1</td>\n",
              "    </tr>\n",
              "    <tr>\n",
              "        <td style=\"padding-left: 1em; padding-right: 1em; text-align: center; vertical-align: top\">Annas Dream Full Quilt<br>with 2 Shams ...</td>\n",
              "        <td style=\"padding-left: 1em; padding-right: 1em; text-align: center; vertical-align: top\">Very soft and comfortable<br>and warmer than it ...</td>\n",
              "        <td style=\"padding-left: 1em; padding-right: 1em; text-align: center; vertical-align: top\">5</td>\n",
              "        <td style=\"padding-left: 1em; padding-right: 1em; text-align: center; vertical-align: top\">{'and': 2.0, 'quilt':<br>1.0, 'it': 1.0, ...</td>\n",
              "        <td style=\"padding-left: 1em; padding-right: 1em; text-align: center; vertical-align: top\">1</td>\n",
              "    </tr>\n",
              "    <tr>\n",
              "        <td style=\"padding-left: 1em; padding-right: 1em; text-align: center; vertical-align: top\">Stop Pacifier Sucking<br>without tears with ...</td>\n",
              "        <td style=\"padding-left: 1em; padding-right: 1em; text-align: center; vertical-align: top\">This is a product well<br>worth the purchase.  I ...</td>\n",
              "        <td style=\"padding-left: 1em; padding-right: 1em; text-align: center; vertical-align: top\">5</td>\n",
              "        <td style=\"padding-left: 1em; padding-right: 1em; text-align: center; vertical-align: top\">{'and': 3.0, 'ingenious':<br>1.0, 'love': 2.0, 'is': ...</td>\n",
              "        <td style=\"padding-left: 1em; padding-right: 1em; text-align: center; vertical-align: top\">1</td>\n",
              "    </tr>\n",
              "    <tr>\n",
              "        <td style=\"padding-left: 1em; padding-right: 1em; text-align: center; vertical-align: top\">Stop Pacifier Sucking<br>without tears with ...</td>\n",
              "        <td style=\"padding-left: 1em; padding-right: 1em; text-align: center; vertical-align: top\">All of my kids have cried<br>non-stop when I tried to ...</td>\n",
              "        <td style=\"padding-left: 1em; padding-right: 1em; text-align: center; vertical-align: top\">5</td>\n",
              "        <td style=\"padding-left: 1em; padding-right: 1em; text-align: center; vertical-align: top\">{'and': 2.0, 'this': 2.0,<br>'all': 2.0, 'love': 1.0, ...</td>\n",
              "        <td style=\"padding-left: 1em; padding-right: 1em; text-align: center; vertical-align: top\">1</td>\n",
              "    </tr>\n",
              "    <tr>\n",
              "        <td style=\"padding-left: 1em; padding-right: 1em; text-align: center; vertical-align: top\">Stop Pacifier Sucking<br>without tears with ...</td>\n",
              "        <td style=\"padding-left: 1em; padding-right: 1em; text-align: center; vertical-align: top\">When the Binky Fairy came<br>to our house, we didn't ...</td>\n",
              "        <td style=\"padding-left: 1em; padding-right: 1em; text-align: center; vertical-align: top\">5</td>\n",
              "        <td style=\"padding-left: 1em; padding-right: 1em; text-align: center; vertical-align: top\">{'and': 2.0, 'cute': 1.0,<br>'help': 2.0, 'habit': ...</td>\n",
              "        <td style=\"padding-left: 1em; padding-right: 1em; text-align: center; vertical-align: top\">1</td>\n",
              "    </tr>\n",
              "    <tr>\n",
              "        <td style=\"padding-left: 1em; padding-right: 1em; text-align: center; vertical-align: top\">A Tale of Baby's Days<br>with Peter Rabbit ...</td>\n",
              "        <td style=\"padding-left: 1em; padding-right: 1em; text-align: center; vertical-align: top\">Lovely book, it's bound<br>tightly so you may no ...</td>\n",
              "        <td style=\"padding-left: 1em; padding-right: 1em; text-align: center; vertical-align: top\">4</td>\n",
              "        <td style=\"padding-left: 1em; padding-right: 1em; text-align: center; vertical-align: top\">{'shop': 1.0, 'be': 1.0,<br>'is': 1.0, 'bound': 1.0, ...</td>\n",
              "        <td style=\"padding-left: 1em; padding-right: 1em; text-align: center; vertical-align: top\">1</td>\n",
              "    </tr>\n",
              "    <tr>\n",
              "        <td style=\"padding-left: 1em; padding-right: 1em; text-align: center; vertical-align: top\">Baby Tracker&amp;reg; - Daily<br>Childcare Journal, ...</td>\n",
              "        <td style=\"padding-left: 1em; padding-right: 1em; text-align: center; vertical-align: top\">Perfect for new parents.<br>We were able to keep ...</td>\n",
              "        <td style=\"padding-left: 1em; padding-right: 1em; text-align: center; vertical-align: top\">5</td>\n",
              "        <td style=\"padding-left: 1em; padding-right: 1em; text-align: center; vertical-align: top\">{'and': 2.0, 'all': 1.0,<br>'right': 1.0, 'able': ...</td>\n",
              "        <td style=\"padding-left: 1em; padding-right: 1em; text-align: center; vertical-align: top\">1</td>\n",
              "    </tr>\n",
              "    <tr>\n",
              "        <td style=\"padding-left: 1em; padding-right: 1em; text-align: center; vertical-align: top\">Baby Tracker&amp;reg; - Daily<br>Childcare Journal, ...</td>\n",
              "        <td style=\"padding-left: 1em; padding-right: 1em; text-align: center; vertical-align: top\">A friend of mine pinned<br>this product on Pinte ...</td>\n",
              "        <td style=\"padding-left: 1em; padding-right: 1em; text-align: center; vertical-align: top\">5</td>\n",
              "        <td style=\"padding-left: 1em; padding-right: 1em; text-align: center; vertical-align: top\">{'and': 1.0, 'fantastic':<br>1.0, 'help': 1.0, 'gi ...</td>\n",
              "        <td style=\"padding-left: 1em; padding-right: 1em; text-align: center; vertical-align: top\">1</td>\n",
              "    </tr>\n",
              "    <tr>\n",
              "        <td style=\"padding-left: 1em; padding-right: 1em; text-align: center; vertical-align: top\">Baby Tracker&amp;reg; - Daily<br>Childcare Journal, ...</td>\n",
              "        <td style=\"padding-left: 1em; padding-right: 1em; text-align: center; vertical-align: top\">This has been an easy way<br>for my nanny to record ...</td>\n",
              "        <td style=\"padding-left: 1em; padding-right: 1em; text-align: center; vertical-align: top\">4</td>\n",
              "        <td style=\"padding-left: 1em; padding-right: 1em; text-align: center; vertical-align: top\">{'pre': 1.0, 'all': 1.0,<br>'standarad': 1.0, ...</td>\n",
              "        <td style=\"padding-left: 1em; padding-right: 1em; text-align: center; vertical-align: top\">1</td>\n",
              "    </tr>\n",
              "    <tr>\n",
              "        <td style=\"padding-left: 1em; padding-right: 1em; text-align: center; vertical-align: top\">Baby Tracker&amp;reg; - Daily<br>Childcare Journal, ...</td>\n",
              "        <td style=\"padding-left: 1em; padding-right: 1em; text-align: center; vertical-align: top\">I love this journal and<br>our nanny uses it ...</td>\n",
              "        <td style=\"padding-left: 1em; padding-right: 1em; text-align: center; vertical-align: top\">4</td>\n",
              "        <td style=\"padding-left: 1em; padding-right: 1em; text-align: center; vertical-align: top\">{'all': 2.0, 'forget':<br>1.0, 'just': 1.0, 'fo ...</td>\n",
              "        <td style=\"padding-left: 1em; padding-right: 1em; text-align: center; vertical-align: top\">1</td>\n",
              "    </tr>\n",
              "</table>\n",
              "<table frame=\"box\" rules=\"cols\">\n",
              "    <tr>\n",
              "        <th style=\"padding-left: 1em; padding-right: 1em; text-align: center\">predicted_sentiment</th>\n",
              "    </tr>\n",
              "    <tr>\n",
              "        <td style=\"padding-left: 1em; padding-right: 1em; text-align: center; vertical-align: top\">0.999730739005</td>\n",
              "    </tr>\n",
              "    <tr>\n",
              "        <td style=\"padding-left: 1em; padding-right: 1em; text-align: center; vertical-align: top\">0.998508336832</td>\n",
              "    </tr>\n",
              "    <tr>\n",
              "        <td style=\"padding-left: 1em; padding-right: 1em; text-align: center; vertical-align: top\">0.99974890425</td>\n",
              "    </tr>\n",
              "    <tr>\n",
              "        <td style=\"padding-left: 1em; padding-right: 1em; text-align: center; vertical-align: top\">0.99999166254</td>\n",
              "    </tr>\n",
              "    <tr>\n",
              "        <td style=\"padding-left: 1em; padding-right: 1em; text-align: center; vertical-align: top\">0.999999951446</td>\n",
              "    </tr>\n",
              "    <tr>\n",
              "        <td style=\"padding-left: 1em; padding-right: 1em; text-align: center; vertical-align: top\">0.999914673557</td>\n",
              "    </tr>\n",
              "    <tr>\n",
              "        <td style=\"padding-left: 1em; padding-right: 1em; text-align: center; vertical-align: top\">0.99999166159</td>\n",
              "    </tr>\n",
              "    <tr>\n",
              "        <td style=\"padding-left: 1em; padding-right: 1em; text-align: center; vertical-align: top\">0.999993884359</td>\n",
              "    </tr>\n",
              "    <tr>\n",
              "        <td style=\"padding-left: 1em; padding-right: 1em; text-align: center; vertical-align: top\">0.996124761701</td>\n",
              "    </tr>\n",
              "    <tr>\n",
              "        <td style=\"padding-left: 1em; padding-right: 1em; text-align: center; vertical-align: top\">0.999999992046</td>\n",
              "    </tr>\n",
              "</table>\n",
              "[166752 rows x 6 columns]<br/>Note: Only the head of the SFrame is printed.<br/>You can use print_rows(num_rows=m, num_columns=n) to print more rows and columns.\n",
              "</div>"
            ]
          },
          "metadata": {
            "tags": []
          },
          "execution_count": 24
        }
      ]
    },
    {
      "cell_type": "code",
      "metadata": {
        "id": "rcRwefH39sIV",
        "colab_type": "code",
        "colab": {}
      },
      "source": [
        "giraffe_reviews = products[products['name']== 'Vulli Sophie the Giraffe Teether']"
      ],
      "execution_count": 25,
      "outputs": []
    },
    {
      "cell_type": "code",
      "metadata": {
        "id": "TCMm0fsd9sIY",
        "colab_type": "code",
        "colab": {
          "base_uri": "https://localhost:8080/",
          "height": 672
        },
        "outputId": "74443120-b4e0-4ebd-8913-9907954db28e"
      },
      "source": [
        "giraffe_reviews"
      ],
      "execution_count": 26,
      "outputs": [
        {
          "output_type": "execute_result",
          "data": {
            "text/plain": [
              "Columns:\n",
              "\tname\tstr\n",
              "\treview\tstr\n",
              "\trating\tint\n",
              "\tword_count\tdict\n",
              "\tsentiment\tint\n",
              "\tpredicted_sentiment\tfloat\n",
              "\n",
              "Rows: Unknown\n",
              "\n",
              "Data:\n",
              "+-------------------------------+-------------------------------+--------+\n",
              "|              name             |             review            | rating |\n",
              "+-------------------------------+-------------------------------+--------+\n",
              "| Vulli Sophie the Giraffe T... | He likes chewing on all th... |   5    |\n",
              "| Vulli Sophie the Giraffe T... | My son loves this toy and ... |   5    |\n",
              "| Vulli Sophie the Giraffe T... | There really should be a l... |   1    |\n",
              "| Vulli Sophie the Giraffe T... | All the moms in my moms' g... |   5    |\n",
              "| Vulli Sophie the Giraffe T... | I was a little skeptical o... |   5    |\n",
              "| Vulli Sophie the Giraffe T... | I have been reading about ... |   5    |\n",
              "| Vulli Sophie the Giraffe T... | My neice loves her sophie ... |   5    |\n",
              "| Vulli Sophie the Giraffe T... | What a friendly face!  And... |   5    |\n",
              "| Vulli Sophie the Giraffe T... | We got this just for my so... |   5    |\n",
              "| Vulli Sophie the Giraffe T... | This product is without a ... |   5    |\n",
              "+-------------------------------+-------------------------------+--------+\n",
              "+-------------------------------+-----------+---------------------+\n",
              "|           word_count          | sentiment | predicted_sentiment |\n",
              "+-------------------------------+-----------+---------------------+\n",
              "| {'and': 1.0, 'all': 1.0, '... |     1     |    0.999365536568   |\n",
              "| {'and': 1.0, 'right': 1.0,... |     1     |    0.999863379169   |\n",
              "| {'and': 2.0, 'all': 1.0, '... |     0     |    0.25452681982    |\n",
              "| {'and': 2.0, 'all': 1.0, '... |     1     |    0.916568808394   |\n",
              "| {'and': 3.0, 'all': 1.0, '... |     1     |    0.685576820602   |\n",
              "| {'and': 6.0, 'seven': 1.0,... |     1     |    0.999999944521   |\n",
              "| {'and': 4.0, 'drooling': 1... |     1     |    0.997935118109   |\n",
              "| {'and': 3.0, 'chew': 1.0, ... |     1     |    0.999974500483   |\n",
              "| {'chew': 2.0, 'because': 1... |     1     |    0.946014442839   |\n",
              "| {'and': 4.0, 'everyone': 1... |     1     |    0.999999972167   |\n",
              "+-------------------------------+-----------+---------------------+\n",
              "[? rows x 6 columns]\n",
              "Note: Only the head of the SFrame is printed. This SFrame is lazily evaluated.\n",
              "You can use sf.materialize() to force materialization."
            ],
            "text/html": [
              "<div style=\"max-height:1000px;max-width:1500px;overflow:auto;\"><table frame=\"box\" rules=\"cols\">\n",
              "    <tr>\n",
              "        <th style=\"padding-left: 1em; padding-right: 1em; text-align: center\">name</th>\n",
              "        <th style=\"padding-left: 1em; padding-right: 1em; text-align: center\">review</th>\n",
              "        <th style=\"padding-left: 1em; padding-right: 1em; text-align: center\">rating</th>\n",
              "        <th style=\"padding-left: 1em; padding-right: 1em; text-align: center\">word_count</th>\n",
              "        <th style=\"padding-left: 1em; padding-right: 1em; text-align: center\">sentiment</th>\n",
              "    </tr>\n",
              "    <tr>\n",
              "        <td style=\"padding-left: 1em; padding-right: 1em; text-align: center; vertical-align: top\">Vulli Sophie the Giraffe<br>Teether ...</td>\n",
              "        <td style=\"padding-left: 1em; padding-right: 1em; text-align: center; vertical-align: top\">He likes chewing on all<br>the parts especially the ...</td>\n",
              "        <td style=\"padding-left: 1em; padding-right: 1em; text-align: center; vertical-align: top\">5</td>\n",
              "        <td style=\"padding-left: 1em; padding-right: 1em; text-align: center; vertical-align: top\">{'and': 1.0, 'all': 1.0,<br>'because': 1.0, 'it': ...</td>\n",
              "        <td style=\"padding-left: 1em; padding-right: 1em; text-align: center; vertical-align: top\">1</td>\n",
              "    </tr>\n",
              "    <tr>\n",
              "        <td style=\"padding-left: 1em; padding-right: 1em; text-align: center; vertical-align: top\">Vulli Sophie the Giraffe<br>Teether ...</td>\n",
              "        <td style=\"padding-left: 1em; padding-right: 1em; text-align: center; vertical-align: top\">My son loves this toy and<br>fits great in the diaper ...</td>\n",
              "        <td style=\"padding-left: 1em; padding-right: 1em; text-align: center; vertical-align: top\">5</td>\n",
              "        <td style=\"padding-left: 1em; padding-right: 1em; text-align: center; vertical-align: top\">{'and': 1.0, 'right':<br>1.0, 'help': 1.0, 'ju ...</td>\n",
              "        <td style=\"padding-left: 1em; padding-right: 1em; text-align: center; vertical-align: top\">1</td>\n",
              "    </tr>\n",
              "    <tr>\n",
              "        <td style=\"padding-left: 1em; padding-right: 1em; text-align: center; vertical-align: top\">Vulli Sophie the Giraffe<br>Teether ...</td>\n",
              "        <td style=\"padding-left: 1em; padding-right: 1em; text-align: center; vertical-align: top\">There really should be a<br>large warning on the  ...</td>\n",
              "        <td style=\"padding-left: 1em; padding-right: 1em; text-align: center; vertical-align: top\">1</td>\n",
              "        <td style=\"padding-left: 1em; padding-right: 1em; text-align: center; vertical-align: top\">{'and': 2.0, 'all': 1.0,<br>'being': 1.0, 'caused': ...</td>\n",
              "        <td style=\"padding-left: 1em; padding-right: 1em; text-align: center; vertical-align: top\">0</td>\n",
              "    </tr>\n",
              "    <tr>\n",
              "        <td style=\"padding-left: 1em; padding-right: 1em; text-align: center; vertical-align: top\">Vulli Sophie the Giraffe<br>Teether ...</td>\n",
              "        <td style=\"padding-left: 1em; padding-right: 1em; text-align: center; vertical-align: top\">All the moms in my moms'<br>group got Sophie for ...</td>\n",
              "        <td style=\"padding-left: 1em; padding-right: 1em; text-align: center; vertical-align: top\">5</td>\n",
              "        <td style=\"padding-left: 1em; padding-right: 1em; text-align: center; vertical-align: top\">{'and': 2.0, 'all': 1.0,<br>'love': 1.0, 'have':  ...</td>\n",
              "        <td style=\"padding-left: 1em; padding-right: 1em; text-align: center; vertical-align: top\">1</td>\n",
              "    </tr>\n",
              "    <tr>\n",
              "        <td style=\"padding-left: 1em; padding-right: 1em; text-align: center; vertical-align: top\">Vulli Sophie the Giraffe<br>Teether ...</td>\n",
              "        <td style=\"padding-left: 1em; padding-right: 1em; text-align: center; vertical-align: top\">I was a little skeptical<br>on whether Sophie was ...</td>\n",
              "        <td style=\"padding-left: 1em; padding-right: 1em; text-align: center; vertical-align: top\">5</td>\n",
              "        <td style=\"padding-left: 1em; padding-right: 1em; text-align: center; vertical-align: top\">{'and': 3.0, 'all': 1.0,<br>'old': 1.0, 'almost': ...</td>\n",
              "        <td style=\"padding-left: 1em; padding-right: 1em; text-align: center; vertical-align: top\">1</td>\n",
              "    </tr>\n",
              "    <tr>\n",
              "        <td style=\"padding-left: 1em; padding-right: 1em; text-align: center; vertical-align: top\">Vulli Sophie the Giraffe<br>Teether ...</td>\n",
              "        <td style=\"padding-left: 1em; padding-right: 1em; text-align: center; vertical-align: top\">I have been reading about<br>Sophie and was going  ...</td>\n",
              "        <td style=\"padding-left: 1em; padding-right: 1em; text-align: center; vertical-align: top\">5</td>\n",
              "        <td style=\"padding-left: 1em; padding-right: 1em; text-align: center; vertical-align: top\">{'and': 6.0, 'seven':<br>1.0, 'already': 1.0, ...</td>\n",
              "        <td style=\"padding-left: 1em; padding-right: 1em; text-align: center; vertical-align: top\">1</td>\n",
              "    </tr>\n",
              "    <tr>\n",
              "        <td style=\"padding-left: 1em; padding-right: 1em; text-align: center; vertical-align: top\">Vulli Sophie the Giraffe<br>Teether ...</td>\n",
              "        <td style=\"padding-left: 1em; padding-right: 1em; text-align: center; vertical-align: top\">My neice loves her sophie<br>and has spent hours ...</td>\n",
              "        <td style=\"padding-left: 1em; padding-right: 1em; text-align: center; vertical-align: top\">5</td>\n",
              "        <td style=\"padding-left: 1em; padding-right: 1em; text-align: center; vertical-align: top\">{'and': 4.0, 'drooling':<br>1.0, 'additionally':  ...</td>\n",
              "        <td style=\"padding-left: 1em; padding-right: 1em; text-align: center; vertical-align: top\">1</td>\n",
              "    </tr>\n",
              "    <tr>\n",
              "        <td style=\"padding-left: 1em; padding-right: 1em; text-align: center; vertical-align: top\">Vulli Sophie the Giraffe<br>Teether ...</td>\n",
              "        <td style=\"padding-left: 1em; padding-right: 1em; text-align: center; vertical-align: top\">What a friendly face!<br>And those mesmerizing ...</td>\n",
              "        <td style=\"padding-left: 1em; padding-right: 1em; text-align: center; vertical-align: top\">5</td>\n",
              "        <td style=\"padding-left: 1em; padding-right: 1em; text-align: center; vertical-align: top\">{'and': 3.0, 'chew': 1.0,<br>'sweet': 1.0, 'is': 1.0, ...</td>\n",
              "        <td style=\"padding-left: 1em; padding-right: 1em; text-align: center; vertical-align: top\">1</td>\n",
              "    </tr>\n",
              "    <tr>\n",
              "        <td style=\"padding-left: 1em; padding-right: 1em; text-align: center; vertical-align: top\">Vulli Sophie the Giraffe<br>Teether ...</td>\n",
              "        <td style=\"padding-left: 1em; padding-right: 1em; text-align: center; vertical-align: top\">We got this just for my<br>son to chew on instea ...</td>\n",
              "        <td style=\"padding-left: 1em; padding-right: 1em; text-align: center; vertical-align: top\">5</td>\n",
              "        <td style=\"padding-left: 1em; padding-right: 1em; text-align: center; vertical-align: top\">{'chew': 2.0, 'because':<br>1.0, 'just': 2.0, 'fe ...</td>\n",
              "        <td style=\"padding-left: 1em; padding-right: 1em; text-align: center; vertical-align: top\">1</td>\n",
              "    </tr>\n",
              "    <tr>\n",
              "        <td style=\"padding-left: 1em; padding-right: 1em; text-align: center; vertical-align: top\">Vulli Sophie the Giraffe<br>Teether ...</td>\n",
              "        <td style=\"padding-left: 1em; padding-right: 1em; text-align: center; vertical-align: top\">This product is without a<br>doubt the best on the ...</td>\n",
              "        <td style=\"padding-left: 1em; padding-right: 1em; text-align: center; vertical-align: top\">5</td>\n",
              "        <td style=\"padding-left: 1em; padding-right: 1em; text-align: center; vertical-align: top\">{'and': 4.0, 'everyone':<br>1.0, 'teething': 1.0, ...</td>\n",
              "        <td style=\"padding-left: 1em; padding-right: 1em; text-align: center; vertical-align: top\">1</td>\n",
              "    </tr>\n",
              "</table>\n",
              "<table frame=\"box\" rules=\"cols\">\n",
              "    <tr>\n",
              "        <th style=\"padding-left: 1em; padding-right: 1em; text-align: center\">predicted_sentiment</th>\n",
              "    </tr>\n",
              "    <tr>\n",
              "        <td style=\"padding-left: 1em; padding-right: 1em; text-align: center; vertical-align: top\">0.999365536568</td>\n",
              "    </tr>\n",
              "    <tr>\n",
              "        <td style=\"padding-left: 1em; padding-right: 1em; text-align: center; vertical-align: top\">0.999863379169</td>\n",
              "    </tr>\n",
              "    <tr>\n",
              "        <td style=\"padding-left: 1em; padding-right: 1em; text-align: center; vertical-align: top\">0.25452681982</td>\n",
              "    </tr>\n",
              "    <tr>\n",
              "        <td style=\"padding-left: 1em; padding-right: 1em; text-align: center; vertical-align: top\">0.916568808394</td>\n",
              "    </tr>\n",
              "    <tr>\n",
              "        <td style=\"padding-left: 1em; padding-right: 1em; text-align: center; vertical-align: top\">0.685576820602</td>\n",
              "    </tr>\n",
              "    <tr>\n",
              "        <td style=\"padding-left: 1em; padding-right: 1em; text-align: center; vertical-align: top\">0.999999944521</td>\n",
              "    </tr>\n",
              "    <tr>\n",
              "        <td style=\"padding-left: 1em; padding-right: 1em; text-align: center; vertical-align: top\">0.997935118109</td>\n",
              "    </tr>\n",
              "    <tr>\n",
              "        <td style=\"padding-left: 1em; padding-right: 1em; text-align: center; vertical-align: top\">0.999974500483</td>\n",
              "    </tr>\n",
              "    <tr>\n",
              "        <td style=\"padding-left: 1em; padding-right: 1em; text-align: center; vertical-align: top\">0.946014442839</td>\n",
              "    </tr>\n",
              "    <tr>\n",
              "        <td style=\"padding-left: 1em; padding-right: 1em; text-align: center; vertical-align: top\">0.999999972167</td>\n",
              "    </tr>\n",
              "</table>\n",
              "[? rows x 6 columns]<br/>Note: Only the head of the SFrame is printed. This SFrame is lazily evaluated.<br/>You can use sf.materialize() to force materialization.\n",
              "</div>"
            ]
          },
          "metadata": {
            "tags": []
          },
          "execution_count": 26
        }
      ]
    },
    {
      "cell_type": "markdown",
      "metadata": {
        "id": "xRP4Jwmx9sIc",
        "colab_type": "text"
      },
      "source": [
        "# Sort the Giraffe reviews according to predicted sentiment"
      ]
    },
    {
      "cell_type": "code",
      "metadata": {
        "id": "gabq0jd_9sId",
        "colab_type": "code",
        "colab": {}
      },
      "source": [
        "giraffe_reviews = giraffe_reviews.sort('predicted_sentiment', ascending=False)"
      ],
      "execution_count": 27,
      "outputs": []
    },
    {
      "cell_type": "code",
      "metadata": {
        "id": "vQW4EAzK9sIh",
        "colab_type": "code",
        "colab": {
          "base_uri": "https://localhost:8080/",
          "height": 672
        },
        "outputId": "becdd7ab-67bd-41ea-95a0-a9f86cbce0af"
      },
      "source": [
        "giraffe_reviews"
      ],
      "execution_count": 28,
      "outputs": [
        {
          "output_type": "execute_result",
          "data": {
            "text/plain": [
              "Columns:\n",
              "\tname\tstr\n",
              "\treview\tstr\n",
              "\trating\tint\n",
              "\tword_count\tdict\n",
              "\tsentiment\tint\n",
              "\tpredicted_sentiment\tfloat\n",
              "\n",
              "Rows: 723\n",
              "\n",
              "Data:\n",
              "+-------------------------------+-------------------------------+--------+\n",
              "|              name             |             review            | rating |\n",
              "+-------------------------------+-------------------------------+--------+\n",
              "| Vulli Sophie the Giraffe T... | Sophie, oh Sophie, your ti... |   5    |\n",
              "| Vulli Sophie the Giraffe T... | I'll be honest...I bought ... |   4    |\n",
              "| Vulli Sophie the Giraffe T... | As a mother of 16month old... |   5    |\n",
              "| Vulli Sophie the Giraffe T... | We got this little giraffe... |   5    |\n",
              "| Vulli Sophie the Giraffe T... | As every mom knows, you al... |   5    |\n",
              "| Vulli Sophie the Giraffe T... | My Mom-in-Law bought Sophi... |   5    |\n",
              "| Vulli Sophie the Giraffe T... | My 4 month old son is teet... |   4    |\n",
              "| Vulli Sophie the Giraffe T... | Let me just start off by a... |   5    |\n",
              "| Vulli Sophie the Giraffe T... | I'm not sure why Sophie is... |   4    |\n",
              "| Vulli Sophie the Giraffe T... | I admit, I didn't get Soph... |   4    |\n",
              "+-------------------------------+-------------------------------+--------+\n",
              "+-------------------------------+-----------+---------------------+\n",
              "|           word_count          | sentiment | predicted_sentiment |\n",
              "+-------------------------------+-----------+---------------------+\n",
              "| {'giggles': 1.0, 'all': 1.... |     1     |         1.0         |\n",
              "| {'all': 2.0, 'pops': 1.0, ... |     1     |         1.0         |\n",
              "| {'cute': 1.0, 'all': 2.0, ... |     1     |         1.0         |\n",
              "| {'all': 2.0, 'baby': 1.0, ... |     1     |         1.0         |\n",
              "| {'cute': 1.0, 'all': 1.0, ... |     1     |         1.0         |\n",
              "| {'think': 1.0, 'they': 1.0... |     1     |         1.0         |\n",
              "| {'cute': 1.0, 'all': 2.0, ... |     1     |    0.999999999999   |\n",
              "| {'just': 3.0, 'when': 3.0,... |     1     |    0.999999999994   |\n",
              "| {'peace': 1.0, 'month': 1.... |     1     |    0.999999999987   |\n",
              "| {'cute': 1.0, 'just': 1.0,... |     1     |    0.999999999983   |\n",
              "+-------------------------------+-----------+---------------------+\n",
              "[723 rows x 6 columns]\n",
              "Note: Only the head of the SFrame is printed.\n",
              "You can use print_rows(num_rows=m, num_columns=n) to print more rows and columns."
            ],
            "text/html": [
              "<div style=\"max-height:1000px;max-width:1500px;overflow:auto;\"><table frame=\"box\" rules=\"cols\">\n",
              "    <tr>\n",
              "        <th style=\"padding-left: 1em; padding-right: 1em; text-align: center\">name</th>\n",
              "        <th style=\"padding-left: 1em; padding-right: 1em; text-align: center\">review</th>\n",
              "        <th style=\"padding-left: 1em; padding-right: 1em; text-align: center\">rating</th>\n",
              "        <th style=\"padding-left: 1em; padding-right: 1em; text-align: center\">word_count</th>\n",
              "        <th style=\"padding-left: 1em; padding-right: 1em; text-align: center\">sentiment</th>\n",
              "    </tr>\n",
              "    <tr>\n",
              "        <td style=\"padding-left: 1em; padding-right: 1em; text-align: center; vertical-align: top\">Vulli Sophie the Giraffe<br>Teether ...</td>\n",
              "        <td style=\"padding-left: 1em; padding-right: 1em; text-align: center; vertical-align: top\">Sophie, oh Sophie, your<br>time has come. My ...</td>\n",
              "        <td style=\"padding-left: 1em; padding-right: 1em; text-align: center; vertical-align: top\">5</td>\n",
              "        <td style=\"padding-left: 1em; padding-right: 1em; text-align: center; vertical-align: top\">{'giggles': 1.0, 'all':<br>1.0, '09': 1.0, 'food': ...</td>\n",
              "        <td style=\"padding-left: 1em; padding-right: 1em; text-align: center; vertical-align: top\">1</td>\n",
              "    </tr>\n",
              "    <tr>\n",
              "        <td style=\"padding-left: 1em; padding-right: 1em; text-align: center; vertical-align: top\">Vulli Sophie the Giraffe<br>Teether ...</td>\n",
              "        <td style=\"padding-left: 1em; padding-right: 1em; text-align: center; vertical-align: top\">I'll be honest...I bought<br>this toy because all the ...</td>\n",
              "        <td style=\"padding-left: 1em; padding-right: 1em; text-align: center; vertical-align: top\">4</td>\n",
              "        <td style=\"padding-left: 1em; padding-right: 1em; text-align: center; vertical-align: top\">{'all': 2.0, 'pops': 1.0,<br>'during': 1.0, ...</td>\n",
              "        <td style=\"padding-left: 1em; padding-right: 1em; text-align: center; vertical-align: top\">1</td>\n",
              "    </tr>\n",
              "    <tr>\n",
              "        <td style=\"padding-left: 1em; padding-right: 1em; text-align: center; vertical-align: top\">Vulli Sophie the Giraffe<br>Teether ...</td>\n",
              "        <td style=\"padding-left: 1em; padding-right: 1em; text-align: center; vertical-align: top\">As a mother of 16month<br>old twins; I bought ...</td>\n",
              "        <td style=\"padding-left: 1em; padding-right: 1em; text-align: center; vertical-align: top\">5</td>\n",
              "        <td style=\"padding-left: 1em; padding-right: 1em; text-align: center; vertical-align: top\">{'cute': 1.0, 'all': 2.0,<br>'just': 1.0, 'able':  ...</td>\n",
              "        <td style=\"padding-left: 1em; padding-right: 1em; text-align: center; vertical-align: top\">1</td>\n",
              "    </tr>\n",
              "    <tr>\n",
              "        <td style=\"padding-left: 1em; padding-right: 1em; text-align: center; vertical-align: top\">Vulli Sophie the Giraffe<br>Teether ...</td>\n",
              "        <td style=\"padding-left: 1em; padding-right: 1em; text-align: center; vertical-align: top\">We got this little<br>giraffe as a gift from a ...</td>\n",
              "        <td style=\"padding-left: 1em; padding-right: 1em; text-align: center; vertical-align: top\">5</td>\n",
              "        <td style=\"padding-left: 1em; padding-right: 1em; text-align: center; vertical-align: top\">{'all': 2.0, 'baby': 1.0,<br>'before': 1.0, 'seems': ...</td>\n",
              "        <td style=\"padding-left: 1em; padding-right: 1em; text-align: center; vertical-align: top\">1</td>\n",
              "    </tr>\n",
              "    <tr>\n",
              "        <td style=\"padding-left: 1em; padding-right: 1em; text-align: center; vertical-align: top\">Vulli Sophie the Giraffe<br>Teether ...</td>\n",
              "        <td style=\"padding-left: 1em; padding-right: 1em; text-align: center; vertical-align: top\">As every mom knows, you<br>always want to give your ...</td>\n",
              "        <td style=\"padding-left: 1em; padding-right: 1em; text-align: center; vertical-align: top\">5</td>\n",
              "        <td style=\"padding-left: 1em; padding-right: 1em; text-align: center; vertical-align: top\">{'cute': 1.0, 'all': 1.0,<br>'just': 2.0, 'food':  ...</td>\n",
              "        <td style=\"padding-left: 1em; padding-right: 1em; text-align: center; vertical-align: top\">1</td>\n",
              "    </tr>\n",
              "    <tr>\n",
              "        <td style=\"padding-left: 1em; padding-right: 1em; text-align: center; vertical-align: top\">Vulli Sophie the Giraffe<br>Teether ...</td>\n",
              "        <td style=\"padding-left: 1em; padding-right: 1em; text-align: center; vertical-align: top\">My Mom-in-Law bought<br>Sophie for my son whe ...</td>\n",
              "        <td style=\"padding-left: 1em; padding-right: 1em; text-align: center; vertical-align: top\">5</td>\n",
              "        <td style=\"padding-left: 1em; padding-right: 1em; text-align: center; vertical-align: top\">{'think': 1.0, 'they':<br>1.0, 'just': 1.0, ...</td>\n",
              "        <td style=\"padding-left: 1em; padding-right: 1em; text-align: center; vertical-align: top\">1</td>\n",
              "    </tr>\n",
              "    <tr>\n",
              "        <td style=\"padding-left: 1em; padding-right: 1em; text-align: center; vertical-align: top\">Vulli Sophie the Giraffe<br>Teether ...</td>\n",
              "        <td style=\"padding-left: 1em; padding-right: 1em; text-align: center; vertical-align: top\">My 4 month old son is<br>teething, and I've tried ...</td>\n",
              "        <td style=\"padding-left: 1em; padding-right: 1em; text-align: center; vertical-align: top\">4</td>\n",
              "        <td style=\"padding-left: 1em; padding-right: 1em; text-align: center; vertical-align: top\">{'cute': 1.0, 'all': 2.0,<br>'food': 1.0, 'when':  ...</td>\n",
              "        <td style=\"padding-left: 1em; padding-right: 1em; text-align: center; vertical-align: top\">1</td>\n",
              "    </tr>\n",
              "    <tr>\n",
              "        <td style=\"padding-left: 1em; padding-right: 1em; text-align: center; vertical-align: top\">Vulli Sophie the Giraffe<br>Teether ...</td>\n",
              "        <td style=\"padding-left: 1em; padding-right: 1em; text-align: center; vertical-align: top\">Let me just start off by<br>addressing the choking ...</td>\n",
              "        <td style=\"padding-left: 1em; padding-right: 1em; text-align: center; vertical-align: top\">5</td>\n",
              "        <td style=\"padding-left: 1em; padding-right: 1em; text-align: center; vertical-align: top\">{'just': 3.0, 'when':<br>3.0, 'still': 1.0, 'h ...</td>\n",
              "        <td style=\"padding-left: 1em; padding-right: 1em; text-align: center; vertical-align: top\">1</td>\n",
              "    </tr>\n",
              "    <tr>\n",
              "        <td style=\"padding-left: 1em; padding-right: 1em; text-align: center; vertical-align: top\">Vulli Sophie the Giraffe<br>Teether ...</td>\n",
              "        <td style=\"padding-left: 1em; padding-right: 1em; text-align: center; vertical-align: top\">I'm not sure why Sophie<br>is such a hit with the ...</td>\n",
              "        <td style=\"padding-left: 1em; padding-right: 1em; text-align: center; vertical-align: top\">4</td>\n",
              "        <td style=\"padding-left: 1em; padding-right: 1em; text-align: center; vertical-align: top\">{'peace': 1.0, 'month':<br>1.0, 'bright': 1.0, ...</td>\n",
              "        <td style=\"padding-left: 1em; padding-right: 1em; text-align: center; vertical-align: top\">1</td>\n",
              "    </tr>\n",
              "    <tr>\n",
              "        <td style=\"padding-left: 1em; padding-right: 1em; text-align: center; vertical-align: top\">Vulli Sophie the Giraffe<br>Teether ...</td>\n",
              "        <td style=\"padding-left: 1em; padding-right: 1em; text-align: center; vertical-align: top\">I admit, I didn't get<br>Sophie the Giraffe at ...</td>\n",
              "        <td style=\"padding-left: 1em; padding-right: 1em; text-align: center; vertical-align: top\">4</td>\n",
              "        <td style=\"padding-left: 1em; padding-right: 1em; text-align: center; vertical-align: top\">{'cute': 1.0, 'just':<br>1.0, 'being': 2.0, ...</td>\n",
              "        <td style=\"padding-left: 1em; padding-right: 1em; text-align: center; vertical-align: top\">1</td>\n",
              "    </tr>\n",
              "</table>\n",
              "<table frame=\"box\" rules=\"cols\">\n",
              "    <tr>\n",
              "        <th style=\"padding-left: 1em; padding-right: 1em; text-align: center\">predicted_sentiment</th>\n",
              "    </tr>\n",
              "    <tr>\n",
              "        <td style=\"padding-left: 1em; padding-right: 1em; text-align: center; vertical-align: top\">1.0</td>\n",
              "    </tr>\n",
              "    <tr>\n",
              "        <td style=\"padding-left: 1em; padding-right: 1em; text-align: center; vertical-align: top\">1.0</td>\n",
              "    </tr>\n",
              "    <tr>\n",
              "        <td style=\"padding-left: 1em; padding-right: 1em; text-align: center; vertical-align: top\">1.0</td>\n",
              "    </tr>\n",
              "    <tr>\n",
              "        <td style=\"padding-left: 1em; padding-right: 1em; text-align: center; vertical-align: top\">1.0</td>\n",
              "    </tr>\n",
              "    <tr>\n",
              "        <td style=\"padding-left: 1em; padding-right: 1em; text-align: center; vertical-align: top\">1.0</td>\n",
              "    </tr>\n",
              "    <tr>\n",
              "        <td style=\"padding-left: 1em; padding-right: 1em; text-align: center; vertical-align: top\">1.0</td>\n",
              "    </tr>\n",
              "    <tr>\n",
              "        <td style=\"padding-left: 1em; padding-right: 1em; text-align: center; vertical-align: top\">0.999999999999</td>\n",
              "    </tr>\n",
              "    <tr>\n",
              "        <td style=\"padding-left: 1em; padding-right: 1em; text-align: center; vertical-align: top\">0.999999999994</td>\n",
              "    </tr>\n",
              "    <tr>\n",
              "        <td style=\"padding-left: 1em; padding-right: 1em; text-align: center; vertical-align: top\">0.999999999987</td>\n",
              "    </tr>\n",
              "    <tr>\n",
              "        <td style=\"padding-left: 1em; padding-right: 1em; text-align: center; vertical-align: top\">0.999999999983</td>\n",
              "    </tr>\n",
              "</table>\n",
              "[723 rows x 6 columns]<br/>Note: Only the head of the SFrame is printed.<br/>You can use print_rows(num_rows=m, num_columns=n) to print more rows and columns.\n",
              "</div>"
            ]
          },
          "metadata": {
            "tags": []
          },
          "execution_count": 28
        }
      ]
    },
    {
      "cell_type": "code",
      "metadata": {
        "id": "1FRJtwdP9sIk",
        "colab_type": "code",
        "colab": {
          "base_uri": "https://localhost:8080/",
          "height": 637
        },
        "outputId": "2d52f433-c29a-4428-c81c-fd020b8d78b9"
      },
      "source": [
        "giraffe_reviews.tail()"
      ],
      "execution_count": 29,
      "outputs": [
        {
          "output_type": "execute_result",
          "data": {
            "text/plain": [
              "Columns:\n",
              "\tname\tstr\n",
              "\treview\tstr\n",
              "\trating\tint\n",
              "\tword_count\tdict\n",
              "\tsentiment\tint\n",
              "\tpredicted_sentiment\tfloat\n",
              "\n",
              "Rows: 10\n",
              "\n",
              "Data:\n",
              "+-------------------------------+-------------------------------+--------+\n",
              "|              name             |             review            | rating |\n",
              "+-------------------------------+-------------------------------+--------+\n",
              "| Vulli Sophie the Giraffe T... | My 7 1/2 month old grandba... |   1    |\n",
              "| Vulli Sophie the Giraffe T... | I was so looking forward t... |   1    |\n",
              "| Vulli Sophie the Giraffe T... | Received the product and s... |   1    |\n",
              "| Vulli Sophie the Giraffe T... | I got one of these as a sh... |   1    |\n",
              "| Vulli Sophie the Giraffe T... | When we first got it I tho... |   2    |\n",
              "| Vulli Sophie the Giraffe T... | When I received this the p... |   1    |\n",
              "| Vulli Sophie the Giraffe T... | \"Sophie the Giraffe\" has t... |   1    |\n",
              "| Vulli Sophie the Giraffe T... | My son (now 2.5) LOVED his... |   1    |\n",
              "| Vulli Sophie the Giraffe T... | I wanted to love this prod... |   1    |\n",
              "| Vulli Sophie the Giraffe T... | This children's toy is nos... |   1    |\n",
              "+-------------------------------+-------------------------------+--------+\n",
              "+-------------------------------+-----------+---------------------+\n",
              "|           word_count          | sentiment | predicted_sentiment |\n",
              "+-------------------------------+-----------+---------------------+\n",
              "| {'and': 6.0, 'this': 1.0, ... |     0     |  1.91107401986e-06  |\n",
              "| {'things': 1.0, 'just': 2.... |     0     |  6.54780168828e-07  |\n",
              "| {'and': 1.0, 'money': 2.0,... |     0     |  3.86423639802e-07  |\n",
              "| {'all': 2.0, 'press': 1.0,... |     0     |  2.23782251681e-07  |\n",
              "| {'and': 2.0, 'cute': 1.0, ... |     0     |  1.93539552841e-07  |\n",
              "| {'and': 2.0, 'everyone': 1... |     0     |   1.6900753983e-07  |\n",
              "| {'saying': 1.0, 'chances':... |     0     |  1.17488267956e-07  |\n",
              "| {'all': 1.0, 'just': 1.0, ... |     0     |  5.36493342791e-11  |\n",
              "| {'just': 1.0, 'children': ... |     0     |  3.10903527135e-13  |\n",
              "| {'refund': 1.0, 'enjoy': 1... |     0     |  4.11926964029e-15  |\n",
              "+-------------------------------+-----------+---------------------+\n",
              "[10 rows x 6 columns]"
            ],
            "text/html": [
              "<div style=\"max-height:1000px;max-width:1500px;overflow:auto;\"><table frame=\"box\" rules=\"cols\">\n",
              "    <tr>\n",
              "        <th style=\"padding-left: 1em; padding-right: 1em; text-align: center\">name</th>\n",
              "        <th style=\"padding-left: 1em; padding-right: 1em; text-align: center\">review</th>\n",
              "        <th style=\"padding-left: 1em; padding-right: 1em; text-align: center\">rating</th>\n",
              "        <th style=\"padding-left: 1em; padding-right: 1em; text-align: center\">word_count</th>\n",
              "        <th style=\"padding-left: 1em; padding-right: 1em; text-align: center\">sentiment</th>\n",
              "    </tr>\n",
              "    <tr>\n",
              "        <td style=\"padding-left: 1em; padding-right: 1em; text-align: center; vertical-align: top\">Vulli Sophie the Giraffe<br>Teether ...</td>\n",
              "        <td style=\"padding-left: 1em; padding-right: 1em; text-align: center; vertical-align: top\">My 7 1/2 month old<br>grandbaby was sittng up ...</td>\n",
              "        <td style=\"padding-left: 1em; padding-right: 1em; text-align: center; vertical-align: top\">1</td>\n",
              "        <td style=\"padding-left: 1em; padding-right: 1em; text-align: center; vertical-align: top\">{'and': 6.0, 'this': 1.0,<br>'now': 1.0, 'right':  ...</td>\n",
              "        <td style=\"padding-left: 1em; padding-right: 1em; text-align: center; vertical-align: top\">0</td>\n",
              "    </tr>\n",
              "    <tr>\n",
              "        <td style=\"padding-left: 1em; padding-right: 1em; text-align: center; vertical-align: top\">Vulli Sophie the Giraffe<br>Teether ...</td>\n",
              "        <td style=\"padding-left: 1em; padding-right: 1em; text-align: center; vertical-align: top\">I was so looking forward<br>to getting this for my ...</td>\n",
              "        <td style=\"padding-left: 1em; padding-right: 1em; text-align: center; vertical-align: top\">1</td>\n",
              "        <td style=\"padding-left: 1em; padding-right: 1em; text-align: center; vertical-align: top\">{'things': 1.0, 'just':<br>2.0, 'over': 1.0, ...</td>\n",
              "        <td style=\"padding-left: 1em; padding-right: 1em; text-align: center; vertical-align: top\">0</td>\n",
              "    </tr>\n",
              "    <tr>\n",
              "        <td style=\"padding-left: 1em; padding-right: 1em; text-align: center; vertical-align: top\">Vulli Sophie the Giraffe<br>Teether ...</td>\n",
              "        <td style=\"padding-left: 1em; padding-right: 1em; text-align: center; vertical-align: top\">Received the product and<br>smells like cheap rub ...</td>\n",
              "        <td style=\"padding-left: 1em; padding-right: 1em; text-align: center; vertical-align: top\">1</td>\n",
              "        <td style=\"padding-left: 1em; padding-right: 1em; text-align: center; vertical-align: top\">{'and': 1.0, 'money':<br>2.0, 'over': 1.0, ...</td>\n",
              "        <td style=\"padding-left: 1em; padding-right: 1em; text-align: center; vertical-align: top\">0</td>\n",
              "    </tr>\n",
              "    <tr>\n",
              "        <td style=\"padding-left: 1em; padding-right: 1em; text-align: center; vertical-align: top\">Vulli Sophie the Giraffe<br>Teether ...</td>\n",
              "        <td style=\"padding-left: 1em; padding-right: 1em; text-align: center; vertical-align: top\">I got one of these as a<br>showe gift that my baby ...</td>\n",
              "        <td style=\"padding-left: 1em; padding-right: 1em; text-align: center; vertical-align: top\">1</td>\n",
              "        <td style=\"padding-left: 1em; padding-right: 1em; text-align: center; vertical-align: top\">{'all': 2.0, 'press':<br>1.0, 'shape': 3.0, ...</td>\n",
              "        <td style=\"padding-left: 1em; padding-right: 1em; text-align: center; vertical-align: top\">0</td>\n",
              "    </tr>\n",
              "    <tr>\n",
              "        <td style=\"padding-left: 1em; padding-right: 1em; text-align: center; vertical-align: top\">Vulli Sophie the Giraffe<br>Teether ...</td>\n",
              "        <td style=\"padding-left: 1em; padding-right: 1em; text-align: center; vertical-align: top\">When we first got it I<br>thought did my ...</td>\n",
              "        <td style=\"padding-left: 1em; padding-right: 1em; text-align: center; vertical-align: top\">2</td>\n",
              "        <td style=\"padding-left: 1em; padding-right: 1em; text-align: center; vertical-align: top\">{'and': 2.0, 'cute': 1.0,<br>'btw': 1.0, 'because': ...</td>\n",
              "        <td style=\"padding-left: 1em; padding-right: 1em; text-align: center; vertical-align: top\">0</td>\n",
              "    </tr>\n",
              "    <tr>\n",
              "        <td style=\"padding-left: 1em; padding-right: 1em; text-align: center; vertical-align: top\">Vulli Sophie the Giraffe<br>Teether ...</td>\n",
              "        <td style=\"padding-left: 1em; padding-right: 1em; text-align: center; vertical-align: top\">When I received this the<br>paint was peeling off in ...</td>\n",
              "        <td style=\"padding-left: 1em; padding-right: 1em; text-align: center; vertical-align: top\">1</td>\n",
              "        <td style=\"padding-left: 1em; padding-right: 1em; text-align: center; vertical-align: top\">{'and': 2.0, 'everyone':<br>1.0, 'help': 1.0, 'gi ...</td>\n",
              "        <td style=\"padding-left: 1em; padding-right: 1em; text-align: center; vertical-align: top\">0</td>\n",
              "    </tr>\n",
              "    <tr>\n",
              "        <td style=\"padding-left: 1em; padding-right: 1em; text-align: center; vertical-align: top\">Vulli Sophie the Giraffe<br>Teether ...</td>\n",
              "        <td style=\"padding-left: 1em; padding-right: 1em; text-align: center; vertical-align: top\">\"Sophie the Giraffe\" has<br>tested positive for ...</td>\n",
              "        <td style=\"padding-left: 1em; padding-right: 1em; text-align: center; vertical-align: top\">1</td>\n",
              "        <td style=\"padding-left: 1em; padding-right: 1em; text-align: center; vertical-align: top\">{'saying': 1.0,<br>'chances': 1.0, 'caus ...</td>\n",
              "        <td style=\"padding-left: 1em; padding-right: 1em; text-align: center; vertical-align: top\">0</td>\n",
              "    </tr>\n",
              "    <tr>\n",
              "        <td style=\"padding-left: 1em; padding-right: 1em; text-align: center; vertical-align: top\">Vulli Sophie the Giraffe<br>Teether ...</td>\n",
              "        <td style=\"padding-left: 1em; padding-right: 1em; text-align: center; vertical-align: top\">My son (now 2.5) LOVED<br>his Sophie, and I bought ...</td>\n",
              "        <td style=\"padding-left: 1em; padding-right: 1em; text-align: center; vertical-align: top\">1</td>\n",
              "        <td style=\"padding-left: 1em; padding-right: 1em; text-align: center; vertical-align: top\">{'all': 1.0, 'just': 1.0,<br>'over': 2.0, 'not': 3.0, ...</td>\n",
              "        <td style=\"padding-left: 1em; padding-right: 1em; text-align: center; vertical-align: top\">0</td>\n",
              "    </tr>\n",
              "    <tr>\n",
              "        <td style=\"padding-left: 1em; padding-right: 1em; text-align: center; vertical-align: top\">Vulli Sophie the Giraffe<br>Teether ...</td>\n",
              "        <td style=\"padding-left: 1em; padding-right: 1em; text-align: center; vertical-align: top\">I wanted to love this<br>product and was excited ...</td>\n",
              "        <td style=\"padding-left: 1em; padding-right: 1em; text-align: center; vertical-align: top\">1</td>\n",
              "        <td style=\"padding-left: 1em; padding-right: 1em; text-align: center; vertical-align: top\">{'just': 1.0, 'children':<br>1.0, 'hmmm': 1.0, ...</td>\n",
              "        <td style=\"padding-left: 1em; padding-right: 1em; text-align: center; vertical-align: top\">0</td>\n",
              "    </tr>\n",
              "    <tr>\n",
              "        <td style=\"padding-left: 1em; padding-right: 1em; text-align: center; vertical-align: top\">Vulli Sophie the Giraffe<br>Teether ...</td>\n",
              "        <td style=\"padding-left: 1em; padding-right: 1em; text-align: center; vertical-align: top\">This children's toy is<br>nostalgic and very cute. ...</td>\n",
              "        <td style=\"padding-left: 1em; padding-right: 1em; text-align: center; vertical-align: top\">1</td>\n",
              "        <td style=\"padding-left: 1em; padding-right: 1em; text-align: center; vertical-align: top\">{'refund': 1.0, 'enjoy':<br>1.0, 'do': 1.0, 'taste': ...</td>\n",
              "        <td style=\"padding-left: 1em; padding-right: 1em; text-align: center; vertical-align: top\">0</td>\n",
              "    </tr>\n",
              "</table>\n",
              "<table frame=\"box\" rules=\"cols\">\n",
              "    <tr>\n",
              "        <th style=\"padding-left: 1em; padding-right: 1em; text-align: center\">predicted_sentiment</th>\n",
              "    </tr>\n",
              "    <tr>\n",
              "        <td style=\"padding-left: 1em; padding-right: 1em; text-align: center; vertical-align: top\">1.91107401986e-06</td>\n",
              "    </tr>\n",
              "    <tr>\n",
              "        <td style=\"padding-left: 1em; padding-right: 1em; text-align: center; vertical-align: top\">6.54780168828e-07</td>\n",
              "    </tr>\n",
              "    <tr>\n",
              "        <td style=\"padding-left: 1em; padding-right: 1em; text-align: center; vertical-align: top\">3.86423639802e-07</td>\n",
              "    </tr>\n",
              "    <tr>\n",
              "        <td style=\"padding-left: 1em; padding-right: 1em; text-align: center; vertical-align: top\">2.23782251681e-07</td>\n",
              "    </tr>\n",
              "    <tr>\n",
              "        <td style=\"padding-left: 1em; padding-right: 1em; text-align: center; vertical-align: top\">1.93539552841e-07</td>\n",
              "    </tr>\n",
              "    <tr>\n",
              "        <td style=\"padding-left: 1em; padding-right: 1em; text-align: center; vertical-align: top\">1.6900753983e-07</td>\n",
              "    </tr>\n",
              "    <tr>\n",
              "        <td style=\"padding-left: 1em; padding-right: 1em; text-align: center; vertical-align: top\">1.17488267956e-07</td>\n",
              "    </tr>\n",
              "    <tr>\n",
              "        <td style=\"padding-left: 1em; padding-right: 1em; text-align: center; vertical-align: top\">5.36493342791e-11</td>\n",
              "    </tr>\n",
              "    <tr>\n",
              "        <td style=\"padding-left: 1em; padding-right: 1em; text-align: center; vertical-align: top\">3.10903527135e-13</td>\n",
              "    </tr>\n",
              "    <tr>\n",
              "        <td style=\"padding-left: 1em; padding-right: 1em; text-align: center; vertical-align: top\">4.11926964029e-15</td>\n",
              "    </tr>\n",
              "</table>\n",
              "[10 rows x 6 columns]<br/>\n",
              "</div>"
            ]
          },
          "metadata": {
            "tags": []
          },
          "execution_count": 29
        }
      ]
    },
    {
      "cell_type": "markdown",
      "metadata": {
        "id": "Iq1wdo7T9sIm",
        "colab_type": "text"
      },
      "source": [
        "## Show the most positive reviews"
      ]
    },
    {
      "cell_type": "code",
      "metadata": {
        "id": "3NhIzRRr9sIn",
        "colab_type": "code",
        "colab": {
          "base_uri": "https://localhost:8080/",
          "height": 147
        },
        "outputId": "824d0765-c542-4a32-d2fc-9da314debb84"
      },
      "source": [
        "giraffe_reviews[0]['review']"
      ],
      "execution_count": 30,
      "outputs": [
        {
          "output_type": "execute_result",
          "data": {
            "application/vnd.google.colaboratory.intrinsic+json": {
              "type": "string"
            },
            "text/plain": [
              "\"Sophie, oh Sophie, your time has come. My granddaughter, Violet is 5 months old and starting to teeth. What joy little Sophie brings to Violet. Sophie is made of a very pliable rubber that is sturdy but not tough. It is quite easy for Violet to twist Sophie into unheard of positions to get Sophie into her mouth. The little nose and hooves fit perfectly into small mouths, and the drooling has purpose. The paint on Sophie is food quality.Sophie was born in 1961 in France. The maker had wondered why there was nothing available for babies and made Sophie from the finest rubber, phthalate-free on St Sophie's Day, thus the name was born. Since that time millions of Sophie's populate the world. She is soft and for babies little hands easy to grasp. Violet especially loves the bumpy head and horns of Sophie. Sophie has a long neck that easy to grasp and twist. She has lovely, sizable spots that attract Violet's attention. Sophie has happy little squeaks that bring squeals of delight from Violet. She is able to make Sophie squeak and that brings much joy. Sophie's smooth skin is soothing to Violet's little gums. Sophie is 7 inches tall and is the exact correct size for babies to hold and love.As you well know the first thing babies grasp, goes into their mouths- how wonderful to have a toy that stimulates all of the senses and helps with the issue of teething. Sophie is small enough to fit into any size pocket or bag. Sophie is the perfect find for babies from a few months to a year old. How wonderful to hear the giggles and laughs that emanate from babies who find Sophie irresistible. Viva La Sophie!Highly Recommended.  prisrob 12-11-09\""
            ]
          },
          "metadata": {
            "tags": []
          },
          "execution_count": 30
        }
      ]
    },
    {
      "cell_type": "code",
      "metadata": {
        "id": "WAZgve2X9sIr",
        "colab_type": "code",
        "colab": {
          "base_uri": "https://localhost:8080/",
          "height": 147
        },
        "outputId": "11d9e0f2-ea82-4721-e71a-d6d6b1994bcf"
      },
      "source": [
        "giraffe_reviews[1]['review']"
      ],
      "execution_count": 31,
      "outputs": [
        {
          "output_type": "execute_result",
          "data": {
            "application/vnd.google.colaboratory.intrinsic+json": {
              "type": "string"
            },
            "text/plain": [
              "'I\\'ll be honest...I bought this toy because all the hip parents seem to have one too and I wanted to be a part of the \"hip parent\" crowd. The price-tag was somewhat of a deterent but I prevailed and purchased this teether for my daughter.At first, Lily didn\\'t know what to make of of Sophie and showed little interest in the polka-dotted creature. I continued to introduce Lily to Sophie and kept the toy in the carrier so that it was on-hand during transitions. Eventually, Lily discovered what a wonderful experience it was to gnaw on the hooves and ears and these two have never been far apart since.Lily really enjoys gumming all the different parts of Sophie like no other teether we have. The size of the toy is great as it is somewhat substantial and so easy for a little one to grasp and hold onto. Lily really enjoys hearing Sophie squeak and will smile whenever Sophie makes a noise or pops her head up from Mommy\\'s lap to say hello.People have stopped and commented on Sophie and to them I have stated, \"It\\'s worth every penny.\" I can\\'t imagine not having this toy, it has become part and parcel with Lily\\'s daily existence. She is soothed by it, loves to chew on it and seems endlessly entertained by it.Someday, Sophie will have earned her retirement. She will relocate to Lily\\'s keepsake box. But until then, this little French Giraffe will embark on many adventures alongside my daughter as they explore this big world around them.'"
            ]
          },
          "metadata": {
            "tags": []
          },
          "execution_count": 31
        }
      ]
    },
    {
      "cell_type": "markdown",
      "metadata": {
        "id": "zIkJzT_G9sIt",
        "colab_type": "text"
      },
      "source": [
        "# Most negative reivews"
      ]
    },
    {
      "cell_type": "code",
      "metadata": {
        "id": "mgtWmYsi9sIu",
        "colab_type": "code",
        "colab": {
          "base_uri": "https://localhost:8080/",
          "height": 110
        },
        "outputId": "ba412e95-690b-48c2-a490-2b4bd85568bb"
      },
      "source": [
        "giraffe_reviews[-1]['review']"
      ],
      "execution_count": 32,
      "outputs": [
        {
          "output_type": "execute_result",
          "data": {
            "application/vnd.google.colaboratory.intrinsic+json": {
              "type": "string"
            },
            "text/plain": [
              "\"This children's toy is nostalgic and very cute. However, there is a distinct rubber smell and a very odd taste, yes I tried it, that my baby did not enjoy. Also, if it is soiled it is extremely difficult to clean as the rubber is a kind of porus material and does not clean well. The final thing is the squeaking device inside which stopped working after the first couple of days. I returned this item feeling I had overpaid for a toy that was defective and did not meet my expectations. Please do not be swayed by the cute packaging and hype surounding it as I was. One more thing, I was given a full refund from Amazon without any problem.\""
            ]
          },
          "metadata": {
            "tags": []
          },
          "execution_count": 32
        }
      ]
    },
    {
      "cell_type": "code",
      "metadata": {
        "id": "qPOWSLXL9sI4",
        "colab_type": "code",
        "colab": {
          "base_uri": "https://localhost:8080/",
          "height": 147
        },
        "outputId": "cabbdd50-4628-4074-afe6-852f6ef6407b"
      },
      "source": [
        "giraffe_reviews[-2]['review']"
      ],
      "execution_count": 33,
      "outputs": [
        {
          "output_type": "execute_result",
          "data": {
            "application/vnd.google.colaboratory.intrinsic+json": {
              "type": "string"
            },
            "text/plain": [
              "'I wanted to love this product and was excited to buy it when I became pregnant but am now hesitant to let my baby use it after reading about the recall in Europe. Apparently, as I understand it, their toxin standards of measurement are lower than ours so they have not been recalled here (apparently we are OK with low levels of nitrates in the toys our children put in their mouths, but Europeans are not...hmmm)...Be that as it may, toxins registering even CLOSE to a dangerous level made me nervous about using. After digging around online I did discover that the company claims to have changed the product after a certain date and lists manufacturing codes so you can check yours (those listed were made after a certain date and are said to be safer). Sadly mine was not made after the &#34;improved&#34; date but I could not return it because there was no formal recall in our country. I considered returning it and hunting for one with an approved manufacturing date but man that was just too much work. Bummed but not ready to take a risk with my baby.'"
            ]
          },
          "metadata": {
            "tags": []
          },
          "execution_count": 33
        }
      ]
    },
    {
      "cell_type": "code",
      "metadata": {
        "id": "XgcQBMpGc8rp",
        "colab_type": "code",
        "colab": {}
      },
      "source": [
        "selected_words = ['awesome', 'great', 'fantastic', 'amazing', 'love', 'horrible', 'bad', 'terrible', 'awful', 'wow', 'hate']"
      ],
      "execution_count": 39,
      "outputs": []
    },
    {
      "cell_type": "code",
      "metadata": {
        "id": "BbmsWfG1exqn",
        "colab_type": "code",
        "colab": {}
      },
      "source": [
        "def awesome_count(word_count):\n",
        "    if 'awesome' in word_count:\n",
        "        return word_count['awesome']\n",
        "    return 0\n",
        "\n",
        "products['awesome'] = products['word_count'].apply(awesome_count)\n",
        "\n",
        "def great_count(word_count):\n",
        "    if 'great' in word_count:\n",
        "        return word_count['great']\n",
        "    return 0\n",
        "\n",
        "products['great'] = products['word_count'].apply(great_count)\n",
        "\n",
        "def fantastic_count(word_count):\n",
        "    if 'fantastic' in word_count:\n",
        "        return word_count['fantastic']\n",
        "    return 0\n",
        "\n",
        "products['fantastic'] = products['word_count'].apply(fantastic_count)\n",
        "\n",
        "def amazing_count(word_count):\n",
        "    if 'amazing' in word_count:\n",
        "        return word_count['amazing']\n",
        "    return 0\n",
        "\n",
        "products['amazing'] = products['word_count'].apply(amazing_count)\n",
        "\n",
        "def love_count(word_count):\n",
        "    if 'love' in word_count:\n",
        "        return word_count['love']\n",
        "    return 0\n",
        "\n",
        "products['love'] = products['word_count'].apply(love_count)\n",
        "\n",
        "def horrible_count(word_count):\n",
        "    if 'horrible' in word_count:\n",
        "        return word_count['horrible']\n",
        "    return 0\n",
        "\n",
        "products['horrible'] = products['word_count'].apply(horrible_count)\n",
        "\n",
        "def bad_count(word_count):\n",
        "    if 'bad' in word_count:\n",
        "        return word_count['bad']\n",
        "    return 0\n",
        "\n",
        "products['bad'] = products['word_count'].apply(bad_count)\n",
        "\n",
        "def terrible_count(word_count):\n",
        "    if 'terrible' in word_count:\n",
        "        return word_count['terrible']\n",
        "    return 0\n",
        "\n",
        "products['terrible'] = products['word_count'].apply(terrible_count)\n",
        "\n",
        "def awful_count(word_count):\n",
        "    if 'awful' in word_count:\n",
        "        return word_count['awful']\n",
        "    return 0\n",
        "\n",
        "products['awful'] = products['word_count'].apply(awful_count)\n",
        "\n",
        "def wow_count(word_count):\n",
        "    if 'wow' in word_count:\n",
        "        return word_count['wow']\n",
        "    return 0\n",
        "\n",
        "products['wow'] = products['word_count'].apply(wow_count)\n",
        "\n",
        "def hate_count(word_count):\n",
        "    if 'hate' in word_count:\n",
        "        return word_count['hate']\n",
        "    return 0\n",
        "\n",
        "products['hate'] = products['word_count'].apply(hate_count)"
      ],
      "execution_count": 40,
      "outputs": []
    },
    {
      "cell_type": "code",
      "metadata": {
        "id": "K2CTHaVze59o",
        "colab_type": "code",
        "colab": {}
      },
      "source": [
        "products['awesome'] = products['word_count'].apply(awesome_count)"
      ],
      "execution_count": 41,
      "outputs": []
    },
    {
      "cell_type": "code",
      "metadata": {
        "id": "I1W2l8S7fCmA",
        "colab_type": "code",
        "colab": {
          "base_uri": "https://localhost:8080/",
          "height": 637
        },
        "outputId": "c5af0f3e-f4b6-40bf-b2d4-e5e7e6d76653"
      },
      "source": [
        "products.head()"
      ],
      "execution_count": 42,
      "outputs": [
        {
          "output_type": "execute_result",
          "data": {
            "text/plain": [
              "Columns:\n",
              "\tname\tstr\n",
              "\treview\tstr\n",
              "\trating\tint\n",
              "\tword_count\tdict\n",
              "\tsentiment\tint\n",
              "\tpredicted_sentiment\tfloat\n",
              "\tawesome\tfloat\n",
              "\tgreat\tfloat\n",
              "\tfantastic\tfloat\n",
              "\tamazing\tfloat\n",
              "\tlove\tfloat\n",
              "\thorrible\tint\n",
              "\tbad\tint\n",
              "\tterrible\tfloat\n",
              "\tawful\tint\n",
              "\twow\tint\n",
              "\thate\tint\n",
              "\n",
              "Rows: 10\n",
              "\n",
              "Data:\n",
              "+-------------------------------+-------------------------------+--------+\n",
              "|              name             |             review            | rating |\n",
              "+-------------------------------+-------------------------------+--------+\n",
              "|     Planetwise Wipe Pouch     | it came early and was not ... |   5    |\n",
              "| Annas Dream Full Quilt wit... | Very soft and comfortable ... |   5    |\n",
              "| Stop Pacifier Sucking with... | This is a product well wor... |   5    |\n",
              "| Stop Pacifier Sucking with... | All of my kids have cried ... |   5    |\n",
              "| Stop Pacifier Sucking with... | When the Binky Fairy came ... |   5    |\n",
              "| A Tale of Baby's Days with... | Lovely book, it's bound ti... |   4    |\n",
              "| Baby Tracker&reg; - Daily ... | Perfect for new parents. W... |   5    |\n",
              "| Baby Tracker&reg; - Daily ... | A friend of mine pinned th... |   5    |\n",
              "| Baby Tracker&reg; - Daily ... | This has been an easy way ... |   4    |\n",
              "| Baby Tracker&reg; - Daily ... | I love this journal and ou... |   4    |\n",
              "+-------------------------------+-------------------------------+--------+\n",
              "+-------------------------------+-----------+---------------------+---------+\n",
              "|           word_count          | sentiment | predicted_sentiment | awesome |\n",
              "+-------------------------------+-----------+---------------------+---------+\n",
              "| {'and': 3.0, 'love': 1.0, ... |     1     |    0.999730739005   |   0.0   |\n",
              "| {'and': 2.0, 'quilt': 1.0,... |     1     |    0.998508336832   |   0.0   |\n",
              "| {'and': 3.0, 'ingenious': ... |     1     |    0.99974890425    |   0.0   |\n",
              "| {'and': 2.0, 'this': 2.0, ... |     1     |    0.99999166254    |   0.0   |\n",
              "| {'and': 2.0, 'cute': 1.0, ... |     1     |    0.999999951446   |   0.0   |\n",
              "| {'shop': 1.0, 'be': 1.0, '... |     1     |    0.999914673557   |   0.0   |\n",
              "| {'and': 2.0, 'all': 1.0, '... |     1     |    0.99999166159    |   0.0   |\n",
              "| {'and': 1.0, 'fantastic': ... |     1     |    0.999993884359   |   0.0   |\n",
              "| {'pre': 1.0, 'all': 1.0, '... |     1     |    0.996124761701   |   0.0   |\n",
              "| {'all': 2.0, 'forget': 1.0... |     1     |    0.999999992046   |   0.0   |\n",
              "+-------------------------------+-----------+---------------------+---------+\n",
              "+-------+-----------+---------+------+----------+-----+----------+-------+-----+\n",
              "| great | fantastic | amazing | love | horrible | bad | terrible | awful | wow |\n",
              "+-------+-----------+---------+------+----------+-----+----------+-------+-----+\n",
              "|  0.0  |    0.0    |   0.0   | 1.0  |    0     |  0  |   0.0    |   0   |  0  |\n",
              "|  0.0  |    0.0    |   0.0   | 0.0  |    0     |  0  |   0.0    |   0   |  0  |\n",
              "|  0.0  |    0.0    |   0.0   | 2.0  |    0     |  0  |   0.0    |   0   |  0  |\n",
              "|  1.0  |    0.0    |   0.0   | 1.0  |    0     |  0  |   0.0    |   0   |  0  |\n",
              "|  1.0  |    0.0    |   0.0   | 0.0  |    0     |  0  |   0.0    |   0   |  0  |\n",
              "|  0.0  |    0.0    |   0.0   | 0.0  |    0     |  0  |   0.0    |   0   |  0  |\n",
              "|  0.0  |    0.0    |   0.0   | 0.0  |    0     |  0  |   0.0    |   0   |  0  |\n",
              "|  0.0  |    1.0    |   0.0   | 0.0  |    0     |  0  |   0.0    |   0   |  0  |\n",
              "|  0.0  |    0.0    |   0.0   | 0.0  |    0     |  0  |   0.0    |   0   |  0  |\n",
              "|  0.0  |    0.0    |   0.0   | 2.0  |    0     |  0  |   0.0    |   0   |  0  |\n",
              "+-------+-----------+---------+------+----------+-----+----------+-------+-----+\n",
              "+------+\n",
              "| hate |\n",
              "+------+\n",
              "|  0   |\n",
              "|  0   |\n",
              "|  0   |\n",
              "|  0   |\n",
              "|  0   |\n",
              "|  0   |\n",
              "|  0   |\n",
              "|  0   |\n",
              "|  0   |\n",
              "|  0   |\n",
              "+------+\n",
              "[10 rows x 17 columns]"
            ],
            "text/html": [
              "<div style=\"max-height:1000px;max-width:1500px;overflow:auto;\"><table frame=\"box\" rules=\"cols\">\n",
              "    <tr>\n",
              "        <th style=\"padding-left: 1em; padding-right: 1em; text-align: center\">name</th>\n",
              "        <th style=\"padding-left: 1em; padding-right: 1em; text-align: center\">review</th>\n",
              "        <th style=\"padding-left: 1em; padding-right: 1em; text-align: center\">rating</th>\n",
              "        <th style=\"padding-left: 1em; padding-right: 1em; text-align: center\">word_count</th>\n",
              "        <th style=\"padding-left: 1em; padding-right: 1em; text-align: center\">sentiment</th>\n",
              "    </tr>\n",
              "    <tr>\n",
              "        <td style=\"padding-left: 1em; padding-right: 1em; text-align: center; vertical-align: top\">Planetwise Wipe Pouch</td>\n",
              "        <td style=\"padding-left: 1em; padding-right: 1em; text-align: center; vertical-align: top\">it came early and was not<br>disappointed. i love ...</td>\n",
              "        <td style=\"padding-left: 1em; padding-right: 1em; text-align: center; vertical-align: top\">5</td>\n",
              "        <td style=\"padding-left: 1em; padding-right: 1em; text-align: center; vertical-align: top\">{'and': 3.0, 'love': 1.0,<br>'it': 3.0, 'highly':  ...</td>\n",
              "        <td style=\"padding-left: 1em; padding-right: 1em; text-align: center; vertical-align: top\">1</td>\n",
              "    </tr>\n",
              "    <tr>\n",
              "        <td style=\"padding-left: 1em; padding-right: 1em; text-align: center; vertical-align: top\">Annas Dream Full Quilt<br>with 2 Shams ...</td>\n",
              "        <td style=\"padding-left: 1em; padding-right: 1em; text-align: center; vertical-align: top\">Very soft and comfortable<br>and warmer than it ...</td>\n",
              "        <td style=\"padding-left: 1em; padding-right: 1em; text-align: center; vertical-align: top\">5</td>\n",
              "        <td style=\"padding-left: 1em; padding-right: 1em; text-align: center; vertical-align: top\">{'and': 2.0, 'quilt':<br>1.0, 'it': 1.0, ...</td>\n",
              "        <td style=\"padding-left: 1em; padding-right: 1em; text-align: center; vertical-align: top\">1</td>\n",
              "    </tr>\n",
              "    <tr>\n",
              "        <td style=\"padding-left: 1em; padding-right: 1em; text-align: center; vertical-align: top\">Stop Pacifier Sucking<br>without tears with ...</td>\n",
              "        <td style=\"padding-left: 1em; padding-right: 1em; text-align: center; vertical-align: top\">This is a product well<br>worth the purchase.  I ...</td>\n",
              "        <td style=\"padding-left: 1em; padding-right: 1em; text-align: center; vertical-align: top\">5</td>\n",
              "        <td style=\"padding-left: 1em; padding-right: 1em; text-align: center; vertical-align: top\">{'and': 3.0, 'ingenious':<br>1.0, 'love': 2.0, 'is': ...</td>\n",
              "        <td style=\"padding-left: 1em; padding-right: 1em; text-align: center; vertical-align: top\">1</td>\n",
              "    </tr>\n",
              "    <tr>\n",
              "        <td style=\"padding-left: 1em; padding-right: 1em; text-align: center; vertical-align: top\">Stop Pacifier Sucking<br>without tears with ...</td>\n",
              "        <td style=\"padding-left: 1em; padding-right: 1em; text-align: center; vertical-align: top\">All of my kids have cried<br>non-stop when I tried to ...</td>\n",
              "        <td style=\"padding-left: 1em; padding-right: 1em; text-align: center; vertical-align: top\">5</td>\n",
              "        <td style=\"padding-left: 1em; padding-right: 1em; text-align: center; vertical-align: top\">{'and': 2.0, 'this': 2.0,<br>'all': 2.0, 'love': 1.0, ...</td>\n",
              "        <td style=\"padding-left: 1em; padding-right: 1em; text-align: center; vertical-align: top\">1</td>\n",
              "    </tr>\n",
              "    <tr>\n",
              "        <td style=\"padding-left: 1em; padding-right: 1em; text-align: center; vertical-align: top\">Stop Pacifier Sucking<br>without tears with ...</td>\n",
              "        <td style=\"padding-left: 1em; padding-right: 1em; text-align: center; vertical-align: top\">When the Binky Fairy came<br>to our house, we didn't ...</td>\n",
              "        <td style=\"padding-left: 1em; padding-right: 1em; text-align: center; vertical-align: top\">5</td>\n",
              "        <td style=\"padding-left: 1em; padding-right: 1em; text-align: center; vertical-align: top\">{'and': 2.0, 'cute': 1.0,<br>'help': 2.0, 'habit': ...</td>\n",
              "        <td style=\"padding-left: 1em; padding-right: 1em; text-align: center; vertical-align: top\">1</td>\n",
              "    </tr>\n",
              "    <tr>\n",
              "        <td style=\"padding-left: 1em; padding-right: 1em; text-align: center; vertical-align: top\">A Tale of Baby's Days<br>with Peter Rabbit ...</td>\n",
              "        <td style=\"padding-left: 1em; padding-right: 1em; text-align: center; vertical-align: top\">Lovely book, it's bound<br>tightly so you may no ...</td>\n",
              "        <td style=\"padding-left: 1em; padding-right: 1em; text-align: center; vertical-align: top\">4</td>\n",
              "        <td style=\"padding-left: 1em; padding-right: 1em; text-align: center; vertical-align: top\">{'shop': 1.0, 'be': 1.0,<br>'is': 1.0, 'bound': 1.0, ...</td>\n",
              "        <td style=\"padding-left: 1em; padding-right: 1em; text-align: center; vertical-align: top\">1</td>\n",
              "    </tr>\n",
              "    <tr>\n",
              "        <td style=\"padding-left: 1em; padding-right: 1em; text-align: center; vertical-align: top\">Baby Tracker&amp;reg; - Daily<br>Childcare Journal, ...</td>\n",
              "        <td style=\"padding-left: 1em; padding-right: 1em; text-align: center; vertical-align: top\">Perfect for new parents.<br>We were able to keep ...</td>\n",
              "        <td style=\"padding-left: 1em; padding-right: 1em; text-align: center; vertical-align: top\">5</td>\n",
              "        <td style=\"padding-left: 1em; padding-right: 1em; text-align: center; vertical-align: top\">{'and': 2.0, 'all': 1.0,<br>'right': 1.0, 'able': ...</td>\n",
              "        <td style=\"padding-left: 1em; padding-right: 1em; text-align: center; vertical-align: top\">1</td>\n",
              "    </tr>\n",
              "    <tr>\n",
              "        <td style=\"padding-left: 1em; padding-right: 1em; text-align: center; vertical-align: top\">Baby Tracker&amp;reg; - Daily<br>Childcare Journal, ...</td>\n",
              "        <td style=\"padding-left: 1em; padding-right: 1em; text-align: center; vertical-align: top\">A friend of mine pinned<br>this product on Pinte ...</td>\n",
              "        <td style=\"padding-left: 1em; padding-right: 1em; text-align: center; vertical-align: top\">5</td>\n",
              "        <td style=\"padding-left: 1em; padding-right: 1em; text-align: center; vertical-align: top\">{'and': 1.0, 'fantastic':<br>1.0, 'help': 1.0, 'gi ...</td>\n",
              "        <td style=\"padding-left: 1em; padding-right: 1em; text-align: center; vertical-align: top\">1</td>\n",
              "    </tr>\n",
              "    <tr>\n",
              "        <td style=\"padding-left: 1em; padding-right: 1em; text-align: center; vertical-align: top\">Baby Tracker&amp;reg; - Daily<br>Childcare Journal, ...</td>\n",
              "        <td style=\"padding-left: 1em; padding-right: 1em; text-align: center; vertical-align: top\">This has been an easy way<br>for my nanny to record ...</td>\n",
              "        <td style=\"padding-left: 1em; padding-right: 1em; text-align: center; vertical-align: top\">4</td>\n",
              "        <td style=\"padding-left: 1em; padding-right: 1em; text-align: center; vertical-align: top\">{'pre': 1.0, 'all': 1.0,<br>'standarad': 1.0, ...</td>\n",
              "        <td style=\"padding-left: 1em; padding-right: 1em; text-align: center; vertical-align: top\">1</td>\n",
              "    </tr>\n",
              "    <tr>\n",
              "        <td style=\"padding-left: 1em; padding-right: 1em; text-align: center; vertical-align: top\">Baby Tracker&amp;reg; - Daily<br>Childcare Journal, ...</td>\n",
              "        <td style=\"padding-left: 1em; padding-right: 1em; text-align: center; vertical-align: top\">I love this journal and<br>our nanny uses it ...</td>\n",
              "        <td style=\"padding-left: 1em; padding-right: 1em; text-align: center; vertical-align: top\">4</td>\n",
              "        <td style=\"padding-left: 1em; padding-right: 1em; text-align: center; vertical-align: top\">{'all': 2.0, 'forget':<br>1.0, 'just': 1.0, 'fo ...</td>\n",
              "        <td style=\"padding-left: 1em; padding-right: 1em; text-align: center; vertical-align: top\">1</td>\n",
              "    </tr>\n",
              "</table>\n",
              "<table frame=\"box\" rules=\"cols\">\n",
              "    <tr>\n",
              "        <th style=\"padding-left: 1em; padding-right: 1em; text-align: center\">predicted_sentiment</th>\n",
              "        <th style=\"padding-left: 1em; padding-right: 1em; text-align: center\">awesome</th>\n",
              "        <th style=\"padding-left: 1em; padding-right: 1em; text-align: center\">great</th>\n",
              "        <th style=\"padding-left: 1em; padding-right: 1em; text-align: center\">fantastic</th>\n",
              "        <th style=\"padding-left: 1em; padding-right: 1em; text-align: center\">amazing</th>\n",
              "        <th style=\"padding-left: 1em; padding-right: 1em; text-align: center\">love</th>\n",
              "        <th style=\"padding-left: 1em; padding-right: 1em; text-align: center\">horrible</th>\n",
              "        <th style=\"padding-left: 1em; padding-right: 1em; text-align: center\">bad</th>\n",
              "        <th style=\"padding-left: 1em; padding-right: 1em; text-align: center\">terrible</th>\n",
              "        <th style=\"padding-left: 1em; padding-right: 1em; text-align: center\">awful</th>\n",
              "        <th style=\"padding-left: 1em; padding-right: 1em; text-align: center\">wow</th>\n",
              "        <th style=\"padding-left: 1em; padding-right: 1em; text-align: center\">hate</th>\n",
              "    </tr>\n",
              "    <tr>\n",
              "        <td style=\"padding-left: 1em; padding-right: 1em; text-align: center; vertical-align: top\">0.999730739005</td>\n",
              "        <td style=\"padding-left: 1em; padding-right: 1em; text-align: center; vertical-align: top\">0.0</td>\n",
              "        <td style=\"padding-left: 1em; padding-right: 1em; text-align: center; vertical-align: top\">0.0</td>\n",
              "        <td style=\"padding-left: 1em; padding-right: 1em; text-align: center; vertical-align: top\">0.0</td>\n",
              "        <td style=\"padding-left: 1em; padding-right: 1em; text-align: center; vertical-align: top\">0.0</td>\n",
              "        <td style=\"padding-left: 1em; padding-right: 1em; text-align: center; vertical-align: top\">1.0</td>\n",
              "        <td style=\"padding-left: 1em; padding-right: 1em; text-align: center; vertical-align: top\">0</td>\n",
              "        <td style=\"padding-left: 1em; padding-right: 1em; text-align: center; vertical-align: top\">0</td>\n",
              "        <td style=\"padding-left: 1em; padding-right: 1em; text-align: center; vertical-align: top\">0.0</td>\n",
              "        <td style=\"padding-left: 1em; padding-right: 1em; text-align: center; vertical-align: top\">0</td>\n",
              "        <td style=\"padding-left: 1em; padding-right: 1em; text-align: center; vertical-align: top\">0</td>\n",
              "        <td style=\"padding-left: 1em; padding-right: 1em; text-align: center; vertical-align: top\">0</td>\n",
              "    </tr>\n",
              "    <tr>\n",
              "        <td style=\"padding-left: 1em; padding-right: 1em; text-align: center; vertical-align: top\">0.998508336832</td>\n",
              "        <td style=\"padding-left: 1em; padding-right: 1em; text-align: center; vertical-align: top\">0.0</td>\n",
              "        <td style=\"padding-left: 1em; padding-right: 1em; text-align: center; vertical-align: top\">0.0</td>\n",
              "        <td style=\"padding-left: 1em; padding-right: 1em; text-align: center; vertical-align: top\">0.0</td>\n",
              "        <td style=\"padding-left: 1em; padding-right: 1em; text-align: center; vertical-align: top\">0.0</td>\n",
              "        <td style=\"padding-left: 1em; padding-right: 1em; text-align: center; vertical-align: top\">0.0</td>\n",
              "        <td style=\"padding-left: 1em; padding-right: 1em; text-align: center; vertical-align: top\">0</td>\n",
              "        <td style=\"padding-left: 1em; padding-right: 1em; text-align: center; vertical-align: top\">0</td>\n",
              "        <td style=\"padding-left: 1em; padding-right: 1em; text-align: center; vertical-align: top\">0.0</td>\n",
              "        <td style=\"padding-left: 1em; padding-right: 1em; text-align: center; vertical-align: top\">0</td>\n",
              "        <td style=\"padding-left: 1em; padding-right: 1em; text-align: center; vertical-align: top\">0</td>\n",
              "        <td style=\"padding-left: 1em; padding-right: 1em; text-align: center; vertical-align: top\">0</td>\n",
              "    </tr>\n",
              "    <tr>\n",
              "        <td style=\"padding-left: 1em; padding-right: 1em; text-align: center; vertical-align: top\">0.99974890425</td>\n",
              "        <td style=\"padding-left: 1em; padding-right: 1em; text-align: center; vertical-align: top\">0.0</td>\n",
              "        <td style=\"padding-left: 1em; padding-right: 1em; text-align: center; vertical-align: top\">0.0</td>\n",
              "        <td style=\"padding-left: 1em; padding-right: 1em; text-align: center; vertical-align: top\">0.0</td>\n",
              "        <td style=\"padding-left: 1em; padding-right: 1em; text-align: center; vertical-align: top\">0.0</td>\n",
              "        <td style=\"padding-left: 1em; padding-right: 1em; text-align: center; vertical-align: top\">2.0</td>\n",
              "        <td style=\"padding-left: 1em; padding-right: 1em; text-align: center; vertical-align: top\">0</td>\n",
              "        <td style=\"padding-left: 1em; padding-right: 1em; text-align: center; vertical-align: top\">0</td>\n",
              "        <td style=\"padding-left: 1em; padding-right: 1em; text-align: center; vertical-align: top\">0.0</td>\n",
              "        <td style=\"padding-left: 1em; padding-right: 1em; text-align: center; vertical-align: top\">0</td>\n",
              "        <td style=\"padding-left: 1em; padding-right: 1em; text-align: center; vertical-align: top\">0</td>\n",
              "        <td style=\"padding-left: 1em; padding-right: 1em; text-align: center; vertical-align: top\">0</td>\n",
              "    </tr>\n",
              "    <tr>\n",
              "        <td style=\"padding-left: 1em; padding-right: 1em; text-align: center; vertical-align: top\">0.99999166254</td>\n",
              "        <td style=\"padding-left: 1em; padding-right: 1em; text-align: center; vertical-align: top\">0.0</td>\n",
              "        <td style=\"padding-left: 1em; padding-right: 1em; text-align: center; vertical-align: top\">1.0</td>\n",
              "        <td style=\"padding-left: 1em; padding-right: 1em; text-align: center; vertical-align: top\">0.0</td>\n",
              "        <td style=\"padding-left: 1em; padding-right: 1em; text-align: center; vertical-align: top\">0.0</td>\n",
              "        <td style=\"padding-left: 1em; padding-right: 1em; text-align: center; vertical-align: top\">1.0</td>\n",
              "        <td style=\"padding-left: 1em; padding-right: 1em; text-align: center; vertical-align: top\">0</td>\n",
              "        <td style=\"padding-left: 1em; padding-right: 1em; text-align: center; vertical-align: top\">0</td>\n",
              "        <td style=\"padding-left: 1em; padding-right: 1em; text-align: center; vertical-align: top\">0.0</td>\n",
              "        <td style=\"padding-left: 1em; padding-right: 1em; text-align: center; vertical-align: top\">0</td>\n",
              "        <td style=\"padding-left: 1em; padding-right: 1em; text-align: center; vertical-align: top\">0</td>\n",
              "        <td style=\"padding-left: 1em; padding-right: 1em; text-align: center; vertical-align: top\">0</td>\n",
              "    </tr>\n",
              "    <tr>\n",
              "        <td style=\"padding-left: 1em; padding-right: 1em; text-align: center; vertical-align: top\">0.999999951446</td>\n",
              "        <td style=\"padding-left: 1em; padding-right: 1em; text-align: center; vertical-align: top\">0.0</td>\n",
              "        <td style=\"padding-left: 1em; padding-right: 1em; text-align: center; vertical-align: top\">1.0</td>\n",
              "        <td style=\"padding-left: 1em; padding-right: 1em; text-align: center; vertical-align: top\">0.0</td>\n",
              "        <td style=\"padding-left: 1em; padding-right: 1em; text-align: center; vertical-align: top\">0.0</td>\n",
              "        <td style=\"padding-left: 1em; padding-right: 1em; text-align: center; vertical-align: top\">0.0</td>\n",
              "        <td style=\"padding-left: 1em; padding-right: 1em; text-align: center; vertical-align: top\">0</td>\n",
              "        <td style=\"padding-left: 1em; padding-right: 1em; text-align: center; vertical-align: top\">0</td>\n",
              "        <td style=\"padding-left: 1em; padding-right: 1em; text-align: center; vertical-align: top\">0.0</td>\n",
              "        <td style=\"padding-left: 1em; padding-right: 1em; text-align: center; vertical-align: top\">0</td>\n",
              "        <td style=\"padding-left: 1em; padding-right: 1em; text-align: center; vertical-align: top\">0</td>\n",
              "        <td style=\"padding-left: 1em; padding-right: 1em; text-align: center; vertical-align: top\">0</td>\n",
              "    </tr>\n",
              "    <tr>\n",
              "        <td style=\"padding-left: 1em; padding-right: 1em; text-align: center; vertical-align: top\">0.999914673557</td>\n",
              "        <td style=\"padding-left: 1em; padding-right: 1em; text-align: center; vertical-align: top\">0.0</td>\n",
              "        <td style=\"padding-left: 1em; padding-right: 1em; text-align: center; vertical-align: top\">0.0</td>\n",
              "        <td style=\"padding-left: 1em; padding-right: 1em; text-align: center; vertical-align: top\">0.0</td>\n",
              "        <td style=\"padding-left: 1em; padding-right: 1em; text-align: center; vertical-align: top\">0.0</td>\n",
              "        <td style=\"padding-left: 1em; padding-right: 1em; text-align: center; vertical-align: top\">0.0</td>\n",
              "        <td style=\"padding-left: 1em; padding-right: 1em; text-align: center; vertical-align: top\">0</td>\n",
              "        <td style=\"padding-left: 1em; padding-right: 1em; text-align: center; vertical-align: top\">0</td>\n",
              "        <td style=\"padding-left: 1em; padding-right: 1em; text-align: center; vertical-align: top\">0.0</td>\n",
              "        <td style=\"padding-left: 1em; padding-right: 1em; text-align: center; vertical-align: top\">0</td>\n",
              "        <td style=\"padding-left: 1em; padding-right: 1em; text-align: center; vertical-align: top\">0</td>\n",
              "        <td style=\"padding-left: 1em; padding-right: 1em; text-align: center; vertical-align: top\">0</td>\n",
              "    </tr>\n",
              "    <tr>\n",
              "        <td style=\"padding-left: 1em; padding-right: 1em; text-align: center; vertical-align: top\">0.99999166159</td>\n",
              "        <td style=\"padding-left: 1em; padding-right: 1em; text-align: center; vertical-align: top\">0.0</td>\n",
              "        <td style=\"padding-left: 1em; padding-right: 1em; text-align: center; vertical-align: top\">0.0</td>\n",
              "        <td style=\"padding-left: 1em; padding-right: 1em; text-align: center; vertical-align: top\">0.0</td>\n",
              "        <td style=\"padding-left: 1em; padding-right: 1em; text-align: center; vertical-align: top\">0.0</td>\n",
              "        <td style=\"padding-left: 1em; padding-right: 1em; text-align: center; vertical-align: top\">0.0</td>\n",
              "        <td style=\"padding-left: 1em; padding-right: 1em; text-align: center; vertical-align: top\">0</td>\n",
              "        <td style=\"padding-left: 1em; padding-right: 1em; text-align: center; vertical-align: top\">0</td>\n",
              "        <td style=\"padding-left: 1em; padding-right: 1em; text-align: center; vertical-align: top\">0.0</td>\n",
              "        <td style=\"padding-left: 1em; padding-right: 1em; text-align: center; vertical-align: top\">0</td>\n",
              "        <td style=\"padding-left: 1em; padding-right: 1em; text-align: center; vertical-align: top\">0</td>\n",
              "        <td style=\"padding-left: 1em; padding-right: 1em; text-align: center; vertical-align: top\">0</td>\n",
              "    </tr>\n",
              "    <tr>\n",
              "        <td style=\"padding-left: 1em; padding-right: 1em; text-align: center; vertical-align: top\">0.999993884359</td>\n",
              "        <td style=\"padding-left: 1em; padding-right: 1em; text-align: center; vertical-align: top\">0.0</td>\n",
              "        <td style=\"padding-left: 1em; padding-right: 1em; text-align: center; vertical-align: top\">0.0</td>\n",
              "        <td style=\"padding-left: 1em; padding-right: 1em; text-align: center; vertical-align: top\">1.0</td>\n",
              "        <td style=\"padding-left: 1em; padding-right: 1em; text-align: center; vertical-align: top\">0.0</td>\n",
              "        <td style=\"padding-left: 1em; padding-right: 1em; text-align: center; vertical-align: top\">0.0</td>\n",
              "        <td style=\"padding-left: 1em; padding-right: 1em; text-align: center; vertical-align: top\">0</td>\n",
              "        <td style=\"padding-left: 1em; padding-right: 1em; text-align: center; vertical-align: top\">0</td>\n",
              "        <td style=\"padding-left: 1em; padding-right: 1em; text-align: center; vertical-align: top\">0.0</td>\n",
              "        <td style=\"padding-left: 1em; padding-right: 1em; text-align: center; vertical-align: top\">0</td>\n",
              "        <td style=\"padding-left: 1em; padding-right: 1em; text-align: center; vertical-align: top\">0</td>\n",
              "        <td style=\"padding-left: 1em; padding-right: 1em; text-align: center; vertical-align: top\">0</td>\n",
              "    </tr>\n",
              "    <tr>\n",
              "        <td style=\"padding-left: 1em; padding-right: 1em; text-align: center; vertical-align: top\">0.996124761701</td>\n",
              "        <td style=\"padding-left: 1em; padding-right: 1em; text-align: center; vertical-align: top\">0.0</td>\n",
              "        <td style=\"padding-left: 1em; padding-right: 1em; text-align: center; vertical-align: top\">0.0</td>\n",
              "        <td style=\"padding-left: 1em; padding-right: 1em; text-align: center; vertical-align: top\">0.0</td>\n",
              "        <td style=\"padding-left: 1em; padding-right: 1em; text-align: center; vertical-align: top\">0.0</td>\n",
              "        <td style=\"padding-left: 1em; padding-right: 1em; text-align: center; vertical-align: top\">0.0</td>\n",
              "        <td style=\"padding-left: 1em; padding-right: 1em; text-align: center; vertical-align: top\">0</td>\n",
              "        <td style=\"padding-left: 1em; padding-right: 1em; text-align: center; vertical-align: top\">0</td>\n",
              "        <td style=\"padding-left: 1em; padding-right: 1em; text-align: center; vertical-align: top\">0.0</td>\n",
              "        <td style=\"padding-left: 1em; padding-right: 1em; text-align: center; vertical-align: top\">0</td>\n",
              "        <td style=\"padding-left: 1em; padding-right: 1em; text-align: center; vertical-align: top\">0</td>\n",
              "        <td style=\"padding-left: 1em; padding-right: 1em; text-align: center; vertical-align: top\">0</td>\n",
              "    </tr>\n",
              "    <tr>\n",
              "        <td style=\"padding-left: 1em; padding-right: 1em; text-align: center; vertical-align: top\">0.999999992046</td>\n",
              "        <td style=\"padding-left: 1em; padding-right: 1em; text-align: center; vertical-align: top\">0.0</td>\n",
              "        <td style=\"padding-left: 1em; padding-right: 1em; text-align: center; vertical-align: top\">0.0</td>\n",
              "        <td style=\"padding-left: 1em; padding-right: 1em; text-align: center; vertical-align: top\">0.0</td>\n",
              "        <td style=\"padding-left: 1em; padding-right: 1em; text-align: center; vertical-align: top\">0.0</td>\n",
              "        <td style=\"padding-left: 1em; padding-right: 1em; text-align: center; vertical-align: top\">2.0</td>\n",
              "        <td style=\"padding-left: 1em; padding-right: 1em; text-align: center; vertical-align: top\">0</td>\n",
              "        <td style=\"padding-left: 1em; padding-right: 1em; text-align: center; vertical-align: top\">0</td>\n",
              "        <td style=\"padding-left: 1em; padding-right: 1em; text-align: center; vertical-align: top\">0.0</td>\n",
              "        <td style=\"padding-left: 1em; padding-right: 1em; text-align: center; vertical-align: top\">0</td>\n",
              "        <td style=\"padding-left: 1em; padding-right: 1em; text-align: center; vertical-align: top\">0</td>\n",
              "        <td style=\"padding-left: 1em; padding-right: 1em; text-align: center; vertical-align: top\">0</td>\n",
              "    </tr>\n",
              "</table>\n",
              "[10 rows x 17 columns]<br/>\n",
              "</div>"
            ]
          },
          "metadata": {
            "tags": []
          },
          "execution_count": 42
        }
      ]
    },
    {
      "cell_type": "code",
      "metadata": {
        "id": "N1yv5_I9fKAY",
        "colab_type": "code",
        "colab": {
          "base_uri": "https://localhost:8080/",
          "height": 239
        },
        "outputId": "5ccec98a-9cb8-42af-ae19-604740cf16a4"
      },
      "source": [
        "print 'Word count value:'\n",
        "\n",
        "for word in selected_words:\n",
        "    print '{0}: {1}'.format(word, products[word].sum())"
      ],
      "execution_count": 43,
      "outputs": [
        {
          "output_type": "stream",
          "text": [
            "Word count value:\n",
            "awesome: 3892.0\n",
            "great: 55791.0\n",
            "fantastic: 1664.0\n",
            "amazing: 2628.0\n",
            "love: 41994.0\n",
            "horrible: 1110\n",
            "bad: 4183\n",
            "terrible: 1146.0\n",
            "awful: 687\n",
            "wow: 425\n",
            "hate: 1107\n"
          ],
          "name": "stdout"
        }
      ]
    },
    {
      "cell_type": "code",
      "metadata": {
        "id": "WdtQTXdIfPbw",
        "colab_type": "code",
        "colab": {}
      },
      "source": [
        "train_data,test_data = products.random_split(.8, seed=0)"
      ],
      "execution_count": 44,
      "outputs": []
    },
    {
      "cell_type": "code",
      "metadata": {
        "id": "zeBKeF3ofipX",
        "colab_type": "code",
        "colab": {
          "base_uri": "https://localhost:8080/",
          "height": 364
        },
        "outputId": "a891a7ef-32ac-472f-8d9b-0046188db732"
      },
      "source": [
        "selected_words_model = turicreate.logistic_classifier.create(train_data,\n",
        "                                                     target='sentiment',\n",
        "                                                     features=selected_words,\n",
        "                                                     validation_set=test_data)"
      ],
      "execution_count": 45,
      "outputs": [
        {
          "output_type": "display_data",
          "data": {
            "text/plain": [
              "Logistic regression:"
            ],
            "text/html": [
              "<pre>Logistic regression:</pre>"
            ]
          },
          "metadata": {
            "tags": []
          }
        },
        {
          "output_type": "display_data",
          "data": {
            "text/plain": [
              "--------------------------------------------------------"
            ],
            "text/html": [
              "<pre>--------------------------------------------------------</pre>"
            ]
          },
          "metadata": {
            "tags": []
          }
        },
        {
          "output_type": "display_data",
          "data": {
            "text/plain": [
              "Number of examples          : 133448"
            ],
            "text/html": [
              "<pre>Number of examples          : 133448</pre>"
            ]
          },
          "metadata": {
            "tags": []
          }
        },
        {
          "output_type": "display_data",
          "data": {
            "text/plain": [
              "Number of classes           : 2"
            ],
            "text/html": [
              "<pre>Number of classes           : 2</pre>"
            ]
          },
          "metadata": {
            "tags": []
          }
        },
        {
          "output_type": "display_data",
          "data": {
            "text/plain": [
              "Number of feature columns   : 11"
            ],
            "text/html": [
              "<pre>Number of feature columns   : 11</pre>"
            ]
          },
          "metadata": {
            "tags": []
          }
        },
        {
          "output_type": "display_data",
          "data": {
            "text/plain": [
              "Number of unpacked features : 11"
            ],
            "text/html": [
              "<pre>Number of unpacked features : 11</pre>"
            ]
          },
          "metadata": {
            "tags": []
          }
        },
        {
          "output_type": "display_data",
          "data": {
            "text/plain": [
              "Number of coefficients      : 12"
            ],
            "text/html": [
              "<pre>Number of coefficients      : 12</pre>"
            ]
          },
          "metadata": {
            "tags": []
          }
        },
        {
          "output_type": "display_data",
          "data": {
            "text/plain": [
              "Starting Newton Method"
            ],
            "text/html": [
              "<pre>Starting Newton Method</pre>"
            ]
          },
          "metadata": {
            "tags": []
          }
        },
        {
          "output_type": "display_data",
          "data": {
            "text/plain": [
              "--------------------------------------------------------"
            ],
            "text/html": [
              "<pre>--------------------------------------------------------</pre>"
            ]
          },
          "metadata": {
            "tags": []
          }
        },
        {
          "output_type": "display_data",
          "data": {
            "text/plain": [
              "+-----------+----------+--------------+-------------------+---------------------+"
            ],
            "text/html": [
              "<pre>+-----------+----------+--------------+-------------------+---------------------+</pre>"
            ]
          },
          "metadata": {
            "tags": []
          }
        },
        {
          "output_type": "display_data",
          "data": {
            "text/plain": [
              "| Iteration | Passes   | Elapsed Time | Training Accuracy | Validation Accuracy |"
            ],
            "text/html": [
              "<pre>| Iteration | Passes   | Elapsed Time | Training Accuracy | Validation Accuracy |</pre>"
            ]
          },
          "metadata": {
            "tags": []
          }
        },
        {
          "output_type": "display_data",
          "data": {
            "text/plain": [
              "+-----------+----------+--------------+-------------------+---------------------+"
            ],
            "text/html": [
              "<pre>+-----------+----------+--------------+-------------------+---------------------+</pre>"
            ]
          },
          "metadata": {
            "tags": []
          }
        },
        {
          "output_type": "display_data",
          "data": {
            "text/plain": [
              "| 1         | 2        | 0.258354     | 0.847401          | 0.845874            |"
            ],
            "text/html": [
              "<pre>| 1         | 2        | 0.258354     | 0.847401          | 0.845874            |</pre>"
            ]
          },
          "metadata": {
            "tags": []
          }
        },
        {
          "output_type": "display_data",
          "data": {
            "text/plain": [
              "| 2         | 3        | 0.420343     | 0.847514          | 0.846085            |"
            ],
            "text/html": [
              "<pre>| 2         | 3        | 0.420343     | 0.847514          | 0.846085            |</pre>"
            ]
          },
          "metadata": {
            "tags": []
          }
        },
        {
          "output_type": "display_data",
          "data": {
            "text/plain": [
              "| 3         | 4        | 0.585819     | 0.847626          | 0.846115            |"
            ],
            "text/html": [
              "<pre>| 3         | 4        | 0.585819     | 0.847626          | 0.846115            |</pre>"
            ]
          },
          "metadata": {
            "tags": []
          }
        },
        {
          "output_type": "display_data",
          "data": {
            "text/plain": [
              "| 4         | 5        | 0.745407     | 0.847708          | 0.846385            |"
            ],
            "text/html": [
              "<pre>| 4         | 5        | 0.745407     | 0.847708          | 0.846385            |</pre>"
            ]
          },
          "metadata": {
            "tags": []
          }
        },
        {
          "output_type": "display_data",
          "data": {
            "text/plain": [
              "| 5         | 6        | 0.915643     | 0.847708          | 0.846385            |"
            ],
            "text/html": [
              "<pre>| 5         | 6        | 0.915643     | 0.847708          | 0.846385            |</pre>"
            ]
          },
          "metadata": {
            "tags": []
          }
        },
        {
          "output_type": "display_data",
          "data": {
            "text/plain": [
              "| 6         | 7        | 1.076795     | 0.847708          | 0.846385            |"
            ],
            "text/html": [
              "<pre>| 6         | 7        | 1.076795     | 0.847708          | 0.846385            |</pre>"
            ]
          },
          "metadata": {
            "tags": []
          }
        },
        {
          "output_type": "display_data",
          "data": {
            "text/plain": [
              "+-----------+----------+--------------+-------------------+---------------------+"
            ],
            "text/html": [
              "<pre>+-----------+----------+--------------+-------------------+---------------------+</pre>"
            ]
          },
          "metadata": {
            "tags": []
          }
        },
        {
          "output_type": "display_data",
          "data": {
            "text/plain": [
              "SUCCESS: Optimal solution found."
            ],
            "text/html": [
              "<pre>SUCCESS: Optimal solution found.</pre>"
            ]
          },
          "metadata": {
            "tags": []
          }
        },
        {
          "output_type": "display_data",
          "data": {
            "text/plain": [
              ""
            ],
            "text/html": [
              "<pre></pre>"
            ]
          },
          "metadata": {
            "tags": []
          }
        }
      ]
    },
    {
      "cell_type": "code",
      "metadata": {
        "id": "jBMvCulwfoOX",
        "colab_type": "code",
        "colab": {}
      },
      "source": [
        "coef = selected_words_model.coefficients"
      ],
      "execution_count": 50,
      "outputs": []
    },
    {
      "cell_type": "code",
      "metadata": {
        "id": "o0oN4mLKgJT2",
        "colab_type": "code",
        "colab": {
          "base_uri": "https://localhost:8080/",
          "height": 284
        },
        "outputId": "7ba672fd-3115-44e4-e744-779e2e2d65a8"
      },
      "source": [
        "coef = coef.sort('value', ascending=False)\n",
        "coef\n"
      ],
      "execution_count": 51,
      "outputs": [
        {
          "output_type": "execute_result",
          "data": {
            "text/plain": [
              "Columns:\n",
              "\tname\tstr\n",
              "\tindex\tstr\n",
              "\tclass\tint\n",
              "\tvalue\tfloat\n",
              "\tstderr\tfloat\n",
              "\n",
              "Rows: 12\n",
              "\n",
              "Data:\n",
              "+-------------+-------+-------+-------------------+------------------+\n",
              "|     name    | index | class |       value       |      stderr      |\n",
              "+-------------+-------+-------+-------------------+------------------+\n",
              "|     love    |  None |   1   |   1.35926886692   | 0.0280683001521  |\n",
              "| (intercept) |  None |   1   |   1.33659138489   | 0.00892996978766 |\n",
              "|   awesome   |  None |   1   |   1.13353466603   | 0.0839964398319  |\n",
              "|   amazing   |  None |   1   |   1.10009331137   | 0.0995477626047  |\n",
              "|  fantastic  |  None |   1   |   0.885804756881  |  0.111675912934  |\n",
              "|    great    |  None |   1   |   0.86306550012   | 0.0189550524444  |\n",
              "|     wow     |  None |   1   | -0.00953823606771 |  0.160464112247  |\n",
              "|     bad     |  None |   1   |  -0.991477880065  |  0.038484286647  |\n",
              "|     hate    |  None |   1   |   -1.34844072225  |  0.077156986043  |\n",
              "|    awful    |  None |   1   |   -2.05290820403  |  0.100997354353  |\n",
              "+-------------+-------+-------+-------------------+------------------+\n",
              "[12 rows x 5 columns]\n",
              "Note: Only the head of the SFrame is printed.\n",
              "You can use print_rows(num_rows=m, num_columns=n) to print more rows and columns."
            ],
            "text/html": [
              "<div style=\"max-height:1000px;max-width:1500px;overflow:auto;\"><table frame=\"box\" rules=\"cols\">\n",
              "    <tr>\n",
              "        <th style=\"padding-left: 1em; padding-right: 1em; text-align: center\">name</th>\n",
              "        <th style=\"padding-left: 1em; padding-right: 1em; text-align: center\">index</th>\n",
              "        <th style=\"padding-left: 1em; padding-right: 1em; text-align: center\">class</th>\n",
              "        <th style=\"padding-left: 1em; padding-right: 1em; text-align: center\">value</th>\n",
              "        <th style=\"padding-left: 1em; padding-right: 1em; text-align: center\">stderr</th>\n",
              "    </tr>\n",
              "    <tr>\n",
              "        <td style=\"padding-left: 1em; padding-right: 1em; text-align: center; vertical-align: top\">love</td>\n",
              "        <td style=\"padding-left: 1em; padding-right: 1em; text-align: center; vertical-align: top\">None</td>\n",
              "        <td style=\"padding-left: 1em; padding-right: 1em; text-align: center; vertical-align: top\">1</td>\n",
              "        <td style=\"padding-left: 1em; padding-right: 1em; text-align: center; vertical-align: top\">1.35926886692</td>\n",
              "        <td style=\"padding-left: 1em; padding-right: 1em; text-align: center; vertical-align: top\">0.0280683001521</td>\n",
              "    </tr>\n",
              "    <tr>\n",
              "        <td style=\"padding-left: 1em; padding-right: 1em; text-align: center; vertical-align: top\">(intercept)</td>\n",
              "        <td style=\"padding-left: 1em; padding-right: 1em; text-align: center; vertical-align: top\">None</td>\n",
              "        <td style=\"padding-left: 1em; padding-right: 1em; text-align: center; vertical-align: top\">1</td>\n",
              "        <td style=\"padding-left: 1em; padding-right: 1em; text-align: center; vertical-align: top\">1.33659138489</td>\n",
              "        <td style=\"padding-left: 1em; padding-right: 1em; text-align: center; vertical-align: top\">0.00892996978766</td>\n",
              "    </tr>\n",
              "    <tr>\n",
              "        <td style=\"padding-left: 1em; padding-right: 1em; text-align: center; vertical-align: top\">awesome</td>\n",
              "        <td style=\"padding-left: 1em; padding-right: 1em; text-align: center; vertical-align: top\">None</td>\n",
              "        <td style=\"padding-left: 1em; padding-right: 1em; text-align: center; vertical-align: top\">1</td>\n",
              "        <td style=\"padding-left: 1em; padding-right: 1em; text-align: center; vertical-align: top\">1.13353466603</td>\n",
              "        <td style=\"padding-left: 1em; padding-right: 1em; text-align: center; vertical-align: top\">0.0839964398319</td>\n",
              "    </tr>\n",
              "    <tr>\n",
              "        <td style=\"padding-left: 1em; padding-right: 1em; text-align: center; vertical-align: top\">amazing</td>\n",
              "        <td style=\"padding-left: 1em; padding-right: 1em; text-align: center; vertical-align: top\">None</td>\n",
              "        <td style=\"padding-left: 1em; padding-right: 1em; text-align: center; vertical-align: top\">1</td>\n",
              "        <td style=\"padding-left: 1em; padding-right: 1em; text-align: center; vertical-align: top\">1.10009331137</td>\n",
              "        <td style=\"padding-left: 1em; padding-right: 1em; text-align: center; vertical-align: top\">0.0995477626047</td>\n",
              "    </tr>\n",
              "    <tr>\n",
              "        <td style=\"padding-left: 1em; padding-right: 1em; text-align: center; vertical-align: top\">fantastic</td>\n",
              "        <td style=\"padding-left: 1em; padding-right: 1em; text-align: center; vertical-align: top\">None</td>\n",
              "        <td style=\"padding-left: 1em; padding-right: 1em; text-align: center; vertical-align: top\">1</td>\n",
              "        <td style=\"padding-left: 1em; padding-right: 1em; text-align: center; vertical-align: top\">0.885804756881</td>\n",
              "        <td style=\"padding-left: 1em; padding-right: 1em; text-align: center; vertical-align: top\">0.111675912934</td>\n",
              "    </tr>\n",
              "    <tr>\n",
              "        <td style=\"padding-left: 1em; padding-right: 1em; text-align: center; vertical-align: top\">great</td>\n",
              "        <td style=\"padding-left: 1em; padding-right: 1em; text-align: center; vertical-align: top\">None</td>\n",
              "        <td style=\"padding-left: 1em; padding-right: 1em; text-align: center; vertical-align: top\">1</td>\n",
              "        <td style=\"padding-left: 1em; padding-right: 1em; text-align: center; vertical-align: top\">0.86306550012</td>\n",
              "        <td style=\"padding-left: 1em; padding-right: 1em; text-align: center; vertical-align: top\">0.0189550524444</td>\n",
              "    </tr>\n",
              "    <tr>\n",
              "        <td style=\"padding-left: 1em; padding-right: 1em; text-align: center; vertical-align: top\">wow</td>\n",
              "        <td style=\"padding-left: 1em; padding-right: 1em; text-align: center; vertical-align: top\">None</td>\n",
              "        <td style=\"padding-left: 1em; padding-right: 1em; text-align: center; vertical-align: top\">1</td>\n",
              "        <td style=\"padding-left: 1em; padding-right: 1em; text-align: center; vertical-align: top\">-0.00953823606771</td>\n",
              "        <td style=\"padding-left: 1em; padding-right: 1em; text-align: center; vertical-align: top\">0.160464112247</td>\n",
              "    </tr>\n",
              "    <tr>\n",
              "        <td style=\"padding-left: 1em; padding-right: 1em; text-align: center; vertical-align: top\">bad</td>\n",
              "        <td style=\"padding-left: 1em; padding-right: 1em; text-align: center; vertical-align: top\">None</td>\n",
              "        <td style=\"padding-left: 1em; padding-right: 1em; text-align: center; vertical-align: top\">1</td>\n",
              "        <td style=\"padding-left: 1em; padding-right: 1em; text-align: center; vertical-align: top\">-0.991477880065</td>\n",
              "        <td style=\"padding-left: 1em; padding-right: 1em; text-align: center; vertical-align: top\">0.038484286647</td>\n",
              "    </tr>\n",
              "    <tr>\n",
              "        <td style=\"padding-left: 1em; padding-right: 1em; text-align: center; vertical-align: top\">hate</td>\n",
              "        <td style=\"padding-left: 1em; padding-right: 1em; text-align: center; vertical-align: top\">None</td>\n",
              "        <td style=\"padding-left: 1em; padding-right: 1em; text-align: center; vertical-align: top\">1</td>\n",
              "        <td style=\"padding-left: 1em; padding-right: 1em; text-align: center; vertical-align: top\">-1.34844072225</td>\n",
              "        <td style=\"padding-left: 1em; padding-right: 1em; text-align: center; vertical-align: top\">0.077156986043</td>\n",
              "    </tr>\n",
              "    <tr>\n",
              "        <td style=\"padding-left: 1em; padding-right: 1em; text-align: center; vertical-align: top\">awful</td>\n",
              "        <td style=\"padding-left: 1em; padding-right: 1em; text-align: center; vertical-align: top\">None</td>\n",
              "        <td style=\"padding-left: 1em; padding-right: 1em; text-align: center; vertical-align: top\">1</td>\n",
              "        <td style=\"padding-left: 1em; padding-right: 1em; text-align: center; vertical-align: top\">-2.05290820403</td>\n",
              "        <td style=\"padding-left: 1em; padding-right: 1em; text-align: center; vertical-align: top\">0.100997354353</td>\n",
              "    </tr>\n",
              "</table>\n",
              "[12 rows x 5 columns]<br/>Note: Only the head of the SFrame is printed.<br/>You can use print_rows(num_rows=m, num_columns=n) to print more rows and columns.\n",
              "</div>"
            ]
          },
          "metadata": {
            "tags": []
          },
          "execution_count": 51
        }
      ]
    },
    {
      "cell_type": "code",
      "metadata": {
        "id": "vuDhxU7wgt--",
        "colab_type": "code",
        "colab": {
          "base_uri": "https://localhost:8080/",
          "height": 284
        },
        "outputId": "28703a6f-5934-4372-ac94-a05e463ef1c7"
      },
      "source": [
        "coef.sort('value', ascending=True)"
      ],
      "execution_count": 52,
      "outputs": [
        {
          "output_type": "execute_result",
          "data": {
            "text/plain": [
              "Columns:\n",
              "\tname\tstr\n",
              "\tindex\tstr\n",
              "\tclass\tint\n",
              "\tvalue\tfloat\n",
              "\tstderr\tfloat\n",
              "\n",
              "Rows: 12\n",
              "\n",
              "Data:\n",
              "+-----------+-------+-------+-------------------+-----------------+\n",
              "|    name   | index | class |       value       |      stderr     |\n",
              "+-----------+-------+-------+-------------------+-----------------+\n",
              "|  horrible |  None |   1   |   -2.25133523676  | 0.0802024938879 |\n",
              "|  terrible |  None |   1   |   -2.22366143609  | 0.0773173620379 |\n",
              "|   awful   |  None |   1   |   -2.05290820403  |  0.100997354353 |\n",
              "|    hate   |  None |   1   |   -1.34844072225  |  0.077156986043 |\n",
              "|    bad    |  None |   1   |  -0.991477880065  |  0.038484286647 |\n",
              "|    wow    |  None |   1   | -0.00953823606771 |  0.160464112247 |\n",
              "|   great   |  None |   1   |   0.86306550012   | 0.0189550524444 |\n",
              "| fantastic |  None |   1   |   0.885804756881  |  0.111675912934 |\n",
              "|  amazing  |  None |   1   |   1.10009331137   | 0.0995477626047 |\n",
              "|  awesome  |  None |   1   |   1.13353466603   | 0.0839964398319 |\n",
              "+-----------+-------+-------+-------------------+-----------------+\n",
              "[12 rows x 5 columns]\n",
              "Note: Only the head of the SFrame is printed.\n",
              "You can use print_rows(num_rows=m, num_columns=n) to print more rows and columns."
            ],
            "text/html": [
              "<div style=\"max-height:1000px;max-width:1500px;overflow:auto;\"><table frame=\"box\" rules=\"cols\">\n",
              "    <tr>\n",
              "        <th style=\"padding-left: 1em; padding-right: 1em; text-align: center\">name</th>\n",
              "        <th style=\"padding-left: 1em; padding-right: 1em; text-align: center\">index</th>\n",
              "        <th style=\"padding-left: 1em; padding-right: 1em; text-align: center\">class</th>\n",
              "        <th style=\"padding-left: 1em; padding-right: 1em; text-align: center\">value</th>\n",
              "        <th style=\"padding-left: 1em; padding-right: 1em; text-align: center\">stderr</th>\n",
              "    </tr>\n",
              "    <tr>\n",
              "        <td style=\"padding-left: 1em; padding-right: 1em; text-align: center; vertical-align: top\">horrible</td>\n",
              "        <td style=\"padding-left: 1em; padding-right: 1em; text-align: center; vertical-align: top\">None</td>\n",
              "        <td style=\"padding-left: 1em; padding-right: 1em; text-align: center; vertical-align: top\">1</td>\n",
              "        <td style=\"padding-left: 1em; padding-right: 1em; text-align: center; vertical-align: top\">-2.25133523676</td>\n",
              "        <td style=\"padding-left: 1em; padding-right: 1em; text-align: center; vertical-align: top\">0.0802024938879</td>\n",
              "    </tr>\n",
              "    <tr>\n",
              "        <td style=\"padding-left: 1em; padding-right: 1em; text-align: center; vertical-align: top\">terrible</td>\n",
              "        <td style=\"padding-left: 1em; padding-right: 1em; text-align: center; vertical-align: top\">None</td>\n",
              "        <td style=\"padding-left: 1em; padding-right: 1em; text-align: center; vertical-align: top\">1</td>\n",
              "        <td style=\"padding-left: 1em; padding-right: 1em; text-align: center; vertical-align: top\">-2.22366143609</td>\n",
              "        <td style=\"padding-left: 1em; padding-right: 1em; text-align: center; vertical-align: top\">0.0773173620379</td>\n",
              "    </tr>\n",
              "    <tr>\n",
              "        <td style=\"padding-left: 1em; padding-right: 1em; text-align: center; vertical-align: top\">awful</td>\n",
              "        <td style=\"padding-left: 1em; padding-right: 1em; text-align: center; vertical-align: top\">None</td>\n",
              "        <td style=\"padding-left: 1em; padding-right: 1em; text-align: center; vertical-align: top\">1</td>\n",
              "        <td style=\"padding-left: 1em; padding-right: 1em; text-align: center; vertical-align: top\">-2.05290820403</td>\n",
              "        <td style=\"padding-left: 1em; padding-right: 1em; text-align: center; vertical-align: top\">0.100997354353</td>\n",
              "    </tr>\n",
              "    <tr>\n",
              "        <td style=\"padding-left: 1em; padding-right: 1em; text-align: center; vertical-align: top\">hate</td>\n",
              "        <td style=\"padding-left: 1em; padding-right: 1em; text-align: center; vertical-align: top\">None</td>\n",
              "        <td style=\"padding-left: 1em; padding-right: 1em; text-align: center; vertical-align: top\">1</td>\n",
              "        <td style=\"padding-left: 1em; padding-right: 1em; text-align: center; vertical-align: top\">-1.34844072225</td>\n",
              "        <td style=\"padding-left: 1em; padding-right: 1em; text-align: center; vertical-align: top\">0.077156986043</td>\n",
              "    </tr>\n",
              "    <tr>\n",
              "        <td style=\"padding-left: 1em; padding-right: 1em; text-align: center; vertical-align: top\">bad</td>\n",
              "        <td style=\"padding-left: 1em; padding-right: 1em; text-align: center; vertical-align: top\">None</td>\n",
              "        <td style=\"padding-left: 1em; padding-right: 1em; text-align: center; vertical-align: top\">1</td>\n",
              "        <td style=\"padding-left: 1em; padding-right: 1em; text-align: center; vertical-align: top\">-0.991477880065</td>\n",
              "        <td style=\"padding-left: 1em; padding-right: 1em; text-align: center; vertical-align: top\">0.038484286647</td>\n",
              "    </tr>\n",
              "    <tr>\n",
              "        <td style=\"padding-left: 1em; padding-right: 1em; text-align: center; vertical-align: top\">wow</td>\n",
              "        <td style=\"padding-left: 1em; padding-right: 1em; text-align: center; vertical-align: top\">None</td>\n",
              "        <td style=\"padding-left: 1em; padding-right: 1em; text-align: center; vertical-align: top\">1</td>\n",
              "        <td style=\"padding-left: 1em; padding-right: 1em; text-align: center; vertical-align: top\">-0.00953823606771</td>\n",
              "        <td style=\"padding-left: 1em; padding-right: 1em; text-align: center; vertical-align: top\">0.160464112247</td>\n",
              "    </tr>\n",
              "    <tr>\n",
              "        <td style=\"padding-left: 1em; padding-right: 1em; text-align: center; vertical-align: top\">great</td>\n",
              "        <td style=\"padding-left: 1em; padding-right: 1em; text-align: center; vertical-align: top\">None</td>\n",
              "        <td style=\"padding-left: 1em; padding-right: 1em; text-align: center; vertical-align: top\">1</td>\n",
              "        <td style=\"padding-left: 1em; padding-right: 1em; text-align: center; vertical-align: top\">0.86306550012</td>\n",
              "        <td style=\"padding-left: 1em; padding-right: 1em; text-align: center; vertical-align: top\">0.0189550524444</td>\n",
              "    </tr>\n",
              "    <tr>\n",
              "        <td style=\"padding-left: 1em; padding-right: 1em; text-align: center; vertical-align: top\">fantastic</td>\n",
              "        <td style=\"padding-left: 1em; padding-right: 1em; text-align: center; vertical-align: top\">None</td>\n",
              "        <td style=\"padding-left: 1em; padding-right: 1em; text-align: center; vertical-align: top\">1</td>\n",
              "        <td style=\"padding-left: 1em; padding-right: 1em; text-align: center; vertical-align: top\">0.885804756881</td>\n",
              "        <td style=\"padding-left: 1em; padding-right: 1em; text-align: center; vertical-align: top\">0.111675912934</td>\n",
              "    </tr>\n",
              "    <tr>\n",
              "        <td style=\"padding-left: 1em; padding-right: 1em; text-align: center; vertical-align: top\">amazing</td>\n",
              "        <td style=\"padding-left: 1em; padding-right: 1em; text-align: center; vertical-align: top\">None</td>\n",
              "        <td style=\"padding-left: 1em; padding-right: 1em; text-align: center; vertical-align: top\">1</td>\n",
              "        <td style=\"padding-left: 1em; padding-right: 1em; text-align: center; vertical-align: top\">1.10009331137</td>\n",
              "        <td style=\"padding-left: 1em; padding-right: 1em; text-align: center; vertical-align: top\">0.0995477626047</td>\n",
              "    </tr>\n",
              "    <tr>\n",
              "        <td style=\"padding-left: 1em; padding-right: 1em; text-align: center; vertical-align: top\">awesome</td>\n",
              "        <td style=\"padding-left: 1em; padding-right: 1em; text-align: center; vertical-align: top\">None</td>\n",
              "        <td style=\"padding-left: 1em; padding-right: 1em; text-align: center; vertical-align: top\">1</td>\n",
              "        <td style=\"padding-left: 1em; padding-right: 1em; text-align: center; vertical-align: top\">1.13353466603</td>\n",
              "        <td style=\"padding-left: 1em; padding-right: 1em; text-align: center; vertical-align: top\">0.0839964398319</td>\n",
              "    </tr>\n",
              "</table>\n",
              "[12 rows x 5 columns]<br/>Note: Only the head of the SFrame is printed.<br/>You can use print_rows(num_rows=m, num_columns=n) to print more rows and columns.\n",
              "</div>"
            ]
          },
          "metadata": {
            "tags": []
          },
          "execution_count": 52
        }
      ]
    },
    {
      "cell_type": "code",
      "metadata": {
        "id": "B-ngFbJ_gxJG",
        "colab_type": "code",
        "colab": {
          "base_uri": "https://localhost:8080/",
          "height": 943
        },
        "outputId": "5f31308f-3785-4802-aa2a-f73cdcc59797"
      },
      "source": [
        "\n",
        "selected_words_model.evaluate(test_data)"
      ],
      "execution_count": 53,
      "outputs": [
        {
          "output_type": "execute_result",
          "data": {
            "text/plain": [
              "{'accuracy': 0.8463848186404036,\n",
              " 'auc': 0.6936022046674926,\n",
              " 'confusion_matrix': Columns:\n",
              " \ttarget_label\tint\n",
              " \tpredicted_label\tint\n",
              " \tcount\tint\n",
              " \n",
              " Rows: 4\n",
              " \n",
              " Data:\n",
              " +--------------+-----------------+-------+\n",
              " | target_label | predicted_label | count |\n",
              " +--------------+-----------------+-------+\n",
              " |      1       |        0        |  159  |\n",
              " |      0       |        0        |  371  |\n",
              " |      0       |        1        |  4957 |\n",
              " |      1       |        1        | 27817 |\n",
              " +--------------+-----------------+-------+\n",
              " [4 rows x 3 columns],\n",
              " 'f1_score': 0.9157860082304526,\n",
              " 'log_loss': 0.3962265467087835,\n",
              " 'precision': 0.8487520595594068,\n",
              " 'recall': 0.9943165570488991,\n",
              " 'roc_curve': Columns:\n",
              " \tthreshold\tfloat\n",
              " \tfpr\tfloat\n",
              " \ttpr\tfloat\n",
              " \tp\tint\n",
              " \tn\tint\n",
              " \n",
              " Rows: 100001\n",
              " \n",
              " Data:\n",
              " +-----------+----------------+-----+-------+------+\n",
              " | threshold |      fpr       | tpr |   p   |  n   |\n",
              " +-----------+----------------+-----+-------+------+\n",
              " |    0.0    |      1.0       | 1.0 | 27976 | 5328 |\n",
              " |   1e-05   |      1.0       | 1.0 | 27976 | 5328 |\n",
              " |   2e-05   |      1.0       | 1.0 | 27976 | 5328 |\n",
              " |   3e-05   | 0.999812312312 | 1.0 | 27976 | 5328 |\n",
              " |   4e-05   | 0.999812312312 | 1.0 | 27976 | 5328 |\n",
              " |   5e-05   | 0.999812312312 | 1.0 | 27976 | 5328 |\n",
              " |   6e-05   | 0.999812312312 | 1.0 | 27976 | 5328 |\n",
              " |   7e-05   | 0.999812312312 | 1.0 | 27976 | 5328 |\n",
              " |   8e-05   | 0.999812312312 | 1.0 | 27976 | 5328 |\n",
              " |   9e-05   | 0.999812312312 | 1.0 | 27976 | 5328 |\n",
              " +-----------+----------------+-----+-------+------+\n",
              " [100001 rows x 5 columns]\n",
              " Note: Only the head of the SFrame is printed.\n",
              " You can use print_rows(num_rows=m, num_columns=n) to print more rows and columns.}"
            ]
          },
          "metadata": {
            "tags": []
          },
          "execution_count": 53
        }
      ]
    },
    {
      "cell_type": "code",
      "metadata": {
        "id": "WYpkbT-Bg7PH",
        "colab_type": "code",
        "colab": {
          "base_uri": "https://localhost:8080/",
          "height": 943
        },
        "outputId": "ed6c19b9-2968-4268-9195-78ce90a9b3ae"
      },
      "source": [
        "sentiment_model.evaluate(test_data)\n"
      ],
      "execution_count": 54,
      "outputs": [
        {
          "output_type": "execute_result",
          "data": {
            "text/plain": [
              "{'accuracy': 0.9176975738650012,\n",
              " 'auc': 0.9342357833151299,\n",
              " 'confusion_matrix': Columns:\n",
              " \ttarget_label\tint\n",
              " \tpredicted_label\tint\n",
              " \tcount\tint\n",
              " \n",
              " Rows: 4\n",
              " \n",
              " Data:\n",
              " +--------------+-----------------+-------+\n",
              " | target_label | predicted_label | count |\n",
              " +--------------+-----------------+-------+\n",
              " |      0       |        1        |  1397 |\n",
              " |      1       |        0        |  1344 |\n",
              " |      0       |        0        |  3931 |\n",
              " |      1       |        1        | 26632 |\n",
              " +--------------+-----------------+-------+\n",
              " [4 rows x 3 columns],\n",
              " 'f1_score': 0.951057941255245,\n",
              " 'log_loss': 0.33047871872209705,\n",
              " 'precision': 0.9501587641371436,\n",
              " 'recall': 0.9519588218472976,\n",
              " 'roc_curve': Columns:\n",
              " \tthreshold\tfloat\n",
              " \tfpr\tfloat\n",
              " \ttpr\tfloat\n",
              " \tp\tint\n",
              " \tn\tint\n",
              " \n",
              " Rows: 100001\n",
              " \n",
              " Data:\n",
              " +-----------+----------------+----------------+-------+------+\n",
              " | threshold |      fpr       |      tpr       |   p   |  n   |\n",
              " +-----------+----------------+----------------+-------+------+\n",
              " |    0.0    |      1.0       |      1.0       | 27976 | 5328 |\n",
              " |   1e-05   | 0.847972972973 | 0.997569345153 | 27976 | 5328 |\n",
              " |   2e-05   | 0.829954954955 | 0.997176150987 | 27976 | 5328 |\n",
              " |   3e-05   | 0.818506006006 | 0.996961681441 | 27976 | 5328 |\n",
              " |   4e-05   | 0.810998498498 | 0.996747211896 | 27976 | 5328 |\n",
              " |   5e-05   | 0.805743243243 | 0.996604232199 | 27976 | 5328 |\n",
              " |   6e-05   | 0.799174174174 | 0.996282527881 | 27976 | 5328 |\n",
              " |   7e-05   | 0.795232732733 | 0.996175293108 | 27976 | 5328 |\n",
              " |   8e-05   | 0.792042042042 | 0.99610380326  | 27976 | 5328 |\n",
              " |   9e-05   | 0.788288288288 | 0.995889333715 | 27976 | 5328 |\n",
              " +-----------+----------------+----------------+-------+------+\n",
              " [100001 rows x 5 columns]\n",
              " Note: Only the head of the SFrame is printed.\n",
              " You can use print_rows(num_rows=m, num_columns=n) to print more rows and columns.}"
            ]
          },
          "metadata": {
            "tags": []
          },
          "execution_count": 54
        }
      ]
    },
    {
      "cell_type": "code",
      "metadata": {
        "id": "QIWiABH6g_Wn",
        "colab_type": "code",
        "colab": {
          "base_uri": "https://localhost:8080/",
          "height": 517
        },
        "outputId": "26e545a1-749a-4709-8a7a-070705cc19b3"
      },
      "source": [
        "\n",
        "selected_words_model.evaluate(test_data, metric='roc_curve')"
      ],
      "execution_count": 55,
      "outputs": [
        {
          "output_type": "execute_result",
          "data": {
            "text/plain": [
              "{'roc_curve': Columns:\n",
              " \tthreshold\tfloat\n",
              " \tfpr\tfloat\n",
              " \ttpr\tfloat\n",
              " \tp\tint\n",
              " \tn\tint\n",
              " \n",
              " Rows: 100001\n",
              " \n",
              " Data:\n",
              " +-----------+----------------+-----+-------+------+\n",
              " | threshold |      fpr       | tpr |   p   |  n   |\n",
              " +-----------+----------------+-----+-------+------+\n",
              " |    0.0    |      1.0       | 1.0 | 27976 | 5328 |\n",
              " |   1e-05   |      1.0       | 1.0 | 27976 | 5328 |\n",
              " |   2e-05   |      1.0       | 1.0 | 27976 | 5328 |\n",
              " |   3e-05   | 0.999812312312 | 1.0 | 27976 | 5328 |\n",
              " |   4e-05   | 0.999812312312 | 1.0 | 27976 | 5328 |\n",
              " |   5e-05   | 0.999812312312 | 1.0 | 27976 | 5328 |\n",
              " |   6e-05   | 0.999812312312 | 1.0 | 27976 | 5328 |\n",
              " |   7e-05   | 0.999812312312 | 1.0 | 27976 | 5328 |\n",
              " |   8e-05   | 0.999812312312 | 1.0 | 27976 | 5328 |\n",
              " |   9e-05   | 0.999812312312 | 1.0 | 27976 | 5328 |\n",
              " +-----------+----------------+-----+-------+------+\n",
              " [100001 rows x 5 columns]\n",
              " Note: Only the head of the SFrame is printed.\n",
              " You can use print_rows(num_rows=m, num_columns=n) to print more rows and columns.}"
            ]
          },
          "metadata": {
            "tags": []
          },
          "execution_count": 55
        }
      ]
    },
    {
      "cell_type": "code",
      "metadata": {
        "id": "W0vDi5xzhT2u",
        "colab_type": "code",
        "colab": {}
      },
      "source": [
        "diaper_champ_reviews = products[products['name'] == 'Baby Trend Diaper Champ']"
      ],
      "execution_count": 60,
      "outputs": []
    },
    {
      "cell_type": "code",
      "metadata": {
        "id": "manICZA-i3od",
        "colab_type": "code",
        "colab": {
          "base_uri": "https://localhost:8080/",
          "height": 637
        },
        "outputId": "6cbcd73b-b1df-42a0-94c7-f683d9e23d9f"
      },
      "source": [
        "\n",
        "diaper_champ_reviews.head()"
      ],
      "execution_count": 61,
      "outputs": [
        {
          "output_type": "execute_result",
          "data": {
            "text/plain": [
              "Columns:\n",
              "\tname\tstr\n",
              "\treview\tstr\n",
              "\trating\tint\n",
              "\tword_count\tdict\n",
              "\tsentiment\tint\n",
              "\tpredicted_sentiment\tfloat\n",
              "\tawesome\tfloat\n",
              "\tgreat\tfloat\n",
              "\tfantastic\tfloat\n",
              "\tamazing\tfloat\n",
              "\tlove\tfloat\n",
              "\thorrible\tint\n",
              "\tbad\tint\n",
              "\tterrible\tfloat\n",
              "\tawful\tint\n",
              "\twow\tint\n",
              "\thate\tint\n",
              "\n",
              "Rows: 10\n",
              "\n",
              "Data:\n",
              "+-------------------------+-------------------------------+--------+\n",
              "|           name          |             review            | rating |\n",
              "+-------------------------+-------------------------------+--------+\n",
              "| Baby Trend Diaper Champ | Ok - newsflash.  Diapers a... |   4    |\n",
              "| Baby Trend Diaper Champ | My husband and I selected ... |   1    |\n",
              "| Baby Trend Diaper Champ | Excellent diaper disposal ... |   5    |\n",
              "| Baby Trend Diaper Champ | We love our diaper champ. ... |   5    |\n",
              "| Baby Trend Diaper Champ | Two girlfriends and two fa... |   5    |\n",
              "| Baby Trend Diaper Champ | I waited to review this un... |   4    |\n",
              "| Baby Trend Diaper Champ | I have had a diaper genie ... |   1    |\n",
              "| Baby Trend Diaper Champ | I originally put this item... |   5    |\n",
              "| Baby Trend Diaper Champ | I am so glad I got the Dia... |   5    |\n",
              "| Baby Trend Diaper Champ | We had 2 diaper Genie's bo... |   4    |\n",
              "+-------------------------+-------------------------------+--------+\n",
              "+-------------------------------+-----------+---------------------+---------+\n",
              "|           word_count          | sentiment | predicted_sentiment | awesome |\n",
              "+-------------------------------+-----------+---------------------+---------+\n",
              "| {'just': 2.0, 'less': 1.0,... |     1     |    0.995012293557   |   0.0   |\n",
              "| {'selected': 1.0, 'just': ... |     0     |  5.90141453662e-13  |   0.0   |\n",
              "| {'control': 1.0, 'am': 1.0... |     1     |    0.999999619396   |   0.0   |\n",
              "| {'and': 3.0, 'all': 1.0, '... |     1     |    0.999956719154   |   0.0   |\n",
              "| {'help': 1.0, 'just': 1.0,... |     1     |    0.99999970132    |   0.0   |\n",
              "| {'lysol': 1.0, 'all': 1.0,... |     1     |    0.999992075818   |   0.0   |\n",
              "| {'all': 1.0, 'just': 2.0, ... |     0     |   0.00179083982424  |   0.0   |\n",
              "| {'lysol': 1.0, 'all': 4.0,... |     1     |    0.999999999947   |   0.0   |\n",
              "| {'and': 2.0, 'all': 1.0, '... |     1     |    0.980117441356   |   0.0   |\n",
              "| {'rating': 1.0, 'messy': 1... |     1     |    0.999945448392   |   0.0   |\n",
              "+-------------------------------+-----------+---------------------+---------+\n",
              "+-------+-----------+---------+------+----------+-----+----------+-------+-----+\n",
              "| great | fantastic | amazing | love | horrible | bad | terrible | awful | wow |\n",
              "+-------+-----------+---------+------+----------+-----+----------+-------+-----+\n",
              "|  0.0  |    0.0    |   0.0   | 0.0  |    0     |  0  |   0.0    |   0   |  0  |\n",
              "|  0.0  |    0.0    |   0.0   | 0.0  |    0     |  0  |   0.0    |   0   |  0  |\n",
              "|  0.0  |    0.0    |   0.0   | 0.0  |    0     |  0  |   0.0    |   0   |  0  |\n",
              "|  0.0  |    0.0    |   0.0   | 1.0  |    0     |  0  |   0.0    |   0   |  0  |\n",
              "|  0.0  |    0.0    |   1.0   | 0.0  |    1     |  0  |   0.0    |   0   |  1  |\n",
              "|  0.0  |    0.0    |   0.0   | 0.0  |    0     |  1  |   0.0    |   0   |  0  |\n",
              "|  0.0  |    0.0    |   0.0   | 0.0  |    0     |  0  |   0.0    |   0   |  0  |\n",
              "|  0.0  |    0.0    |   0.0   | 0.0  |    0     |  0  |   0.0    |   0   |  0  |\n",
              "|  0.0  |    0.0    |   0.0   | 0.0  |    0     |  0  |   0.0    |   0   |  0  |\n",
              "|  0.0  |    0.0    |   0.0   | 2.0  |    0     |  0  |   0.0    |   0   |  0  |\n",
              "+-------+-----------+---------+------+----------+-----+----------+-------+-----+\n",
              "+------+\n",
              "| hate |\n",
              "+------+\n",
              "|  0   |\n",
              "|  0   |\n",
              "|  0   |\n",
              "|  0   |\n",
              "|  0   |\n",
              "|  0   |\n",
              "|  0   |\n",
              "|  0   |\n",
              "|  0   |\n",
              "|  0   |\n",
              "+------+\n",
              "[10 rows x 17 columns]"
            ],
            "text/html": [
              "<div style=\"max-height:1000px;max-width:1500px;overflow:auto;\"><table frame=\"box\" rules=\"cols\">\n",
              "    <tr>\n",
              "        <th style=\"padding-left: 1em; padding-right: 1em; text-align: center\">name</th>\n",
              "        <th style=\"padding-left: 1em; padding-right: 1em; text-align: center\">review</th>\n",
              "        <th style=\"padding-left: 1em; padding-right: 1em; text-align: center\">rating</th>\n",
              "        <th style=\"padding-left: 1em; padding-right: 1em; text-align: center\">word_count</th>\n",
              "        <th style=\"padding-left: 1em; padding-right: 1em; text-align: center\">sentiment</th>\n",
              "    </tr>\n",
              "    <tr>\n",
              "        <td style=\"padding-left: 1em; padding-right: 1em; text-align: center; vertical-align: top\">Baby Trend Diaper Champ</td>\n",
              "        <td style=\"padding-left: 1em; padding-right: 1em; text-align: center; vertical-align: top\">Ok - newsflash.  Diapers<br>are just smelly.  We've ...</td>\n",
              "        <td style=\"padding-left: 1em; padding-right: 1em; text-align: center; vertical-align: top\">4</td>\n",
              "        <td style=\"padding-left: 1em; padding-right: 1em; text-align: center; vertical-align: top\">{'just': 2.0, 'less':<br>1.0, 'mainly': 1.0, ...</td>\n",
              "        <td style=\"padding-left: 1em; padding-right: 1em; text-align: center; vertical-align: top\">1</td>\n",
              "    </tr>\n",
              "    <tr>\n",
              "        <td style=\"padding-left: 1em; padding-right: 1em; text-align: center; vertical-align: top\">Baby Trend Diaper Champ</td>\n",
              "        <td style=\"padding-left: 1em; padding-right: 1em; text-align: center; vertical-align: top\">My husband and I selected<br>the Diaper \"Champ\" ma ...</td>\n",
              "        <td style=\"padding-left: 1em; padding-right: 1em; text-align: center; vertical-align: top\">1</td>\n",
              "        <td style=\"padding-left: 1em; padding-right: 1em; text-align: center; vertical-align: top\">{'selected': 1.0, 'just':<br>1.0, 'less': 1.0, 'wh ...</td>\n",
              "        <td style=\"padding-left: 1em; padding-right: 1em; text-align: center; vertical-align: top\">0</td>\n",
              "    </tr>\n",
              "    <tr>\n",
              "        <td style=\"padding-left: 1em; padding-right: 1em; text-align: center; vertical-align: top\">Baby Trend Diaper Champ</td>\n",
              "        <td style=\"padding-left: 1em; padding-right: 1em; text-align: center; vertical-align: top\">Excellent diaper disposal<br>unit.  I used it in ...</td>\n",
              "        <td style=\"padding-left: 1em; padding-right: 1em; text-align: center; vertical-align: top\">5</td>\n",
              "        <td style=\"padding-left: 1em; padding-right: 1em; text-align: center; vertical-align: top\">{'control': 1.0, 'am':<br>1.0, 'it': 1.0, 'in': ...</td>\n",
              "        <td style=\"padding-left: 1em; padding-right: 1em; text-align: center; vertical-align: top\">1</td>\n",
              "    </tr>\n",
              "    <tr>\n",
              "        <td style=\"padding-left: 1em; padding-right: 1em; text-align: center; vertical-align: top\">Baby Trend Diaper Champ</td>\n",
              "        <td style=\"padding-left: 1em; padding-right: 1em; text-align: center; vertical-align: top\">We love our diaper champ.<br>It is very easy to use ...</td>\n",
              "        <td style=\"padding-left: 1em; padding-right: 1em; text-align: center; vertical-align: top\">5</td>\n",
              "        <td style=\"padding-left: 1em; padding-right: 1em; text-align: center; vertical-align: top\">{'and': 3.0, 'all': 1.0,<br>'love': 1.0, 'just':  ...</td>\n",
              "        <td style=\"padding-left: 1em; padding-right: 1em; text-align: center; vertical-align: top\">1</td>\n",
              "    </tr>\n",
              "    <tr>\n",
              "        <td style=\"padding-left: 1em; padding-right: 1em; text-align: center; vertical-align: top\">Baby Trend Diaper Champ</td>\n",
              "        <td style=\"padding-left: 1em; padding-right: 1em; text-align: center; vertical-align: top\">Two girlfriends and two<br>family members put me ...</td>\n",
              "        <td style=\"padding-left: 1em; padding-right: 1em; text-align: center; vertical-align: top\">5</td>\n",
              "        <td style=\"padding-left: 1em; padding-right: 1em; text-align: center; vertical-align: top\">{'help': 1.0, 'just':<br>1.0, 'keep': 1.0, 'bo ...</td>\n",
              "        <td style=\"padding-left: 1em; padding-right: 1em; text-align: center; vertical-align: top\">1</td>\n",
              "    </tr>\n",
              "    <tr>\n",
              "        <td style=\"padding-left: 1em; padding-right: 1em; text-align: center; vertical-align: top\">Baby Trend Diaper Champ</td>\n",
              "        <td style=\"padding-left: 1em; padding-right: 1em; text-align: center; vertical-align: top\">I waited to review this<br>until I saw how it ...</td>\n",
              "        <td style=\"padding-left: 1em; padding-right: 1em; text-align: center; vertical-align: top\">4</td>\n",
              "        <td style=\"padding-left: 1em; padding-right: 1em; text-align: center; vertical-align: top\">{'lysol': 1.0, 'all':<br>1.0, 'perfect': 1.0, ...</td>\n",
              "        <td style=\"padding-left: 1em; padding-right: 1em; text-align: center; vertical-align: top\">1</td>\n",
              "    </tr>\n",
              "    <tr>\n",
              "        <td style=\"padding-left: 1em; padding-right: 1em; text-align: center; vertical-align: top\">Baby Trend Diaper Champ</td>\n",
              "        <td style=\"padding-left: 1em; padding-right: 1em; text-align: center; vertical-align: top\">I have had a diaper genie<br>for almost 4 years since ...</td>\n",
              "        <td style=\"padding-left: 1em; padding-right: 1em; text-align: center; vertical-align: top\">1</td>\n",
              "        <td style=\"padding-left: 1em; padding-right: 1em; text-align: center; vertical-align: top\">{'all': 1.0, 'just': 2.0,<br>'saver': 1.0, 'years': ...</td>\n",
              "        <td style=\"padding-left: 1em; padding-right: 1em; text-align: center; vertical-align: top\">0</td>\n",
              "    </tr>\n",
              "    <tr>\n",
              "        <td style=\"padding-left: 1em; padding-right: 1em; text-align: center; vertical-align: top\">Baby Trend Diaper Champ</td>\n",
              "        <td style=\"padding-left: 1em; padding-right: 1em; text-align: center; vertical-align: top\">I originally put this<br>item on my baby registry ...</td>\n",
              "        <td style=\"padding-left: 1em; padding-right: 1em; text-align: center; vertical-align: top\">5</td>\n",
              "        <td style=\"padding-left: 1em; padding-right: 1em; text-align: center; vertical-align: top\">{'lysol': 1.0, 'all':<br>4.0, 'feedback': 1.0, ...</td>\n",
              "        <td style=\"padding-left: 1em; padding-right: 1em; text-align: center; vertical-align: top\">1</td>\n",
              "    </tr>\n",
              "    <tr>\n",
              "        <td style=\"padding-left: 1em; padding-right: 1em; text-align: center; vertical-align: top\">Baby Trend Diaper Champ</td>\n",
              "        <td style=\"padding-left: 1em; padding-right: 1em; text-align: center; vertical-align: top\">I am so glad I got the<br>Diaper Champ instead of ...</td>\n",
              "        <td style=\"padding-left: 1em; padding-right: 1em; text-align: center; vertical-align: top\">5</td>\n",
              "        <td style=\"padding-left: 1em; padding-right: 1em; text-align: center; vertical-align: top\">{'and': 2.0, 'all': 1.0,<br>'just': 1.0, 'is': 2.0, ...</td>\n",
              "        <td style=\"padding-left: 1em; padding-right: 1em; text-align: center; vertical-align: top\">1</td>\n",
              "    </tr>\n",
              "    <tr>\n",
              "        <td style=\"padding-left: 1em; padding-right: 1em; text-align: center; vertical-align: top\">Baby Trend Diaper Champ</td>\n",
              "        <td style=\"padding-left: 1em; padding-right: 1em; text-align: center; vertical-align: top\">We had 2 diaper Genie's<br>both given to us as a ...</td>\n",
              "        <td style=\"padding-left: 1em; padding-right: 1em; text-align: center; vertical-align: top\">4</td>\n",
              "        <td style=\"padding-left: 1em; padding-right: 1em; text-align: center; vertical-align: top\">{'rating': 1.0, 'messy':<br>1.0, 'before': 1.0, ...</td>\n",
              "        <td style=\"padding-left: 1em; padding-right: 1em; text-align: center; vertical-align: top\">1</td>\n",
              "    </tr>\n",
              "</table>\n",
              "<table frame=\"box\" rules=\"cols\">\n",
              "    <tr>\n",
              "        <th style=\"padding-left: 1em; padding-right: 1em; text-align: center\">predicted_sentiment</th>\n",
              "        <th style=\"padding-left: 1em; padding-right: 1em; text-align: center\">awesome</th>\n",
              "        <th style=\"padding-left: 1em; padding-right: 1em; text-align: center\">great</th>\n",
              "        <th style=\"padding-left: 1em; padding-right: 1em; text-align: center\">fantastic</th>\n",
              "        <th style=\"padding-left: 1em; padding-right: 1em; text-align: center\">amazing</th>\n",
              "        <th style=\"padding-left: 1em; padding-right: 1em; text-align: center\">love</th>\n",
              "        <th style=\"padding-left: 1em; padding-right: 1em; text-align: center\">horrible</th>\n",
              "        <th style=\"padding-left: 1em; padding-right: 1em; text-align: center\">bad</th>\n",
              "        <th style=\"padding-left: 1em; padding-right: 1em; text-align: center\">terrible</th>\n",
              "        <th style=\"padding-left: 1em; padding-right: 1em; text-align: center\">awful</th>\n",
              "        <th style=\"padding-left: 1em; padding-right: 1em; text-align: center\">wow</th>\n",
              "        <th style=\"padding-left: 1em; padding-right: 1em; text-align: center\">hate</th>\n",
              "    </tr>\n",
              "    <tr>\n",
              "        <td style=\"padding-left: 1em; padding-right: 1em; text-align: center; vertical-align: top\">0.995012293557</td>\n",
              "        <td style=\"padding-left: 1em; padding-right: 1em; text-align: center; vertical-align: top\">0.0</td>\n",
              "        <td style=\"padding-left: 1em; padding-right: 1em; text-align: center; vertical-align: top\">0.0</td>\n",
              "        <td style=\"padding-left: 1em; padding-right: 1em; text-align: center; vertical-align: top\">0.0</td>\n",
              "        <td style=\"padding-left: 1em; padding-right: 1em; text-align: center; vertical-align: top\">0.0</td>\n",
              "        <td style=\"padding-left: 1em; padding-right: 1em; text-align: center; vertical-align: top\">0.0</td>\n",
              "        <td style=\"padding-left: 1em; padding-right: 1em; text-align: center; vertical-align: top\">0</td>\n",
              "        <td style=\"padding-left: 1em; padding-right: 1em; text-align: center; vertical-align: top\">0</td>\n",
              "        <td style=\"padding-left: 1em; padding-right: 1em; text-align: center; vertical-align: top\">0.0</td>\n",
              "        <td style=\"padding-left: 1em; padding-right: 1em; text-align: center; vertical-align: top\">0</td>\n",
              "        <td style=\"padding-left: 1em; padding-right: 1em; text-align: center; vertical-align: top\">0</td>\n",
              "        <td style=\"padding-left: 1em; padding-right: 1em; text-align: center; vertical-align: top\">0</td>\n",
              "    </tr>\n",
              "    <tr>\n",
              "        <td style=\"padding-left: 1em; padding-right: 1em; text-align: center; vertical-align: top\">5.90141453662e-13</td>\n",
              "        <td style=\"padding-left: 1em; padding-right: 1em; text-align: center; vertical-align: top\">0.0</td>\n",
              "        <td style=\"padding-left: 1em; padding-right: 1em; text-align: center; vertical-align: top\">0.0</td>\n",
              "        <td style=\"padding-left: 1em; padding-right: 1em; text-align: center; vertical-align: top\">0.0</td>\n",
              "        <td style=\"padding-left: 1em; padding-right: 1em; text-align: center; vertical-align: top\">0.0</td>\n",
              "        <td style=\"padding-left: 1em; padding-right: 1em; text-align: center; vertical-align: top\">0.0</td>\n",
              "        <td style=\"padding-left: 1em; padding-right: 1em; text-align: center; vertical-align: top\">0</td>\n",
              "        <td style=\"padding-left: 1em; padding-right: 1em; text-align: center; vertical-align: top\">0</td>\n",
              "        <td style=\"padding-left: 1em; padding-right: 1em; text-align: center; vertical-align: top\">0.0</td>\n",
              "        <td style=\"padding-left: 1em; padding-right: 1em; text-align: center; vertical-align: top\">0</td>\n",
              "        <td style=\"padding-left: 1em; padding-right: 1em; text-align: center; vertical-align: top\">0</td>\n",
              "        <td style=\"padding-left: 1em; padding-right: 1em; text-align: center; vertical-align: top\">0</td>\n",
              "    </tr>\n",
              "    <tr>\n",
              "        <td style=\"padding-left: 1em; padding-right: 1em; text-align: center; vertical-align: top\">0.999999619396</td>\n",
              "        <td style=\"padding-left: 1em; padding-right: 1em; text-align: center; vertical-align: top\">0.0</td>\n",
              "        <td style=\"padding-left: 1em; padding-right: 1em; text-align: center; vertical-align: top\">0.0</td>\n",
              "        <td style=\"padding-left: 1em; padding-right: 1em; text-align: center; vertical-align: top\">0.0</td>\n",
              "        <td style=\"padding-left: 1em; padding-right: 1em; text-align: center; vertical-align: top\">0.0</td>\n",
              "        <td style=\"padding-left: 1em; padding-right: 1em; text-align: center; vertical-align: top\">0.0</td>\n",
              "        <td style=\"padding-left: 1em; padding-right: 1em; text-align: center; vertical-align: top\">0</td>\n",
              "        <td style=\"padding-left: 1em; padding-right: 1em; text-align: center; vertical-align: top\">0</td>\n",
              "        <td style=\"padding-left: 1em; padding-right: 1em; text-align: center; vertical-align: top\">0.0</td>\n",
              "        <td style=\"padding-left: 1em; padding-right: 1em; text-align: center; vertical-align: top\">0</td>\n",
              "        <td style=\"padding-left: 1em; padding-right: 1em; text-align: center; vertical-align: top\">0</td>\n",
              "        <td style=\"padding-left: 1em; padding-right: 1em; text-align: center; vertical-align: top\">0</td>\n",
              "    </tr>\n",
              "    <tr>\n",
              "        <td style=\"padding-left: 1em; padding-right: 1em; text-align: center; vertical-align: top\">0.999956719154</td>\n",
              "        <td style=\"padding-left: 1em; padding-right: 1em; text-align: center; vertical-align: top\">0.0</td>\n",
              "        <td style=\"padding-left: 1em; padding-right: 1em; text-align: center; vertical-align: top\">0.0</td>\n",
              "        <td style=\"padding-left: 1em; padding-right: 1em; text-align: center; vertical-align: top\">0.0</td>\n",
              "        <td style=\"padding-left: 1em; padding-right: 1em; text-align: center; vertical-align: top\">0.0</td>\n",
              "        <td style=\"padding-left: 1em; padding-right: 1em; text-align: center; vertical-align: top\">1.0</td>\n",
              "        <td style=\"padding-left: 1em; padding-right: 1em; text-align: center; vertical-align: top\">0</td>\n",
              "        <td style=\"padding-left: 1em; padding-right: 1em; text-align: center; vertical-align: top\">0</td>\n",
              "        <td style=\"padding-left: 1em; padding-right: 1em; text-align: center; vertical-align: top\">0.0</td>\n",
              "        <td style=\"padding-left: 1em; padding-right: 1em; text-align: center; vertical-align: top\">0</td>\n",
              "        <td style=\"padding-left: 1em; padding-right: 1em; text-align: center; vertical-align: top\">0</td>\n",
              "        <td style=\"padding-left: 1em; padding-right: 1em; text-align: center; vertical-align: top\">0</td>\n",
              "    </tr>\n",
              "    <tr>\n",
              "        <td style=\"padding-left: 1em; padding-right: 1em; text-align: center; vertical-align: top\">0.99999970132</td>\n",
              "        <td style=\"padding-left: 1em; padding-right: 1em; text-align: center; vertical-align: top\">0.0</td>\n",
              "        <td style=\"padding-left: 1em; padding-right: 1em; text-align: center; vertical-align: top\">0.0</td>\n",
              "        <td style=\"padding-left: 1em; padding-right: 1em; text-align: center; vertical-align: top\">0.0</td>\n",
              "        <td style=\"padding-left: 1em; padding-right: 1em; text-align: center; vertical-align: top\">1.0</td>\n",
              "        <td style=\"padding-left: 1em; padding-right: 1em; text-align: center; vertical-align: top\">0.0</td>\n",
              "        <td style=\"padding-left: 1em; padding-right: 1em; text-align: center; vertical-align: top\">1</td>\n",
              "        <td style=\"padding-left: 1em; padding-right: 1em; text-align: center; vertical-align: top\">0</td>\n",
              "        <td style=\"padding-left: 1em; padding-right: 1em; text-align: center; vertical-align: top\">0.0</td>\n",
              "        <td style=\"padding-left: 1em; padding-right: 1em; text-align: center; vertical-align: top\">0</td>\n",
              "        <td style=\"padding-left: 1em; padding-right: 1em; text-align: center; vertical-align: top\">1</td>\n",
              "        <td style=\"padding-left: 1em; padding-right: 1em; text-align: center; vertical-align: top\">0</td>\n",
              "    </tr>\n",
              "    <tr>\n",
              "        <td style=\"padding-left: 1em; padding-right: 1em; text-align: center; vertical-align: top\">0.999992075818</td>\n",
              "        <td style=\"padding-left: 1em; padding-right: 1em; text-align: center; vertical-align: top\">0.0</td>\n",
              "        <td style=\"padding-left: 1em; padding-right: 1em; text-align: center; vertical-align: top\">0.0</td>\n",
              "        <td style=\"padding-left: 1em; padding-right: 1em; text-align: center; vertical-align: top\">0.0</td>\n",
              "        <td style=\"padding-left: 1em; padding-right: 1em; text-align: center; vertical-align: top\">0.0</td>\n",
              "        <td style=\"padding-left: 1em; padding-right: 1em; text-align: center; vertical-align: top\">0.0</td>\n",
              "        <td style=\"padding-left: 1em; padding-right: 1em; text-align: center; vertical-align: top\">0</td>\n",
              "        <td style=\"padding-left: 1em; padding-right: 1em; text-align: center; vertical-align: top\">1</td>\n",
              "        <td style=\"padding-left: 1em; padding-right: 1em; text-align: center; vertical-align: top\">0.0</td>\n",
              "        <td style=\"padding-left: 1em; padding-right: 1em; text-align: center; vertical-align: top\">0</td>\n",
              "        <td style=\"padding-left: 1em; padding-right: 1em; text-align: center; vertical-align: top\">0</td>\n",
              "        <td style=\"padding-left: 1em; padding-right: 1em; text-align: center; vertical-align: top\">0</td>\n",
              "    </tr>\n",
              "    <tr>\n",
              "        <td style=\"padding-left: 1em; padding-right: 1em; text-align: center; vertical-align: top\">0.00179083982424</td>\n",
              "        <td style=\"padding-left: 1em; padding-right: 1em; text-align: center; vertical-align: top\">0.0</td>\n",
              "        <td style=\"padding-left: 1em; padding-right: 1em; text-align: center; vertical-align: top\">0.0</td>\n",
              "        <td style=\"padding-left: 1em; padding-right: 1em; text-align: center; vertical-align: top\">0.0</td>\n",
              "        <td style=\"padding-left: 1em; padding-right: 1em; text-align: center; vertical-align: top\">0.0</td>\n",
              "        <td style=\"padding-left: 1em; padding-right: 1em; text-align: center; vertical-align: top\">0.0</td>\n",
              "        <td style=\"padding-left: 1em; padding-right: 1em; text-align: center; vertical-align: top\">0</td>\n",
              "        <td style=\"padding-left: 1em; padding-right: 1em; text-align: center; vertical-align: top\">0</td>\n",
              "        <td style=\"padding-left: 1em; padding-right: 1em; text-align: center; vertical-align: top\">0.0</td>\n",
              "        <td style=\"padding-left: 1em; padding-right: 1em; text-align: center; vertical-align: top\">0</td>\n",
              "        <td style=\"padding-left: 1em; padding-right: 1em; text-align: center; vertical-align: top\">0</td>\n",
              "        <td style=\"padding-left: 1em; padding-right: 1em; text-align: center; vertical-align: top\">0</td>\n",
              "    </tr>\n",
              "    <tr>\n",
              "        <td style=\"padding-left: 1em; padding-right: 1em; text-align: center; vertical-align: top\">0.999999999947</td>\n",
              "        <td style=\"padding-left: 1em; padding-right: 1em; text-align: center; vertical-align: top\">0.0</td>\n",
              "        <td style=\"padding-left: 1em; padding-right: 1em; text-align: center; vertical-align: top\">0.0</td>\n",
              "        <td style=\"padding-left: 1em; padding-right: 1em; text-align: center; vertical-align: top\">0.0</td>\n",
              "        <td style=\"padding-left: 1em; padding-right: 1em; text-align: center; vertical-align: top\">0.0</td>\n",
              "        <td style=\"padding-left: 1em; padding-right: 1em; text-align: center; vertical-align: top\">0.0</td>\n",
              "        <td style=\"padding-left: 1em; padding-right: 1em; text-align: center; vertical-align: top\">0</td>\n",
              "        <td style=\"padding-left: 1em; padding-right: 1em; text-align: center; vertical-align: top\">0</td>\n",
              "        <td style=\"padding-left: 1em; padding-right: 1em; text-align: center; vertical-align: top\">0.0</td>\n",
              "        <td style=\"padding-left: 1em; padding-right: 1em; text-align: center; vertical-align: top\">0</td>\n",
              "        <td style=\"padding-left: 1em; padding-right: 1em; text-align: center; vertical-align: top\">0</td>\n",
              "        <td style=\"padding-left: 1em; padding-right: 1em; text-align: center; vertical-align: top\">0</td>\n",
              "    </tr>\n",
              "    <tr>\n",
              "        <td style=\"padding-left: 1em; padding-right: 1em; text-align: center; vertical-align: top\">0.980117441356</td>\n",
              "        <td style=\"padding-left: 1em; padding-right: 1em; text-align: center; vertical-align: top\">0.0</td>\n",
              "        <td style=\"padding-left: 1em; padding-right: 1em; text-align: center; vertical-align: top\">0.0</td>\n",
              "        <td style=\"padding-left: 1em; padding-right: 1em; text-align: center; vertical-align: top\">0.0</td>\n",
              "        <td style=\"padding-left: 1em; padding-right: 1em; text-align: center; vertical-align: top\">0.0</td>\n",
              "        <td style=\"padding-left: 1em; padding-right: 1em; text-align: center; vertical-align: top\">0.0</td>\n",
              "        <td style=\"padding-left: 1em; padding-right: 1em; text-align: center; vertical-align: top\">0</td>\n",
              "        <td style=\"padding-left: 1em; padding-right: 1em; text-align: center; vertical-align: top\">0</td>\n",
              "        <td style=\"padding-left: 1em; padding-right: 1em; text-align: center; vertical-align: top\">0.0</td>\n",
              "        <td style=\"padding-left: 1em; padding-right: 1em; text-align: center; vertical-align: top\">0</td>\n",
              "        <td style=\"padding-left: 1em; padding-right: 1em; text-align: center; vertical-align: top\">0</td>\n",
              "        <td style=\"padding-left: 1em; padding-right: 1em; text-align: center; vertical-align: top\">0</td>\n",
              "    </tr>\n",
              "    <tr>\n",
              "        <td style=\"padding-left: 1em; padding-right: 1em; text-align: center; vertical-align: top\">0.999945448392</td>\n",
              "        <td style=\"padding-left: 1em; padding-right: 1em; text-align: center; vertical-align: top\">0.0</td>\n",
              "        <td style=\"padding-left: 1em; padding-right: 1em; text-align: center; vertical-align: top\">0.0</td>\n",
              "        <td style=\"padding-left: 1em; padding-right: 1em; text-align: center; vertical-align: top\">0.0</td>\n",
              "        <td style=\"padding-left: 1em; padding-right: 1em; text-align: center; vertical-align: top\">0.0</td>\n",
              "        <td style=\"padding-left: 1em; padding-right: 1em; text-align: center; vertical-align: top\">2.0</td>\n",
              "        <td style=\"padding-left: 1em; padding-right: 1em; text-align: center; vertical-align: top\">0</td>\n",
              "        <td style=\"padding-left: 1em; padding-right: 1em; text-align: center; vertical-align: top\">0</td>\n",
              "        <td style=\"padding-left: 1em; padding-right: 1em; text-align: center; vertical-align: top\">0.0</td>\n",
              "        <td style=\"padding-left: 1em; padding-right: 1em; text-align: center; vertical-align: top\">0</td>\n",
              "        <td style=\"padding-left: 1em; padding-right: 1em; text-align: center; vertical-align: top\">0</td>\n",
              "        <td style=\"padding-left: 1em; padding-right: 1em; text-align: center; vertical-align: top\">0</td>\n",
              "    </tr>\n",
              "</table>\n",
              "[10 rows x 17 columns]<br/>\n",
              "</div>"
            ]
          },
          "metadata": {
            "tags": []
          },
          "execution_count": 61
        }
      ]
    },
    {
      "cell_type": "code",
      "metadata": {
        "id": "AzcMNxWLi5fE",
        "colab_type": "code",
        "colab": {}
      },
      "source": [
        "diaper_champ_reviews['predicted_sentiment'] = sentiment_model.predict(diaper_champ_reviews, output_type='probability')\n",
        "\n"
      ],
      "execution_count": 62,
      "outputs": []
    },
    {
      "cell_type": "code",
      "metadata": {
        "id": "u6cDRReWi8We",
        "colab_type": "code",
        "colab": {}
      },
      "source": [
        "diaper_champ_reviews = diaper_champ_reviews.sort('predicted_sentiment', ascending=False)"
      ],
      "execution_count": 63,
      "outputs": []
    },
    {
      "cell_type": "code",
      "metadata": {
        "id": "ykqzXqhHi-tF",
        "colab_type": "code",
        "colab": {
          "base_uri": "https://localhost:8080/",
          "height": 637
        },
        "outputId": "a8c8ed78-22fb-416c-98aa-52d16208106e"
      },
      "source": [
        "diaper_champ_reviews.head()"
      ],
      "execution_count": 64,
      "outputs": [
        {
          "output_type": "execute_result",
          "data": {
            "text/plain": [
              "Columns:\n",
              "\tname\tstr\n",
              "\treview\tstr\n",
              "\trating\tint\n",
              "\tword_count\tdict\n",
              "\tsentiment\tint\n",
              "\tpredicted_sentiment\tfloat\n",
              "\tawesome\tfloat\n",
              "\tgreat\tfloat\n",
              "\tfantastic\tfloat\n",
              "\tamazing\tfloat\n",
              "\tlove\tfloat\n",
              "\thorrible\tint\n",
              "\tbad\tint\n",
              "\tterrible\tfloat\n",
              "\tawful\tint\n",
              "\twow\tint\n",
              "\thate\tint\n",
              "\n",
              "Rows: 10\n",
              "\n",
              "Data:\n",
              "+-------------------------+-------------------------------+--------+\n",
              "|           name          |             review            | rating |\n",
              "+-------------------------+-------------------------------+--------+\n",
              "| Baby Trend Diaper Champ | I read a review below that... |   4    |\n",
              "| Baby Trend Diaper Champ | I have never written a rev... |   5    |\n",
              "| Baby Trend Diaper Champ | I originally put this item... |   5    |\n",
              "| Baby Trend Diaper Champ | Baby Luke can turn a clean... |   5    |\n",
              "| Baby Trend Diaper Champ | Diaper Champ or Diaper Gen... |   5    |\n",
              "| Baby Trend Diaper Champ | I am one of those super-cr... |   5    |\n",
              "| Baby Trend Diaper Champ | I LOOOVE this diaper pail!... |   5    |\n",
              "| Baby Trend Diaper Champ | As a first time mother, I ... |   5    |\n",
              "| Baby Trend Diaper Champ | I see that there are compl... |   5    |\n",
              "| Baby Trend Diaper Champ | I have a 10 year old daugh... |   5    |\n",
              "+-------------------------+-------------------------------+--------+\n",
              "+-------------------------------+-----------+---------------------+---------+\n",
              "|           word_count          | sentiment | predicted_sentiment | awesome |\n",
              "+-------------------------------+-----------+---------------------+---------+\n",
              "| {'and': 3.0, 'exactly': 1.... |     1     |    0.99999999999    |   0.0   |\n",
              "| {'shop': 2.0, 'holds': 1.0... |     1     |    0.999999999987   |   0.0   |\n",
              "| {'lysol': 1.0, 'all': 4.0,... |     1     |    0.999999999947   |   0.0   |\n",
              "| {'all': 1.0, 'less': 1.0, ... |     1     |    0.99999999993    |   0.0   |\n",
              "| {'all': 1.0, 'before': 1.0... |     1     |    0.999999999917   |   0.0   |\n",
              "| {'taller': 1.0, 'humid': 1... |     1     |    0.999999999843   |   0.0   |\n",
              "| {'just': 1.0, 'over': 1.0,... |     1     |    0.999999999736   |   0.0   |\n",
              "| {'and': 2.0, 'love': 1.0, ... |     1     |    0.999999999566   |   0.0   |\n",
              "| {'all': 1.0, 'over': 1.0, ... |     1     |    0.999999998502   |   0.0   |\n",
              "| {'lysol': 1.0, 'all': 1.0,... |     1     |    0.999999998057   |   0.0   |\n",
              "+-------------------------------+-----------+---------------------+---------+\n",
              "+-------+-----------+---------+------+----------+-----+----------+-------+-----+\n",
              "| great | fantastic | amazing | love | horrible | bad | terrible | awful | wow |\n",
              "+-------+-----------+---------+------+----------+-----+----------+-------+-----+\n",
              "|  0.0  |    0.0    |   0.0   | 0.0  |    0     |  0  |   0.0    |   0   |  0  |\n",
              "|  0.0  |    0.0    |   0.0   | 1.0  |    0     |  0  |   0.0    |   0   |  0  |\n",
              "|  0.0  |    0.0    |   0.0   | 0.0  |    0     |  0  |   0.0    |   0   |  0  |\n",
              "|  1.0  |    0.0    |   0.0   | 0.0  |    0     |  0  |   0.0    |   0   |  0  |\n",
              "|  1.0  |    0.0    |   0.0   | 0.0  |    0     |  0  |   0.0    |   0   |  0  |\n",
              "|  0.0  |    0.0    |   0.0   | 1.0  |    0     |  0  |   0.0    |   0   |  0  |\n",
              "|  0.0  |    0.0    |   0.0   | 1.0  |    0     |  0  |   0.0    |   0   |  0  |\n",
              "|  0.0  |    0.0    |   0.0   | 1.0  |    0     |  0  |   0.0    |   0   |  0  |\n",
              "|  0.0  |    0.0    |   0.0   | 0.0  |    0     |  0  |   0.0    |   0   |  0  |\n",
              "|  0.0  |    0.0    |   0.0   | 2.0  |    0     |  0  |   0.0    |   0   |  0  |\n",
              "+-------+-----------+---------+------+----------+-----+----------+-------+-----+\n",
              "+------+\n",
              "| hate |\n",
              "+------+\n",
              "|  0   |\n",
              "|  0   |\n",
              "|  0   |\n",
              "|  0   |\n",
              "|  0   |\n",
              "|  0   |\n",
              "|  0   |\n",
              "|  0   |\n",
              "|  0   |\n",
              "|  0   |\n",
              "+------+\n",
              "[10 rows x 17 columns]"
            ],
            "text/html": [
              "<div style=\"max-height:1000px;max-width:1500px;overflow:auto;\"><table frame=\"box\" rules=\"cols\">\n",
              "    <tr>\n",
              "        <th style=\"padding-left: 1em; padding-right: 1em; text-align: center\">name</th>\n",
              "        <th style=\"padding-left: 1em; padding-right: 1em; text-align: center\">review</th>\n",
              "        <th style=\"padding-left: 1em; padding-right: 1em; text-align: center\">rating</th>\n",
              "        <th style=\"padding-left: 1em; padding-right: 1em; text-align: center\">word_count</th>\n",
              "        <th style=\"padding-left: 1em; padding-right: 1em; text-align: center\">sentiment</th>\n",
              "    </tr>\n",
              "    <tr>\n",
              "        <td style=\"padding-left: 1em; padding-right: 1em; text-align: center; vertical-align: top\">Baby Trend Diaper Champ</td>\n",
              "        <td style=\"padding-left: 1em; padding-right: 1em; text-align: center; vertical-align: top\">I read a review below<br>that can explain exactly ...</td>\n",
              "        <td style=\"padding-left: 1em; padding-right: 1em; text-align: center; vertical-align: top\">4</td>\n",
              "        <td style=\"padding-left: 1em; padding-right: 1em; text-align: center; vertical-align: top\">{'and': 3.0, 'exactly':<br>1.0, 'stink': 1.0, 've': ...</td>\n",
              "        <td style=\"padding-left: 1em; padding-right: 1em; text-align: center; vertical-align: top\">1</td>\n",
              "    </tr>\n",
              "    <tr>\n",
              "        <td style=\"padding-left: 1em; padding-right: 1em; text-align: center; vertical-align: top\">Baby Trend Diaper Champ</td>\n",
              "        <td style=\"padding-left: 1em; padding-right: 1em; text-align: center; vertical-align: top\">I have never written a<br>review for Amazon but I ...</td>\n",
              "        <td style=\"padding-left: 1em; padding-right: 1em; text-align: center; vertical-align: top\">5</td>\n",
              "        <td style=\"padding-left: 1em; padding-right: 1em; text-align: center; vertical-align: top\">{'shop': 2.0, 'holds':<br>1.0, 'they': 3.0, 'tip': ...</td>\n",
              "        <td style=\"padding-left: 1em; padding-right: 1em; text-align: center; vertical-align: top\">1</td>\n",
              "    </tr>\n",
              "    <tr>\n",
              "        <td style=\"padding-left: 1em; padding-right: 1em; text-align: center; vertical-align: top\">Baby Trend Diaper Champ</td>\n",
              "        <td style=\"padding-left: 1em; padding-right: 1em; text-align: center; vertical-align: top\">I originally put this<br>item on my baby registry ...</td>\n",
              "        <td style=\"padding-left: 1em; padding-right: 1em; text-align: center; vertical-align: top\">5</td>\n",
              "        <td style=\"padding-left: 1em; padding-right: 1em; text-align: center; vertical-align: top\">{'lysol': 1.0, 'all':<br>4.0, 'feedback': 1.0, ...</td>\n",
              "        <td style=\"padding-left: 1em; padding-right: 1em; text-align: center; vertical-align: top\">1</td>\n",
              "    </tr>\n",
              "    <tr>\n",
              "        <td style=\"padding-left: 1em; padding-right: 1em; text-align: center; vertical-align: top\">Baby Trend Diaper Champ</td>\n",
              "        <td style=\"padding-left: 1em; padding-right: 1em; text-align: center; vertical-align: top\">Baby Luke can turn a<br>clean diaper to a dirty ...</td>\n",
              "        <td style=\"padding-left: 1em; padding-right: 1em; text-align: center; vertical-align: top\">5</td>\n",
              "        <td style=\"padding-left: 1em; padding-right: 1em; text-align: center; vertical-align: top\">{'all': 1.0, 'less': 1.0,<br>'nursery': 1.0, 'smel ...</td>\n",
              "        <td style=\"padding-left: 1em; padding-right: 1em; text-align: center; vertical-align: top\">1</td>\n",
              "    </tr>\n",
              "    <tr>\n",
              "        <td style=\"padding-left: 1em; padding-right: 1em; text-align: center; vertical-align: top\">Baby Trend Diaper Champ</td>\n",
              "        <td style=\"padding-left: 1em; padding-right: 1em; text-align: center; vertical-align: top\">Diaper Champ or Diaper<br>Genie? That was my ...</td>\n",
              "        <td style=\"padding-left: 1em; padding-right: 1em; text-align: center; vertical-align: top\">5</td>\n",
              "        <td style=\"padding-left: 1em; padding-right: 1em; text-align: center; vertical-align: top\">{'all': 1.0, 'before':<br>1.0, 'difference': 1.0, ...</td>\n",
              "        <td style=\"padding-left: 1em; padding-right: 1em; text-align: center; vertical-align: top\">1</td>\n",
              "    </tr>\n",
              "    <tr>\n",
              "        <td style=\"padding-left: 1em; padding-right: 1em; text-align: center; vertical-align: top\">Baby Trend Diaper Champ</td>\n",
              "        <td style=\"padding-left: 1em; padding-right: 1em; text-align: center; vertical-align: top\">I am one of those super-<br>critical shoppers who ...</td>\n",
              "        <td style=\"padding-left: 1em; padding-right: 1em; text-align: center; vertical-align: top\">5</td>\n",
              "        <td style=\"padding-left: 1em; padding-right: 1em; text-align: center; vertical-align: top\">{'taller': 1.0, 'humid':<br>1.0, 'just': 1.0, 'le ...</td>\n",
              "        <td style=\"padding-left: 1em; padding-right: 1em; text-align: center; vertical-align: top\">1</td>\n",
              "    </tr>\n",
              "    <tr>\n",
              "        <td style=\"padding-left: 1em; padding-right: 1em; text-align: center; vertical-align: top\">Baby Trend Diaper Champ</td>\n",
              "        <td style=\"padding-left: 1em; padding-right: 1em; text-align: center; vertical-align: top\">I LOOOVE this diaper<br>pail!  Its the easies ...</td>\n",
              "        <td style=\"padding-left: 1em; padding-right: 1em; text-align: center; vertical-align: top\">5</td>\n",
              "        <td style=\"padding-left: 1em; padding-right: 1em; text-align: center; vertical-align: top\">{'just': 1.0, 'over':<br>1.0, 'rweek': 1.0, ...</td>\n",
              "        <td style=\"padding-left: 1em; padding-right: 1em; text-align: center; vertical-align: top\">1</td>\n",
              "    </tr>\n",
              "    <tr>\n",
              "        <td style=\"padding-left: 1em; padding-right: 1em; text-align: center; vertical-align: top\">Baby Trend Diaper Champ</td>\n",
              "        <td style=\"padding-left: 1em; padding-right: 1em; text-align: center; vertical-align: top\">As a first time mother, I<br>wanted to get the best ...</td>\n",
              "        <td style=\"padding-left: 1em; padding-right: 1em; text-align: center; vertical-align: top\">5</td>\n",
              "        <td style=\"padding-left: 1em; padding-right: 1em; text-align: center; vertical-align: top\">{'and': 2.0, 'love': 1.0,<br>'ve': 1.0, 'figure':  ...</td>\n",
              "        <td style=\"padding-left: 1em; padding-right: 1em; text-align: center; vertical-align: top\">1</td>\n",
              "    </tr>\n",
              "    <tr>\n",
              "        <td style=\"padding-left: 1em; padding-right: 1em; text-align: center; vertical-align: top\">Baby Trend Diaper Champ</td>\n",
              "        <td style=\"padding-left: 1em; padding-right: 1em; text-align: center; vertical-align: top\">I see that there are<br>complaints of stinkiness ...</td>\n",
              "        <td style=\"padding-left: 1em; padding-right: 1em; text-align: center; vertical-align: top\">5</td>\n",
              "        <td style=\"padding-left: 1em; padding-right: 1em; text-align: center; vertical-align: top\">{'all': 1.0, 'over': 1.0,<br>'rotated': 1.0, ...</td>\n",
              "        <td style=\"padding-left: 1em; padding-right: 1em; text-align: center; vertical-align: top\">1</td>\n",
              "    </tr>\n",
              "    <tr>\n",
              "        <td style=\"padding-left: 1em; padding-right: 1em; text-align: center; vertical-align: top\">Baby Trend Diaper Champ</td>\n",
              "        <td style=\"padding-left: 1em; padding-right: 1em; text-align: center; vertical-align: top\">I have a 10 year old<br>daughter and an 8 month ...</td>\n",
              "        <td style=\"padding-left: 1em; padding-right: 1em; text-align: center; vertical-align: top\">5</td>\n",
              "        <td style=\"padding-left: 1em; padding-right: 1em; text-align: center; vertical-align: top\">{'lysol': 1.0, 'all':<br>1.0, 'just': 2.0, 'ov ...</td>\n",
              "        <td style=\"padding-left: 1em; padding-right: 1em; text-align: center; vertical-align: top\">1</td>\n",
              "    </tr>\n",
              "</table>\n",
              "<table frame=\"box\" rules=\"cols\">\n",
              "    <tr>\n",
              "        <th style=\"padding-left: 1em; padding-right: 1em; text-align: center\">predicted_sentiment</th>\n",
              "        <th style=\"padding-left: 1em; padding-right: 1em; text-align: center\">awesome</th>\n",
              "        <th style=\"padding-left: 1em; padding-right: 1em; text-align: center\">great</th>\n",
              "        <th style=\"padding-left: 1em; padding-right: 1em; text-align: center\">fantastic</th>\n",
              "        <th style=\"padding-left: 1em; padding-right: 1em; text-align: center\">amazing</th>\n",
              "        <th style=\"padding-left: 1em; padding-right: 1em; text-align: center\">love</th>\n",
              "        <th style=\"padding-left: 1em; padding-right: 1em; text-align: center\">horrible</th>\n",
              "        <th style=\"padding-left: 1em; padding-right: 1em; text-align: center\">bad</th>\n",
              "        <th style=\"padding-left: 1em; padding-right: 1em; text-align: center\">terrible</th>\n",
              "        <th style=\"padding-left: 1em; padding-right: 1em; text-align: center\">awful</th>\n",
              "        <th style=\"padding-left: 1em; padding-right: 1em; text-align: center\">wow</th>\n",
              "        <th style=\"padding-left: 1em; padding-right: 1em; text-align: center\">hate</th>\n",
              "    </tr>\n",
              "    <tr>\n",
              "        <td style=\"padding-left: 1em; padding-right: 1em; text-align: center; vertical-align: top\">0.99999999999</td>\n",
              "        <td style=\"padding-left: 1em; padding-right: 1em; text-align: center; vertical-align: top\">0.0</td>\n",
              "        <td style=\"padding-left: 1em; padding-right: 1em; text-align: center; vertical-align: top\">0.0</td>\n",
              "        <td style=\"padding-left: 1em; padding-right: 1em; text-align: center; vertical-align: top\">0.0</td>\n",
              "        <td style=\"padding-left: 1em; padding-right: 1em; text-align: center; vertical-align: top\">0.0</td>\n",
              "        <td style=\"padding-left: 1em; padding-right: 1em; text-align: center; vertical-align: top\">0.0</td>\n",
              "        <td style=\"padding-left: 1em; padding-right: 1em; text-align: center; vertical-align: top\">0</td>\n",
              "        <td style=\"padding-left: 1em; padding-right: 1em; text-align: center; vertical-align: top\">0</td>\n",
              "        <td style=\"padding-left: 1em; padding-right: 1em; text-align: center; vertical-align: top\">0.0</td>\n",
              "        <td style=\"padding-left: 1em; padding-right: 1em; text-align: center; vertical-align: top\">0</td>\n",
              "        <td style=\"padding-left: 1em; padding-right: 1em; text-align: center; vertical-align: top\">0</td>\n",
              "        <td style=\"padding-left: 1em; padding-right: 1em; text-align: center; vertical-align: top\">0</td>\n",
              "    </tr>\n",
              "    <tr>\n",
              "        <td style=\"padding-left: 1em; padding-right: 1em; text-align: center; vertical-align: top\">0.999999999987</td>\n",
              "        <td style=\"padding-left: 1em; padding-right: 1em; text-align: center; vertical-align: top\">0.0</td>\n",
              "        <td style=\"padding-left: 1em; padding-right: 1em; text-align: center; vertical-align: top\">0.0</td>\n",
              "        <td style=\"padding-left: 1em; padding-right: 1em; text-align: center; vertical-align: top\">0.0</td>\n",
              "        <td style=\"padding-left: 1em; padding-right: 1em; text-align: center; vertical-align: top\">0.0</td>\n",
              "        <td style=\"padding-left: 1em; padding-right: 1em; text-align: center; vertical-align: top\">1.0</td>\n",
              "        <td style=\"padding-left: 1em; padding-right: 1em; text-align: center; vertical-align: top\">0</td>\n",
              "        <td style=\"padding-left: 1em; padding-right: 1em; text-align: center; vertical-align: top\">0</td>\n",
              "        <td style=\"padding-left: 1em; padding-right: 1em; text-align: center; vertical-align: top\">0.0</td>\n",
              "        <td style=\"padding-left: 1em; padding-right: 1em; text-align: center; vertical-align: top\">0</td>\n",
              "        <td style=\"padding-left: 1em; padding-right: 1em; text-align: center; vertical-align: top\">0</td>\n",
              "        <td style=\"padding-left: 1em; padding-right: 1em; text-align: center; vertical-align: top\">0</td>\n",
              "    </tr>\n",
              "    <tr>\n",
              "        <td style=\"padding-left: 1em; padding-right: 1em; text-align: center; vertical-align: top\">0.999999999947</td>\n",
              "        <td style=\"padding-left: 1em; padding-right: 1em; text-align: center; vertical-align: top\">0.0</td>\n",
              "        <td style=\"padding-left: 1em; padding-right: 1em; text-align: center; vertical-align: top\">0.0</td>\n",
              "        <td style=\"padding-left: 1em; padding-right: 1em; text-align: center; vertical-align: top\">0.0</td>\n",
              "        <td style=\"padding-left: 1em; padding-right: 1em; text-align: center; vertical-align: top\">0.0</td>\n",
              "        <td style=\"padding-left: 1em; padding-right: 1em; text-align: center; vertical-align: top\">0.0</td>\n",
              "        <td style=\"padding-left: 1em; padding-right: 1em; text-align: center; vertical-align: top\">0</td>\n",
              "        <td style=\"padding-left: 1em; padding-right: 1em; text-align: center; vertical-align: top\">0</td>\n",
              "        <td style=\"padding-left: 1em; padding-right: 1em; text-align: center; vertical-align: top\">0.0</td>\n",
              "        <td style=\"padding-left: 1em; padding-right: 1em; text-align: center; vertical-align: top\">0</td>\n",
              "        <td style=\"padding-left: 1em; padding-right: 1em; text-align: center; vertical-align: top\">0</td>\n",
              "        <td style=\"padding-left: 1em; padding-right: 1em; text-align: center; vertical-align: top\">0</td>\n",
              "    </tr>\n",
              "    <tr>\n",
              "        <td style=\"padding-left: 1em; padding-right: 1em; text-align: center; vertical-align: top\">0.99999999993</td>\n",
              "        <td style=\"padding-left: 1em; padding-right: 1em; text-align: center; vertical-align: top\">0.0</td>\n",
              "        <td style=\"padding-left: 1em; padding-right: 1em; text-align: center; vertical-align: top\">1.0</td>\n",
              "        <td style=\"padding-left: 1em; padding-right: 1em; text-align: center; vertical-align: top\">0.0</td>\n",
              "        <td style=\"padding-left: 1em; padding-right: 1em; text-align: center; vertical-align: top\">0.0</td>\n",
              "        <td style=\"padding-left: 1em; padding-right: 1em; text-align: center; vertical-align: top\">0.0</td>\n",
              "        <td style=\"padding-left: 1em; padding-right: 1em; text-align: center; vertical-align: top\">0</td>\n",
              "        <td style=\"padding-left: 1em; padding-right: 1em; text-align: center; vertical-align: top\">0</td>\n",
              "        <td style=\"padding-left: 1em; padding-right: 1em; text-align: center; vertical-align: top\">0.0</td>\n",
              "        <td style=\"padding-left: 1em; padding-right: 1em; text-align: center; vertical-align: top\">0</td>\n",
              "        <td style=\"padding-left: 1em; padding-right: 1em; text-align: center; vertical-align: top\">0</td>\n",
              "        <td style=\"padding-left: 1em; padding-right: 1em; text-align: center; vertical-align: top\">0</td>\n",
              "    </tr>\n",
              "    <tr>\n",
              "        <td style=\"padding-left: 1em; padding-right: 1em; text-align: center; vertical-align: top\">0.999999999917</td>\n",
              "        <td style=\"padding-left: 1em; padding-right: 1em; text-align: center; vertical-align: top\">0.0</td>\n",
              "        <td style=\"padding-left: 1em; padding-right: 1em; text-align: center; vertical-align: top\">1.0</td>\n",
              "        <td style=\"padding-left: 1em; padding-right: 1em; text-align: center; vertical-align: top\">0.0</td>\n",
              "        <td style=\"padding-left: 1em; padding-right: 1em; text-align: center; vertical-align: top\">0.0</td>\n",
              "        <td style=\"padding-left: 1em; padding-right: 1em; text-align: center; vertical-align: top\">0.0</td>\n",
              "        <td style=\"padding-left: 1em; padding-right: 1em; text-align: center; vertical-align: top\">0</td>\n",
              "        <td style=\"padding-left: 1em; padding-right: 1em; text-align: center; vertical-align: top\">0</td>\n",
              "        <td style=\"padding-left: 1em; padding-right: 1em; text-align: center; vertical-align: top\">0.0</td>\n",
              "        <td style=\"padding-left: 1em; padding-right: 1em; text-align: center; vertical-align: top\">0</td>\n",
              "        <td style=\"padding-left: 1em; padding-right: 1em; text-align: center; vertical-align: top\">0</td>\n",
              "        <td style=\"padding-left: 1em; padding-right: 1em; text-align: center; vertical-align: top\">0</td>\n",
              "    </tr>\n",
              "    <tr>\n",
              "        <td style=\"padding-left: 1em; padding-right: 1em; text-align: center; vertical-align: top\">0.999999999843</td>\n",
              "        <td style=\"padding-left: 1em; padding-right: 1em; text-align: center; vertical-align: top\">0.0</td>\n",
              "        <td style=\"padding-left: 1em; padding-right: 1em; text-align: center; vertical-align: top\">0.0</td>\n",
              "        <td style=\"padding-left: 1em; padding-right: 1em; text-align: center; vertical-align: top\">0.0</td>\n",
              "        <td style=\"padding-left: 1em; padding-right: 1em; text-align: center; vertical-align: top\">0.0</td>\n",
              "        <td style=\"padding-left: 1em; padding-right: 1em; text-align: center; vertical-align: top\">1.0</td>\n",
              "        <td style=\"padding-left: 1em; padding-right: 1em; text-align: center; vertical-align: top\">0</td>\n",
              "        <td style=\"padding-left: 1em; padding-right: 1em; text-align: center; vertical-align: top\">0</td>\n",
              "        <td style=\"padding-left: 1em; padding-right: 1em; text-align: center; vertical-align: top\">0.0</td>\n",
              "        <td style=\"padding-left: 1em; padding-right: 1em; text-align: center; vertical-align: top\">0</td>\n",
              "        <td style=\"padding-left: 1em; padding-right: 1em; text-align: center; vertical-align: top\">0</td>\n",
              "        <td style=\"padding-left: 1em; padding-right: 1em; text-align: center; vertical-align: top\">0</td>\n",
              "    </tr>\n",
              "    <tr>\n",
              "        <td style=\"padding-left: 1em; padding-right: 1em; text-align: center; vertical-align: top\">0.999999999736</td>\n",
              "        <td style=\"padding-left: 1em; padding-right: 1em; text-align: center; vertical-align: top\">0.0</td>\n",
              "        <td style=\"padding-left: 1em; padding-right: 1em; text-align: center; vertical-align: top\">0.0</td>\n",
              "        <td style=\"padding-left: 1em; padding-right: 1em; text-align: center; vertical-align: top\">0.0</td>\n",
              "        <td style=\"padding-left: 1em; padding-right: 1em; text-align: center; vertical-align: top\">0.0</td>\n",
              "        <td style=\"padding-left: 1em; padding-right: 1em; text-align: center; vertical-align: top\">1.0</td>\n",
              "        <td style=\"padding-left: 1em; padding-right: 1em; text-align: center; vertical-align: top\">0</td>\n",
              "        <td style=\"padding-left: 1em; padding-right: 1em; text-align: center; vertical-align: top\">0</td>\n",
              "        <td style=\"padding-left: 1em; padding-right: 1em; text-align: center; vertical-align: top\">0.0</td>\n",
              "        <td style=\"padding-left: 1em; padding-right: 1em; text-align: center; vertical-align: top\">0</td>\n",
              "        <td style=\"padding-left: 1em; padding-right: 1em; text-align: center; vertical-align: top\">0</td>\n",
              "        <td style=\"padding-left: 1em; padding-right: 1em; text-align: center; vertical-align: top\">0</td>\n",
              "    </tr>\n",
              "    <tr>\n",
              "        <td style=\"padding-left: 1em; padding-right: 1em; text-align: center; vertical-align: top\">0.999999999566</td>\n",
              "        <td style=\"padding-left: 1em; padding-right: 1em; text-align: center; vertical-align: top\">0.0</td>\n",
              "        <td style=\"padding-left: 1em; padding-right: 1em; text-align: center; vertical-align: top\">0.0</td>\n",
              "        <td style=\"padding-left: 1em; padding-right: 1em; text-align: center; vertical-align: top\">0.0</td>\n",
              "        <td style=\"padding-left: 1em; padding-right: 1em; text-align: center; vertical-align: top\">0.0</td>\n",
              "        <td style=\"padding-left: 1em; padding-right: 1em; text-align: center; vertical-align: top\">1.0</td>\n",
              "        <td style=\"padding-left: 1em; padding-right: 1em; text-align: center; vertical-align: top\">0</td>\n",
              "        <td style=\"padding-left: 1em; padding-right: 1em; text-align: center; vertical-align: top\">0</td>\n",
              "        <td style=\"padding-left: 1em; padding-right: 1em; text-align: center; vertical-align: top\">0.0</td>\n",
              "        <td style=\"padding-left: 1em; padding-right: 1em; text-align: center; vertical-align: top\">0</td>\n",
              "        <td style=\"padding-left: 1em; padding-right: 1em; text-align: center; vertical-align: top\">0</td>\n",
              "        <td style=\"padding-left: 1em; padding-right: 1em; text-align: center; vertical-align: top\">0</td>\n",
              "    </tr>\n",
              "    <tr>\n",
              "        <td style=\"padding-left: 1em; padding-right: 1em; text-align: center; vertical-align: top\">0.999999998502</td>\n",
              "        <td style=\"padding-left: 1em; padding-right: 1em; text-align: center; vertical-align: top\">0.0</td>\n",
              "        <td style=\"padding-left: 1em; padding-right: 1em; text-align: center; vertical-align: top\">0.0</td>\n",
              "        <td style=\"padding-left: 1em; padding-right: 1em; text-align: center; vertical-align: top\">0.0</td>\n",
              "        <td style=\"padding-left: 1em; padding-right: 1em; text-align: center; vertical-align: top\">0.0</td>\n",
              "        <td style=\"padding-left: 1em; padding-right: 1em; text-align: center; vertical-align: top\">0.0</td>\n",
              "        <td style=\"padding-left: 1em; padding-right: 1em; text-align: center; vertical-align: top\">0</td>\n",
              "        <td style=\"padding-left: 1em; padding-right: 1em; text-align: center; vertical-align: top\">0</td>\n",
              "        <td style=\"padding-left: 1em; padding-right: 1em; text-align: center; vertical-align: top\">0.0</td>\n",
              "        <td style=\"padding-left: 1em; padding-right: 1em; text-align: center; vertical-align: top\">0</td>\n",
              "        <td style=\"padding-left: 1em; padding-right: 1em; text-align: center; vertical-align: top\">0</td>\n",
              "        <td style=\"padding-left: 1em; padding-right: 1em; text-align: center; vertical-align: top\">0</td>\n",
              "    </tr>\n",
              "    <tr>\n",
              "        <td style=\"padding-left: 1em; padding-right: 1em; text-align: center; vertical-align: top\">0.999999998057</td>\n",
              "        <td style=\"padding-left: 1em; padding-right: 1em; text-align: center; vertical-align: top\">0.0</td>\n",
              "        <td style=\"padding-left: 1em; padding-right: 1em; text-align: center; vertical-align: top\">0.0</td>\n",
              "        <td style=\"padding-left: 1em; padding-right: 1em; text-align: center; vertical-align: top\">0.0</td>\n",
              "        <td style=\"padding-left: 1em; padding-right: 1em; text-align: center; vertical-align: top\">0.0</td>\n",
              "        <td style=\"padding-left: 1em; padding-right: 1em; text-align: center; vertical-align: top\">2.0</td>\n",
              "        <td style=\"padding-left: 1em; padding-right: 1em; text-align: center; vertical-align: top\">0</td>\n",
              "        <td style=\"padding-left: 1em; padding-right: 1em; text-align: center; vertical-align: top\">0</td>\n",
              "        <td style=\"padding-left: 1em; padding-right: 1em; text-align: center; vertical-align: top\">0.0</td>\n",
              "        <td style=\"padding-left: 1em; padding-right: 1em; text-align: center; vertical-align: top\">0</td>\n",
              "        <td style=\"padding-left: 1em; padding-right: 1em; text-align: center; vertical-align: top\">0</td>\n",
              "        <td style=\"padding-left: 1em; padding-right: 1em; text-align: center; vertical-align: top\">0</td>\n",
              "    </tr>\n",
              "</table>\n",
              "[10 rows x 17 columns]<br/>\n",
              "</div>"
            ]
          },
          "metadata": {
            "tags": []
          },
          "execution_count": 64
        }
      ]
    },
    {
      "cell_type": "code",
      "metadata": {
        "id": "w8CBzb8YjAml",
        "colab_type": "code",
        "colab": {
          "base_uri": "https://localhost:8080/",
          "height": 36
        },
        "outputId": "527d9cf5-24fe-4a91-8f57-b395b6577d84"
      },
      "source": [
        "diaper_champ_reviews['predicted_sentiment'].max()"
      ],
      "execution_count": 65,
      "outputs": [
        {
          "output_type": "execute_result",
          "data": {
            "text/plain": [
              "0.9999999999895941"
            ]
          },
          "metadata": {
            "tags": []
          },
          "execution_count": 65
        }
      ]
    },
    {
      "cell_type": "code",
      "metadata": {
        "id": "aHYX27H1jEnt",
        "colab_type": "code",
        "colab": {
          "base_uri": "https://localhost:8080/",
          "height": 73
        },
        "outputId": "bb2f9e0f-825e-45b6-e610-2437eea0c5eb"
      },
      "source": [
        "selected_words_model.predict(diaper_champ_reviews[0:1], output_type='probability')\n"
      ],
      "execution_count": 66,
      "outputs": [
        {
          "output_type": "execute_result",
          "data": {
            "text/plain": [
              "dtype: float\n",
              "Rows: 1\n",
              "[0.7919288370624551]"
            ]
          },
          "metadata": {
            "tags": []
          },
          "execution_count": 66
        }
      ]
    },
    {
      "cell_type": "code",
      "metadata": {
        "id": "Y6OgGI2njHdd",
        "colab_type": "code",
        "colab": {
          "base_uri": "https://localhost:8080/",
          "height": 637
        },
        "outputId": "988c5c4b-dd3b-4436-960a-74a2bbd4fce7"
      },
      "source": [
        "diaper_champ_reviews.head()"
      ],
      "execution_count": 67,
      "outputs": [
        {
          "output_type": "execute_result",
          "data": {
            "text/plain": [
              "Columns:\n",
              "\tname\tstr\n",
              "\treview\tstr\n",
              "\trating\tint\n",
              "\tword_count\tdict\n",
              "\tsentiment\tint\n",
              "\tpredicted_sentiment\tfloat\n",
              "\tawesome\tfloat\n",
              "\tgreat\tfloat\n",
              "\tfantastic\tfloat\n",
              "\tamazing\tfloat\n",
              "\tlove\tfloat\n",
              "\thorrible\tint\n",
              "\tbad\tint\n",
              "\tterrible\tfloat\n",
              "\tawful\tint\n",
              "\twow\tint\n",
              "\thate\tint\n",
              "\n",
              "Rows: 10\n",
              "\n",
              "Data:\n",
              "+-------------------------+-------------------------------+--------+\n",
              "|           name          |             review            | rating |\n",
              "+-------------------------+-------------------------------+--------+\n",
              "| Baby Trend Diaper Champ | I read a review below that... |   4    |\n",
              "| Baby Trend Diaper Champ | I have never written a rev... |   5    |\n",
              "| Baby Trend Diaper Champ | I originally put this item... |   5    |\n",
              "| Baby Trend Diaper Champ | Baby Luke can turn a clean... |   5    |\n",
              "| Baby Trend Diaper Champ | Diaper Champ or Diaper Gen... |   5    |\n",
              "| Baby Trend Diaper Champ | I am one of those super-cr... |   5    |\n",
              "| Baby Trend Diaper Champ | I LOOOVE this diaper pail!... |   5    |\n",
              "| Baby Trend Diaper Champ | As a first time mother, I ... |   5    |\n",
              "| Baby Trend Diaper Champ | I see that there are compl... |   5    |\n",
              "| Baby Trend Diaper Champ | I have a 10 year old daugh... |   5    |\n",
              "+-------------------------+-------------------------------+--------+\n",
              "+-------------------------------+-----------+---------------------+---------+\n",
              "|           word_count          | sentiment | predicted_sentiment | awesome |\n",
              "+-------------------------------+-----------+---------------------+---------+\n",
              "| {'and': 3.0, 'exactly': 1.... |     1     |    0.99999999999    |   0.0   |\n",
              "| {'shop': 2.0, 'holds': 1.0... |     1     |    0.999999999987   |   0.0   |\n",
              "| {'lysol': 1.0, 'all': 4.0,... |     1     |    0.999999999947   |   0.0   |\n",
              "| {'all': 1.0, 'less': 1.0, ... |     1     |    0.99999999993    |   0.0   |\n",
              "| {'all': 1.0, 'before': 1.0... |     1     |    0.999999999917   |   0.0   |\n",
              "| {'taller': 1.0, 'humid': 1... |     1     |    0.999999999843   |   0.0   |\n",
              "| {'just': 1.0, 'over': 1.0,... |     1     |    0.999999999736   |   0.0   |\n",
              "| {'and': 2.0, 'love': 1.0, ... |     1     |    0.999999999566   |   0.0   |\n",
              "| {'all': 1.0, 'over': 1.0, ... |     1     |    0.999999998502   |   0.0   |\n",
              "| {'lysol': 1.0, 'all': 1.0,... |     1     |    0.999999998057   |   0.0   |\n",
              "+-------------------------------+-----------+---------------------+---------+\n",
              "+-------+-----------+---------+------+----------+-----+----------+-------+-----+\n",
              "| great | fantastic | amazing | love | horrible | bad | terrible | awful | wow |\n",
              "+-------+-----------+---------+------+----------+-----+----------+-------+-----+\n",
              "|  0.0  |    0.0    |   0.0   | 0.0  |    0     |  0  |   0.0    |   0   |  0  |\n",
              "|  0.0  |    0.0    |   0.0   | 1.0  |    0     |  0  |   0.0    |   0   |  0  |\n",
              "|  0.0  |    0.0    |   0.0   | 0.0  |    0     |  0  |   0.0    |   0   |  0  |\n",
              "|  1.0  |    0.0    |   0.0   | 0.0  |    0     |  0  |   0.0    |   0   |  0  |\n",
              "|  1.0  |    0.0    |   0.0   | 0.0  |    0     |  0  |   0.0    |   0   |  0  |\n",
              "|  0.0  |    0.0    |   0.0   | 1.0  |    0     |  0  |   0.0    |   0   |  0  |\n",
              "|  0.0  |    0.0    |   0.0   | 1.0  |    0     |  0  |   0.0    |   0   |  0  |\n",
              "|  0.0  |    0.0    |   0.0   | 1.0  |    0     |  0  |   0.0    |   0   |  0  |\n",
              "|  0.0  |    0.0    |   0.0   | 0.0  |    0     |  0  |   0.0    |   0   |  0  |\n",
              "|  0.0  |    0.0    |   0.0   | 2.0  |    0     |  0  |   0.0    |   0   |  0  |\n",
              "+-------+-----------+---------+------+----------+-----+----------+-------+-----+\n",
              "+------+\n",
              "| hate |\n",
              "+------+\n",
              "|  0   |\n",
              "|  0   |\n",
              "|  0   |\n",
              "|  0   |\n",
              "|  0   |\n",
              "|  0   |\n",
              "|  0   |\n",
              "|  0   |\n",
              "|  0   |\n",
              "|  0   |\n",
              "+------+\n",
              "[10 rows x 17 columns]"
            ],
            "text/html": [
              "<div style=\"max-height:1000px;max-width:1500px;overflow:auto;\"><table frame=\"box\" rules=\"cols\">\n",
              "    <tr>\n",
              "        <th style=\"padding-left: 1em; padding-right: 1em; text-align: center\">name</th>\n",
              "        <th style=\"padding-left: 1em; padding-right: 1em; text-align: center\">review</th>\n",
              "        <th style=\"padding-left: 1em; padding-right: 1em; text-align: center\">rating</th>\n",
              "        <th style=\"padding-left: 1em; padding-right: 1em; text-align: center\">word_count</th>\n",
              "        <th style=\"padding-left: 1em; padding-right: 1em; text-align: center\">sentiment</th>\n",
              "    </tr>\n",
              "    <tr>\n",
              "        <td style=\"padding-left: 1em; padding-right: 1em; text-align: center; vertical-align: top\">Baby Trend Diaper Champ</td>\n",
              "        <td style=\"padding-left: 1em; padding-right: 1em; text-align: center; vertical-align: top\">I read a review below<br>that can explain exactly ...</td>\n",
              "        <td style=\"padding-left: 1em; padding-right: 1em; text-align: center; vertical-align: top\">4</td>\n",
              "        <td style=\"padding-left: 1em; padding-right: 1em; text-align: center; vertical-align: top\">{'and': 3.0, 'exactly':<br>1.0, 'stink': 1.0, 've': ...</td>\n",
              "        <td style=\"padding-left: 1em; padding-right: 1em; text-align: center; vertical-align: top\">1</td>\n",
              "    </tr>\n",
              "    <tr>\n",
              "        <td style=\"padding-left: 1em; padding-right: 1em; text-align: center; vertical-align: top\">Baby Trend Diaper Champ</td>\n",
              "        <td style=\"padding-left: 1em; padding-right: 1em; text-align: center; vertical-align: top\">I have never written a<br>review for Amazon but I ...</td>\n",
              "        <td style=\"padding-left: 1em; padding-right: 1em; text-align: center; vertical-align: top\">5</td>\n",
              "        <td style=\"padding-left: 1em; padding-right: 1em; text-align: center; vertical-align: top\">{'shop': 2.0, 'holds':<br>1.0, 'they': 3.0, 'tip': ...</td>\n",
              "        <td style=\"padding-left: 1em; padding-right: 1em; text-align: center; vertical-align: top\">1</td>\n",
              "    </tr>\n",
              "    <tr>\n",
              "        <td style=\"padding-left: 1em; padding-right: 1em; text-align: center; vertical-align: top\">Baby Trend Diaper Champ</td>\n",
              "        <td style=\"padding-left: 1em; padding-right: 1em; text-align: center; vertical-align: top\">I originally put this<br>item on my baby registry ...</td>\n",
              "        <td style=\"padding-left: 1em; padding-right: 1em; text-align: center; vertical-align: top\">5</td>\n",
              "        <td style=\"padding-left: 1em; padding-right: 1em; text-align: center; vertical-align: top\">{'lysol': 1.0, 'all':<br>4.0, 'feedback': 1.0, ...</td>\n",
              "        <td style=\"padding-left: 1em; padding-right: 1em; text-align: center; vertical-align: top\">1</td>\n",
              "    </tr>\n",
              "    <tr>\n",
              "        <td style=\"padding-left: 1em; padding-right: 1em; text-align: center; vertical-align: top\">Baby Trend Diaper Champ</td>\n",
              "        <td style=\"padding-left: 1em; padding-right: 1em; text-align: center; vertical-align: top\">Baby Luke can turn a<br>clean diaper to a dirty ...</td>\n",
              "        <td style=\"padding-left: 1em; padding-right: 1em; text-align: center; vertical-align: top\">5</td>\n",
              "        <td style=\"padding-left: 1em; padding-right: 1em; text-align: center; vertical-align: top\">{'all': 1.0, 'less': 1.0,<br>'nursery': 1.0, 'smel ...</td>\n",
              "        <td style=\"padding-left: 1em; padding-right: 1em; text-align: center; vertical-align: top\">1</td>\n",
              "    </tr>\n",
              "    <tr>\n",
              "        <td style=\"padding-left: 1em; padding-right: 1em; text-align: center; vertical-align: top\">Baby Trend Diaper Champ</td>\n",
              "        <td style=\"padding-left: 1em; padding-right: 1em; text-align: center; vertical-align: top\">Diaper Champ or Diaper<br>Genie? That was my ...</td>\n",
              "        <td style=\"padding-left: 1em; padding-right: 1em; text-align: center; vertical-align: top\">5</td>\n",
              "        <td style=\"padding-left: 1em; padding-right: 1em; text-align: center; vertical-align: top\">{'all': 1.0, 'before':<br>1.0, 'difference': 1.0, ...</td>\n",
              "        <td style=\"padding-left: 1em; padding-right: 1em; text-align: center; vertical-align: top\">1</td>\n",
              "    </tr>\n",
              "    <tr>\n",
              "        <td style=\"padding-left: 1em; padding-right: 1em; text-align: center; vertical-align: top\">Baby Trend Diaper Champ</td>\n",
              "        <td style=\"padding-left: 1em; padding-right: 1em; text-align: center; vertical-align: top\">I am one of those super-<br>critical shoppers who ...</td>\n",
              "        <td style=\"padding-left: 1em; padding-right: 1em; text-align: center; vertical-align: top\">5</td>\n",
              "        <td style=\"padding-left: 1em; padding-right: 1em; text-align: center; vertical-align: top\">{'taller': 1.0, 'humid':<br>1.0, 'just': 1.0, 'le ...</td>\n",
              "        <td style=\"padding-left: 1em; padding-right: 1em; text-align: center; vertical-align: top\">1</td>\n",
              "    </tr>\n",
              "    <tr>\n",
              "        <td style=\"padding-left: 1em; padding-right: 1em; text-align: center; vertical-align: top\">Baby Trend Diaper Champ</td>\n",
              "        <td style=\"padding-left: 1em; padding-right: 1em; text-align: center; vertical-align: top\">I LOOOVE this diaper<br>pail!  Its the easies ...</td>\n",
              "        <td style=\"padding-left: 1em; padding-right: 1em; text-align: center; vertical-align: top\">5</td>\n",
              "        <td style=\"padding-left: 1em; padding-right: 1em; text-align: center; vertical-align: top\">{'just': 1.0, 'over':<br>1.0, 'rweek': 1.0, ...</td>\n",
              "        <td style=\"padding-left: 1em; padding-right: 1em; text-align: center; vertical-align: top\">1</td>\n",
              "    </tr>\n",
              "    <tr>\n",
              "        <td style=\"padding-left: 1em; padding-right: 1em; text-align: center; vertical-align: top\">Baby Trend Diaper Champ</td>\n",
              "        <td style=\"padding-left: 1em; padding-right: 1em; text-align: center; vertical-align: top\">As a first time mother, I<br>wanted to get the best ...</td>\n",
              "        <td style=\"padding-left: 1em; padding-right: 1em; text-align: center; vertical-align: top\">5</td>\n",
              "        <td style=\"padding-left: 1em; padding-right: 1em; text-align: center; vertical-align: top\">{'and': 2.0, 'love': 1.0,<br>'ve': 1.0, 'figure':  ...</td>\n",
              "        <td style=\"padding-left: 1em; padding-right: 1em; text-align: center; vertical-align: top\">1</td>\n",
              "    </tr>\n",
              "    <tr>\n",
              "        <td style=\"padding-left: 1em; padding-right: 1em; text-align: center; vertical-align: top\">Baby Trend Diaper Champ</td>\n",
              "        <td style=\"padding-left: 1em; padding-right: 1em; text-align: center; vertical-align: top\">I see that there are<br>complaints of stinkiness ...</td>\n",
              "        <td style=\"padding-left: 1em; padding-right: 1em; text-align: center; vertical-align: top\">5</td>\n",
              "        <td style=\"padding-left: 1em; padding-right: 1em; text-align: center; vertical-align: top\">{'all': 1.0, 'over': 1.0,<br>'rotated': 1.0, ...</td>\n",
              "        <td style=\"padding-left: 1em; padding-right: 1em; text-align: center; vertical-align: top\">1</td>\n",
              "    </tr>\n",
              "    <tr>\n",
              "        <td style=\"padding-left: 1em; padding-right: 1em; text-align: center; vertical-align: top\">Baby Trend Diaper Champ</td>\n",
              "        <td style=\"padding-left: 1em; padding-right: 1em; text-align: center; vertical-align: top\">I have a 10 year old<br>daughter and an 8 month ...</td>\n",
              "        <td style=\"padding-left: 1em; padding-right: 1em; text-align: center; vertical-align: top\">5</td>\n",
              "        <td style=\"padding-left: 1em; padding-right: 1em; text-align: center; vertical-align: top\">{'lysol': 1.0, 'all':<br>1.0, 'just': 2.0, 'ov ...</td>\n",
              "        <td style=\"padding-left: 1em; padding-right: 1em; text-align: center; vertical-align: top\">1</td>\n",
              "    </tr>\n",
              "</table>\n",
              "<table frame=\"box\" rules=\"cols\">\n",
              "    <tr>\n",
              "        <th style=\"padding-left: 1em; padding-right: 1em; text-align: center\">predicted_sentiment</th>\n",
              "        <th style=\"padding-left: 1em; padding-right: 1em; text-align: center\">awesome</th>\n",
              "        <th style=\"padding-left: 1em; padding-right: 1em; text-align: center\">great</th>\n",
              "        <th style=\"padding-left: 1em; padding-right: 1em; text-align: center\">fantastic</th>\n",
              "        <th style=\"padding-left: 1em; padding-right: 1em; text-align: center\">amazing</th>\n",
              "        <th style=\"padding-left: 1em; padding-right: 1em; text-align: center\">love</th>\n",
              "        <th style=\"padding-left: 1em; padding-right: 1em; text-align: center\">horrible</th>\n",
              "        <th style=\"padding-left: 1em; padding-right: 1em; text-align: center\">bad</th>\n",
              "        <th style=\"padding-left: 1em; padding-right: 1em; text-align: center\">terrible</th>\n",
              "        <th style=\"padding-left: 1em; padding-right: 1em; text-align: center\">awful</th>\n",
              "        <th style=\"padding-left: 1em; padding-right: 1em; text-align: center\">wow</th>\n",
              "        <th style=\"padding-left: 1em; padding-right: 1em; text-align: center\">hate</th>\n",
              "    </tr>\n",
              "    <tr>\n",
              "        <td style=\"padding-left: 1em; padding-right: 1em; text-align: center; vertical-align: top\">0.99999999999</td>\n",
              "        <td style=\"padding-left: 1em; padding-right: 1em; text-align: center; vertical-align: top\">0.0</td>\n",
              "        <td style=\"padding-left: 1em; padding-right: 1em; text-align: center; vertical-align: top\">0.0</td>\n",
              "        <td style=\"padding-left: 1em; padding-right: 1em; text-align: center; vertical-align: top\">0.0</td>\n",
              "        <td style=\"padding-left: 1em; padding-right: 1em; text-align: center; vertical-align: top\">0.0</td>\n",
              "        <td style=\"padding-left: 1em; padding-right: 1em; text-align: center; vertical-align: top\">0.0</td>\n",
              "        <td style=\"padding-left: 1em; padding-right: 1em; text-align: center; vertical-align: top\">0</td>\n",
              "        <td style=\"padding-left: 1em; padding-right: 1em; text-align: center; vertical-align: top\">0</td>\n",
              "        <td style=\"padding-left: 1em; padding-right: 1em; text-align: center; vertical-align: top\">0.0</td>\n",
              "        <td style=\"padding-left: 1em; padding-right: 1em; text-align: center; vertical-align: top\">0</td>\n",
              "        <td style=\"padding-left: 1em; padding-right: 1em; text-align: center; vertical-align: top\">0</td>\n",
              "        <td style=\"padding-left: 1em; padding-right: 1em; text-align: center; vertical-align: top\">0</td>\n",
              "    </tr>\n",
              "    <tr>\n",
              "        <td style=\"padding-left: 1em; padding-right: 1em; text-align: center; vertical-align: top\">0.999999999987</td>\n",
              "        <td style=\"padding-left: 1em; padding-right: 1em; text-align: center; vertical-align: top\">0.0</td>\n",
              "        <td style=\"padding-left: 1em; padding-right: 1em; text-align: center; vertical-align: top\">0.0</td>\n",
              "        <td style=\"padding-left: 1em; padding-right: 1em; text-align: center; vertical-align: top\">0.0</td>\n",
              "        <td style=\"padding-left: 1em; padding-right: 1em; text-align: center; vertical-align: top\">0.0</td>\n",
              "        <td style=\"padding-left: 1em; padding-right: 1em; text-align: center; vertical-align: top\">1.0</td>\n",
              "        <td style=\"padding-left: 1em; padding-right: 1em; text-align: center; vertical-align: top\">0</td>\n",
              "        <td style=\"padding-left: 1em; padding-right: 1em; text-align: center; vertical-align: top\">0</td>\n",
              "        <td style=\"padding-left: 1em; padding-right: 1em; text-align: center; vertical-align: top\">0.0</td>\n",
              "        <td style=\"padding-left: 1em; padding-right: 1em; text-align: center; vertical-align: top\">0</td>\n",
              "        <td style=\"padding-left: 1em; padding-right: 1em; text-align: center; vertical-align: top\">0</td>\n",
              "        <td style=\"padding-left: 1em; padding-right: 1em; text-align: center; vertical-align: top\">0</td>\n",
              "    </tr>\n",
              "    <tr>\n",
              "        <td style=\"padding-left: 1em; padding-right: 1em; text-align: center; vertical-align: top\">0.999999999947</td>\n",
              "        <td style=\"padding-left: 1em; padding-right: 1em; text-align: center; vertical-align: top\">0.0</td>\n",
              "        <td style=\"padding-left: 1em; padding-right: 1em; text-align: center; vertical-align: top\">0.0</td>\n",
              "        <td style=\"padding-left: 1em; padding-right: 1em; text-align: center; vertical-align: top\">0.0</td>\n",
              "        <td style=\"padding-left: 1em; padding-right: 1em; text-align: center; vertical-align: top\">0.0</td>\n",
              "        <td style=\"padding-left: 1em; padding-right: 1em; text-align: center; vertical-align: top\">0.0</td>\n",
              "        <td style=\"padding-left: 1em; padding-right: 1em; text-align: center; vertical-align: top\">0</td>\n",
              "        <td style=\"padding-left: 1em; padding-right: 1em; text-align: center; vertical-align: top\">0</td>\n",
              "        <td style=\"padding-left: 1em; padding-right: 1em; text-align: center; vertical-align: top\">0.0</td>\n",
              "        <td style=\"padding-left: 1em; padding-right: 1em; text-align: center; vertical-align: top\">0</td>\n",
              "        <td style=\"padding-left: 1em; padding-right: 1em; text-align: center; vertical-align: top\">0</td>\n",
              "        <td style=\"padding-left: 1em; padding-right: 1em; text-align: center; vertical-align: top\">0</td>\n",
              "    </tr>\n",
              "    <tr>\n",
              "        <td style=\"padding-left: 1em; padding-right: 1em; text-align: center; vertical-align: top\">0.99999999993</td>\n",
              "        <td style=\"padding-left: 1em; padding-right: 1em; text-align: center; vertical-align: top\">0.0</td>\n",
              "        <td style=\"padding-left: 1em; padding-right: 1em; text-align: center; vertical-align: top\">1.0</td>\n",
              "        <td style=\"padding-left: 1em; padding-right: 1em; text-align: center; vertical-align: top\">0.0</td>\n",
              "        <td style=\"padding-left: 1em; padding-right: 1em; text-align: center; vertical-align: top\">0.0</td>\n",
              "        <td style=\"padding-left: 1em; padding-right: 1em; text-align: center; vertical-align: top\">0.0</td>\n",
              "        <td style=\"padding-left: 1em; padding-right: 1em; text-align: center; vertical-align: top\">0</td>\n",
              "        <td style=\"padding-left: 1em; padding-right: 1em; text-align: center; vertical-align: top\">0</td>\n",
              "        <td style=\"padding-left: 1em; padding-right: 1em; text-align: center; vertical-align: top\">0.0</td>\n",
              "        <td style=\"padding-left: 1em; padding-right: 1em; text-align: center; vertical-align: top\">0</td>\n",
              "        <td style=\"padding-left: 1em; padding-right: 1em; text-align: center; vertical-align: top\">0</td>\n",
              "        <td style=\"padding-left: 1em; padding-right: 1em; text-align: center; vertical-align: top\">0</td>\n",
              "    </tr>\n",
              "    <tr>\n",
              "        <td style=\"padding-left: 1em; padding-right: 1em; text-align: center; vertical-align: top\">0.999999999917</td>\n",
              "        <td style=\"padding-left: 1em; padding-right: 1em; text-align: center; vertical-align: top\">0.0</td>\n",
              "        <td style=\"padding-left: 1em; padding-right: 1em; text-align: center; vertical-align: top\">1.0</td>\n",
              "        <td style=\"padding-left: 1em; padding-right: 1em; text-align: center; vertical-align: top\">0.0</td>\n",
              "        <td style=\"padding-left: 1em; padding-right: 1em; text-align: center; vertical-align: top\">0.0</td>\n",
              "        <td style=\"padding-left: 1em; padding-right: 1em; text-align: center; vertical-align: top\">0.0</td>\n",
              "        <td style=\"padding-left: 1em; padding-right: 1em; text-align: center; vertical-align: top\">0</td>\n",
              "        <td style=\"padding-left: 1em; padding-right: 1em; text-align: center; vertical-align: top\">0</td>\n",
              "        <td style=\"padding-left: 1em; padding-right: 1em; text-align: center; vertical-align: top\">0.0</td>\n",
              "        <td style=\"padding-left: 1em; padding-right: 1em; text-align: center; vertical-align: top\">0</td>\n",
              "        <td style=\"padding-left: 1em; padding-right: 1em; text-align: center; vertical-align: top\">0</td>\n",
              "        <td style=\"padding-left: 1em; padding-right: 1em; text-align: center; vertical-align: top\">0</td>\n",
              "    </tr>\n",
              "    <tr>\n",
              "        <td style=\"padding-left: 1em; padding-right: 1em; text-align: center; vertical-align: top\">0.999999999843</td>\n",
              "        <td style=\"padding-left: 1em; padding-right: 1em; text-align: center; vertical-align: top\">0.0</td>\n",
              "        <td style=\"padding-left: 1em; padding-right: 1em; text-align: center; vertical-align: top\">0.0</td>\n",
              "        <td style=\"padding-left: 1em; padding-right: 1em; text-align: center; vertical-align: top\">0.0</td>\n",
              "        <td style=\"padding-left: 1em; padding-right: 1em; text-align: center; vertical-align: top\">0.0</td>\n",
              "        <td style=\"padding-left: 1em; padding-right: 1em; text-align: center; vertical-align: top\">1.0</td>\n",
              "        <td style=\"padding-left: 1em; padding-right: 1em; text-align: center; vertical-align: top\">0</td>\n",
              "        <td style=\"padding-left: 1em; padding-right: 1em; text-align: center; vertical-align: top\">0</td>\n",
              "        <td style=\"padding-left: 1em; padding-right: 1em; text-align: center; vertical-align: top\">0.0</td>\n",
              "        <td style=\"padding-left: 1em; padding-right: 1em; text-align: center; vertical-align: top\">0</td>\n",
              "        <td style=\"padding-left: 1em; padding-right: 1em; text-align: center; vertical-align: top\">0</td>\n",
              "        <td style=\"padding-left: 1em; padding-right: 1em; text-align: center; vertical-align: top\">0</td>\n",
              "    </tr>\n",
              "    <tr>\n",
              "        <td style=\"padding-left: 1em; padding-right: 1em; text-align: center; vertical-align: top\">0.999999999736</td>\n",
              "        <td style=\"padding-left: 1em; padding-right: 1em; text-align: center; vertical-align: top\">0.0</td>\n",
              "        <td style=\"padding-left: 1em; padding-right: 1em; text-align: center; vertical-align: top\">0.0</td>\n",
              "        <td style=\"padding-left: 1em; padding-right: 1em; text-align: center; vertical-align: top\">0.0</td>\n",
              "        <td style=\"padding-left: 1em; padding-right: 1em; text-align: center; vertical-align: top\">0.0</td>\n",
              "        <td style=\"padding-left: 1em; padding-right: 1em; text-align: center; vertical-align: top\">1.0</td>\n",
              "        <td style=\"padding-left: 1em; padding-right: 1em; text-align: center; vertical-align: top\">0</td>\n",
              "        <td style=\"padding-left: 1em; padding-right: 1em; text-align: center; vertical-align: top\">0</td>\n",
              "        <td style=\"padding-left: 1em; padding-right: 1em; text-align: center; vertical-align: top\">0.0</td>\n",
              "        <td style=\"padding-left: 1em; padding-right: 1em; text-align: center; vertical-align: top\">0</td>\n",
              "        <td style=\"padding-left: 1em; padding-right: 1em; text-align: center; vertical-align: top\">0</td>\n",
              "        <td style=\"padding-left: 1em; padding-right: 1em; text-align: center; vertical-align: top\">0</td>\n",
              "    </tr>\n",
              "    <tr>\n",
              "        <td style=\"padding-left: 1em; padding-right: 1em; text-align: center; vertical-align: top\">0.999999999566</td>\n",
              "        <td style=\"padding-left: 1em; padding-right: 1em; text-align: center; vertical-align: top\">0.0</td>\n",
              "        <td style=\"padding-left: 1em; padding-right: 1em; text-align: center; vertical-align: top\">0.0</td>\n",
              "        <td style=\"padding-left: 1em; padding-right: 1em; text-align: center; vertical-align: top\">0.0</td>\n",
              "        <td style=\"padding-left: 1em; padding-right: 1em; text-align: center; vertical-align: top\">0.0</td>\n",
              "        <td style=\"padding-left: 1em; padding-right: 1em; text-align: center; vertical-align: top\">1.0</td>\n",
              "        <td style=\"padding-left: 1em; padding-right: 1em; text-align: center; vertical-align: top\">0</td>\n",
              "        <td style=\"padding-left: 1em; padding-right: 1em; text-align: center; vertical-align: top\">0</td>\n",
              "        <td style=\"padding-left: 1em; padding-right: 1em; text-align: center; vertical-align: top\">0.0</td>\n",
              "        <td style=\"padding-left: 1em; padding-right: 1em; text-align: center; vertical-align: top\">0</td>\n",
              "        <td style=\"padding-left: 1em; padding-right: 1em; text-align: center; vertical-align: top\">0</td>\n",
              "        <td style=\"padding-left: 1em; padding-right: 1em; text-align: center; vertical-align: top\">0</td>\n",
              "    </tr>\n",
              "    <tr>\n",
              "        <td style=\"padding-left: 1em; padding-right: 1em; text-align: center; vertical-align: top\">0.999999998502</td>\n",
              "        <td style=\"padding-left: 1em; padding-right: 1em; text-align: center; vertical-align: top\">0.0</td>\n",
              "        <td style=\"padding-left: 1em; padding-right: 1em; text-align: center; vertical-align: top\">0.0</td>\n",
              "        <td style=\"padding-left: 1em; padding-right: 1em; text-align: center; vertical-align: top\">0.0</td>\n",
              "        <td style=\"padding-left: 1em; padding-right: 1em; text-align: center; vertical-align: top\">0.0</td>\n",
              "        <td style=\"padding-left: 1em; padding-right: 1em; text-align: center; vertical-align: top\">0.0</td>\n",
              "        <td style=\"padding-left: 1em; padding-right: 1em; text-align: center; vertical-align: top\">0</td>\n",
              "        <td style=\"padding-left: 1em; padding-right: 1em; text-align: center; vertical-align: top\">0</td>\n",
              "        <td style=\"padding-left: 1em; padding-right: 1em; text-align: center; vertical-align: top\">0.0</td>\n",
              "        <td style=\"padding-left: 1em; padding-right: 1em; text-align: center; vertical-align: top\">0</td>\n",
              "        <td style=\"padding-left: 1em; padding-right: 1em; text-align: center; vertical-align: top\">0</td>\n",
              "        <td style=\"padding-left: 1em; padding-right: 1em; text-align: center; vertical-align: top\">0</td>\n",
              "    </tr>\n",
              "    <tr>\n",
              "        <td style=\"padding-left: 1em; padding-right: 1em; text-align: center; vertical-align: top\">0.999999998057</td>\n",
              "        <td style=\"padding-left: 1em; padding-right: 1em; text-align: center; vertical-align: top\">0.0</td>\n",
              "        <td style=\"padding-left: 1em; padding-right: 1em; text-align: center; vertical-align: top\">0.0</td>\n",
              "        <td style=\"padding-left: 1em; padding-right: 1em; text-align: center; vertical-align: top\">0.0</td>\n",
              "        <td style=\"padding-left: 1em; padding-right: 1em; text-align: center; vertical-align: top\">0.0</td>\n",
              "        <td style=\"padding-left: 1em; padding-right: 1em; text-align: center; vertical-align: top\">2.0</td>\n",
              "        <td style=\"padding-left: 1em; padding-right: 1em; text-align: center; vertical-align: top\">0</td>\n",
              "        <td style=\"padding-left: 1em; padding-right: 1em; text-align: center; vertical-align: top\">0</td>\n",
              "        <td style=\"padding-left: 1em; padding-right: 1em; text-align: center; vertical-align: top\">0.0</td>\n",
              "        <td style=\"padding-left: 1em; padding-right: 1em; text-align: center; vertical-align: top\">0</td>\n",
              "        <td style=\"padding-left: 1em; padding-right: 1em; text-align: center; vertical-align: top\">0</td>\n",
              "        <td style=\"padding-left: 1em; padding-right: 1em; text-align: center; vertical-align: top\">0</td>\n",
              "    </tr>\n",
              "</table>\n",
              "[10 rows x 17 columns]<br/>\n",
              "</div>"
            ]
          },
          "metadata": {
            "tags": []
          },
          "execution_count": 67
        }
      ]
    },
    {
      "cell_type": "code",
      "metadata": {
        "id": "25cv88XBjJoF",
        "colab_type": "code",
        "colab": {
          "base_uri": "https://localhost:8080/",
          "height": 91
        },
        "outputId": "3a87023a-40f2-4669-d633-1a710a6a60a3"
      },
      "source": [
        "diaper_champ_reviews[0]['review']"
      ],
      "execution_count": 68,
      "outputs": [
        {
          "output_type": "execute_result",
          "data": {
            "application/vnd.google.colaboratory.intrinsic+json": {
              "type": "string"
            },
            "text/plain": [
              "\"I read a review below that can explain exactly what we experienced. We've had it for 16 months and it has worked wonderful for us. No smells, change it out once a week, easy to clean. Then a diaper snagged this foam material in the head part, so I pulled the rest of the foam out. Big mistake!!! Now it can no loner retain the stinkiness and we're looking for a replacement. Be careful of overloading and never take out that foam piece that is cushioned between pieces. I have figured out that it is key to keeping the stink out.\""
            ]
          },
          "metadata": {
            "tags": []
          },
          "execution_count": 68
        }
      ]
    },
    {
      "cell_type": "code",
      "metadata": {
        "id": "MwLaAXwGjL6U",
        "colab_type": "code",
        "colab": {
          "base_uri": "https://localhost:8080/",
          "height": 1000
        },
        "outputId": "4a7b0ec9-6e75-4888-bde9-e8e2162ff25d"
      },
      "source": [
        "diaper_champ_reviews[0]['word_count']"
      ],
      "execution_count": 69,
      "outputs": [
        {
          "output_type": "execute_result",
          "data": {
            "text/plain": [
              "{'16': 1.0,\n",
              " 'a': 4.0,\n",
              " 'and': 3.0,\n",
              " 'be': 1.0,\n",
              " 'below': 1.0,\n",
              " 'between': 1.0,\n",
              " 'big': 1.0,\n",
              " 'can': 2.0,\n",
              " 'careful': 1.0,\n",
              " 'change': 1.0,\n",
              " 'clean': 1.0,\n",
              " 'cushioned': 1.0,\n",
              " 'diaper': 1.0,\n",
              " 'easy': 1.0,\n",
              " 'exactly': 1.0,\n",
              " 'experienced': 1.0,\n",
              " 'explain': 1.0,\n",
              " 'figured': 1.0,\n",
              " 'foam': 3.0,\n",
              " 'for': 3.0,\n",
              " 'had': 1.0,\n",
              " 'has': 1.0,\n",
              " 'have': 1.0,\n",
              " 'head': 1.0,\n",
              " 'i': 3.0,\n",
              " 'in': 1.0,\n",
              " 'is': 2.0,\n",
              " 'it': 5.0,\n",
              " 'keeping': 1.0,\n",
              " 'key': 1.0,\n",
              " 'loner': 1.0,\n",
              " 'looking': 1.0,\n",
              " 'material': 1.0,\n",
              " 'mistake': 1.0,\n",
              " 'months': 1.0,\n",
              " 'never': 1.0,\n",
              " 'no': 2.0,\n",
              " 'now': 1.0,\n",
              " 'of': 2.0,\n",
              " 'once': 1.0,\n",
              " 'out': 5.0,\n",
              " 'overloading': 1.0,\n",
              " 'part': 1.0,\n",
              " 'piece': 1.0,\n",
              " 'pieces': 1.0,\n",
              " 'pulled': 1.0,\n",
              " 're': 1.0,\n",
              " 'read': 1.0,\n",
              " 'replacement': 1.0,\n",
              " 'rest': 1.0,\n",
              " 'retain': 1.0,\n",
              " 'review': 1.0,\n",
              " 'smells': 1.0,\n",
              " 'snagged': 1.0,\n",
              " 'so': 1.0,\n",
              " 'stink': 1.0,\n",
              " 'stinkiness': 1.0,\n",
              " 'take': 1.0,\n",
              " 'that': 4.0,\n",
              " 'the': 5.0,\n",
              " 'then': 1.0,\n",
              " 'this': 1.0,\n",
              " 'to': 2.0,\n",
              " 'us': 1.0,\n",
              " 've': 1.0,\n",
              " 'we': 3.0,\n",
              " 'week': 1.0,\n",
              " 'what': 1.0,\n",
              " 'wonderful': 1.0,\n",
              " 'worked': 1.0}"
            ]
          },
          "metadata": {
            "tags": []
          },
          "execution_count": 69
        }
      ]
    },
    {
      "cell_type": "code",
      "metadata": {
        "id": "1yGJqwVDjN90",
        "colab_type": "code",
        "colab": {
          "base_uri": "https://localhost:8080/",
          "height": 147
        },
        "outputId": "8502d132-55f4-4183-8cc3-d34e7a720f27"
      },
      "source": [
        "\n",
        "diaper_champ_reviews[1]['review']"
      ],
      "execution_count": 70,
      "outputs": [
        {
          "output_type": "execute_result",
          "data": {
            "application/vnd.google.colaboratory.intrinsic+json": {
              "type": "string"
            },
            "text/plain": [
              "'I have never written a review for Amazon but I saw some of the poor reviews on the Diaper Champ and had to add my two cents . . .When my sister got pregnant she could not decide if she should register for the Diaper Champ or the Diaper Genie.  She left it up to me and after reviewing both items I went with the Diaper Champ . . .  The idea of having to continually purchase bags for the Diaper Genie seemed like a waste when the Diaper Champ lets you use any type of bag . . .  My nephew is now over two years old and while he has begun potty training, my sister still uses the Diaper Champ I gave her . . .When it came time for me to choose a diaper disposal system, I put the Diaper Champ on my registry.  Yes, it can be a bit tricky to open (I found using two hands works best) but then again do I want something that is holding wet and otherwise dirty diapers to open easily?  True, the mechanism sometimes won\\'t \"swing\" the dirty diaper into the pail but HELLO that is a sign that it is probably time to put in a new bag.  Yes, it can eventually start to smell if you don\\'t change it regularly . . . but then again if you used a metal safe lined with carbon to hold your kids diapers eventually baby poop and pee smell would emanate from it if you didn\\'t clean it out regularly . . . Realistically the thing holds dirty stinky diapers and yep it is going to smell when you open it but hey . . . my kids tush smells when I wipe it but I still love him :)My personal tip . . . if you belong to a wholesale club like BJ\\'s, Costco or Sam\\'s check to see if they have the Glad Kitchen Bags.  The BJ\\'s we shop in has a box of 200 for $9.99.  As long as you do not attempt to overstuff them (i.e., get lazy and don\\'t change the bag regularly) they work perfectly.  I also use them in the small garbage pails in our apartment.  I could wait for a sale and use a coupon (the way I shop for most things) but it takes months to go through the box and I like knowing they are always on hand . . . At about $.05 a bag, the super duper box of bags makes my life easy and that as any parent knows is ***PRICELESS***.'"
            ]
          },
          "metadata": {
            "tags": []
          },
          "execution_count": 70
        }
      ]
    },
    {
      "cell_type": "code",
      "metadata": {
        "id": "AG8GqJtwjRI1",
        "colab_type": "code",
        "colab": {
          "base_uri": "https://localhost:8080/",
          "height": 147
        },
        "outputId": "e22f9dcb-a926-4a90-dbc9-b6131b3c81e9"
      },
      "source": [
        "diaper_champ_reviews[-1]['review']"
      ],
      "execution_count": 71,
      "outputs": [
        {
          "output_type": "execute_result",
          "data": {
            "application/vnd.google.colaboratory.intrinsic+json": {
              "type": "string"
            },
            "text/plain": [
              "'My husband and I selected the Diaper \"Champ\" mainly because you can use ordinary trash bags and not be roped into buying the specialty refill bags, and it was moderately priced (a little less than the Diaper Dekor). It also seemed that the reviews of this product were generally more positive...The positives are:1. You can use any trash bag2. Easy to use and refillThe negatives are:1. The bag doesn\\'t seal around the dirty diapers, so when it comes time to refill the bag, it\\'s just like opening a regular trash can. Smells like the Champ is trying to knock YOU out with odor!2. The plastic seems to smell, ie. You put a dirty diaper in the hole, and flip the handle to dump the diaper into the champ. That \"side\" of the plastic dumper-thingie is in contact with the air inside the dirty diaper changer, so when you flip it over the next time to dispose of another diaper, you smell the last 8 diapers you put in there...pretty gross.3. The \"odor seal\" (some soft material) really seems to retain odor. It cannot be washed or replaced, so after a while, the Diaper \"Champ\" smells even when freshly washed and deodorized (I\\'m talking about hosing down outside and scrubbing with Clorox cleanser!). Super-frustrating! This is my primary complaint.Okay, so some things are a given as far as disposal systems go (ie. *some* odor, must empty frequently, must wash and disinfect occasionally), but still I think this product leaves much to be desired.We\\'re going to try another disposal system.'"
            ]
          },
          "metadata": {
            "tags": []
          },
          "execution_count": 71
        }
      ]
    },
    {
      "cell_type": "code",
      "metadata": {
        "id": "0pjftPAzjTU8",
        "colab_type": "code",
        "colab": {}
      },
      "source": [
        ""
      ],
      "execution_count": null,
      "outputs": []
    }
  ]
}